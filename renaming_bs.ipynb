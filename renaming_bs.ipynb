{
 "cells": [
  {
   "cell_type": "code",
   "execution_count": null,
   "metadata": {
    "ExecuteTime": {
     "end_time": "2020-12-17T08:25:38.475414Z",
     "start_time": "2020-12-17T08:25:38.472151Z"
    }
   },
   "outputs": [],
   "source": [
    "import os\n",
    "import glob"
   ]
  },
  {
   "cell_type": "code",
   "execution_count": null,
   "metadata": {
    "ExecuteTime": {
     "end_time": "2020-12-17T08:29:23.741478Z",
     "start_time": "2020-12-17T08:29:23.737485Z"
    }
   },
   "outputs": [],
   "source": [
    "fnames = glob.glob(\"CroppedYale/yaleB14/*00A*.pgm\")"
   ]
  },
  {
   "cell_type": "code",
   "execution_count": null,
   "metadata": {
    "ExecuteTime": {
     "end_time": "2020-12-17T08:30:35.647705Z",
     "start_time": "2020-12-17T08:30:35.634818Z"
    }
   },
   "outputs": [],
   "source": [
    "for f in fnames:\n",
    "    new_str = f[:25] + \"14\" + f[27:]\n",
    "    os.rename(f, new_str)"
   ]
  },
  {
   "cell_type": "code",
   "execution_count": null,
   "metadata": {},
   "outputs": [],
   "source": []
  }
 ],
 "metadata": {
  "kernelspec": {
   "display_name": "Python 3",
   "language": "python",
   "name": "python3"
  },
  "language_info": {
   "codemirror_mode": {
    "name": "ipython",
    "version": 3
   },
   "file_extension": ".py",
   "mimetype": "text/x-python",
   "name": "python",
   "nbconvert_exporter": "python",
   "pygments_lexer": "ipython3",
   "version": "3.6.8"
  }
 },
 "nbformat": 4,
 "nbformat_minor": 4
}
