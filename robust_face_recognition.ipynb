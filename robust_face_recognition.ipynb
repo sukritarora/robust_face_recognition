{
 "cells": [
  {
   "cell_type": "code",
   "execution_count": null,
   "metadata": {
    "ExecuteTime": {
     "end_time": "2020-12-16T05:18:57.315770Z",
     "start_time": "2020-12-16T05:18:55.885309Z"
    }
   },
   "outputs": [],
   "source": [
    "import numpy as np\n",
    "import matplotlib.pyplot as plt\n",
    "from sklearn.linear_model import Lasso\n",
    "from sklearn.pipeline import Pipeline\n",
    "from sklearn.preprocessing import Normalizer\n",
    "from sklearn.decomposition import PCA\n",
    "from glob import glob as glob\n",
    "import os\n",
    "import pywt"
   ]
  },
  {
   "cell_type": "code",
   "execution_count": null,
   "metadata": {
    "ExecuteTime": {
     "end_time": "2020-12-16T05:18:58.215303Z",
     "start_time": "2020-12-16T05:18:58.212236Z"
    }
   },
   "outputs": [],
   "source": [
    "L = 5\n",
    "num_samp = 5\n",
    "im_size = np.array((192, 168))"
   ]
  },
  {
   "cell_type": "code",
   "execution_count": null,
   "metadata": {
    "ExecuteTime": {
     "end_time": "2020-12-16T05:18:59.783992Z",
     "start_time": "2020-12-16T05:18:59.778229Z"
    }
   },
   "outputs": [],
   "source": [
    "im_dirs = np.array(sorted(glob(\"CroppedYale/*\")))\n",
    "total_num_images = len(im_dirs)\n",
    "im_idxs = np.random.choice(total_num_images, size=L, replace=False)"
   ]
  },
  {
   "cell_type": "code",
   "execution_count": null,
   "metadata": {
    "ExecuteTime": {
     "end_time": "2020-12-16T05:19:01.071895Z",
     "start_time": "2020-12-16T05:19:01.066335Z"
    }
   },
   "outputs": [],
   "source": [
    "def filter_files(d, num_train, num_test, cond):\n",
    "    fnames = [os.path.basename(i)[:-4] for i in glob(d+\"/*_P00A*.pgm\")]\n",
    "    acc_files = []\n",
    "    for f in fnames:\n",
    "        az = int(f[12:16])\n",
    "        elev = int(f[17:20])\n",
    "        if cond(az, elev):\n",
    "            acc_files.append(f)\n",
    "    samps = np.random.choice(acc_files, num_train+num_test, replace=False)\n",
    "    return samps[:num_train], samps[num_train:]"
   ]
  },
  {
   "cell_type": "code",
   "execution_count": null,
   "metadata": {
    "ExecuteTime": {
     "end_time": "2020-12-16T05:19:01.681531Z",
     "start_time": "2020-12-16T05:19:01.678760Z"
    }
   },
   "outputs": [],
   "source": [
    "def fread(f):\n",
    "    return plt.imread(f).flatten().T"
   ]
  },
  {
   "cell_type": "code",
   "execution_count": null,
   "metadata": {
    "ExecuteTime": {
     "end_time": "2020-12-16T05:19:02.574934Z",
     "start_time": "2020-12-16T05:19:02.494900Z"
    }
   },
   "outputs": [],
   "source": [
    "A = np.zeros((np.prod(im_size), L*num_samp))\n",
    "train_fnames = []\n",
    "# print(A.shape)\n",
    "for i, d in enumerate(im_dirs[im_idxs]):\n",
    "    train, test = filter_files(d, num_samp, .8, lambda az, elev: abs(az) <= 45 and abs(elev) <= 45)\n",
    "    print(f\"Train: {train}\\n Test: {test} \\n\")\n",
    "#     for j, f in enumerate(filter_files(d, num_samp)):\n",
    "#         train_fnames.append(f)\n",
    "#         A[:,i*num_samp+j] = fread(d+\"/\"+f+\".pgm\")"
   ]
  },
  {
   "cell_type": "code",
   "execution_count": null,
   "metadata": {},
   "outputs": [],
   "source": [
    "def_cond = lambda az, elev: abs(az) <= 45 and abs(elev) <= 45\n",
    "def train_test_split(num_classes=5, num_train=5, num_test=3, cond = def_cond):\n",
    "    \n",
    "    class_dirnames = np.random.choice(glob(\"CroppedYale/*\"), size=num_classes, replace=False)\n",
    "    \n",
    "    train_fnames_all, test_fnames_all = np.array([]), np.array([])\n",
    "    \n",
    "    A = np.zeros((np.prod(im_size), num_classes*num_train))\n",
    "    y = np.zeros((np.prod(im_size), num_classes*num_test))\n",
    "    \n",
    "    for i, d in enumerate(class_dirnames):\n",
    "        train_fnames, test_fnames = filter_files(d, num_train, num_test, cond)\n",
    "        train_fnames_all = np.append(train_fnames_all, train_fnames)\n",
    "        test_fnames_all = np.append(test_fnames_all, test_fnames)\n",
    "        for j, f in enumerate(train_fnames):\n",
    "            A[:,(i*num_train + j)] = fread(d+\"/\"+f+\".pgm\")\n",
    "        for j, f in enumerate(test_fnames):\n",
    "            y[:,(i*num_test+j)] = fread(d+\"/\"+f+\".pgm\")\n",
    "             \n",
    "    return A,y, train_fnames_all, test_fnames_all"
   ]
  },
  {
   "cell_type": "code",
   "execution_count": null,
   "metadata": {
    "ExecuteTime": {
     "end_time": "2020-12-16T05:19:03.723289Z",
     "start_time": "2020-12-16T05:19:03.717608Z"
    }
   },
   "outputs": [],
   "source": [
    "A, y, train_fnames, test_fnames = train_test_split(num_classes = 3, num_train = 10, num_test = 3)\n",
    "print(A.shape, y.shape)\n",
    "print(train_fnames)\n",
    "print(test_fnames)"
   ]
  },
  {
   "cell_type": "code",
   "execution_count": null,
   "metadata": {
    "ExecuteTime": {
     "end_time": "2020-12-16T05:19:20.147719Z",
     "start_time": "2020-12-16T05:19:20.143060Z"
    }
   },
   "outputs": [],
   "source": [
    "def down_samp(A, ds_factor=16):\n",
    "    im_size_down = np.ceil(im_size/ds_factor).astype(int)\n",
    "    A_down = np.zeros((np.prod(im_size_down), A.shape[-1]))\n",
    "#     print(A_down.shape)\n",
    "    for i in range(A.shape[-1]):\n",
    "        A_down[:,i] = A[:,i].reshape(im_size)[::ds_factor, ::ds_factor].flatten()\n",
    "    return A_down, im_size_down"
   ]
  },
  {
   "cell_type": "code",
   "execution_count": null,
   "metadata": {
    "ExecuteTime": {
     "end_time": "2020-12-16T05:37:44.854742Z",
     "start_time": "2020-12-16T05:37:44.844370Z"
    }
   },
   "outputs": [],
   "source": [
    "def down_samp_pca(A, dim=25):\n",
    "    # sklearn PCA\n",
    "    pca = PCA(n_components=dim, svd_solver=\"auto\")\n",
    "    A_pca = pca.fit_transform(A.T).T\n",
    "    \n",
    "    # Manual PCA\n",
    "#     U, S, Vh = np.linalg.svd(A, full_matrices=True)\n",
    "#     print(U.shape, S.shape, Vh.shape)\n",
    "#     A_pca = U[:,:dim].T@A\n",
    "    return A_pca, A_pca.shape"
   ]
  },
  {
   "cell_type": "code",
   "execution_count": null,
   "metadata": {
    "ExecuteTime": {
     "end_time": "2020-12-16T05:19:12.917782Z",
     "start_time": "2020-12-16T05:19:12.913556Z"
    }
   },
   "outputs": [],
   "source": [
    "def down_samp_wave(A):\n",
    "    im_vec = A.reshape((*im_size,-1))\n",
    "    wave_vec = pywt.wavedec2(im_vec, 'haar', axes=(0,1), level=4)\n",
    "#     low_dim_data = wave_vec[0]\n",
    "    low_dim_data = wave_vec[0] + sum(wave_vec[1])\n",
    "    return low_dim_data.reshape(-1, A.shape[-1]), low_dim_data.shape[:2]"
   ]
  },
  {
   "cell_type": "code",
   "execution_count": null,
   "metadata": {
    "ExecuteTime": {
     "end_time": "2020-12-16T05:19:22.624527Z",
     "start_time": "2020-12-16T05:19:22.621533Z"
    }
   },
   "outputs": [],
   "source": [
    "A_ds, ds_shape = down_samp(A, ds_factor=16)"
   ]
  },
  {
   "cell_type": "code",
   "execution_count": null,
   "metadata": {
    "ExecuteTime": {
     "end_time": "2020-12-16T05:19:25.218678Z",
     "start_time": "2020-12-16T05:19:25.194328Z"
    }
   },
   "outputs": [],
   "source": [
    "A_wave, wave_shape = down_samp_wave(A)"
   ]
  },
  {
   "cell_type": "code",
   "execution_count": null,
   "metadata": {
    "ExecuteTime": {
     "end_time": "2020-12-16T05:19:26.078402Z",
     "start_time": "2020-12-16T05:19:25.916921Z"
    }
   },
   "outputs": [],
   "source": [
    "plt.imshow(A_ds[...,3].reshape(ds_shape))"
   ]
  },
  {
   "cell_type": "code",
   "execution_count": null,
   "metadata": {
    "ExecuteTime": {
     "end_time": "2020-12-16T05:19:26.996489Z",
     "start_time": "2020-12-16T05:19:26.801884Z"
    }
   },
   "outputs": [],
   "source": [
    "plt.imshow(A_wave[...,3].reshape(wave_shape))"
   ]
  },
  {
   "cell_type": "code",
   "execution_count": null,
   "metadata": {
    "ExecuteTime": {
     "end_time": "2020-12-16T05:37:48.256809Z",
     "start_time": "2020-12-16T05:37:48.202326Z"
    }
   },
   "outputs": [],
   "source": [
    "A_pca, pca_shape = down_samp_pca(A)"
   ]
  },
  {
   "cell_type": "code",
   "execution_count": null,
   "metadata": {
    "ExecuteTime": {
     "end_time": "2020-12-16T05:37:49.753434Z",
     "start_time": "2020-12-16T05:37:49.749292Z"
    }
   },
   "outputs": [],
   "source": [
    "pca_shape"
   ]
  },
  {
   "cell_type": "code",
   "execution_count": null,
   "metadata": {
    "ExecuteTime": {
     "end_time": "2020-12-16T05:37:51.582108Z",
     "start_time": "2020-12-16T05:37:51.577348Z"
    }
   },
   "outputs": [],
   "source": [
    "A_pca[...,0]"
   ]
  },
  {
   "cell_type": "code",
   "execution_count": null,
   "metadata": {
    "ExecuteTime": {
     "end_time": "2020-12-16T05:38:09.666925Z",
     "start_time": "2020-12-16T05:38:09.541018Z"
    }
   },
   "outputs": [],
   "source": [
    "plt.imshow(A_pca)"
   ]
  },
  {
   "cell_type": "code",
   "execution_count": null,
   "metadata": {
    "ExecuteTime": {
     "end_time": "2020-12-16T01:52:23.621887Z",
     "start_time": "2020-12-16T01:52:23.617774Z"
    }
   },
   "outputs": [],
   "source": [
    "def delta(x, i):\n",
    "    assert i < L\n",
    "    out = np.zeros(len(x))\n",
    "    idxs = slice(i*L, i*L+num_samp)\n",
    "    out[idxs] = x[idxs]\n",
    "    return out"
   ]
  },
  {
   "cell_type": "code",
   "execution_count": null,
   "metadata": {
    "ExecuteTime": {
     "end_time": "2020-12-13T01:49:55.607751Z",
     "start_time": "2020-12-13T01:49:55.602813Z"
    }
   },
   "outputs": [],
   "source": [
    "delta(np.ones(25), 4)"
   ]
  },
  {
   "cell_type": "code",
   "execution_count": null,
   "metadata": {
    "ExecuteTime": {
     "end_time": "2020-12-16T02:05:14.977054Z",
     "start_time": "2020-12-16T02:05:14.974470Z"
    }
   },
   "outputs": [],
   "source": [
    "y = A_down[:,1]"
   ]
  },
  {
   "cell_type": "code",
   "execution_count": null,
   "metadata": {
    "ExecuteTime": {
     "end_time": "2020-12-16T02:04:56.094196Z",
     "start_time": "2020-12-16T02:04:56.089977Z"
    }
   },
   "outputs": [],
   "source": [
    "y.shape"
   ]
  },
  {
   "cell_type": "code",
   "execution_count": null,
   "metadata": {
    "ExecuteTime": {
     "end_time": "2020-12-16T02:02:37.083699Z",
     "start_time": "2020-12-16T02:02:37.074944Z"
    }
   },
   "outputs": [],
   "source": [
    "def identity(A, y):\n",
    "    A = A/np.linalg.norm(A, axis=0)\n",
    "    prob = Lasso(fit_intercept=False)\n",
    "    prob.fit(A, y)\n",
    "    x_hat = prob.coef_\n",
    "    r = np.zeros(L)\n",
    "    for i in range(L):\n",
    "        r[i] = np.linalg.norm(y-A@delta(x_hat, i))\n",
    "#     print(r)\n",
    "    return np.argmin(r)"
   ]
  },
  {
   "cell_type": "code",
   "execution_count": null,
   "metadata": {
    "ExecuteTime": {
     "end_time": "2020-12-16T02:05:16.473456Z",
     "start_time": "2020-12-16T02:05:16.465928Z"
    }
   },
   "outputs": [],
   "source": [
    "identity(A_down,y)"
   ]
  },
  {
   "cell_type": "code",
   "execution_count": null,
   "metadata": {
    "ExecuteTime": {
     "end_time": "2020-12-16T02:01:28.140994Z",
     "start_time": "2020-12-16T02:01:28.126701Z"
    }
   },
   "outputs": [],
   "source": [
    "test_fnames = []\n",
    "for fname in im_dirs[im_idxs]:\n",
    "    a = filter_files(fname, 1)\n",
    "    while a in train_fnames:\n",
    "        a = filter_files(fname, 1)\n",
    "    test_fnames.append(fname+\"/\"+a[0]+\".pgm\")"
   ]
  },
  {
   "cell_type": "code",
   "execution_count": null,
   "metadata": {
    "ExecuteTime": {
     "end_time": "2020-12-16T02:01:29.024151Z",
     "start_time": "2020-12-16T02:01:29.019686Z"
    }
   },
   "outputs": [],
   "source": [
    "test_fnames"
   ]
  },
  {
   "cell_type": "code",
   "execution_count": null,
   "metadata": {
    "ExecuteTime": {
     "end_time": "2020-12-16T02:01:35.354331Z",
     "start_time": "2020-12-16T02:01:35.304121Z"
    }
   },
   "outputs": [],
   "source": [
    "identity(A_down, down_samp(fread(test_fnames[4])[:,None],16)[0])"
   ]
  },
  {
   "cell_type": "code",
   "execution_count": null,
   "metadata": {
    "ExecuteTime": {
     "end_time": "2020-12-16T01:56:43.780932Z",
     "start_time": "2020-12-16T01:56:43.762662Z"
    }
   },
   "outputs": [],
   "source": [
    "fread(test_fnames[4]).shape"
   ]
  },
  {
   "cell_type": "code",
   "execution_count": null,
   "metadata": {
    "ExecuteTime": {
     "end_time": "2020-12-16T01:59:06.936698Z",
     "start_time": "2020-12-16T01:59:06.931565Z"
    }
   },
   "outputs": [],
   "source": [
    "A_down.shape"
   ]
  },
  {
   "cell_type": "code",
   "execution_count": null,
   "metadata": {
    "ExecuteTime": {
     "end_time": "2020-12-16T01:59:22.210695Z",
     "start_time": "2020-12-16T01:59:22.197166Z"
    }
   },
   "outputs": [],
   "source": []
  },
  {
   "cell_type": "code",
   "execution_count": null,
   "metadata": {
    "ExecuteTime": {
     "end_time": "2020-12-16T02:01:51.765385Z",
     "start_time": "2020-12-16T02:01:51.754811Z"
    }
   },
   "outputs": [],
   "source": [
    "identity(A_down, pca.transform(fread(test_fnames[4])[:,None].T).T)"
   ]
  },
  {
   "cell_type": "code",
   "execution_count": null,
   "metadata": {
    "ExecuteTime": {
     "end_time": "2020-12-13T02:02:52.366520Z",
     "start_time": "2020-12-13T02:02:52.351385Z"
    }
   },
   "outputs": [],
   "source": [
    "# fread(test_fnames[0]).shape"
   ]
  },
  {
   "cell_type": "code",
   "execution_count": null,
   "metadata": {
    "ExecuteTime": {
     "end_time": "2020-12-13T02:28:03.727825Z",
     "start_time": "2020-12-13T02:28:03.721952Z"
    }
   },
   "outputs": [],
   "source": [
    "def robust_identity(A, y):\n",
    "    A = A/np.linalg.norm(A, axis=0)\n",
    "    m,n = A.shape\n",
    "    B = np.hstack((A, np.eye(m)))\n",
    "    print(B.shape)\n",
    "    prob = Lasso(fit_intercept=False)\n",
    "    prob.fit(B, y)\n",
    "    w_hat = prob.coef_\n",
    "    x_hat = w_hat[:n]\n",
    "    e_hat = w_hat[n:]\n",
    "    r = np.zeros(L)\n",
    "    for i in range(L):\n",
    "        r[i] = np.linalg.norm(y-e_hat-A@delta(x_hat, i))\n",
    "    print(r-np.min(r))\n",
    "    return np.argmin(r)"
   ]
  },
  {
   "cell_type": "code",
   "execution_count": null,
   "metadata": {
    "ExecuteTime": {
     "end_time": "2020-12-13T02:28:04.164802Z",
     "start_time": "2020-12-13T02:28:04.149852Z"
    }
   },
   "outputs": [],
   "source": [
    "y_test_noise = fread(test_fnames[2])[:,None]+np.random.normal(scale=500, size=(32256,1))"
   ]
  },
  {
   "cell_type": "code",
   "execution_count": null,
   "metadata": {
    "ExecuteTime": {
     "end_time": "2020-12-13T02:28:04.719212Z",
     "start_time": "2020-12-13T02:28:04.541611Z"
    }
   },
   "outputs": [],
   "source": [
    "plt.imshow(y_test_noise.reshape(im_size))"
   ]
  },
  {
   "cell_type": "code",
   "execution_count": null,
   "metadata": {
    "ExecuteTime": {
     "end_time": "2020-12-13T02:28:05.377004Z",
     "start_time": "2020-12-13T02:28:05.362017Z"
    }
   },
   "outputs": [],
   "source": [
    "robust_identity(A_down, down_samp(y_test_noise,16)[0])"
   ]
  },
  {
   "cell_type": "code",
   "execution_count": null,
   "metadata": {},
   "outputs": [],
   "source": []
  }
 ],
 "metadata": {
  "kernelspec": {
   "display_name": "Python 3",
   "language": "python",
   "name": "python3"
  },
  "language_info": {
   "codemirror_mode": {
    "name": "ipython",
    "version": 3
   },
   "file_extension": ".py",
   "mimetype": "text/x-python",
   "name": "python",
   "nbconvert_exporter": "python",
   "pygments_lexer": "ipython3",
   "version": "3.7.6"
  }
 },
 "nbformat": 4,
 "nbformat_minor": 4
}
