{
 "cells": [
  {
   "cell_type": "code",
   "execution_count": 328,
   "metadata": {
    "ExecuteTime": {
     "end_time": "2020-12-16T07:05:31.491596Z",
     "start_time": "2020-12-16T07:05:31.487114Z"
    }
   },
   "outputs": [],
   "source": [
    "import numpy as np\n",
    "import matplotlib.pyplot as plt\n",
    "from sklearn.linear_model import Lasso, LassoCV\n",
    "from sklearn.pipeline import Pipeline\n",
    "from sklearn.preprocessing import Normalizer\n",
    "from sklearn.decomposition import PCA\n",
    "from sklearn.metrics import accuracy_score\n",
    "from glob import glob as glob\n",
    "import os\n",
    "import pywt"
   ]
  },
  {
   "cell_type": "code",
   "execution_count": 298,
   "metadata": {
    "ExecuteTime": {
     "end_time": "2020-12-16T06:54:12.517161Z",
     "start_time": "2020-12-16T06:54:12.513699Z"
    }
   },
   "outputs": [],
   "source": [
    "num_class = 15\n",
    "num_train = 20\n",
    "num_test = 5\n",
    "im_size = np.array((192, 168))"
   ]
  },
  {
   "cell_type": "code",
   "execution_count": 299,
   "metadata": {
    "ExecuteTime": {
     "end_time": "2020-12-16T06:54:13.488417Z",
     "start_time": "2020-12-16T06:54:13.475044Z"
    }
   },
   "outputs": [],
   "source": [
    "def filter_files(d, num_train, num_test, cond):\n",
    "    fnames = [os.path.basename(i)[:-4] for i in glob(d+\"/*_P00A*.pgm\")]\n",
    "    acc_files = []\n",
    "    for f in fnames:\n",
    "        az = int(f[12:16])\n",
    "        elev = int(f[17:20])\n",
    "        if cond(az, elev):\n",
    "            acc_files.append(f)\n",
    "    samps = np.random.choice(acc_files, num_train+num_test, replace=False)\n",
    "    return samps[:num_train], samps[num_train:]\n",
    "\n",
    "def fread(f):\n",
    "    return plt.imread(f).flatten().T\n",
    "\n",
    "def_cond = lambda az, elev: abs(az) <= 45 and abs(elev) <= 45\n",
    "def train_test_split(num_classes=5, num_train=5, num_test=3, cond = def_cond):\n",
    "    \n",
    "    class_dirnames = np.random.choice(glob(\"CroppedYale/*\"), size=num_classes, replace=False)\n",
    "    \n",
    "    train_fnames_all, test_fnames_all = np.array([]), np.array([])\n",
    "    \n",
    "    A = np.zeros((np.prod(im_size), num_classes*num_train))\n",
    "    y = np.zeros((np.prod(im_size), num_classes*num_test))\n",
    "    \n",
    "    train_gt = np.zeros(num_classes*num_train).astype(int)\n",
    "    test_gt = np.zeros(num_classes*num_test).astype(int)\n",
    "    \n",
    "    for i, d in enumerate(class_dirnames):\n",
    "        train_fnames, test_fnames = filter_files(d, num_train, num_test, cond)\n",
    "        train_fnames_all = np.append(train_fnames_all, train_fnames)\n",
    "        test_fnames_all = np.append(test_fnames_all, test_fnames)\n",
    "        for j, f in enumerate(train_fnames):\n",
    "            idx = (i*num_train+j)\n",
    "            A[:,idx] = fread(d+\"/\"+f+\".pgm\")\n",
    "            train_gt[idx] = i\n",
    "        for j, f in enumerate(test_fnames):\n",
    "            idx = (i*num_test+j) \n",
    "            y[:,idx] = fread(d+\"/\"+f+\".pgm\")\n",
    "            test_gt[idx] = i\n",
    "            \n",
    "    return A, y, train_gt, test_gt, (train_fnames_all, test_fnames_all)"
   ]
  },
  {
   "cell_type": "code",
   "execution_count": 300,
   "metadata": {
    "ExecuteTime": {
     "end_time": "2020-12-16T06:54:14.877237Z",
     "start_time": "2020-12-16T06:54:14.110985Z"
    }
   },
   "outputs": [
    {
     "name": "stdout",
     "output_type": "stream",
     "text": [
      "(32256, 300) (32256, 75)\n",
      "[ 0  0  0  0  0  0  0  0  0  0  0  0  0  0  0  0  0  0  0  0  1  1  1  1\n",
      "  1  1  1  1  1  1  1  1  1  1  1  1  1  1  1  1  2  2  2  2  2  2  2  2\n",
      "  2  2  2  2  2  2  2  2  2  2  2  2  3  3  3  3  3  3  3  3  3  3  3  3\n",
      "  3  3  3  3  3  3  3  3  4  4  4  4  4  4  4  4  4  4  4  4  4  4  4  4\n",
      "  4  4  4  4  5  5  5  5  5  5  5  5  5  5  5  5  5  5  5  5  5  5  5  5\n",
      "  6  6  6  6  6  6  6  6  6  6  6  6  6  6  6  6  6  6  6  6  7  7  7  7\n",
      "  7  7  7  7  7  7  7  7  7  7  7  7  7  7  7  7  8  8  8  8  8  8  8  8\n",
      "  8  8  8  8  8  8  8  8  8  8  8  8  9  9  9  9  9  9  9  9  9  9  9  9\n",
      "  9  9  9  9  9  9  9  9 10 10 10 10 10 10 10 10 10 10 10 10 10 10 10 10\n",
      " 10 10 10 10 11 11 11 11 11 11 11 11 11 11 11 11 11 11 11 11 11 11 11 11\n",
      " 12 12 12 12 12 12 12 12 12 12 12 12 12 12 12 12 12 12 12 12 13 13 13 13\n",
      " 13 13 13 13 13 13 13 13 13 13 13 13 13 13 13 13 14 14 14 14 14 14 14 14\n",
      " 14 14 14 14 14 14 14 14 14 14 14 14]\n",
      "[ 0  0  0  0  0  1  1  1  1  1  2  2  2  2  2  3  3  3  3  3  4  4  4  4\n",
      "  4  5  5  5  5  5  6  6  6  6  6  7  7  7  7  7  8  8  8  8  8  9  9  9\n",
      "  9  9 10 10 10 10 10 11 11 11 11 11 12 12 12 12 12 13 13 13 13 13 14 14\n",
      " 14 14 14]\n"
     ]
    }
   ],
   "source": [
    "A, y, train_gt, test_gt, names = train_test_split(num_classes = num_class, num_train = num_train, num_test = num_test)\n",
    "print(A.shape, y.shape)\n",
    "print(train_gt)\n",
    "print(test_gt)"
   ]
  },
  {
   "cell_type": "code",
   "execution_count": 301,
   "metadata": {
    "ExecuteTime": {
     "end_time": "2020-12-16T06:54:23.166656Z",
     "start_time": "2020-12-16T06:54:23.160730Z"
    }
   },
   "outputs": [
    {
     "data": {
      "text/plain": [
       "(array(['yaleB09_P00A+020E-10', 'yaleB09_P00A+010E+00',\n",
       "        'yaleB09_P00A+025E+00', 'yaleB09_P00A-025E+00',\n",
       "        'yaleB09_P00A+000E+45', 'yaleB09_P00A-035E+40',\n",
       "        'yaleB09_P00A-010E+00', 'yaleB09_P00A+005E+10',\n",
       "        'yaleB09_P00A+005E-10', 'yaleB09_P00A+020E-40',\n",
       "        'yaleB09_P00A+000E-35', 'yaleB09_P00A-015E+20',\n",
       "        'yaleB09_P00A+035E+15', 'yaleB09_P00A-020E-10',\n",
       "        'yaleB09_P00A+035E+40', 'yaleB09_P00A+010E-20',\n",
       "        'yaleB09_P00A-020E-40', 'yaleB09_P00A-035E+15',\n",
       "        'yaleB09_P00A+020E+10', 'yaleB09_P00A-005E+10',\n",
       "        'yaleB03_P00A+020E-40', 'yaleB03_P00A+035E+40',\n",
       "        'yaleB03_P00A-005E+10', 'yaleB03_P00A+005E-10',\n",
       "        'yaleB03_P00A+000E-20', 'yaleB03_P00A+000E+45',\n",
       "        'yaleB03_P00A-025E+00', 'yaleB03_P00A+035E+15',\n",
       "        'yaleB03_P00A+020E+10', 'yaleB03_P00A+035E-20',\n",
       "        'yaleB03_P00A-020E-40', 'yaleB03_P00A+010E-20',\n",
       "        'yaleB03_P00A-010E+00', 'yaleB03_P00A+010E+00',\n",
       "        'yaleB03_P00A-015E+20', 'yaleB03_P00A+020E-10',\n",
       "        'yaleB03_P00A-020E-10', 'yaleB03_P00A-020E+10',\n",
       "        'yaleB03_P00A-035E+15', 'yaleB03_P00A+005E+10',\n",
       "        'yaleB06_P00A+015E+20', 'yaleB06_P00A+005E+10',\n",
       "        'yaleB06_P00A+000E-35', 'yaleB06_P00A-035E-20',\n",
       "        'yaleB06_P00A+035E+40', 'yaleB06_P00A-035E+15',\n",
       "        'yaleB06_P00A+035E+15', 'yaleB06_P00A-005E+10',\n",
       "        'yaleB06_P00A+000E-20', 'yaleB06_P00A-005E-10',\n",
       "        'yaleB06_P00A-010E+00', 'yaleB06_P00A+010E-20',\n",
       "        'yaleB06_P00A+005E-10', 'yaleB06_P00A-015E+20',\n",
       "        'yaleB06_P00A+025E+00', 'yaleB06_P00A-010E-20',\n",
       "        'yaleB06_P00A+020E+10', 'yaleB06_P00A-020E-10',\n",
       "        'yaleB06_P00A+020E-40', 'yaleB06_P00A+035E-20',\n",
       "        'yaleB02_P00A+005E-10', 'yaleB02_P00A+000E+45',\n",
       "        'yaleB02_P00A-025E+00', 'yaleB02_P00A-020E-40',\n",
       "        'yaleB02_P00A+000E+20', 'yaleB02_P00A+035E-20',\n",
       "        'yaleB02_P00A+020E+10', 'yaleB02_P00A-005E+10',\n",
       "        'yaleB02_P00A+035E+15', 'yaleB02_P00A+010E-20',\n",
       "        'yaleB02_P00A-035E+40', 'yaleB02_P00A+020E-10',\n",
       "        'yaleB02_P00A+015E+20', 'yaleB02_P00A+025E+00',\n",
       "        'yaleB02_P00A-010E+00', 'yaleB02_P00A-015E+20',\n",
       "        'yaleB02_P00A-010E-20', 'yaleB02_P00A+000E-20',\n",
       "        'yaleB02_P00A-035E+15', 'yaleB02_P00A-035E-20',\n",
       "        'yaleB20_P00A+035E+40', 'yaleB20_P00A+000E+00',\n",
       "        'yaleB20_P00A-010E-20', 'yaleB20_P00A+020E-40',\n",
       "        'yaleB20_P00A+025E+00', 'yaleB20_P00A-005E+10',\n",
       "        'yaleB20_P00A-025E+00', 'yaleB20_P00A+005E+10',\n",
       "        'yaleB20_P00A+000E-35', 'yaleB20_P00A-005E-10',\n",
       "        'yaleB20_P00A+000E+20', 'yaleB20_P00A+010E-20',\n",
       "        'yaleB20_P00A+000E+45', 'yaleB20_P00A-035E+40',\n",
       "        'yaleB20_P00A-035E-20', 'yaleB20_P00A+010E+00',\n",
       "        'yaleB20_P00A-020E+10', 'yaleB20_P00A+020E-10',\n",
       "        'yaleB20_P00A-035E+15', 'yaleB20_P00A-015E+20',\n",
       "        'yaleB16_P00A+000E+20', 'yaleB16_P00A-020E-40',\n",
       "        'yaleB16_P00A+010E+00', 'yaleB16_P00A+005E-10',\n",
       "        'yaleB16_P00A+000E-35', 'yaleB16_P00A+035E-20',\n",
       "        'yaleB16_P00A-020E-10', 'yaleB16_P00A-025E+00',\n",
       "        'yaleB16_P00A+035E+15', 'yaleB16_P00A+015E+20',\n",
       "        'yaleB16_P00A-035E+15', 'yaleB16_P00A+020E+10',\n",
       "        'yaleB16_P00A-005E+10', 'yaleB16_P00A+020E-40',\n",
       "        'yaleB16_P00A-005E-10', 'yaleB16_P00A+035E+40',\n",
       "        'yaleB16_P00A+020E-10', 'yaleB16_P00A-015E+20',\n",
       "        'yaleB16_P00A-020E+10', 'yaleB16_P00A+005E+10',\n",
       "        'yaleB15_P00A+000E-35', 'yaleB15_P00A+005E+10',\n",
       "        'yaleB15_P00A-015E+20', 'yaleB15_P00A-005E-10',\n",
       "        'yaleB15_P00A+035E+15', 'yaleB15_P00A+000E-20',\n",
       "        'yaleB15_P00A+015E+20', 'yaleB15_P00A-005E+10',\n",
       "        'yaleB15_P00A+010E-20', 'yaleB15_P00A-025E+00',\n",
       "        'yaleB15_P00A-035E-20', 'yaleB15_P00A+000E+00',\n",
       "        'yaleB15_P00A+005E-10', 'yaleB15_P00A-010E-20',\n",
       "        'yaleB15_P00A+010E+00', 'yaleB15_P00A+020E-40',\n",
       "        'yaleB15_P00A+020E-10', 'yaleB15_P00A+035E+40',\n",
       "        'yaleB15_P00A-010E+00', 'yaleB15_P00A-035E+15',\n",
       "        'yaleB28_P00A-035E+40', 'yaleB28_P00A-005E+10',\n",
       "        'yaleB28_P00A-010E+00', 'yaleB28_P00A+000E-20',\n",
       "        'yaleB28_P00A-035E-20', 'yaleB28_P00A-035E+15',\n",
       "        'yaleB28_P00A+035E+40', 'yaleB28_P00A-020E-10',\n",
       "        'yaleB28_P00A-025E+00', 'yaleB28_P00A+020E+10',\n",
       "        'yaleB28_P00A-020E-40', 'yaleB28_P00A+010E-20',\n",
       "        'yaleB28_P00A-020E+10', 'yaleB28_P00A+015E+20',\n",
       "        'yaleB28_P00A+000E+20', 'yaleB28_P00A+010E+00',\n",
       "        'yaleB28_P00A+020E-10', 'yaleB28_P00A+035E+15',\n",
       "        'yaleB28_P00A+035E-20', 'yaleB28_P00A+025E+00',\n",
       "        'yaleB36_P00A+010E-20', 'yaleB36_P00A-015E+20',\n",
       "        'yaleB36_P00A+020E-10', 'yaleB36_P00A+000E-35',\n",
       "        'yaleB36_P00A+015E+20', 'yaleB36_P00A-010E-20',\n",
       "        'yaleB36_P00A+000E+00', 'yaleB36_P00A-010E+00',\n",
       "        'yaleB36_P00A+000E+20', 'yaleB36_P00A+025E+00',\n",
       "        'yaleB36_P00A+035E-20', 'yaleB36_P00A+000E+45',\n",
       "        'yaleB36_P00A+035E+15', 'yaleB36_P00A+035E+40',\n",
       "        'yaleB36_P00A-005E-10', 'yaleB36_P00A+020E-40',\n",
       "        'yaleB36_P00A-025E+00', 'yaleB36_P00A+020E+10',\n",
       "        'yaleB36_P00A+005E+10', 'yaleB36_P00A+010E+00',\n",
       "        'yaleB17_P00A+000E+45', 'yaleB17_P00A-010E-20',\n",
       "        'yaleB17_P00A-005E-10', 'yaleB17_P00A+020E+10',\n",
       "        'yaleB17_P00A-035E-20', 'yaleB17_P00A+025E+00',\n",
       "        'yaleB17_P00A-005E+10', 'yaleB17_P00A+000E+00',\n",
       "        'yaleB17_P00A-035E+40', 'yaleB17_P00A+035E+40',\n",
       "        'yaleB17_P00A+005E-10', 'yaleB17_P00A+005E+10',\n",
       "        'yaleB17_P00A-025E+00', 'yaleB17_P00A+015E+20',\n",
       "        'yaleB17_P00A-020E-10', 'yaleB17_P00A-020E-40',\n",
       "        'yaleB17_P00A+020E-10', 'yaleB17_P00A-015E+20',\n",
       "        'yaleB17_P00A+035E+15', 'yaleB17_P00A-020E+10',\n",
       "        'yaleB13_P00A+020E-40', 'yaleB13_P00A-020E+10',\n",
       "        'yaleB13_P00A+025E+00', 'yaleB13_P00A-035E+40',\n",
       "        'yaleB13_P00A-025E+00', 'yaleB13_P00A+015E+20',\n",
       "        'yaleB13_P00A-005E+10', 'yaleB13_P00A+000E-20',\n",
       "        'yaleB13_P00A-010E+00', 'yaleB13_P00A+005E-10',\n",
       "        'yaleB13_P00A+020E-10', 'yaleB13_P00A-020E-10',\n",
       "        'yaleB13_P00A-020E-40', 'yaleB13_P00A-035E+15',\n",
       "        'yaleB13_P00A-015E+20', 'yaleB13_P00A-005E-10',\n",
       "        'yaleB13_P00A+000E-35', 'yaleB13_P00A+035E-20',\n",
       "        'yaleB13_P00A+000E+45', 'yaleB13_P00A+010E+00',\n",
       "        'yaleB27_P00A-035E-20', 'yaleB27_P00A+005E+10',\n",
       "        'yaleB27_P00A-035E+15', 'yaleB27_P00A-025E+00',\n",
       "        'yaleB27_P00A+020E+10', 'yaleB27_P00A+035E-20',\n",
       "        'yaleB27_P00A+000E-20', 'yaleB27_P00A+035E+40',\n",
       "        'yaleB27_P00A+000E-35', 'yaleB27_P00A+000E+20',\n",
       "        'yaleB27_P00A+035E+15', 'yaleB27_P00A+000E+45',\n",
       "        'yaleB27_P00A+010E+00', 'yaleB27_P00A-020E-40',\n",
       "        'yaleB27_P00A-020E+10', 'yaleB27_P00A+020E-10',\n",
       "        'yaleB27_P00A-010E-20', 'yaleB27_P00A-020E-10',\n",
       "        'yaleB27_P00A+005E-10', 'yaleB27_P00A+025E+00',\n",
       "        'yaleB12_P00A+015E+20', 'yaleB12_P00A-020E-40',\n",
       "        'yaleB12_P00A+010E-20', 'yaleB12_P00A+010E+00',\n",
       "        'yaleB12_P00A-035E-20', 'yaleB12_P00A+020E+10',\n",
       "        'yaleB12_P00A+000E-20', 'yaleB12_P00A+035E-20',\n",
       "        'yaleB12_P00A-010E-20', 'yaleB12_P00A+000E+00',\n",
       "        'yaleB12_P00A+005E-10', 'yaleB12_P00A+025E+00',\n",
       "        'yaleB12_P00A-025E+00', 'yaleB12_P00A+035E+40',\n",
       "        'yaleB12_P00A-035E+15', 'yaleB12_P00A-020E-10',\n",
       "        'yaleB12_P00A+000E+45', 'yaleB12_P00A+020E-10',\n",
       "        'yaleB12_P00A-015E+20', 'yaleB12_P00A-020E+10',\n",
       "        'yaleB24_P00A+035E-20', 'yaleB24_P00A+010E-20',\n",
       "        'yaleB24_P00A-035E-20', 'yaleB24_P00A+035E+40',\n",
       "        'yaleB24_P00A+010E+00', 'yaleB24_P00A+000E-20',\n",
       "        'yaleB24_P00A+020E+10', 'yaleB24_P00A+000E+00',\n",
       "        'yaleB24_P00A+000E-35', 'yaleB24_P00A-025E+00',\n",
       "        'yaleB24_P00A-020E+10', 'yaleB24_P00A-010E-20',\n",
       "        'yaleB24_P00A-035E+40', 'yaleB24_P00A+020E-10',\n",
       "        'yaleB24_P00A+005E+10', 'yaleB24_P00A+015E+20',\n",
       "        'yaleB24_P00A+000E+20', 'yaleB24_P00A+000E+45',\n",
       "        'yaleB24_P00A-005E-10', 'yaleB24_P00A-020E-40',\n",
       "        'yaleB19_P00A+015E+20', 'yaleB19_P00A+000E+45',\n",
       "        'yaleB19_P00A+035E-20', 'yaleB19_P00A+005E-10',\n",
       "        'yaleB19_P00A+020E-40', 'yaleB19_P00A+020E+10',\n",
       "        'yaleB19_P00A-035E-20', 'yaleB19_P00A-015E+20',\n",
       "        'yaleB19_P00A-005E+10', 'yaleB19_P00A+000E-20',\n",
       "        'yaleB19_P00A+020E-10', 'yaleB19_P00A+000E+00',\n",
       "        'yaleB19_P00A-010E-20', 'yaleB19_P00A+035E+40',\n",
       "        'yaleB19_P00A-020E-10', 'yaleB19_P00A-035E+15',\n",
       "        'yaleB19_P00A+000E+20', 'yaleB19_P00A+025E+00',\n",
       "        'yaleB19_P00A-020E+10', 'yaleB19_P00A+000E-35'], dtype='<U32'),\n",
       " array(['yaleB09_P00A-035E-20', 'yaleB09_P00A-020E+10',\n",
       "        'yaleB09_P00A+035E-20', 'yaleB09_P00A+000E+00',\n",
       "        'yaleB09_P00A-010E-20', 'yaleB03_P00A-035E+40',\n",
       "        'yaleB03_P00A-035E-20', 'yaleB03_P00A-005E-10',\n",
       "        'yaleB03_P00A-010E-20', 'yaleB03_P00A+025E+00',\n",
       "        'yaleB06_P00A+000E+00', 'yaleB06_P00A-035E+40',\n",
       "        'yaleB06_P00A+020E-10', 'yaleB06_P00A+000E+45',\n",
       "        'yaleB06_P00A+000E+20', 'yaleB02_P00A+000E-35',\n",
       "        'yaleB02_P00A+035E+40', 'yaleB02_P00A-020E+10',\n",
       "        'yaleB02_P00A+010E+00', 'yaleB02_P00A-020E-10',\n",
       "        'yaleB20_P00A+035E-20', 'yaleB20_P00A+000E-20',\n",
       "        'yaleB20_P00A-020E-10', 'yaleB20_P00A+005E-10',\n",
       "        'yaleB20_P00A-020E-40', 'yaleB16_P00A+000E-20',\n",
       "        'yaleB16_P00A+025E+00', 'yaleB16_P00A-035E+40',\n",
       "        'yaleB16_P00A+010E-20', 'yaleB16_P00A-035E-20',\n",
       "        'yaleB15_P00A+020E+10', 'yaleB15_P00A+000E+45',\n",
       "        'yaleB15_P00A+025E+00', 'yaleB15_P00A-020E+10',\n",
       "        'yaleB15_P00A-020E-10', 'yaleB28_P00A+000E+00',\n",
       "        'yaleB28_P00A+005E+10', 'yaleB28_P00A+005E-10',\n",
       "        'yaleB28_P00A-010E-20', 'yaleB28_P00A+000E-35',\n",
       "        'yaleB36_P00A-035E+15', 'yaleB36_P00A-020E+10',\n",
       "        'yaleB36_P00A-005E+10', 'yaleB36_P00A+005E-10',\n",
       "        'yaleB36_P00A-020E-40', 'yaleB17_P00A+010E+00',\n",
       "        'yaleB17_P00A+020E-40', 'yaleB17_P00A+010E-20',\n",
       "        'yaleB17_P00A+000E-20', 'yaleB17_P00A+035E-20',\n",
       "        'yaleB13_P00A-035E-20', 'yaleB13_P00A-010E-20',\n",
       "        'yaleB13_P00A+035E+40', 'yaleB13_P00A+005E+10',\n",
       "        'yaleB13_P00A+000E+20', 'yaleB27_P00A+015E+20',\n",
       "        'yaleB27_P00A-015E+20', 'yaleB27_P00A+010E-20',\n",
       "        'yaleB27_P00A-005E+10', 'yaleB27_P00A+020E-40',\n",
       "        'yaleB12_P00A+020E-40', 'yaleB12_P00A-005E+10',\n",
       "        'yaleB12_P00A+000E+20', 'yaleB12_P00A+005E+10',\n",
       "        'yaleB12_P00A-005E-10', 'yaleB24_P00A+025E+00',\n",
       "        'yaleB24_P00A-015E+20', 'yaleB24_P00A-020E-10',\n",
       "        'yaleB24_P00A-005E+10', 'yaleB24_P00A-035E+15',\n",
       "        'yaleB19_P00A+005E+10', 'yaleB19_P00A-035E+40',\n",
       "        'yaleB19_P00A+010E+00', 'yaleB19_P00A-025E+00',\n",
       "        'yaleB19_P00A+010E-20'], dtype='<U32'))"
      ]
     },
     "execution_count": 301,
     "metadata": {},
     "output_type": "execute_result"
    }
   ],
   "source": [
    "names"
   ]
  },
  {
   "cell_type": "code",
   "execution_count": 302,
   "metadata": {
    "ExecuteTime": {
     "end_time": "2020-12-16T06:54:24.028152Z",
     "start_time": "2020-12-16T06:54:24.021536Z"
    }
   },
   "outputs": [],
   "source": [
    "def down_samp(A, ds_factor=16):\n",
    "    im_size_down = np.ceil(im_size/ds_factor).astype(int)\n",
    "    A_down = np.zeros((np.prod(im_size_down), A.shape[-1]))\n",
    "#     print(A_down.shape)\n",
    "    for i in range(A.shape[-1]):\n",
    "        A_down[:,i] = A[:,i].reshape(im_size)[::ds_factor, ::ds_factor].flatten()\n",
    "    return A_down, im_size_down"
   ]
  },
  {
   "cell_type": "code",
   "execution_count": 303,
   "metadata": {
    "ExecuteTime": {
     "end_time": "2020-12-16T06:54:24.688624Z",
     "start_time": "2020-12-16T06:54:24.684982Z"
    }
   },
   "outputs": [],
   "source": [
    "def down_samp_pca(A, dim=25):\n",
    "    # sklearn PCA\n",
    "    pca = PCA(n_components=dim, svd_solver=\"auto\")\n",
    "    A_pca = pca.fit_transform(A.T).T\n",
    "    \n",
    "    # Manual PCA\n",
    "#     U, S, Vh = np.linalg.svd(A, full_matrices=True)\n",
    "#     print(U.shape, S.shape, Vh.shape)\n",
    "#     A_pca = U[:,:dim].T@A\n",
    "    return A_pca, A_pca.shape"
   ]
  },
  {
   "cell_type": "code",
   "execution_count": 304,
   "metadata": {
    "ExecuteTime": {
     "end_time": "2020-12-16T06:54:25.120828Z",
     "start_time": "2020-12-16T06:54:25.116264Z"
    }
   },
   "outputs": [],
   "source": [
    "def down_samp_wave(A):\n",
    "    im_vec = A.reshape((*im_size,-1))\n",
    "    wave_vec = pywt.wavedec2(im_vec, 'haar', axes=(0,1), level=4)\n",
    "#     low_dim_data = wave_vec[0]\n",
    "    low_dim_data = wave_vec[0] + sum(wave_vec[1])\n",
    "    return low_dim_data.reshape(-1, A.shape[-1]), low_dim_data.shape[:2]"
   ]
  },
  {
   "cell_type": "code",
   "execution_count": 305,
   "metadata": {
    "ExecuteTime": {
     "end_time": "2020-12-16T06:54:25.485928Z",
     "start_time": "2020-12-16T06:54:25.481549Z"
    }
   },
   "outputs": [],
   "source": [
    "A_ds, ds_shape = down_samp(A, ds_factor=16)"
   ]
  },
  {
   "cell_type": "code",
   "execution_count": 306,
   "metadata": {
    "ExecuteTime": {
     "end_time": "2020-12-16T06:54:26.259989Z",
     "start_time": "2020-12-16T06:54:25.920069Z"
    }
   },
   "outputs": [],
   "source": [
    "A_wave, wave_shape = down_samp_wave(A)"
   ]
  },
  {
   "cell_type": "code",
   "execution_count": 307,
   "metadata": {
    "ExecuteTime": {
     "end_time": "2020-12-16T06:54:26.473941Z",
     "start_time": "2020-12-16T06:54:26.332188Z"
    }
   },
   "outputs": [
    {
     "data": {
      "text/plain": [
       "<matplotlib.image.AxesImage at 0x7fc5530a0278>"
      ]
     },
     "execution_count": 307,
     "metadata": {},
     "output_type": "execute_result"
    },
    {
     "data": {
      "image/png": "[encoded data removed]",
      "text/plain": [
       "<Figure size 432x288 with 1 Axes>"
      ]
     },
     "metadata": {
      "needs_background": "light"
     },
     "output_type": "display_data"
    }
   ],
   "source": [
    "plt.imshow(A_ds[...,3].reshape(ds_shape))"
   ]
  },
  {
   "cell_type": "code",
   "execution_count": 308,
   "metadata": {
    "ExecuteTime": {
     "end_time": "2020-12-16T06:54:26.828190Z",
     "start_time": "2020-12-16T06:54:26.690959Z"
    }
   },
   "outputs": [
    {
     "data": {
      "text/plain": [
       "<matplotlib.image.AxesImage at 0x7fc55388e1d0>"
      ]
     },
     "execution_count": 308,
     "metadata": {},
     "output_type": "execute_result"
    },
    {
     "data": {
      "image/png": "[encoded data removed]",
      "text/plain": [
       "<Figure size 432x288 with 1 Axes>"
      ]
     },
     "metadata": {
      "needs_background": "light"
     },
     "output_type": "display_data"
    }
   ],
   "source": [
    "plt.imshow(A_wave[...,3].reshape(wave_shape))"
   ]
  },
  {
   "cell_type": "code",
   "execution_count": 309,
   "metadata": {
    "ExecuteTime": {
     "end_time": "2020-12-16T06:54:27.771007Z",
     "start_time": "2020-12-16T06:54:27.262600Z"
    }
   },
   "outputs": [],
   "source": [
    "A_pca, pca_shape = down_samp_pca(A)"
   ]
  },
  {
   "cell_type": "code",
   "execution_count": 310,
   "metadata": {
    "ExecuteTime": {
     "end_time": "2020-12-16T06:54:27.798697Z",
     "start_time": "2020-12-16T06:54:27.794533Z"
    }
   },
   "outputs": [
    {
     "data": {
      "text/plain": [
       "(25, 300)"
      ]
     },
     "execution_count": 310,
     "metadata": {},
     "output_type": "execute_result"
    }
   ],
   "source": [
    "pca_shape"
   ]
  },
  {
   "cell_type": "code",
   "execution_count": 311,
   "metadata": {
    "ExecuteTime": {
     "end_time": "2020-12-16T06:54:29.182999Z",
     "start_time": "2020-12-16T06:54:29.177539Z"
    }
   },
   "outputs": [
    {
     "data": {
      "text/plain": [
       "array([-5194.4509167 , -2232.84863042,   912.05017348, -1192.01759262,\n",
       "        -121.52029239,  1245.42812244,    36.44833268, -1201.40703942,\n",
       "        1537.49335652,   878.67322168,  -741.97068781, -1047.67245296,\n",
       "        -459.91642061,   -96.97070802,  1352.92045296,   -39.07097242,\n",
       "         -72.84112066,   673.69286242,   797.73446665,    74.14660622,\n",
       "         370.03576287,   221.01237566,    87.0803779 ,  -543.46615149,\n",
       "         184.47701294])"
      ]
     },
     "execution_count": 311,
     "metadata": {},
     "output_type": "execute_result"
    }
   ],
   "source": [
    "A_pca[...,0]"
   ]
  },
  {
   "cell_type": "code",
   "execution_count": 312,
   "metadata": {
    "ExecuteTime": {
     "end_time": "2020-12-16T06:54:30.048353Z",
     "start_time": "2020-12-16T06:54:29.932692Z"
    }
   },
   "outputs": [
    {
     "data": {
      "text/plain": [
       "<matplotlib.image.AxesImage at 0x7fc552c76240>"
      ]
     },
     "execution_count": 312,
     "metadata": {},
     "output_type": "execute_result"
    },
    {
     "data": {
      "image/png": "[encoded data removed]",
      "text/plain": [
       "<Figure size 432x288 with 1 Axes>"
      ]
     },
     "metadata": {
      "needs_background": "light"
     },
     "output_type": "display_data"
    }
   ],
   "source": [
    "plt.imshow(A_pca)"
   ]
  },
  {
   "cell_type": "code",
   "execution_count": 313,
   "metadata": {
    "ExecuteTime": {
     "end_time": "2020-12-16T06:54:30.636541Z",
     "start_time": "2020-12-16T06:54:30.632817Z"
    }
   },
   "outputs": [],
   "source": [
    "def delta(x, i):\n",
    "    assert i < num_class\n",
    "    out = np.zeros(len(x))\n",
    "    idxs = slice(i*num_class, i*num_class+num_train)\n",
    "    out[idxs] = x[idxs]\n",
    "    return out"
   ]
  },
  {
   "cell_type": "code",
   "execution_count": 314,
   "metadata": {
    "ExecuteTime": {
     "end_time": "2020-12-16T06:54:33.842565Z",
     "start_time": "2020-12-16T06:54:33.835720Z"
    }
   },
   "outputs": [
    {
     "data": {
      "text/plain": [
       "array([1., 1., 1., 1., 1., 1., 1., 1., 1., 1., 1., 1., 1., 1., 1., 1., 1.,\n",
       "       1., 1., 1., 0., 0., 0., 0., 0., 0., 0., 0., 0., 0., 0., 0., 0., 0.,\n",
       "       0., 0., 0., 0., 0., 0., 0., 0., 0., 0., 0., 0., 0., 0., 0., 0., 0.,\n",
       "       0., 0., 0., 0., 0., 0., 0., 0., 0., 0., 0., 0., 0., 0., 0., 0., 0.,\n",
       "       0., 0., 0., 0., 0., 0., 0., 0., 0., 0., 0., 0., 0., 0., 0., 0., 0.,\n",
       "       0., 0., 0., 0., 0., 0., 0., 0., 0., 0., 0., 0., 0., 0., 0., 0., 0.,\n",
       "       0., 0., 0., 0., 0., 0., 0., 0., 0., 0., 0., 0., 0., 0., 0., 0., 0.,\n",
       "       0., 0., 0., 0., 0., 0., 0., 0., 0., 0., 0., 0., 0., 0., 0., 0., 0.,\n",
       "       0., 0., 0., 0., 0., 0., 0., 0., 0., 0., 0., 0., 0., 0., 0., 0., 0.,\n",
       "       0., 0., 0., 0., 0., 0., 0., 0., 0., 0., 0., 0., 0., 0., 0., 0., 0.,\n",
       "       0., 0., 0., 0., 0., 0., 0., 0., 0., 0., 0., 0., 0., 0., 0., 0., 0.,\n",
       "       0., 0., 0., 0., 0., 0., 0., 0., 0., 0., 0., 0., 0., 0., 0., 0., 0.,\n",
       "       0., 0., 0., 0., 0., 0., 0., 0., 0., 0., 0., 0., 0., 0., 0., 0., 0.,\n",
       "       0., 0., 0., 0., 0., 0., 0., 0., 0., 0., 0., 0., 0., 0., 0., 0., 0.,\n",
       "       0., 0., 0., 0., 0., 0., 0., 0., 0., 0., 0., 0., 0., 0., 0., 0., 0.,\n",
       "       0., 0., 0., 0., 0., 0., 0., 0., 0., 0., 0., 0., 0., 0., 0., 0., 0.,\n",
       "       0., 0., 0., 0., 0., 0., 0., 0., 0., 0., 0., 0., 0., 0., 0., 0., 0.,\n",
       "       0., 0., 0., 0., 0., 0., 0., 0., 0., 0., 0.])"
      ]
     },
     "execution_count": 314,
     "metadata": {},
     "output_type": "execute_result"
    }
   ],
   "source": [
    "delta(np.ones(A.shape[-1]), 0)"
   ]
  },
  {
   "cell_type": "code",
   "execution_count": 335,
   "metadata": {
    "ExecuteTime": {
     "end_time": "2020-12-16T07:07:19.414244Z",
     "start_time": "2020-12-16T07:07:19.409249Z"
    }
   },
   "outputs": [],
   "source": [
    "def identity(A, y):\n",
    "    A_norm = np.linalg.norm(A, axis=0)\n",
    "    y_norm = np.linalg.norm(y)\n",
    "#     print(A, y)\n",
    "#     prob = Lasso(fit_intercept=False, alpha=1e-3, max_iter=1e3)\n",
    "    prob = LassoCV(fit_intercept=False, max_iter=1e4)\n",
    "    prob.fit(A/A_norm, y/y_norm)\n",
    "    x_hat = prob.coef_\n",
    "    r = np.zeros(num_class)\n",
    "    for i in range(num_class):\n",
    "        r[i] = np.linalg.norm(y-A@delta(x_hat, i))\n",
    "#     print(x_hat)\n",
    "    return np.argmin(r)"
   ]
  },
  {
   "cell_type": "code",
   "execution_count": 316,
   "metadata": {
    "ExecuteTime": {
     "end_time": "2020-12-16T06:54:39.250940Z",
     "start_time": "2020-12-16T06:54:39.219924Z"
    }
   },
   "outputs": [
    {
     "data": {
      "text/plain": [
       "(300,)"
      ]
     },
     "execution_count": 316,
     "metadata": {},
     "output_type": "execute_result"
    }
   ],
   "source": [
    "np.linalg.norm(A, axis=0).shape"
   ]
  },
  {
   "cell_type": "code",
   "execution_count": 317,
   "metadata": {
    "ExecuteTime": {
     "end_time": "2020-12-16T06:54:40.396437Z",
     "start_time": "2020-12-16T06:54:40.390085Z"
    }
   },
   "outputs": [],
   "source": [
    "def robust_identity(A, y):\n",
    "    A = A/np.linalg.norm(A, axis=0)\n",
    "    y = y/np.linalg.norm(y)\n",
    "    m,n = A.shape\n",
    "    B = np.hstack((A, np.eye(m)))\n",
    "    print(B.shape)\n",
    "    prob = Lasso(fit_intercept=False)\n",
    "    prob.fit(B, y)\n",
    "    w_hat = prob.coef_\n",
    "    x_hat = w_hat[:n]\n",
    "    e_hat = w_hat[n:]\n",
    "    r = np.zeros(L)\n",
    "    for i in range(L):\n",
    "        r[i] = np.linalg.norm(y-e_hat-A@delta(x_hat, i))\n",
    "    print(r-np.min(r))\n",
    "    return np.argmin(r)"
   ]
  },
  {
   "cell_type": "code",
   "execution_count": 330,
   "metadata": {
    "ExecuteTime": {
     "end_time": "2020-12-16T07:06:54.000523Z",
     "start_time": "2020-12-16T07:06:53.994766Z"
    }
   },
   "outputs": [],
   "source": [
    "def evaluate(A, y, train_gt, test_gt, ld_func=down_samp):\n",
    "    train_pred = np.ones_like(train_gt)*-1\n",
    "    test_pred = np.ones_like(test_gt)*-1\n",
    "    A_ld, _ = ld_func(A)\n",
    "    y_ld, _ = ld_func(y)\n",
    "    \n",
    "    print(A_ld.shape, y_ld.shape)\n",
    "    for i in range(len(train_pred)):\n",
    "        train_pred[i] = identity(A_ld, A_ld[:,i])\n",
    "#         return\n",
    "    for i in range(len(test_pred)):\n",
    "        test_pred[i] = identity(A_ld, y_ld[:,i])\n",
    "    \n",
    "    print(train_pred)\n",
    "    train_acc = accuracy_score(train_gt, train_pred)\n",
    "    test_acc = accuracy_score(test_gt, test_pred)\n",
    "    \n",
    "    print(\"Accuracy for {}:\\n\\tTrain Accuracy: {:.2f}\\n\\tTest Accuracy: {:.2f}\".format(ld_func.__name__, train_acc, test_acc))"
   ]
  },
  {
   "cell_type": "code",
   "execution_count": 331,
   "metadata": {
    "ExecuteTime": {
     "end_time": "2020-12-16T07:06:54.777335Z",
     "start_time": "2020-12-16T07:06:54.774413Z"
    }
   },
   "outputs": [],
   "source": [
    "down_samp_funcs = [down_samp, down_samp_wave]"
   ]
  },
  {
   "cell_type": "code",
   "execution_count": null,
   "metadata": {
    "ExecuteTime": {
     "end_time": "2020-12-16T07:11:13.305304Z",
     "start_time": "2020-12-16T07:07:22.265947Z"
    }
   },
   "outputs": [],
   "source": [
    "for func in down_samp_funcs:\n",
    "    evaluate(A, y, train_gt, test_gt, ld_func=func)"
   ]
  },
  {
   "cell_type": "code",
   "execution_count": null,
   "metadata": {},
   "outputs": [],
   "source": []
  },
  {
   "cell_type": "code",
   "execution_count": null,
   "metadata": {
    "ExecuteTime": {
     "end_time": "2020-12-13T02:28:04.164802Z",
     "start_time": "2020-12-13T02:28:04.149852Z"
    }
   },
   "outputs": [],
   "source": [
    "y_test_noise = fread(test_fnames[2])[:,None]+np.random.normal(scale=500, size=(32256,1))"
   ]
  },
  {
   "cell_type": "code",
   "execution_count": null,
   "metadata": {
    "ExecuteTime": {
     "end_time": "2020-12-13T02:28:04.719212Z",
     "start_time": "2020-12-13T02:28:04.541611Z"
    }
   },
   "outputs": [],
   "source": [
    "plt.imshow(y_test_noise.reshape(im_size))"
   ]
  },
  {
   "cell_type": "code",
   "execution_count": null,
   "metadata": {
    "ExecuteTime": {
     "end_time": "2020-12-13T02:28:05.377004Z",
     "start_time": "2020-12-13T02:28:05.362017Z"
    }
   },
   "outputs": [],
   "source": [
    "robust_identity(A_down, down_samp(y_test_noise,16)[0])"
   ]
  },
  {
   "cell_type": "code",
   "execution_count": null,
   "metadata": {},
   "outputs": [],
   "source": []
  }
 ],
 "metadata": {
  "kernelspec": {
   "display_name": "Python 3",
   "language": "python",
   "name": "python3"
  },
  "language_info": {
   "codemirror_mode": {
    "name": "ipython",
    "version": 3
   },
   "file_extension": ".py",
   "mimetype": "text/x-python",
   "name": "python",
   "nbconvert_exporter": "python",
   "pygments_lexer": "ipython3",
   "version": "3.6.8"
  }
 },
 "nbformat": 4,
 "nbformat_minor": 4
}
