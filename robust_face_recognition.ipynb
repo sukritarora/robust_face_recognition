{
 "cells": [
  {
   "cell_type": "code",
   "execution_count": null,
   "metadata": {
    "ExecuteTime": {
     "end_time": "2020-12-16T23:53:17.297771Z",
     "start_time": "2020-12-16T23:53:15.845790Z"
    }
   },
   "outputs": [],
   "source": [
    "import numpy as np\n",
    "import matplotlib.pyplot as plt\n",
    "from sklearn.linear_model import Lasso, LassoCV, LinearRegression\n",
    "from sklearn.pipeline import Pipeline\n",
    "from sklearn.preprocessing import Normalizer\n",
    "from sklearn.decomposition import PCA\n",
    "from sklearn.metrics import accuracy_score\n",
    "from glob import glob as glob\n",
    "import os\n",
    "import pywt\n",
    "import cv2\n",
    "from sklearn.utils.testing import ignore_warnings\n",
    "from sklearn.exceptions import ConvergenceWarning\n",
    "from tqdm import tqdm"
   ]
  },
  {
   "cell_type": "code",
   "execution_count": null,
   "metadata": {
    "ExecuteTime": {
     "end_time": "2020-12-16T23:53:18.130093Z",
     "start_time": "2020-12-16T23:53:18.127449Z"
    }
   },
   "outputs": [],
   "source": [
    "# num_class = 15\n",
    "# num_train = 20\n",
    "# num_test = 5\n",
    "im_size = np.array((192, 168))"
   ]
  },
  {
   "cell_type": "code",
   "execution_count": null,
   "metadata": {
    "ExecuteTime": {
     "end_time": "2020-12-16T23:53:20.069170Z",
     "start_time": "2020-12-16T23:53:20.057820Z"
    }
   },
   "outputs": [],
   "source": [
    "def filter_files(d, num_train, num_test, cond):\n",
    "    fnames = [os.path.basename(i)[:-4] for i in glob(d+\"/*_P00A*.pgm\")]\n",
    "    acc_files = []\n",
    "    for f in fnames:\n",
    "        az = int(f[12:16])\n",
    "        elev = int(f[17:20])\n",
    "        if cond(az, elev):\n",
    "            acc_files.append(f)\n",
    "    samps = np.random.choice(acc_files, num_train+num_test, replace=False)\n",
    "    return samps[:num_train], samps[num_train:]\n",
    "\n",
    "def fread(f):\n",
    "    return plt.imread(f).flatten().T\n",
    "\n",
    "# def_cond = lambda az, elev: abs(az) <= 45 and abs(elev) <= 45\n",
    "# def train_test_split(num_classes=5, num_train=5, num_test=3, cond = def_cond):\n",
    "    \n",
    "#     class_dirnames = np.random.choice(glob(\"CroppedYale/*\"), size=num_classes, replace=False)\n",
    "    \n",
    "#     train_fnames_all, test_fnames_all = np.array([]), np.array([])\n",
    "    \n",
    "#     A = np.zeros((np.prod(im_size), num_classes*num_train))\n",
    "#     y = np.zeros((np.prod(im_size), num_classes*num_test))\n",
    "    \n",
    "#     train_gt = np.zeros(num_classes*num_train).astype(int)\n",
    "#     test_gt = np.zeros(num_classes*num_test).astype(int)\n",
    "    \n",
    "#     for i, d in enumerate(class_dirnames):\n",
    "#         train_fnames, test_fnames = filter_files(d, num_train, num_test, cond)\n",
    "#         train_fnames_all = np.append(train_fnames_all, train_fnames)\n",
    "#         test_fnames_all = np.append(test_fnames_all, test_fnames)\n",
    "#         for j, f in enumerate(train_fnames):\n",
    "#             idx = (i*num_train+j)\n",
    "#             A[:,idx] = fread(d+\"/\"+f+\".pgm\")\n",
    "#             train_gt[idx] = i\n",
    "#         for j, f in enumerate(test_fnames):\n",
    "#             idx = (i*num_test+j) \n",
    "#             y[:,idx] = fread(d+\"/\"+f+\".pgm\")\n",
    "#             test_gt[idx] = i\n",
    "            \n",
    "#     return A, y, train_gt, test_gt, (train_fnames_all, test_fnames_all)\n",
    "\n",
    "def random_sample():\n",
    "    all_fnames = glob(\"*/*/*_P00A*.pgm\")\n",
    "    half = len(all_fnames)//2\n",
    "    np.random.shuffle(all_fnames)\n",
    "    \n",
    "    train_fnames = all_fnames[:half]\n",
    "    test_fnames = all_fnames[half:]\n",
    "    \n",
    "    A = np.zeros((np.prod(im_size), len(train_fnames)))\n",
    "    y = np.zeros((np.prod(im_size), len(test_fnames)))\n",
    "    \n",
    "    train_gt = np.zeros(len(train_fnames)).astype(int)\n",
    "    test_gt = np.zeros(len(test_fnames)).astype(int)\n",
    "    \n",
    "    for i, f in enumerate(train_fnames):\n",
    "        A[:,i] = fread(f)\n",
    "        train_gt[i] = int(os.path.basename(f)[5:7])-1\n",
    "        \n",
    "    for i, f in enumerate(test_fnames):\n",
    "        y[:,i] = fread(f)\n",
    "        test_gt[i] = int(os.path.basename(f)[5:7])-1\n",
    "        \n",
    "    return A, y, train_gt, test_gt, (train_fnames, test_fnames)"
   ]
  },
  {
   "cell_type": "code",
   "execution_count": null,
   "metadata": {
    "ExecuteTime": {
     "end_time": "2020-12-16T23:53:26.140373Z",
     "start_time": "2020-12-16T23:53:21.384022Z"
    }
   },
   "outputs": [],
   "source": [
    "A, y, train_gt, test_gt, names = random_sample()\n",
    "print(A.shape, y.shape)\n",
    "print(train_gt)\n",
    "print(test_gt)"
   ]
  },
  {
   "cell_type": "code",
   "execution_count": null,
   "metadata": {},
   "outputs": [],
   "source": [
    "names[1]"
   ]
  },
  {
   "cell_type": "code",
   "execution_count": null,
   "metadata": {
    "ExecuteTime": {
     "end_time": "2020-12-16T06:54:14.877237Z",
     "start_time": "2020-12-16T06:54:14.110985Z"
    }
   },
   "outputs": [],
   "source": [
    "# A, y, train_gt, test_gt, names = train_test_split(num_classes = num_class, num_train = num_train, num_test = num_test)\n",
    "# print(A.shape, y.shape)\n",
    "# print(train_gt)\n",
    "# print(test_gt)"
   ]
  },
  {
   "cell_type": "code",
   "execution_count": null,
   "metadata": {
    "ExecuteTime": {
     "end_time": "2020-12-16T23:53:32.281090Z",
     "start_time": "2020-12-16T23:53:32.276320Z"
    }
   },
   "outputs": [],
   "source": [
    "def down_samp(A, ds_factor=16):\n",
    "    im_size_down = np.ceil(im_size/ds_factor).astype(int)\n",
    "    A_down = np.zeros((np.prod(im_size_down), A.shape[-1]))\n",
    "#     print(A_down.shape)\n",
    "    for i in range(A.shape[-1]):\n",
    "        A_down[:,i] = A[:,i].reshape(im_size)[::ds_factor, ::ds_factor].flatten()\n",
    "    return A_down, im_size_down"
   ]
  },
  {
   "cell_type": "code",
   "execution_count": null,
   "metadata": {
    "ExecuteTime": {
     "end_time": "2020-12-16T23:53:32.893622Z",
     "start_time": "2020-12-16T23:53:32.890035Z"
    }
   },
   "outputs": [],
   "source": [
    "def down_samp_pca(A, dim=132):\n",
    "    # sklearn PCA\n",
    "    pca = PCA(n_components=dim, svd_solver=\"auto\")\n",
    "    A_pca = pca.fit_transform(A.T).T\n",
    "    \n",
    "    # Manual PCA\n",
    "#     U, S, Vh = np.linalg.svd(A, full_matrices=True)\n",
    "#     print(U.shape, S.shape, Vh.shape)\n",
    "#     A_pca = U[:,:dim].T@A\n",
    "    return A_pca, pca"
   ]
  },
  {
   "cell_type": "code",
   "execution_count": 117,
   "metadata": {
    "ExecuteTime": {
     "end_time": "2020-12-17T06:55:23.826694Z",
     "start_time": "2020-12-17T06:55:23.815321Z"
    }
   },
   "outputs": [],
   "source": [
    "def down_samp_wave(A):\n",
    "    im_vec = A.reshape((*im_size,-1))\n",
    "    wave_vec = pywt.wavedec2(im_vec, 'haar', axes=(0,1), level=4)\n",
    "#     low_dim_data = wave_vec[0]\n",
    "    low_dim_data = ((wave_vec[0] + sum(wave_vec[1]))/4)\n",
    "#     low_dim_data = wave_vec[0] + sum(wave_vec[1])\n",
    "    shape = low_dim_data.shape[:2]\n",
    "    low_dim_data = low_dim_data.reshape(-1, A.shape[-1])\n",
    "    return (low_dim_data/np.max(low_dim_data, axis=0)*255).astype(np.uint8), shape"
   ]
  },
  {
   "cell_type": "code",
   "execution_count": null,
   "metadata": {
    "ExecuteTime": {
     "end_time": "2020-12-16T23:53:35.820130Z",
     "start_time": "2020-12-16T23:53:35.816124Z"
    }
   },
   "outputs": [],
   "source": [
    "def down_samp_cv(A):\n",
    "    A_down = np.zeros((120, A.shape[-1]))\n",
    "    for i in range(A.shape[-1]):\n",
    "        A_down[:,i] = cv2.resize(A[:,i].reshape(im_size), (12,10)).flatten()\n",
    "    return A_down, (12,10)"
   ]
  },
  {
   "cell_type": "code",
   "execution_count": 106,
   "metadata": {
    "ExecuteTime": {
     "end_time": "2020-12-17T06:51:09.484155Z",
     "start_time": "2020-12-17T06:51:09.475774Z"
    }
   },
   "outputs": [],
   "source": [
    "A_ds, ds_shape = down_samp(A, ds_factor=16)"
   ]
  },
  {
   "cell_type": "code",
   "execution_count": 118,
   "metadata": {
    "ExecuteTime": {
     "end_time": "2020-12-17T06:55:29.981716Z",
     "start_time": "2020-12-17T06:55:28.393576Z"
    }
   },
   "outputs": [],
   "source": [
    "A_wave, wave_shape = down_samp_wave(A)"
   ]
  },
  {
   "cell_type": "code",
   "execution_count": null,
   "metadata": {},
   "outputs": [],
   "source": [
    "A_ds_cv, ds_cv_shape = down_samp_cv(A)"
   ]
  },
  {
   "cell_type": "code",
   "execution_count": 119,
   "metadata": {
    "ExecuteTime": {
     "end_time": "2020-12-17T06:55:31.039864Z",
     "start_time": "2020-12-17T06:55:30.831036Z"
    }
   },
   "outputs": [
    {
     "data": {
      "text/plain": [
       "<matplotlib.image.AxesImage at 0x7fa8e95cadd8>"
      ]
     },
     "execution_count": 119,
     "metadata": {},
     "output_type": "execute_result"
    },
    {
     "data": {
      "image/png": "[encoded data removed]",
      "text/plain": [
       "<Figure size 432x288 with 1 Axes>"
      ]
     },
     "metadata": {
      "needs_background": "light"
     },
     "output_type": "display_data"
    }
   ],
   "source": [
    "plt.imshow(A[...,0].reshape(im_size))"
   ]
  },
  {
   "cell_type": "code",
   "execution_count": null,
   "metadata": {},
   "outputs": [],
   "source": [
    "plt.imshow(A_ds_cv[...,0].reshape(ds_cv_shape))"
   ]
  },
  {
   "cell_type": "code",
   "execution_count": 120,
   "metadata": {
    "ExecuteTime": {
     "end_time": "2020-12-17T06:55:33.323494Z",
     "start_time": "2020-12-17T06:55:33.143289Z"
    }
   },
   "outputs": [
    {
     "data": {
      "text/plain": [
       "<matplotlib.image.AxesImage at 0x7fa8e8e995c0>"
      ]
     },
     "execution_count": 120,
     "metadata": {},
     "output_type": "execute_result"
    },
    {
     "data": {
      "image/png": "[encoded data removed]",
      "text/plain": [
       "<Figure size 432x288 with 1 Axes>"
      ]
     },
     "metadata": {
      "needs_background": "light"
     },
     "output_type": "display_data"
    }
   ],
   "source": [
    "plt.imshow(A_ds[...,0].reshape(ds_shape))"
   ]
  },
  {
   "cell_type": "code",
   "execution_count": 122,
   "metadata": {
    "ExecuteTime": {
     "end_time": "2020-12-17T06:55:51.076063Z",
     "start_time": "2020-12-17T06:55:51.072099Z"
    }
   },
   "outputs": [
    {
     "data": {
      "text/plain": [
       "(132, 1207)"
      ]
     },
     "execution_count": 122,
     "metadata": {},
     "output_type": "execute_result"
    }
   ],
   "source": [
    "A_wave.shape"
   ]
  },
  {
   "cell_type": "code",
   "execution_count": 121,
   "metadata": {
    "ExecuteTime": {
     "end_time": "2020-12-17T06:55:35.700414Z",
     "start_time": "2020-12-17T06:55:35.684447Z"
    }
   },
   "outputs": [
    {
     "ename": "ValueError",
     "evalue": "cannot reshape array of size 132 into shape (132,1207)",
     "output_type": "error",
     "traceback": [
      "\u001b[0;31m---------------------------------------------------------------------------\u001b[0m",
      "\u001b[0;31mValueError\u001b[0m                                Traceback (most recent call last)",
      "\u001b[0;32m<ipython-input-121-9851402d01e9>\u001b[0m in \u001b[0;36m<module>\u001b[0;34m\u001b[0m\n\u001b[0;32m----> 1\u001b[0;31m \u001b[0mplt\u001b[0m\u001b[0;34m.\u001b[0m\u001b[0mimshow\u001b[0m\u001b[0;34m(\u001b[0m\u001b[0mA_wave\u001b[0m\u001b[0;34m[\u001b[0m\u001b[0;34m...\u001b[0m\u001b[0;34m,\u001b[0m\u001b[0;36m0\u001b[0m\u001b[0;34m]\u001b[0m\u001b[0;34m.\u001b[0m\u001b[0mreshape\u001b[0m\u001b[0;34m(\u001b[0m\u001b[0mwave_shape\u001b[0m\u001b[0;34m)\u001b[0m\u001b[0;34m)\u001b[0m\u001b[0;34m\u001b[0m\u001b[0;34m\u001b[0m\u001b[0m\n\u001b[0m",
      "\u001b[0;31mValueError\u001b[0m: cannot reshape array of size 132 into shape (132,1207)"
     ]
    }
   ],
   "source": [
    "plt.imshow(A_wave[...,0].reshape(wave_shape))"
   ]
  },
  {
   "cell_type": "code",
   "execution_count": 116,
   "metadata": {
    "ExecuteTime": {
     "end_time": "2020-12-17T06:53:13.430726Z",
     "start_time": "2020-12-17T06:53:13.425321Z"
    }
   },
   "outputs": [
    {
     "data": {
      "text/plain": [
       "array([433.0625, 608.875 , 708.875 , 808.    , 718.9375, 588.1875,\n",
       "       460.3125, 346.375 , 240.4375, 140.375 ,  28.    , 518.9375,\n",
       "       657.6875, 844.0625, 758.375 , 608.4375, 550.    , 508.75  ,\n",
       "       401.    , 237.0625, 125.1875,  43.1875, 526.8125, 590.125 ,\n",
       "       351.5625, 269.375 , 455.625 , 459.625 , 221.25  , 114.25  ,\n",
       "       236.75  , 124.5625,  53.625 , 526.4375, 236.1875,  66.25  ,\n",
       "       285.4375, 485.5   , 443.75  , 216.3125, 167.375 ,  20.75  ,\n",
       "        58.875 ,  58.8125, 738.0625, 667.3125, 514.25  , 388.5625,\n",
       "       778.75  , 659.9375, 275.    , 466.5625, 362.875 , 154.5   ,\n",
       "       174.6875, 846.875 , 938.625 , 664.0625, 850.1875, 845.5625,\n",
       "       612.375 , 234.5625, 485.625 , 397.5625, 412.6875, 221.375 ,\n",
       "       751.375 , 902.    , 952.    , 582.3125, 695.125 , 603.9375,\n",
       "       113.    , 564.75  , 623.5625, 424.    , 168.4375, 573.5   ,\n",
       "       715.125 , 663.1875, 690.1875, 302.9375, 354.5   ,  66.875 ,\n",
       "       347.5625, 541.    , 283.0625,  93.1875, 432.375 , 586.5   ,\n",
       "       664.125 , 723.    , 615.9375, 412.375 , 222.875 , 343.25  ,\n",
       "       382.125 , 162.5625,  85.    , 308.6875, 570.1875, 583.5   ,\n",
       "       232.6875, 244.4375, 186.    ,  89.125 , 103.625 , 237.375 ,\n",
       "       100.6875,  80.8125,  28.0625, 517.4375, 557.25  , 635.5625,\n",
       "       459.4375, 286.1875, 158.75  , 221.9375, 175.625 ,  94.25  ,\n",
       "        74.4375,  53.375 , 466.8125, 518.9375, 606.    , 668.625 ,\n",
       "       587.75  , 308.5   , 147.875 ,  98.4375, 105.3125,  37.9375])"
      ]
     },
     "execution_count": 116,
     "metadata": {},
     "output_type": "execute_result"
    }
   ],
   "source": [
    "A_wave[...,0]"
   ]
  },
  {
   "cell_type": "code",
   "execution_count": null,
   "metadata": {
    "ExecuteTime": {
     "end_time": "2020-12-16T06:54:27.771007Z",
     "start_time": "2020-12-16T06:54:27.262600Z"
    }
   },
   "outputs": [],
   "source": [
    "A_pca, _ = down_samp_pca(A)"
   ]
  },
  {
   "cell_type": "code",
   "execution_count": null,
   "metadata": {
    "ExecuteTime": {
     "end_time": "2020-12-16T06:54:27.798697Z",
     "start_time": "2020-12-16T06:54:27.794533Z"
    }
   },
   "outputs": [],
   "source": [
    "A_pca.shape"
   ]
  },
  {
   "cell_type": "code",
   "execution_count": null,
   "metadata": {
    "ExecuteTime": {
     "end_time": "2020-12-16T06:54:30.048353Z",
     "start_time": "2020-12-16T06:54:29.932692Z"
    }
   },
   "outputs": [],
   "source": [
    "plt.imshow(A_pca)"
   ]
  },
  {
   "cell_type": "code",
   "execution_count": null,
   "metadata": {
    "ExecuteTime": {
     "end_time": "2020-12-16T21:21:08.572648Z",
     "start_time": "2020-12-16T21:21:08.569013Z"
    }
   },
   "outputs": [],
   "source": [
    "# def delta(x, i):\n",
    "#     assert i < num_class\n",
    "#     out = np.zeros(len(x))\n",
    "#     idxs = slice(i*num_class, i*num_class+num_train)\n",
    "#     out[idxs] = x[idxs]\n",
    "#     return out"
   ]
  },
  {
   "cell_type": "code",
   "execution_count": null,
   "metadata": {
    "ExecuteTime": {
     "end_time": "2020-12-16T23:53:43.108221Z",
     "start_time": "2020-12-16T23:53:43.105078Z"
    }
   },
   "outputs": [],
   "source": [
    "def delta_i(x, i, gt):\n",
    "    return np.where(gt==i, x, 0)"
   ]
  },
  {
   "cell_type": "code",
   "execution_count": null,
   "metadata": {
    "ExecuteTime": {
     "end_time": "2020-12-16T23:53:43.579502Z",
     "start_time": "2020-12-16T23:53:43.573799Z"
    }
   },
   "outputs": [],
   "source": [
    "min(test_gt)"
   ]
  },
  {
   "cell_type": "code",
   "execution_count": null,
   "metadata": {
    "ExecuteTime": {
     "end_time": "2020-12-16T23:53:44.087933Z",
     "start_time": "2020-12-16T23:53:44.081668Z"
    }
   },
   "outputs": [],
   "source": [
    "@ignore_warnings(category=ConvergenceWarning)\n",
    "def identity(A, y, class_idxs):\n",
    "    A_norm = np.linalg.norm(A, axis=0)\n",
    "    y_norm = np.linalg.norm(y)\n",
    "#     print(A, y)\n",
    "    prob = Lasso(fit_intercept=False, alpha=1e-4, max_iter=1e3)\n",
    "#     prob = LassoCV(fit_intercept=False, max_iter=1e4)\n",
    "    prob.fit(A/A_norm, y/y_norm)\n",
    "    x_hat = prob.coef_\n",
    "    r = np.zeros(39)\n",
    "    for i in range(39):\n",
    "        r[i] = np.linalg.norm(y-A@delta_i(x_hat, i, class_idxs))\n",
    "#     print(x_hat)\n",
    "    return np.argmin(r)"
   ]
  },
  {
   "cell_type": "code",
   "execution_count": null,
   "metadata": {
    "ExecuteTime": {
     "end_time": "2020-12-16T23:53:44.998054Z",
     "start_time": "2020-12-16T23:53:44.785855Z"
    }
   },
   "outputs": [],
   "source": [
    "np.linalg.norm(A, axis=0).shape"
   ]
  },
  {
   "cell_type": "code",
   "execution_count": null,
   "metadata": {
    "ExecuteTime": {
     "end_time": "2020-12-16T23:53:46.560101Z",
     "start_time": "2020-12-16T23:53:46.552747Z"
    }
   },
   "outputs": [],
   "source": [
    "@ignore_warnings(category=ConvergenceWarning)\n",
    "def robust_identity(A, y, class_idxs):\n",
    "#     A_norm = np.linalg.norm(A, axis=0)\n",
    "    y_norm = np.linalg.norm(y)\n",
    "    m,n = A.shape\n",
    "    B = np.hstack((A, np.eye(m)))\n",
    "    B_norm = np.linalg.norm(B, axis=0)\n",
    "#     print(B.shape)\n",
    "    prob = Lasso(fit_intercept=False, alpha=1e-4)\n",
    "    prob.fit(B/B_norm, y/y_norm)\n",
    "    w_hat = prob.coef_\n",
    "    x_hat = w_hat[:n]\n",
    "    e_hat = w_hat[n:]\n",
    "    r = np.zeros(39)\n",
    "    for i in range(39):\n",
    "        r[i] = np.linalg.norm(y-e_hat-A@delta_i(x_hat, i, class_idxs))\n",
    "#     print(r-np.min(r))\n",
    "    return np.argmin(r)"
   ]
  },
  {
   "cell_type": "code",
   "execution_count": 93,
   "metadata": {
    "ExecuteTime": {
     "end_time": "2020-12-17T06:45:43.735823Z",
     "start_time": "2020-12-17T06:45:43.725415Z"
    }
   },
   "outputs": [],
   "source": [
    "def evaluate(A, y, train_gt, test_gt, ld_func=down_samp, robust=False):\n",
    "    train_pred = np.ones_like(train_gt)*-1\n",
    "    test_pred = np.ones_like(test_gt)*-1\n",
    "    \n",
    "    if ld_func.__name__ == \"down_samp_pca\":\n",
    "        A_ld, pca = ld_func(A)\n",
    "        y_ld = pca.transform(y.T).T\n",
    "    else:\n",
    "        A_ld, _ = ld_func(A)\n",
    "        y_ld, _ = ld_func(y)\n",
    "    \n",
    "#     print(A_ld.shape, y_ld.shape)\n",
    "    for i in tqdm(range(len(train_pred))):\n",
    "        if robust:\n",
    "            train_pred[i] = robust_identity(A_ld, A_ld[:,i], train_gt)\n",
    "        else:\n",
    "            train_pred[i] = identity(A_ld, A_ld[:,i], train_gt)\n",
    "#         print(train_pred[i], train_gt[i])\n",
    "    \n",
    "    for i in tqdm(range(len(test_pred))):\n",
    "        if robust:\n",
    "            test_pred[i] = robust_identity(A_ld, y_ld[:,i], train_gt)\n",
    "        else:\n",
    "            test_pred[i] = identity(A_ld, y_ld[:,i], train_gt)\n",
    "    \n",
    "#     print(train_pred)\n",
    "    train_acc = accuracy_score(train_gt, train_pred)*100\n",
    "    test_acc = accuracy_score(test_gt, test_pred)*100\n",
    "    \n",
    "    print(\"Accuracy for {}:\\n\\tTrain Accuracy: {:.2f}\\n\\tTest Accuracy: {:.2f}\".format(ld_func.__name__, train_acc, test_acc))"
   ]
  },
  {
   "cell_type": "code",
   "execution_count": 97,
   "metadata": {
    "ExecuteTime": {
     "end_time": "2020-12-17T06:46:51.727304Z",
     "start_time": "2020-12-17T06:46:51.724524Z"
    }
   },
   "outputs": [],
   "source": [
    "down_samp_funcs = [down_samp, down_samp_wave,  down_samp_pca]"
   ]
  },
  {
   "cell_type": "code",
   "execution_count": 98,
   "metadata": {
    "ExecuteTime": {
     "end_time": "2020-12-17T06:50:14.983890Z",
     "start_time": "2020-12-17T06:46:52.290931Z"
    },
    "scrolled": true
   },
   "outputs": [
    {
     "name": "stderr",
     "output_type": "stream",
     "text": [
      "100%|██████████| 1207/1207 [00:21<00:00, 56.39it/s]\n",
      "100%|██████████| 1207/1207 [00:44<00:00, 27.20it/s]\n"
     ]
    },
    {
     "name": "stdout",
     "output_type": "stream",
     "text": [
      "Accuracy for down_samp:\n",
      "\tTrain Accuracy: 100.00\n",
      "\tTest Accuracy: 90.56\n"
     ]
    },
    {
     "name": "stderr",
     "output_type": "stream",
     "text": [
      "100%|██████████| 1207/1207 [00:13<00:00, 92.33it/s] \n",
      "100%|██████████| 1207/1207 [01:41<00:00, 11.85it/s]\n"
     ]
    },
    {
     "name": "stdout",
     "output_type": "stream",
     "text": [
      "Accuracy for down_samp_wave:\n",
      "\tTrain Accuracy: 100.00\n",
      "\tTest Accuracy: 17.98\n"
     ]
    },
    {
     "name": "stderr",
     "output_type": "stream",
     "text": [
      " 97%|█████████▋| 1176/1207 [00:16<00:00, 70.21it/s]\n"
     ]
    },
    {
     "ename": "KeyboardInterrupt",
     "evalue": "",
     "output_type": "error",
     "traceback": [
      "\u001b[0;31m---------------------------------------------------------------------------\u001b[0m",
      "\u001b[0;31mKeyboardInterrupt\u001b[0m                         Traceback (most recent call last)",
      "\u001b[0;32m<ipython-input-98-1f9faa10b991>\u001b[0m in \u001b[0;36m<module>\u001b[0;34m\u001b[0m\n\u001b[1;32m      1\u001b[0m \u001b[0;32mfor\u001b[0m \u001b[0mfunc\u001b[0m \u001b[0;32min\u001b[0m \u001b[0mdown_samp_funcs\u001b[0m\u001b[0;34m:\u001b[0m\u001b[0;34m\u001b[0m\u001b[0;34m\u001b[0m\u001b[0m\n\u001b[0;32m----> 2\u001b[0;31m     \u001b[0mevaluate\u001b[0m\u001b[0;34m(\u001b[0m\u001b[0mA\u001b[0m\u001b[0;34m,\u001b[0m \u001b[0my\u001b[0m\u001b[0;34m,\u001b[0m \u001b[0mtrain_gt\u001b[0m\u001b[0;34m,\u001b[0m \u001b[0mtest_gt\u001b[0m\u001b[0;34m,\u001b[0m \u001b[0mld_func\u001b[0m\u001b[0;34m=\u001b[0m\u001b[0mfunc\u001b[0m\u001b[0;34m)\u001b[0m\u001b[0;34m\u001b[0m\u001b[0;34m\u001b[0m\u001b[0m\n\u001b[0m",
      "\u001b[0;32m<ipython-input-93-5b71177fbb2d>\u001b[0m in \u001b[0;36mevaluate\u001b[0;34m(A, y, train_gt, test_gt, ld_func, robust)\u001b[0m\n\u001b[1;32m     15\u001b[0m             \u001b[0mtrain_pred\u001b[0m\u001b[0;34m[\u001b[0m\u001b[0mi\u001b[0m\u001b[0;34m]\u001b[0m \u001b[0;34m=\u001b[0m \u001b[0mrobust_identity\u001b[0m\u001b[0;34m(\u001b[0m\u001b[0mA_ld\u001b[0m\u001b[0;34m,\u001b[0m \u001b[0mA_ld\u001b[0m\u001b[0;34m[\u001b[0m\u001b[0;34m:\u001b[0m\u001b[0;34m,\u001b[0m\u001b[0mi\u001b[0m\u001b[0;34m]\u001b[0m\u001b[0;34m,\u001b[0m \u001b[0mtrain_gt\u001b[0m\u001b[0;34m)\u001b[0m\u001b[0;34m\u001b[0m\u001b[0;34m\u001b[0m\u001b[0m\n\u001b[1;32m     16\u001b[0m         \u001b[0;32melse\u001b[0m\u001b[0;34m:\u001b[0m\u001b[0;34m\u001b[0m\u001b[0;34m\u001b[0m\u001b[0m\n\u001b[0;32m---> 17\u001b[0;31m             \u001b[0mtrain_pred\u001b[0m\u001b[0;34m[\u001b[0m\u001b[0mi\u001b[0m\u001b[0;34m]\u001b[0m \u001b[0;34m=\u001b[0m \u001b[0midentity\u001b[0m\u001b[0;34m(\u001b[0m\u001b[0mA_ld\u001b[0m\u001b[0;34m,\u001b[0m \u001b[0mA_ld\u001b[0m\u001b[0;34m[\u001b[0m\u001b[0;34m:\u001b[0m\u001b[0;34m,\u001b[0m\u001b[0mi\u001b[0m\u001b[0;34m]\u001b[0m\u001b[0;34m,\u001b[0m \u001b[0mtrain_gt\u001b[0m\u001b[0;34m)\u001b[0m\u001b[0;34m\u001b[0m\u001b[0;34m\u001b[0m\u001b[0m\n\u001b[0m\u001b[1;32m     18\u001b[0m \u001b[0;31m#         print(train_pred[i], train_gt[i])\u001b[0m\u001b[0;34m\u001b[0m\u001b[0;34m\u001b[0m\u001b[0;34m\u001b[0m\u001b[0m\n\u001b[1;32m     19\u001b[0m \u001b[0;34m\u001b[0m\u001b[0m\n",
      "\u001b[0;32m~/anaconda3/lib/python3.6/site-packages/sklearn/utils/_testing.py\u001b[0m in \u001b[0;36mwrapper\u001b[0;34m(*args, **kwargs)\u001b[0m\n\u001b[1;32m    325\u001b[0m             \u001b[0;32mwith\u001b[0m \u001b[0mwarnings\u001b[0m\u001b[0;34m.\u001b[0m\u001b[0mcatch_warnings\u001b[0m\u001b[0;34m(\u001b[0m\u001b[0;34m)\u001b[0m\u001b[0;34m:\u001b[0m\u001b[0;34m\u001b[0m\u001b[0;34m\u001b[0m\u001b[0m\n\u001b[1;32m    326\u001b[0m                 \u001b[0mwarnings\u001b[0m\u001b[0;34m.\u001b[0m\u001b[0msimplefilter\u001b[0m\u001b[0;34m(\u001b[0m\u001b[0;34m\"ignore\"\u001b[0m\u001b[0;34m,\u001b[0m \u001b[0mself\u001b[0m\u001b[0;34m.\u001b[0m\u001b[0mcategory\u001b[0m\u001b[0;34m)\u001b[0m\u001b[0;34m\u001b[0m\u001b[0;34m\u001b[0m\u001b[0m\n\u001b[0;32m--> 327\u001b[0;31m                 \u001b[0;32mreturn\u001b[0m \u001b[0mfn\u001b[0m\u001b[0;34m(\u001b[0m\u001b[0;34m*\u001b[0m\u001b[0margs\u001b[0m\u001b[0;34m,\u001b[0m \u001b[0;34m**\u001b[0m\u001b[0mkwargs\u001b[0m\u001b[0;34m)\u001b[0m\u001b[0;34m\u001b[0m\u001b[0;34m\u001b[0m\u001b[0m\n\u001b[0m\u001b[1;32m    328\u001b[0m \u001b[0;34m\u001b[0m\u001b[0m\n\u001b[1;32m    329\u001b[0m         \u001b[0;32mreturn\u001b[0m \u001b[0mwrapper\u001b[0m\u001b[0;34m\u001b[0m\u001b[0;34m\u001b[0m\u001b[0m\n",
      "\u001b[0;32m<ipython-input-11-aac977efd63d>\u001b[0m in \u001b[0;36midentity\u001b[0;34m(A, y, class_idxs)\u001b[0m\n\u001b[1;32m      6\u001b[0m     \u001b[0mprob\u001b[0m \u001b[0;34m=\u001b[0m \u001b[0mLasso\u001b[0m\u001b[0;34m(\u001b[0m\u001b[0mfit_intercept\u001b[0m\u001b[0;34m=\u001b[0m\u001b[0;32mFalse\u001b[0m\u001b[0;34m,\u001b[0m \u001b[0malpha\u001b[0m\u001b[0;34m=\u001b[0m\u001b[0;36m1e-4\u001b[0m\u001b[0;34m,\u001b[0m \u001b[0mmax_iter\u001b[0m\u001b[0;34m=\u001b[0m\u001b[0;36m1e3\u001b[0m\u001b[0;34m)\u001b[0m\u001b[0;34m\u001b[0m\u001b[0;34m\u001b[0m\u001b[0m\n\u001b[1;32m      7\u001b[0m \u001b[0;31m#     prob = LassoCV(fit_intercept=False, max_iter=1e4)\u001b[0m\u001b[0;34m\u001b[0m\u001b[0;34m\u001b[0m\u001b[0;34m\u001b[0m\u001b[0m\n\u001b[0;32m----> 8\u001b[0;31m     \u001b[0mprob\u001b[0m\u001b[0;34m.\u001b[0m\u001b[0mfit\u001b[0m\u001b[0;34m(\u001b[0m\u001b[0mA\u001b[0m\u001b[0;34m/\u001b[0m\u001b[0mA_norm\u001b[0m\u001b[0;34m,\u001b[0m \u001b[0my\u001b[0m\u001b[0;34m/\u001b[0m\u001b[0my_norm\u001b[0m\u001b[0;34m)\u001b[0m\u001b[0;34m\u001b[0m\u001b[0;34m\u001b[0m\u001b[0m\n\u001b[0m\u001b[1;32m      9\u001b[0m     \u001b[0mx_hat\u001b[0m \u001b[0;34m=\u001b[0m \u001b[0mprob\u001b[0m\u001b[0;34m.\u001b[0m\u001b[0mcoef_\u001b[0m\u001b[0;34m\u001b[0m\u001b[0;34m\u001b[0m\u001b[0m\n\u001b[1;32m     10\u001b[0m     \u001b[0mr\u001b[0m \u001b[0;34m=\u001b[0m \u001b[0mnp\u001b[0m\u001b[0;34m.\u001b[0m\u001b[0mzeros\u001b[0m\u001b[0;34m(\u001b[0m\u001b[0;36m39\u001b[0m\u001b[0;34m)\u001b[0m\u001b[0;34m\u001b[0m\u001b[0;34m\u001b[0m\u001b[0m\n",
      "\u001b[0;32m~/anaconda3/lib/python3.6/site-packages/sklearn/linear_model/_coordinate_descent.py\u001b[0m in \u001b[0;36mfit\u001b[0;34m(self, X, y, check_input)\u001b[0m\n\u001b[1;32m    749\u001b[0m                           \u001b[0mrandom_state\u001b[0m\u001b[0;34m=\u001b[0m\u001b[0mself\u001b[0m\u001b[0;34m.\u001b[0m\u001b[0mrandom_state\u001b[0m\u001b[0;34m,\u001b[0m\u001b[0;34m\u001b[0m\u001b[0;34m\u001b[0m\u001b[0m\n\u001b[1;32m    750\u001b[0m                           \u001b[0mselection\u001b[0m\u001b[0;34m=\u001b[0m\u001b[0mself\u001b[0m\u001b[0;34m.\u001b[0m\u001b[0mselection\u001b[0m\u001b[0;34m,\u001b[0m\u001b[0;34m\u001b[0m\u001b[0;34m\u001b[0m\u001b[0m\n\u001b[0;32m--> 751\u001b[0;31m                           check_input=False)\n\u001b[0m\u001b[1;32m    752\u001b[0m             \u001b[0mcoef_\u001b[0m\u001b[0;34m[\u001b[0m\u001b[0mk\u001b[0m\u001b[0;34m]\u001b[0m \u001b[0;34m=\u001b[0m \u001b[0mthis_coef\u001b[0m\u001b[0;34m[\u001b[0m\u001b[0;34m:\u001b[0m\u001b[0;34m,\u001b[0m \u001b[0;36m0\u001b[0m\u001b[0;34m]\u001b[0m\u001b[0;34m\u001b[0m\u001b[0;34m\u001b[0m\u001b[0m\n\u001b[1;32m    753\u001b[0m             \u001b[0mdual_gaps_\u001b[0m\u001b[0;34m[\u001b[0m\u001b[0mk\u001b[0m\u001b[0;34m]\u001b[0m \u001b[0;34m=\u001b[0m \u001b[0mthis_dual_gap\u001b[0m\u001b[0;34m[\u001b[0m\u001b[0;36m0\u001b[0m\u001b[0;34m]\u001b[0m\u001b[0;34m\u001b[0m\u001b[0;34m\u001b[0m\u001b[0m\n",
      "\u001b[0;32m~/anaconda3/lib/python3.6/site-packages/sklearn/linear_model/_coordinate_descent.py\u001b[0m in \u001b[0;36menet_path\u001b[0;34m(X, y, l1_ratio, eps, n_alphas, alphas, precompute, Xy, copy_X, coef_init, verbose, return_n_iter, positive, check_input, **params)\u001b[0m\n\u001b[1;32m    474\u001b[0m             model = cd_fast.enet_coordinate_descent(\n\u001b[1;32m    475\u001b[0m                 \u001b[0mcoef_\u001b[0m\u001b[0;34m,\u001b[0m \u001b[0ml1_reg\u001b[0m\u001b[0;34m,\u001b[0m \u001b[0ml2_reg\u001b[0m\u001b[0;34m,\u001b[0m \u001b[0mX\u001b[0m\u001b[0;34m,\u001b[0m \u001b[0my\u001b[0m\u001b[0;34m,\u001b[0m \u001b[0mmax_iter\u001b[0m\u001b[0;34m,\u001b[0m \u001b[0mtol\u001b[0m\u001b[0;34m,\u001b[0m \u001b[0mrng\u001b[0m\u001b[0;34m,\u001b[0m \u001b[0mrandom\u001b[0m\u001b[0;34m,\u001b[0m\u001b[0;34m\u001b[0m\u001b[0;34m\u001b[0m\u001b[0m\n\u001b[0;32m--> 476\u001b[0;31m                 positive)\n\u001b[0m\u001b[1;32m    477\u001b[0m         \u001b[0;32melse\u001b[0m\u001b[0;34m:\u001b[0m\u001b[0;34m\u001b[0m\u001b[0;34m\u001b[0m\u001b[0m\n\u001b[1;32m    478\u001b[0m             raise ValueError(\"Precompute should be one of True, False, \"\n",
      "\u001b[0;32msklearn/linear_model/_cd_fast.pyx\u001b[0m in \u001b[0;36msklearn.linear_model._cd_fast.enet_coordinate_descent\u001b[0;34m()\u001b[0m\n",
      "\u001b[0;31mKeyboardInterrupt\u001b[0m: "
     ]
    }
   ],
   "source": [
    "for func in down_samp_funcs:\n",
    "    evaluate(A, y, train_gt, test_gt, ld_func=func)"
   ]
  },
  {
   "cell_type": "code",
   "execution_count": 42,
   "metadata": {
    "ExecuteTime": {
     "end_time": "2020-12-17T05:46:51.124254Z",
     "start_time": "2020-12-17T05:46:51.087424Z"
    }
   },
   "outputs": [],
   "source": [
    "# Corrupt data for robust identity\n",
    "def corrupt(test_mat, percent=0.3):\n",
    "    im_size, num_ims = test_mat.shape\n",
    "    corrupt_mat = test_mat.copy()\n",
    "    corrupt_size = int(im_size*percent)\n",
    "    for i in range(num_ims):\n",
    "        corrupt_idxs = np.random.choice(im_size, size=corrupt_size, replace=False)\n",
    "        corrupt_data = np.random.randint(256, size=corrupt_size)\n",
    "        corrupt_mat[:,i][corrupt_idxs] = corrupt_data\n",
    "#     print(im_size, num_ims, corrupt_size)\n",
    "    return corrupt_mat"
   ]
  },
  {
   "cell_type": "code",
   "execution_count": 90,
   "metadata": {
    "ExecuteTime": {
     "end_time": "2020-12-17T06:35:17.475901Z",
     "start_time": "2020-12-17T06:35:15.939633Z"
    }
   },
   "outputs": [],
   "source": [
    "y_ds, y_ds_sh = down_samp(y, 4)\n",
    "y_wave, y_wave_sh = down_samp_wave(y)"
   ]
  },
  {
   "cell_type": "code",
   "execution_count": 92,
   "metadata": {
    "ExecuteTime": {
     "end_time": "2020-12-17T06:35:34.323491Z",
     "start_time": "2020-12-17T06:35:33.643873Z"
    }
   },
   "outputs": [
    {
     "data": {
      "image/png": "[encoded data removed]",
      "text/plain": [
       "<Figure size 720x720 with 4 Axes>"
      ]
     },
     "metadata": {
      "needs_background": "light"
     },
     "output_type": "display_data"
    }
   ],
   "source": [
    "perc = 0.3\n",
    "k = 1\n",
    "\n",
    "plt.figure(figsize=(10,10))\n",
    "plt.subplot(221)\n",
    "plt.imshow(y_ds[:,k].reshape(y_ds_sh))\n",
    "plt.subplot(222)\n",
    "plt.imshow(corrupt(y_ds, perc)[:,k].reshape(y_ds_sh))\n",
    "plt.subplot(223)\n",
    "plt.imshow(y_wave[:,k].reshape(y_wave_sh))\n",
    "plt.subplot(224)\n",
    "plt.imshow(corrupt(y_wave, perc)[:,k].reshape(y_wave_sh))\n",
    "plt.show()"
   ]
  },
  {
   "cell_type": "code",
   "execution_count": null,
   "metadata": {
    "ExecuteTime": {
     "end_time": "2020-12-17T00:10:27.629954Z",
     "start_time": "2020-12-17T00:10:27.625683Z"
    }
   },
   "outputs": [],
   "source": []
  },
  {
   "cell_type": "code",
   "execution_count": 50,
   "metadata": {
    "ExecuteTime": {
     "end_time": "2020-12-17T05:52:16.493961Z",
     "start_time": "2020-12-17T05:52:16.487409Z"
    }
   },
   "outputs": [],
   "source": [
    "def evaluate_robust(A, y, train_gt, test_gt, ld_func=down_samp):\n",
    "    \n",
    "    test_pred = np.ones_like(test_gt)*-1\n",
    "    \n",
    "    if ld_func.__name__ == \"down_samp_pca\":\n",
    "        A_ld, pca = ld_func(A)\n",
    "        y_ld = pca.transform(y.T).T\n",
    "    else:\n",
    "        A_ld, _ = ld_func(A)\n",
    "        y_ld, _ = ld_func(y)\n",
    "    \n",
    "#     corrupt_percs = np.arange(0,1,0.1)\n",
    "    corrupt_percs = [0, 0.4, 0.6]\n",
    "    test_acc = []\n",
    "    for perc in corrupt_percs:\n",
    "        corrupt_y = corrupt(y_ld, perc)\n",
    "        for i in tqdm(range(len(test_pred))):\n",
    "            test_pred[i] = robust_identity(A_ld, corrupt_y[:,i], train_gt)\n",
    "\n",
    "    #     print(train_pred)\n",
    "        test_acc.append(accuracy_score(test_gt, test_pred)*100)\n",
    "    \n",
    "    print(\"Robust Identity Accuracy for {}:\\n\\tTest Accuracy: {}\".format(ld_func.__name__, test_acc))\n",
    "    return test_acc"
   ]
  },
  {
   "cell_type": "code",
   "execution_count": 51,
   "metadata": {
    "ExecuteTime": {
     "end_time": "2020-12-17T06:01:44.029473Z",
     "start_time": "2020-12-17T05:52:17.014328Z"
    }
   },
   "outputs": [
    {
     "name": "stderr",
     "output_type": "stream",
     "text": [
      "100%|██████████| 1207/1207 [00:54<00:00, 22.33it/s]\n",
      "100%|██████████| 1207/1207 [01:02<00:00, 19.35it/s]\n",
      "100%|██████████| 1207/1207 [01:18<00:00, 15.47it/s]\n"
     ]
    },
    {
     "name": "stdout",
     "output_type": "stream",
     "text": [
      "Robust Identity Accuracy for down_samp:\n",
      "\tTest Accuracy: [87.90389395194697, 74.97928748964374, 35.87406793703397]\n"
     ]
    },
    {
     "name": "stderr",
     "output_type": "stream",
     "text": [
      "100%|██████████| 1207/1207 [00:58<00:00, 20.47it/s]\n",
      "100%|██████████| 1207/1207 [01:14<00:00, 16.17it/s]\n",
      "100%|██████████| 1207/1207 [00:52<00:00, 22.87it/s]\n"
     ]
    },
    {
     "name": "stdout",
     "output_type": "stream",
     "text": [
      "Robust Identity Accuracy for down_samp_wave:\n",
      "\tTest Accuracy: [87.07539353769677, 37.86246893123447, 8.20215410107705]\n"
     ]
    },
    {
     "name": "stderr",
     "output_type": "stream",
     "text": [
      "100%|██████████| 1207/1207 [00:43<00:00, 27.64it/s]\n",
      "100%|██████████| 1207/1207 [01:06<00:00, 18.16it/s]\n",
      "100%|██████████| 1207/1207 [01:08<00:00, 17.58it/s]"
     ]
    },
    {
     "name": "stdout",
     "output_type": "stream",
     "text": [
      "Robust Identity Accuracy for down_samp_pca:\n",
      "\tTest Accuracy: [89.6437448218724, 67.35708367854184, 43.66197183098591]\n"
     ]
    },
    {
     "name": "stderr",
     "output_type": "stream",
     "text": [
      "\n"
     ]
    }
   ],
   "source": [
    "#TODO: Change train and test data for robust\n",
    "#TODO: Change ds factor for robust\n",
    "\n",
    "test_accs = []\n",
    "for func in down_samp_funcs:\n",
    "    test_accs.append(evaluate_robust(A, y, train_gt, test_gt, ld_func=func))"
   ]
  },
  {
   "cell_type": "code",
   "execution_count": null,
   "metadata": {},
   "outputs": [],
   "source": []
  }
 ],
 "metadata": {
  "kernelspec": {
   "display_name": "Python 3",
   "language": "python",
   "name": "python3"
  },
  "language_info": {
   "codemirror_mode": {
    "name": "ipython",
    "version": 3
   },
   "file_extension": ".py",
   "mimetype": "text/x-python",
   "name": "python",
   "nbconvert_exporter": "python",
   "pygments_lexer": "ipython3",
   "version": "3.6.8"
  }
 },
 "nbformat": 4,
 "nbformat_minor": 4
}
