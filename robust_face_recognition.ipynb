{
 "cells": [
  {
   "cell_type": "code",
   "execution_count": null,
   "metadata": {
    "ExecuteTime": {
     "end_time": "2020-12-16T01:31:18.060778Z",
     "start_time": "2020-12-16T01:31:16.593058Z"
    }
   },
   "outputs": [],
   "source": [
    "import numpy as np\n",
    "import matplotlib.pyplot as plt\n",
    "from sklearn.linear_model import Lasso\n",
    "from sklearn.pipeline import Pipeline\n",
    "from sklearn.preprocessing import Normalizer\n",
    "from glob import glob as glob\n",
    "import os"
   ]
  },
  {
   "cell_type": "code",
   "execution_count": null,
   "metadata": {
    "ExecuteTime": {
     "end_time": "2020-12-16T02:02:08.329921Z",
     "start_time": "2020-12-16T02:02:08.325788Z"
    }
   },
   "outputs": [],
   "source": [
    "L = 5\n",
    "num_samp = 10\n",
    "im_size = np.array((192, 168))"
   ]
  },
  {
   "cell_type": "code",
   "execution_count": null,
   "metadata": {
    "ExecuteTime": {
     "end_time": "2020-12-16T02:02:09.138277Z",
     "start_time": "2020-12-16T02:02:09.130603Z"
    }
   },
   "outputs": [],
   "source": [
    "im_dirs = np.array(sorted(glob(\"CroppedYale/*\")))\n",
    "total_num_images = len(im_dirs)\n",
    "im_idxs = np.random.choice(total_num_images, size=L, replace=False)"
   ]
  },
  {
   "cell_type": "code",
   "execution_count": null,
   "metadata": {
    "ExecuteTime": {
     "end_time": "2020-12-16T02:02:09.727053Z",
     "start_time": "2020-12-16T02:02:09.716003Z"
    }
   },
   "outputs": [],
   "source": [
    "def filter_files(d, num_samp, train=True):\n",
    "    fnames = [os.path.basename(i)[:-4] for i in glob(d+\"/*_P00A*.pgm\")]\n",
    "    acc_files = []\n",
    "    for f in fnames:\n",
    "        az = int(f[12:16])\n",
    "        elev = int(f[17:20])\n",
    "        cond = abs(az) <= 45 and abs(elev) <= 45\n",
    "        if cond:\n",
    "            acc_files.append(f)\n",
    "    return np.random.choice(np.array(sorted(acc_files)), num_samp, replace=False)"
   ]
  },
  {
   "cell_type": "code",
   "execution_count": null,
   "metadata": {
    "ExecuteTime": {
     "end_time": "2020-12-16T02:02:10.448613Z",
     "start_time": "2020-12-16T02:02:10.445835Z"
    }
   },
   "outputs": [],
   "source": [
    "def fread(f):\n",
    "    return plt.imread(f).flatten().T"
   ]
  },
  {
   "cell_type": "code",
   "execution_count": null,
   "metadata": {
    "ExecuteTime": {
     "end_time": "2020-12-16T02:04:33.980977Z",
     "start_time": "2020-12-16T02:04:33.904134Z"
    }
   },
   "outputs": [],
   "source": [
    "A = np.zeros((np.prod(im_size), L*num_samp))\n",
    "train_fnames = []\n",
    "# print(A.shape)\n",
    "for i, d in enumerate(im_dirs[im_idxs]):\n",
    "    for j, f in enumerate(filter_files(d, num_samp)):\n",
    "        train_fnames.append(f)\n",
    "        A[:,i*num_samp+j] = fread(d+\"/\"+f+\".pgm\")"
   ]
  },
  {
   "cell_type": "code",
   "execution_count": null,
   "metadata": {
    "ExecuteTime": {
     "end_time": "2020-12-16T02:04:34.506869Z",
     "start_time": "2020-12-16T02:04:34.502226Z"
    }
   },
   "outputs": [],
   "source": [
    "train_fnames"
   ]
  },
  {
   "cell_type": "code",
   "execution_count": null,
   "metadata": {
    "ExecuteTime": {
     "end_time": "2020-12-16T02:02:12.982690Z",
     "start_time": "2020-12-16T02:02:12.977373Z"
    }
   },
   "outputs": [],
   "source": [
    "def down_samp(A, ds_factor=8):\n",
    "    im_size_down = np.ceil(im_size/ds_factor).astype(int)\n",
    "    A_down = np.zeros((np.prod(im_size_down), A.shape[-1]))\n",
    "    print(A_down.shape)\n",
    "    for i in range(A.shape[-1]):\n",
    "        A_down[:,i] = A[:,i].reshape(im_size)[::ds_factor, ::ds_factor].flatten()\n",
    "    return A_down, im_size_down"
   ]
  },
  {
   "cell_type": "code",
   "execution_count": null,
   "metadata": {
    "ExecuteTime": {
     "end_time": "2020-12-16T02:02:14.228143Z",
     "start_time": "2020-12-16T02:02:14.224339Z"
    }
   },
   "outputs": [],
   "source": [
    "def down_samp_pca(A, dim=120):\n",
    "#     im_size_down = np.ceil(im_size/ds_factor).astype(int)\n",
    "#     A_down = np.zeros(dim, A.shape[-1])\n",
    "#     print(A_down.shape)\n",
    "    U, S, Vh = np.linalg.svd(A, full_matrices=False)\n",
    "    print(U.shape, S.shape, Vh.shape)\n",
    "#     U[:,:dim].T@A\n",
    "#     for i in range(A.shape[-1]):\n",
    "#         A_down[:,i] = A[:,i].reshape(im_size)[::ds_factor, ::ds_factor].flatten()\n",
    "    return None"
   ]
  },
  {
   "cell_type": "code",
   "execution_count": null,
   "metadata": {
    "ExecuteTime": {
     "end_time": "2020-12-16T02:02:21.619580Z",
     "start_time": "2020-12-16T02:02:21.615560Z"
    }
   },
   "outputs": [],
   "source": [
    "A.shape"
   ]
  },
  {
   "cell_type": "code",
   "execution_count": null,
   "metadata": {
    "ExecuteTime": {
     "end_time": "2020-12-16T01:43:06.787783Z",
     "start_time": "2020-12-16T01:43:06.759205Z"
    }
   },
   "outputs": [],
   "source": [
    "down_samp_pca(A)"
   ]
  },
  {
   "cell_type": "code",
   "execution_count": null,
   "metadata": {
    "ExecuteTime": {
     "end_time": "2020-12-16T02:04:50.029946Z",
     "start_time": "2020-12-16T02:04:49.954008Z"
    }
   },
   "outputs": [],
   "source": [
    "from sklearn.decomposition import PCA\n",
    "pca = PCA(n_components=10, svd_solver=\"auto\")\n",
    "A_down = pca.fit_transform(A.T).T"
   ]
  },
  {
   "cell_type": "code",
   "execution_count": null,
   "metadata": {
    "ExecuteTime": {
     "end_time": "2020-12-13T02:01:54.417684Z",
     "start_time": "2020-12-13T02:01:54.413603Z"
    }
   },
   "outputs": [],
   "source": [
    "np.ceil(im_size/8).astype(int)"
   ]
  },
  {
   "cell_type": "code",
   "execution_count": null,
   "metadata": {
    "ExecuteTime": {
     "end_time": "2020-12-13T02:01:55.131943Z",
     "start_time": "2020-12-13T02:01:55.117617Z"
    }
   },
   "outputs": [],
   "source": [
    "A_down, im_size_down = down_samp(A, 16)"
   ]
  },
  {
   "cell_type": "code",
   "execution_count": null,
   "metadata": {
    "ExecuteTime": {
     "end_time": "2020-12-13T02:01:56.025372Z",
     "start_time": "2020-12-13T02:01:55.881579Z"
    }
   },
   "outputs": [],
   "source": [
    "plt.imshow(A_down[:,0].reshape(im_size_down))"
   ]
  },
  {
   "cell_type": "code",
   "execution_count": null,
   "metadata": {
    "ExecuteTime": {
     "end_time": "2020-12-16T01:52:23.621887Z",
     "start_time": "2020-12-16T01:52:23.617774Z"
    }
   },
   "outputs": [],
   "source": [
    "def delta(x, i):\n",
    "    assert i < L\n",
    "    out = np.zeros(len(x))\n",
    "    idxs = slice(i*L, i*L+num_samp)\n",
    "    out[idxs] = x[idxs]\n",
    "    return out"
   ]
  },
  {
   "cell_type": "code",
   "execution_count": null,
   "metadata": {
    "ExecuteTime": {
     "end_time": "2020-12-13T01:49:55.607751Z",
     "start_time": "2020-12-13T01:49:55.602813Z"
    }
   },
   "outputs": [],
   "source": [
    "delta(np.ones(25), 4)"
   ]
  },
  {
   "cell_type": "code",
   "execution_count": null,
   "metadata": {
    "ExecuteTime": {
     "end_time": "2020-12-16T02:05:14.977054Z",
     "start_time": "2020-12-16T02:05:14.974470Z"
    }
   },
   "outputs": [],
   "source": [
    "y = A_down[:,31]"
   ]
  },
  {
   "cell_type": "code",
   "execution_count": null,
   "metadata": {
    "ExecuteTime": {
     "end_time": "2020-12-16T02:04:56.094196Z",
     "start_time": "2020-12-16T02:04:56.089977Z"
    }
   },
   "outputs": [],
   "source": [
    "y.shape"
   ]
  },
  {
   "cell_type": "code",
   "execution_count": null,
   "metadata": {},
   "outputs": [],
   "source": []
  },
  {
   "cell_type": "code",
   "execution_count": null,
   "metadata": {
    "ExecuteTime": {
     "end_time": "2020-12-16T02:02:37.083699Z",
     "start_time": "2020-12-16T02:02:37.074944Z"
    }
   },
   "outputs": [],
   "source": [
    "def identity(A, y):\n",
    "    A = A/np.linalg.norm(A, axis=0)\n",
    "    prob = Lasso(fit_intercept=False)\n",
    "    prob.fit(A, y)\n",
    "    x_hat = prob.coef_\n",
    "    r = np.zeros(L)\n",
    "    for i in range(L):\n",
    "        r[i] = np.linalg.norm(y-A@delta(x_hat, i))\n",
    "#     print(r)\n",
    "    return np.argmin(r)"
   ]
  },
  {
   "cell_type": "code",
   "execution_count": null,
   "metadata": {
    "ExecuteTime": {
     "end_time": "2020-12-16T02:05:16.473456Z",
     "start_time": "2020-12-16T02:05:16.465928Z"
    }
   },
   "outputs": [],
   "source": [
    "identity(A_down,y)"
   ]
  },
  {
   "cell_type": "code",
   "execution_count": null,
   "metadata": {
    "ExecuteTime": {
     "end_time": "2020-12-16T02:01:28.140994Z",
     "start_time": "2020-12-16T02:01:28.126701Z"
    }
   },
   "outputs": [],
   "source": [
    "test_fnames = []\n",
    "for fname in im_dirs[im_idxs]:\n",
    "    a = filter_files(fname, 1)\n",
    "    while a in train_fnames:\n",
    "        a = filter_files(fname, 1)\n",
    "    test_fnames.append(fname+\"/\"+a[0]+\".pgm\")"
   ]
  },
  {
   "cell_type": "code",
   "execution_count": null,
   "metadata": {
    "ExecuteTime": {
     "end_time": "2020-12-16T02:01:29.024151Z",
     "start_time": "2020-12-16T02:01:29.019686Z"
    }
   },
   "outputs": [],
   "source": [
    "test_fnames"
   ]
  },
  {
   "cell_type": "code",
   "execution_count": null,
   "metadata": {
    "ExecuteTime": {
     "end_time": "2020-12-16T02:01:35.354331Z",
     "start_time": "2020-12-16T02:01:35.304121Z"
    }
   },
   "outputs": [],
   "source": [
    "identity(A_down, down_samp(fread(test_fnames[4])[:,None],16)[0])"
   ]
  },
  {
   "cell_type": "code",
   "execution_count": null,
   "metadata": {
    "ExecuteTime": {
     "end_time": "2020-12-16T01:56:43.780932Z",
     "start_time": "2020-12-16T01:56:43.762662Z"
    }
   },
   "outputs": [],
   "source": [
    "fread(test_fnames[4]).shape"
   ]
  },
  {
   "cell_type": "code",
   "execution_count": null,
   "metadata": {
    "ExecuteTime": {
     "end_time": "2020-12-16T01:59:06.936698Z",
     "start_time": "2020-12-16T01:59:06.931565Z"
    }
   },
   "outputs": [],
   "source": [
    "A_down.shape"
   ]
  },
  {
   "cell_type": "code",
   "execution_count": null,
   "metadata": {
    "ExecuteTime": {
     "end_time": "2020-12-16T01:59:22.210695Z",
     "start_time": "2020-12-16T01:59:22.197166Z"
    }
   },
   "outputs": [],
   "source": []
  },
  {
   "cell_type": "code",
   "execution_count": null,
   "metadata": {
    "ExecuteTime": {
     "end_time": "2020-12-16T02:01:51.765385Z",
     "start_time": "2020-12-16T02:01:51.754811Z"
    }
   },
   "outputs": [],
   "source": [
    "identity(A_down, pca.transform(fread(test_fnames[4])[:,None].T).T)"
   ]
  },
  {
   "cell_type": "code",
   "execution_count": null,
   "metadata": {
    "ExecuteTime": {
     "end_time": "2020-12-13T02:02:52.366520Z",
     "start_time": "2020-12-13T02:02:52.351385Z"
    }
   },
   "outputs": [],
   "source": [
    "# fread(test_fnames[0]).shape"
   ]
  },
  {
   "cell_type": "code",
   "execution_count": null,
   "metadata": {
    "ExecuteTime": {
     "end_time": "2020-12-13T02:28:03.727825Z",
     "start_time": "2020-12-13T02:28:03.721952Z"
    }
   },
   "outputs": [],
   "source": [
    "def robust_identity(A, y):\n",
    "    A = A/np.linalg.norm(A, axis=0)\n",
    "    m,n = A.shape\n",
    "    B = np.hstack((A, np.eye(m)))\n",
    "    print(B.shape)\n",
    "    prob = Lasso(fit_intercept=False)\n",
    "    prob.fit(B, y)\n",
    "    w_hat = prob.coef_\n",
    "    x_hat = w_hat[:n]\n",
    "    e_hat = w_hat[n:]\n",
    "    r = np.zeros(L)\n",
    "    for i in range(L):\n",
    "        r[i] = np.linalg.norm(y-e_hat-A@delta(x_hat, i))\n",
    "    print(r-np.min(r))\n",
    "    return np.argmin(r)"
   ]
  },
  {
   "cell_type": "code",
   "execution_count": null,
   "metadata": {
    "ExecuteTime": {
     "end_time": "2020-12-13T02:28:04.164802Z",
     "start_time": "2020-12-13T02:28:04.149852Z"
    }
   },
   "outputs": [],
   "source": [
    "y_test_noise = fread(test_fnames[2])[:,None]+np.random.normal(scale=500, size=(32256,1))"
   ]
  },
  {
   "cell_type": "code",
   "execution_count": null,
   "metadata": {
    "ExecuteTime": {
     "end_time": "2020-12-13T02:28:04.719212Z",
     "start_time": "2020-12-13T02:28:04.541611Z"
    }
   },
   "outputs": [],
   "source": [
    "plt.imshow(y_test_noise.reshape(im_size))"
   ]
  },
  {
   "cell_type": "code",
   "execution_count": null,
   "metadata": {
    "ExecuteTime": {
     "end_time": "2020-12-13T02:28:05.377004Z",
     "start_time": "2020-12-13T02:28:05.362017Z"
    }
   },
   "outputs": [],
   "source": [
    "robust_identity(A_down, down_samp(y_test_noise,16)[0])"
   ]
  },
  {
   "cell_type": "code",
   "execution_count": null,
   "metadata": {},
   "outputs": [],
   "source": []
  }
 ],
 "metadata": {
  "kernelspec": {
   "display_name": "Python 3",
   "language": "python",
   "name": "python3"
  },
  "language_info": {
   "codemirror_mode": {
    "name": "ipython",
    "version": 3
   },
   "file_extension": ".py",
   "mimetype": "text/x-python",
   "name": "python",
   "nbconvert_exporter": "python",
   "pygments_lexer": "ipython3",
   "version": "3.6.8"
  }
 },
 "nbformat": 4,
 "nbformat_minor": 4
}
