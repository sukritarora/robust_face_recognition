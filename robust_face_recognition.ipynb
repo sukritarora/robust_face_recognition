{
 "cells": [
  {
   "cell_type": "code",
   "execution_count": null,
   "metadata": {
    "ExecuteTime": {
     "end_time": "2020-12-17T07:06:41.023184Z",
     "start_time": "2020-12-17T07:06:41.013361Z"
    }
   },
   "outputs": [],
   "source": [
    "import numpy as np\n",
    "import matplotlib.pyplot as plt\n",
    "from sklearn.linear_model import Lasso, LassoCV, LinearRegression\n",
    "from sklearn.pipeline import Pipeline\n",
    "from sklearn.preprocessing import Normalizer\n",
    "from sklearn.decomposition import PCA\n",
    "from sklearn.metrics import accuracy_score\n",
    "from glob import glob as glob\n",
    "import os\n",
    "import pywt\n",
    "import cv2\n",
    "from sklearn.utils.testing import ignore_warnings\n",
    "from sklearn.exceptions import ConvergenceWarning\n",
    "from tqdm import tqdm"
   ]
  },
  {
   "cell_type": "code",
   "execution_count": null,
   "metadata": {
    "ExecuteTime": {
     "end_time": "2020-12-16T23:53:18.130093Z",
     "start_time": "2020-12-16T23:53:18.127449Z"
    }
   },
   "outputs": [],
   "source": [
    "# num_class = 15\n",
    "# num_train = 20\n",
    "# num_test = 5\n",
    "im_size = np.array((192, 168))"
   ]
  },
  {
   "cell_type": "code",
   "execution_count": null,
   "metadata": {
    "ExecuteTime": {
     "end_time": "2020-12-17T07:08:06.976969Z",
     "start_time": "2020-12-17T07:08:06.956688Z"
    }
   },
   "outputs": [],
   "source": [
    "def filter_files(fnames, cond, size=5):\n",
    "    fnames_base = [os.path.basename(i)[:-4] for i in fnames]\n",
    "    acc_files = []\n",
    "    for i, f in enumerate(fnames_base):\n",
    "        az = int(f[12:16])\n",
    "        elev = int(f[17:20])\n",
    "        if cond(az, elev):\n",
    "#             print(az, elev)\n",
    "            acc_files.append(fnames[i])\n",
    "#     samps = np.random.choice(acc_files, size, replace=False)\n",
    "    return acc_files\n",
    "\n",
    "def fread(f):\n",
    "    return plt.imread(f).flatten().T\n",
    "\n",
    "def random_sample_cond(train_cond, test_cond):\n",
    "    \n",
    "    all_fnames = glob(\"*/*/*_P00A*.pgm\")\n",
    "    \n",
    "    train_fnames = filter_files(all_fnames, train_cond) \n",
    "    test_fnames = filter_files(all_fnames, test_cond)\n",
    "    \n",
    "    num_train = len(train_fnames)\n",
    "    num_test = len(test_fnames)\n",
    "    \n",
    "    A = np.zeros((np.prod(im_size), num_train))\n",
    "    y = np.zeros((np.prod(im_size), num_test))\n",
    "    \n",
    "    train_gt = np.zeros(num_train).astype(int)\n",
    "    test_gt = np.zeros(num_test).astype(int)\n",
    "    \n",
    "    for i, f in enumerate(train_fnames):\n",
    "        A[:,i] = fread(f)\n",
    "        train_gt[i] = int(os.path.basename(f)[5:7])-1\n",
    "        \n",
    "    for i, f in enumerate(test_fnames):\n",
    "        y[:,i] = fread(f)\n",
    "        test_gt[i] = int(os.path.basename(f)[5:7])-1\n",
    "            \n",
    "    return A, y, train_gt, test_gt, (train_fnames, test_fnames)\n",
    "\n",
    "def random_sample():\n",
    "    all_fnames = glob(\"*/*/*_P00A*.pgm\")\n",
    "    half = len(all_fnames)//2\n",
    "    np.random.shuffle(all_fnames)\n",
    "    \n",
    "    train_fnames = all_fnames[:half]\n",
    "    test_fnames = all_fnames[half:]\n",
    "    \n",
    "    A = np.zeros((np.prod(im_size), len(train_fnames)))\n",
    "    y = np.zeros((np.prod(im_size), len(test_fnames)))\n",
    "    \n",
    "    train_gt = np.zeros(len(train_fnames)).astype(int)\n",
    "    test_gt = np.zeros(len(test_fnames)).astype(int)\n",
    "    \n",
    "    for i, f in enumerate(train_fnames):\n",
    "        A[:,i] = fread(f)\n",
    "        train_gt[i] = int(os.path.basename(f)[5:7])-1\n",
    "        \n",
    "    for i, f in enumerate(test_fnames):\n",
    "        y[:,i] = fread(f)\n",
    "        test_gt[i] = int(os.path.basename(f)[5:7])-1\n",
    "        \n",
    "    return A, y, train_gt, test_gt, (train_fnames, test_fnames)"
   ]
  },
  {
   "cell_type": "code",
   "execution_count": null,
   "metadata": {
    "ExecuteTime": {
     "end_time": "2020-12-17T07:08:23.011410Z",
     "start_time": "2020-12-17T07:08:17.963495Z"
    }
   },
   "outputs": [],
   "source": [
    "A, y, train_gt, test_gt, names = random_sample()\n",
    "print(A.shape, y.shape)\n",
    "print(train_gt)\n",
    "print(test_gt)"
   ]
  },
  {
   "cell_type": "code",
   "execution_count": null,
   "metadata": {},
   "outputs": [],
   "source": [
    "names[1]"
   ]
  },
  {
   "cell_type": "code",
   "execution_count": null,
   "metadata": {
    "ExecuteTime": {
     "end_time": "2020-12-16T06:54:14.877237Z",
     "start_time": "2020-12-16T06:54:14.110985Z"
    }
   },
   "outputs": [],
   "source": [
    "# A, y, train_gt, test_gt, names = train_test_split(num_classes = num_class, num_train = num_train, num_test = num_test)\n",
    "# print(A.shape, y.shape)\n",
    "# print(train_gt)\n",
    "# print(test_gt)"
   ]
  },
  {
   "cell_type": "code",
   "execution_count": null,
   "metadata": {
    "ExecuteTime": {
     "end_time": "2020-12-17T07:13:51.293095Z",
     "start_time": "2020-12-17T07:13:51.281605Z"
    }
   },
   "outputs": [],
   "source": [
    "def down_samp(A, ds_factor=2):\n",
    "    im_size_down = np.ceil(im_size/ds_factor).astype(int)\n",
    "    A_down = np.zeros((np.prod(im_size_down), A.shape[-1]))\n",
    "#     print(A_down.shape)\n",
    "    for i in range(A.shape[-1]):\n",
    "        A_down[:,i] = A[:,i].reshape(im_size)[::ds_factor, ::ds_factor].flatten()\n",
    "    return A_down, im_size_down"
   ]
  },
  {
   "cell_type": "code",
   "execution_count": null,
   "metadata": {
    "ExecuteTime": {
     "end_time": "2020-12-16T23:53:32.893622Z",
     "start_time": "2020-12-16T23:53:32.890035Z"
    }
   },
   "outputs": [],
   "source": [
    "def down_samp_pca(A, dim=132):\n",
    "    # sklearn PCA\n",
    "    pca = PCA(n_components=dim, svd_solver=\"auto\")\n",
    "    A_pca = pca.fit_transform(A.T).T\n",
    "    \n",
    "    # Manual PCA\n",
    "#     U, S, Vh = np.linalg.svd(A, full_matrices=True)\n",
    "#     print(U.shape, S.shape, Vh.shape)\n",
    "#     A_pca = U[:,:dim].T@A\n",
    "    return A_pca, pca"
   ]
  },
  {
   "cell_type": "code",
   "execution_count": null,
   "metadata": {
    "ExecuteTime": {
     "end_time": "2020-12-17T07:28:08.702945Z",
     "start_time": "2020-12-17T07:28:08.196802Z"
    }
   },
   "outputs": [],
   "source": [
    "pywt.wavedec2(A.reshape((*im_size,-1)), 'haar', axes=(0,1), level=1)[1][1].shape"
   ]
  },
  {
   "cell_type": "code",
   "execution_count": null,
   "metadata": {
    "ExecuteTime": {
     "end_time": "2020-12-17T07:28:14.807759Z",
     "start_time": "2020-12-17T07:28:14.802626Z"
    }
   },
   "outputs": [],
   "source": [
    "def down_samp_wave(A, level=1):\n",
    "    im_vec = A.reshape((*im_size,-1))\n",
    "    wave_vec = pywt.wavedec2(im_vec, 'haar', axes=(0,1), level=level)\n",
    "#     low_dim_data = wave_vec[0]\n",
    "    low_dim_data = ((wave_vec[0] + sum(wave_vec[1]))/4)\n",
    "#     low_dim_data = wave_vec[0] + sum(wave_vec[1])\n",
    "    shape = low_dim_data.shape[:2]\n",
    "    low_dim_data = low_dim_data.reshape(-1, A.shape[-1])\n",
    "    quantized_data = (low_dim_data/np.max(low_dim_data, axis=0)*255).astype(np.uint8)\n",
    "    return quantized_data, shape"
   ]
  },
  {
   "cell_type": "code",
   "execution_count": null,
   "metadata": {
    "ExecuteTime": {
     "end_time": "2020-12-16T23:53:35.820130Z",
     "start_time": "2020-12-16T23:53:35.816124Z"
    }
   },
   "outputs": [],
   "source": [
    "def down_samp_cv(A):\n",
    "    A_down = np.zeros((120, A.shape[-1]))\n",
    "    for i in range(A.shape[-1]):\n",
    "        A_down[:,i] = cv2.resize(A[:,i].reshape(im_size), (12,10)).flatten()\n",
    "    return A_down, (12,10)"
   ]
  },
  {
   "cell_type": "code",
   "execution_count": null,
   "metadata": {
    "ExecuteTime": {
     "end_time": "2020-12-17T06:51:09.484155Z",
     "start_time": "2020-12-17T06:51:09.475774Z"
    }
   },
   "outputs": [],
   "source": [
    "A_ds, ds_shape = down_samp(A, ds_factor=16)"
   ]
  },
  {
   "cell_type": "code",
   "execution_count": null,
   "metadata": {
    "ExecuteTime": {
     "end_time": "2020-12-17T06:56:59.176693Z",
     "start_time": "2020-12-17T06:56:57.454862Z"
    }
   },
   "outputs": [],
   "source": [
    "A_wave, wave_shape = down_samp_wave(A)"
   ]
  },
  {
   "cell_type": "code",
   "execution_count": null,
   "metadata": {},
   "outputs": [],
   "source": [
    "A_ds_cv, ds_cv_shape = down_samp_cv(A)"
   ]
  },
  {
   "cell_type": "code",
   "execution_count": null,
   "metadata": {
    "ExecuteTime": {
     "end_time": "2020-12-17T06:57:00.638567Z",
     "start_time": "2020-12-17T06:57:00.412350Z"
    }
   },
   "outputs": [],
   "source": [
    "plt.imshow(A[...,0].reshape(im_size))"
   ]
  },
  {
   "cell_type": "code",
   "execution_count": null,
   "metadata": {},
   "outputs": [],
   "source": [
    "plt.imshow(A_ds_cv[...,0].reshape(ds_cv_shape))"
   ]
  },
  {
   "cell_type": "code",
   "execution_count": null,
   "metadata": {
    "ExecuteTime": {
     "end_time": "2020-12-17T06:57:02.511732Z",
     "start_time": "2020-12-17T06:57:02.370271Z"
    }
   },
   "outputs": [],
   "source": [
    "plt.imshow(A_ds[...,0].reshape(ds_shape))"
   ]
  },
  {
   "cell_type": "code",
   "execution_count": null,
   "metadata": {
    "ExecuteTime": {
     "end_time": "2020-12-17T06:57:04.215792Z",
     "start_time": "2020-12-17T06:57:04.211448Z"
    }
   },
   "outputs": [],
   "source": [
    "A_wave.shape"
   ]
  },
  {
   "cell_type": "code",
   "execution_count": null,
   "metadata": {
    "ExecuteTime": {
     "end_time": "2020-12-17T06:57:11.247763Z",
     "start_time": "2020-12-17T06:57:11.106919Z"
    }
   },
   "outputs": [],
   "source": [
    "plt.imshow(A_wave[...,1].reshape(wave_shape))"
   ]
  },
  {
   "cell_type": "code",
   "execution_count": null,
   "metadata": {
    "ExecuteTime": {
     "end_time": "2020-12-16T06:54:27.771007Z",
     "start_time": "2020-12-16T06:54:27.262600Z"
    }
   },
   "outputs": [],
   "source": [
    "A_pca, _ = down_samp_pca(A)"
   ]
  },
  {
   "cell_type": "code",
   "execution_count": null,
   "metadata": {
    "ExecuteTime": {
     "end_time": "2020-12-16T06:54:27.798697Z",
     "start_time": "2020-12-16T06:54:27.794533Z"
    }
   },
   "outputs": [],
   "source": [
    "A_pca.shape"
   ]
  },
  {
   "cell_type": "code",
   "execution_count": null,
   "metadata": {
    "ExecuteTime": {
     "end_time": "2020-12-16T06:54:30.048353Z",
     "start_time": "2020-12-16T06:54:29.932692Z"
    }
   },
   "outputs": [],
   "source": [
    "plt.imshow(A_pca)"
   ]
  },
  {
   "cell_type": "code",
   "execution_count": null,
   "metadata": {
    "ExecuteTime": {
     "end_time": "2020-12-16T21:21:08.572648Z",
     "start_time": "2020-12-16T21:21:08.569013Z"
    }
   },
   "outputs": [],
   "source": [
    "# def delta(x, i):\n",
    "#     assert i < num_class\n",
    "#     out = np.zeros(len(x))\n",
    "#     idxs = slice(i*num_class, i*num_class+num_train)\n",
    "#     out[idxs] = x[idxs]\n",
    "#     return out"
   ]
  },
  {
   "cell_type": "code",
   "execution_count": null,
   "metadata": {
    "ExecuteTime": {
     "end_time": "2020-12-16T23:53:43.108221Z",
     "start_time": "2020-12-16T23:53:43.105078Z"
    }
   },
   "outputs": [],
   "source": [
    "def delta_i(x, i, gt):\n",
    "    return np.where(gt==i, x, 0)"
   ]
  },
  {
   "cell_type": "code",
   "execution_count": null,
   "metadata": {
    "ExecuteTime": {
     "end_time": "2020-12-16T23:53:43.579502Z",
     "start_time": "2020-12-16T23:53:43.573799Z"
    }
   },
   "outputs": [],
   "source": [
    "min(test_gt)"
   ]
  },
  {
   "cell_type": "code",
   "execution_count": null,
   "metadata": {
    "ExecuteTime": {
     "end_time": "2020-12-16T23:53:44.087933Z",
     "start_time": "2020-12-16T23:53:44.081668Z"
    }
   },
   "outputs": [],
   "source": [
    "@ignore_warnings(category=ConvergenceWarning)\n",
    "def identity(A, y, class_idxs):\n",
    "    A_norm = np.linalg.norm(A, axis=0)\n",
    "    y_norm = np.linalg.norm(y)\n",
    "#     print(A, y)\n",
    "    prob = Lasso(fit_intercept=False, alpha=1e-4, max_iter=1e3)\n",
    "#     prob = LassoCV(fit_intercept=False, max_iter=1e4)\n",
    "    prob.fit(A/A_norm, y/y_norm)\n",
    "    x_hat = prob.coef_\n",
    "    r = np.zeros(39)\n",
    "    for i in range(39):\n",
    "        r[i] = np.linalg.norm(y-A@delta_i(x_hat, i, class_idxs))\n",
    "#     print(x_hat)\n",
    "    return np.argmin(r)"
   ]
  },
  {
   "cell_type": "code",
   "execution_count": null,
   "metadata": {
    "ExecuteTime": {
     "end_time": "2020-12-16T23:53:44.998054Z",
     "start_time": "2020-12-16T23:53:44.785855Z"
    }
   },
   "outputs": [],
   "source": [
    "np.linalg.norm(A, axis=0).shape"
   ]
  },
  {
   "cell_type": "code",
   "execution_count": null,
   "metadata": {
    "ExecuteTime": {
     "end_time": "2020-12-17T07:35:55.127265Z",
     "start_time": "2020-12-17T07:35:55.121910Z"
    }
   },
   "outputs": [],
   "source": [
    "@ignore_warnings(category=ConvergenceWarning)\n",
    "def robust_identity(A, B, y, class_idxs):\n",
    "#     A_norm = np.linalg.norm(A, axis=0)\n",
    "#     y_norm = np.linalg.norm(y)\n",
    "    m,n = A.shape\n",
    "#     B = np.hstack((A, np.eye(m)))\n",
    "#     B_norm = np.linalg.norm(B, axis=0)\n",
    "#     print(B.shape)\n",
    "    prob = Lasso(fit_intercept=False, alpha=1e-4)\n",
    "    prob.fit(B, y)\n",
    "    w_hat = prob.coef_\n",
    "    x_hat = w_hat[:n]\n",
    "    e_hat = w_hat[n:]\n",
    "    r = np.zeros(39)\n",
    "    for i in range(39):\n",
    "        r[i] = np.linalg.norm(y-e_hat-A@delta_i(x_hat, i, class_idxs))\n",
    "#     print(r-np.min(r))\n",
    "    return np.argmin(r)"
   ]
  },
  {
   "cell_type": "code",
   "execution_count": null,
   "metadata": {
    "ExecuteTime": {
     "end_time": "2020-12-17T06:45:43.735823Z",
     "start_time": "2020-12-17T06:45:43.725415Z"
    }
   },
   "outputs": [],
   "source": [
    "def evaluate(A, y, train_gt, test_gt, ld_func=down_samp, robust=False):\n",
    "    train_pred = np.ones_like(train_gt)*-1\n",
    "    test_pred = np.ones_like(test_gt)*-1\n",
    "    \n",
    "    if ld_func.__name__ == \"down_samp_pca\":\n",
    "        A_ld, pca = ld_func(A)\n",
    "        y_ld = pca.transform(y.T).T\n",
    "    else:\n",
    "        A_ld, _ = ld_func(A)\n",
    "        y_ld, _ = ld_func(y)\n",
    "    \n",
    "#     print(A_ld.shape, y_ld.shape)\n",
    "    for i in tqdm(range(len(train_pred))):\n",
    "        if robust:\n",
    "            train_pred[i] = robust_identity(A_ld, A_ld[:,i], train_gt)\n",
    "        else:\n",
    "            train_pred[i] = identity(A_ld, A_ld[:,i], train_gt)\n",
    "#         print(train_pred[i], train_gt[i])\n",
    "    \n",
    "    for i in tqdm(range(len(test_pred))):\n",
    "        if robust:\n",
    "            test_pred[i] = robust_identity(A_ld, y_ld[:,i], train_gt)\n",
    "        else:\n",
    "            test_pred[i] = identity(A_ld, y_ld[:,i], train_gt)\n",
    "    \n",
    "#     print(train_pred)\n",
    "    train_acc = accuracy_score(train_gt, train_pred)*100\n",
    "    test_acc = accuracy_score(test_gt, test_pred)*100\n",
    "    \n",
    "    print(\"Accuracy for {}:\\n\\tTrain Accuracy: {:.2f}\\n\\tTest Accuracy: {:.2f}\".format(ld_func.__name__, train_acc, test_acc))"
   ]
  },
  {
   "cell_type": "code",
   "execution_count": null,
   "metadata": {
    "ExecuteTime": {
     "end_time": "2020-12-17T06:46:51.727304Z",
     "start_time": "2020-12-17T06:46:51.724524Z"
    }
   },
   "outputs": [],
   "source": [
    "down_samp_funcs = [down_samp, down_samp_wave,  down_samp_pca]"
   ]
  },
  {
   "cell_type": "code",
   "execution_count": null,
   "metadata": {
    "ExecuteTime": {
     "end_time": "2020-12-17T06:57:42.688822Z",
     "start_time": "2020-12-17T06:57:29.318635Z"
    },
    "scrolled": true
   },
   "outputs": [],
   "source": [
    "for func in down_samp_funcs:\n",
    "    evaluate(A, y, train_gt, test_gt, ld_func=func)"
   ]
  },
  {
   "cell_type": "code",
   "execution_count": null,
   "metadata": {
    "ExecuteTime": {
     "end_time": "2020-12-17T05:46:51.124254Z",
     "start_time": "2020-12-17T05:46:51.087424Z"
    }
   },
   "outputs": [],
   "source": [
    "# Corrupt data for robust identity\n",
    "def corrupt(test_mat, percent=0.3):\n",
    "    im_size, num_ims = test_mat.shape\n",
    "    corrupt_mat = test_mat.copy()\n",
    "    corrupt_size = int(im_size*percent)\n",
    "    for i in range(num_ims):\n",
    "        corrupt_idxs = np.random.choice(im_size, size=corrupt_size, replace=False)\n",
    "        corrupt_data = np.random.randint(256, size=corrupt_size)\n",
    "        corrupt_mat[:,i][corrupt_idxs] = corrupt_data\n",
    "#     print(im_size, num_ims, corrupt_size)\n",
    "    return corrupt_mat"
   ]
  },
  {
   "cell_type": "code",
   "execution_count": null,
   "metadata": {
    "ExecuteTime": {
     "end_time": "2020-12-17T07:28:22.832367Z",
     "start_time": "2020-12-17T07:28:22.426000Z"
    }
   },
   "outputs": [],
   "source": [
    "y_ds, y_ds_sh = down_samp(y)\n",
    "y_wave, y_wave_sh = down_samp_wave(y)"
   ]
  },
  {
   "cell_type": "code",
   "execution_count": null,
   "metadata": {
    "ExecuteTime": {
     "end_time": "2020-12-17T07:28:23.696172Z",
     "start_time": "2020-12-17T07:28:23.069899Z"
    }
   },
   "outputs": [],
   "source": [
    "perc = 0\n",
    "k = 1\n",
    "\n",
    "plt.figure(figsize=(10,10))\n",
    "plt.subplot(221)\n",
    "plt.imshow(y_ds[:,k].reshape(y_ds_sh))\n",
    "plt.subplot(222)\n",
    "plt.imshow(corrupt(y_ds, perc)[:,k].reshape(y_ds_sh))\n",
    "plt.subplot(223)\n",
    "plt.imshow(y_wave[:,k].reshape(y_wave_sh))\n",
    "plt.subplot(224)\n",
    "plt.imshow(corrupt(y_wave, perc)[:,k].reshape(y_wave_sh))\n",
    "plt.show()"
   ]
  },
  {
   "cell_type": "code",
   "execution_count": null,
   "metadata": {
    "ExecuteTime": {
     "end_time": "2020-12-17T00:10:27.629954Z",
     "start_time": "2020-12-17T00:10:27.625683Z"
    }
   },
   "outputs": [],
   "source": []
  },
  {
   "cell_type": "code",
   "execution_count": null,
   "metadata": {
    "ExecuteTime": {
     "end_time": "2020-12-17T07:36:05.204563Z",
     "start_time": "2020-12-17T07:36:05.196064Z"
    }
   },
   "outputs": [],
   "source": [
    "def evaluate_robust(A, y, train_gt, test_gt, ld_func=down_samp):\n",
    "    \n",
    "    test_pred = np.ones_like(test_gt)*-1\n",
    "    \n",
    "    if ld_func.__name__ == \"down_samp_pca\":\n",
    "        A_ld, pca = ld_func(A)\n",
    "        y_ld = pca.transform(y.T).T\n",
    "    else:\n",
    "        A_ld, _ = ld_func(A)\n",
    "        y_ld, _ = ld_func(y)\n",
    "    print(A_ld.shape, y_ld.shape)\n",
    "#     corrupt_percs = np.arange(0,1,0.1)\n",
    "    corrupt_percs = [0, 0.4, 0.6]\n",
    "    test_acc = []\n",
    "    \n",
    "    m,n = A_ld.shape\n",
    "    B = np.hstack((A_ld, np.eye(m)))\n",
    "    B = B/np.linalg.norm(B, axis=0)\n",
    "    for perc in corrupt_percs:\n",
    "        corrupt_y = corrupt(y_ld, perc)\n",
    "        corrupt_y = corrupt_y/np.linalg.norm(corrupt_y, axis=0)\n",
    "        for i in tqdm(range(len(test_pred))):\n",
    "            test_pred[i] = robust_identity(A_ld, B, corrupt_y[:,i],train_gt)\n",
    "\n",
    "    #     print(train_pred)\n",
    "        test_acc.append(accuracy_score(test_gt, test_pred)*100)\n",
    "        print(test_acc[-1])\n",
    "    \n",
    "    print(\"Robust Identity Accuracy for {}:\\n\\tTest Accuracy: {}\".format(ld_func.__name__, test_acc))\n",
    "    return test_acc"
   ]
  },
  {
   "cell_type": "code",
   "execution_count": null,
   "metadata": {},
   "outputs": [],
   "source": [
    "train_cond = lambda az, elev: abs(az) <= 25 and abs(elev) <= 25\n",
    "test_cond = lambda az, elev: 25 <= abs(az) <= 100 and 25 <= abs(elev) <= 65\n",
    "# train_cond = lambda az, elev: abs(elev) <= 25\n",
    "# test_cond = lambda az, elev: 25 <= abs(elev)\n",
    "A, y, train_gt, test_gt, names = random_sample_cond(train_cond, test_cond)\n",
    "print(A.shape, y.shape)\n",
    "print(train_gt)\n",
    "print(test_gt)"
   ]
  },
  {
   "cell_type": "code",
   "execution_count": null,
   "metadata": {
    "ExecuteTime": {
     "end_time": "2020-12-17T07:36:06.439247Z",
     "start_time": "2020-12-17T07:36:05.742876Z"
    }
   },
   "outputs": [],
   "source": [
    "# Robust data read\n",
    "train_cond = lambda az, elev: abs(az) <= 25 and abs(elev) <= 25\n",
    "test_cond = lambda az, elev: 25 <= abs(az) <= 100 and 25 <= abs(elev) <= 65\n",
    "# train_cond = lambda az, elev: abs(elev) <= 25\n",
    "# test_cond = lambda az, elev: 25 <= abs(elev)\n",
    "A, y, train_gt, test_gt, names = random_sample_cond(train_cond, test_cond)\n",
    "print(A.shape, y.shape)\n",
    "# print(train_gt)\n",
    "# print(test_gt)"
   ]
  },
  {
   "cell_type": "code",
   "execution_count": null,
   "metadata": {
    "ExecuteTime": {
     "end_time": "2020-12-17T07:36:52.103554Z",
     "start_time": "2020-12-17T07:36:06.441405Z"
    }
   },
   "outputs": [],
   "source": [
    "#TODO: Change train and test data for robust\n",
    "#TODO: Change ds factor for robust\n",
    "down_samp_funcs = [down_samp, down_samp_wave]\n",
    "test_accs = []\n",
    "for func in down_samp_funcs:\n",
    "    test_accs.append(evaluate_robust(A, y, train_gt, test_gt, ld_func=func))"
   ]
  },
  {
   "cell_type": "code",
   "execution_count": null,
   "metadata": {},
   "outputs": [],
   "source": []
  }
 ],
 "metadata": {
  "kernelspec": {
   "display_name": "Python 3",
   "language": "python",
   "name": "python3"
  },
  "language_info": {
   "codemirror_mode": {
    "name": "ipython",
    "version": 3
   },
   "file_extension": ".py",
   "mimetype": "text/x-python",
   "name": "python",
   "nbconvert_exporter": "python",
   "pygments_lexer": "ipython3",
   "version": "3.6.8"
  }
 },
 "nbformat": 4,
 "nbformat_minor": 4
}
