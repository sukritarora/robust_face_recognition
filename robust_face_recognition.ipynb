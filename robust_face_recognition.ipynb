{
 "cells": [
  {
   "cell_type": "code",
   "execution_count": 1,
   "metadata": {
    "ExecuteTime": {
     "end_time": "2020-12-17T07:06:41.023184Z",
     "start_time": "2020-12-17T07:06:41.013361Z"
    }
   },
   "outputs": [
    {
     "name": "stderr",
     "output_type": "stream",
     "text": [
      "/Users/Rafferino/anaconda3/lib/python3.7/site-packages/sklearn/utils/deprecation.py:144: FutureWarning: The sklearn.utils.testing module is  deprecated in version 0.22 and will be removed in version 0.24. The corresponding classes / functions should instead be imported from sklearn.utils. Anything that cannot be imported from sklearn.utils is now part of the private API.\n",
      "  warnings.warn(message, FutureWarning)\n"
     ]
    }
   ],
   "source": [
    "import numpy as np\n",
    "import matplotlib.pyplot as plt\n",
    "from sklearn.linear_model import Lasso, LassoCV, LinearRegression\n",
    "from sklearn.pipeline import Pipeline\n",
    "from sklearn.preprocessing import Normalizer\n",
    "from sklearn.decomposition import PCA\n",
    "from sklearn.metrics import accuracy_score\n",
    "from glob import glob as glob\n",
    "import os\n",
    "import pywt\n",
    "import cv2\n",
    "from sklearn.utils.testing import ignore_warnings\n",
    "from sklearn.exceptions import ConvergenceWarning\n",
    "from tqdm import tqdm"
   ]
  },
  {
   "cell_type": "code",
   "execution_count": 2,
   "metadata": {
    "ExecuteTime": {
     "end_time": "2020-12-16T23:53:18.130093Z",
     "start_time": "2020-12-16T23:53:18.127449Z"
    }
   },
   "outputs": [],
   "source": [
    "# num_class = 15\n",
    "# num_train = 20\n",
    "# num_test = 5\n",
    "im_size = np.array((192, 168))"
   ]
  },
  {
   "cell_type": "code",
   "execution_count": 3,
   "metadata": {
    "ExecuteTime": {
     "end_time": "2020-12-17T07:08:06.976969Z",
     "start_time": "2020-12-17T07:08:06.956688Z"
    }
   },
   "outputs": [],
   "source": [
    "def filter_files(fnames, cond, size=5):\n",
    "    fnames_base = [os.path.basename(i)[:-4] for i in fnames]\n",
    "    acc_files = []\n",
    "    for i, f in enumerate(fnames_base):\n",
    "        az = int(f[12:16])\n",
    "        elev = int(f[17:20])\n",
    "        if cond(az, elev):\n",
    "#             print(az, elev)\n",
    "            acc_files.append(fnames[i])\n",
    "#     samps = np.random.choice(acc_files, size, replace=False)\n",
    "    return acc_files\n",
    "\n",
    "def fread(f):\n",
    "    return plt.imread(f).flatten().T\n",
    "\n",
    "def random_sample_cond(train_cond, test_cond):\n",
    "    \n",
    "    all_fnames = glob(\"*/*/*_P00A*.pgm\")\n",
    "    \n",
    "    train_fnames = filter_files(all_fnames, train_cond) \n",
    "    test_fnames = filter_files(all_fnames, test_cond)\n",
    "    \n",
    "    num_train = len(train_fnames)\n",
    "    num_test = len(test_fnames)\n",
    "    \n",
    "    A = np.zeros((np.prod(im_size), num_train))\n",
    "    y = np.zeros((np.prod(im_size), num_test))\n",
    "    \n",
    "    train_gt = np.zeros(num_train).astype(int)\n",
    "    test_gt = np.zeros(num_test).astype(int)\n",
    "    \n",
    "    for i, f in enumerate(train_fnames):\n",
    "        A[:,i] = fread(f)\n",
    "        train_gt[i] = int(os.path.basename(f)[5:7])-1\n",
    "        \n",
    "    for i, f in enumerate(test_fnames):\n",
    "        y[:,i] = fread(f)\n",
    "        test_gt[i] = int(os.path.basename(f)[5:7])-1\n",
    "            \n",
    "    return A, y, train_gt, test_gt, (train_fnames, test_fnames)\n",
    "\n",
    "def random_sample():\n",
    "    all_fnames = glob(\"*/*/*_P00A*.pgm\")\n",
    "    half = len(all_fnames)//2\n",
    "    np.random.shuffle(all_fnames)\n",
    "    \n",
    "    train_fnames = all_fnames[:half]\n",
    "    test_fnames = all_fnames[half:]\n",
    "    \n",
    "    A = np.zeros((np.prod(im_size), len(train_fnames)))\n",
    "    y = np.zeros((np.prod(im_size), len(test_fnames)))\n",
    "    \n",
    "    train_gt = np.zeros(len(train_fnames)).astype(int)\n",
    "    test_gt = np.zeros(len(test_fnames)).astype(int)\n",
    "    \n",
    "    for i, f in enumerate(train_fnames):\n",
    "        A[:,i] = fread(f)\n",
    "        train_gt[i] = int(os.path.basename(f)[5:7])-1\n",
    "        \n",
    "    for i, f in enumerate(test_fnames):\n",
    "        y[:,i] = fread(f)\n",
    "        test_gt[i] = int(os.path.basename(f)[5:7])-1\n",
    "        \n",
    "    return A, y, train_gt, test_gt, (train_fnames, test_fnames)"
   ]
  },
  {
   "cell_type": "code",
   "execution_count": 4,
   "metadata": {
    "ExecuteTime": {
     "end_time": "2020-12-17T07:08:23.011410Z",
     "start_time": "2020-12-17T07:08:17.963495Z"
    }
   },
   "outputs": [
    {
     "name": "stdout",
     "output_type": "stream",
     "text": [
      "(32256, 1207) (32256, 1207)\n",
      "[29 23  0 ... 30 10 32]\n",
      "[ 6 25 14 ...  1 18  2]\n"
     ]
    }
   ],
   "source": [
    "A, y, train_gt, test_gt, names = random_sample()\n",
    "print(A.shape, y.shape)\n",
    "print(train_gt)\n",
    "print(test_gt)"
   ]
  },
  {
   "cell_type": "code",
   "execution_count": 5,
   "metadata": {},
   "outputs": [
    {
     "data": {
      "text/plain": [
       "['CroppedYale/yaleB30/yaleB30_P00A-060E+20.pgm',\n",
       " 'CroppedYale/yaleB24/yaleB24_P00A+000E+00.pgm',\n",
       " 'CroppedYale/yaleB01/yaleB01_P00A-130E+20.pgm',\n",
       " 'CroppedYale/yaleB28/yaleB28_P00A+020E-10.pgm',\n",
       " 'CroppedYale/yaleB20/yaleB20_P00A-085E-20.pgm',\n",
       " 'CroppedYale/yaleB05/yaleB05_P00A+110E+40.pgm',\n",
       " 'CroppedYale/yaleB35/yaleB35_P00A-010E+00.pgm',\n",
       " 'CroppedYale/yaleB33/yaleB33_P00A-050E+00.pgm',\n",
       " 'CroppedYale/yaleB17/yaleB17_P00A-005E+10.pgm',\n",
       " 'CroppedYale/yaleB02/yaleB02_P00A+000E+00.pgm',\n",
       " 'CroppedYale/yaleB34/yaleB34_P00A-110E+15.pgm',\n",
       " 'CroppedYale/yaleB12/yaleB12_P00A+005E+10.pgm',\n",
       " 'CroppedYale/yaleB07/yaleB07_P00A+130E+20.pgm',\n",
       " 'CroppedYale/yaleB13/yaleB13_P00A+020E-40.pgm',\n",
       " 'CroppedYale/yaleB06/yaleB06_P00A+000E-35.pgm',\n",
       " 'CroppedYale/yaleB02/yaleB02_P00A-060E+20.pgm',\n",
       " 'CroppedYale/yaleB08/yaleB08_P00A-130E+20.pgm',\n",
       " 'CroppedYale/yaleB02/yaleB02_P00A-085E-20.pgm',\n",
       " 'CroppedYale/yaleB27/yaleB27_P00A+085E-20.pgm',\n",
       " 'CroppedYale/yaleB30/yaleB30_P00A+110E+40.pgm',\n",
       " 'CroppedYale/yaleB27/yaleB27_P00A+000E-20.pgm',\n",
       " 'CroppedYale/yaleB33/yaleB33_P00A-095E+00.pgm',\n",
       " 'CroppedYale/yaleB27/yaleB27_P00A-095E+00.pgm',\n",
       " 'CroppedYale/yaleB10/yaleB10_P00A+110E+65.pgm',\n",
       " 'CroppedYale/yaleB27/yaleB27_P00A+035E-20.pgm',\n",
       " 'CroppedYale/yaleB11/yaleB11_P00A+010E+00.pgm',\n",
       " 'CroppedYale/yaleB31/yaleB31_P00A+025E+00.pgm',\n",
       " 'CroppedYale/yaleB36/yaleB36_P00A-085E-20.pgm',\n",
       " 'CroppedYale/yaleB36/yaleB36_P00A+110E-20.pgm',\n",
       " 'CroppedYale/yaleB36/yaleB36_P00A-035E+15.pgm',\n",
       " 'CroppedYale/yaleB07/yaleB07_P00A+010E+00.pgm',\n",
       " 'CroppedYale/yaleB37/yaleB37_P00A+000E+90.pgm',\n",
       " 'CroppedYale/yaleB11/yaleB11_P00A-005E+10.pgm',\n",
       " 'CroppedYale/yaleB17/yaleB17_P00A+130E+20.pgm',\n",
       " 'CroppedYale/yaleB19/yaleB19_P00A-035E+65.pgm',\n",
       " 'CroppedYale/yaleB27/yaleB27_P00A-035E+65.pgm',\n",
       " 'CroppedYale/yaleB06/yaleB06_P00A+035E+65.pgm',\n",
       " 'CroppedYale/yaleB08/yaleB08_P00A+070E-35.pgm',\n",
       " 'CroppedYale/yaleB07/yaleB07_P00A+000E+45.pgm',\n",
       " 'CroppedYale/yaleB12/yaleB12_P00A+050E+00.pgm',\n",
       " 'CroppedYale/yaleB13/yaleB13_P00A+000E+20.pgm',\n",
       " 'CroppedYale/yaleB24/yaleB24_P00A-050E+00.pgm',\n",
       " 'CroppedYale/yaleB17/yaleB17_P00A+000E-35.pgm',\n",
       " 'CroppedYale/yaleB07/yaleB07_P00A-035E+65.pgm',\n",
       " 'CroppedYale/yaleB24/yaleB24_P00A-070E+45.pgm',\n",
       " 'CroppedYale/yaleB31/yaleB31_P00A-060E+20.pgm',\n",
       " 'CroppedYale/yaleB26/yaleB26_P00A+020E+10.pgm',\n",
       " 'CroppedYale/yaleB36/yaleB36_P00A-130E+20.pgm',\n",
       " 'CroppedYale/yaleB36/yaleB36_P00A+060E-20.pgm',\n",
       " 'CroppedYale/yaleB26/yaleB26_P00A+060E-20.pgm',\n",
       " 'CroppedYale/yaleB38/yaleB38_P00A-070E-35.pgm',\n",
       " 'CroppedYale/yaleB27/yaleB27_P00A+005E+10.pgm',\n",
       " 'CroppedYale/yaleB31/yaleB31_P00A-035E+40.pgm',\n",
       " 'CroppedYale/yaleB18/yaleB18_P00A-035E+40.pgm',\n",
       " 'CroppedYale/yaleB06/yaleB06_P00A+035E+40.pgm',\n",
       " 'CroppedYale/yaleB13/yaleB13_P00A+015E+20.pgm',\n",
       " 'CroppedYale/yaleB26/yaleB26_P00A+000E+00.pgm',\n",
       " 'CroppedYale/yaleB10/yaleB10_P00A-110E+40.pgm',\n",
       " 'CroppedYale/yaleB06/yaleB06_P00A-130E+20.pgm',\n",
       " 'CroppedYale/yaleB25/yaleB25_P00A+050E+00.pgm',\n",
       " 'CroppedYale/yaleB20/yaleB20_P00A+130E+20.pgm',\n",
       " 'CroppedYale/yaleB02/yaleB02_P00A+110E+15.pgm',\n",
       " 'CroppedYale/yaleB26/yaleB26_P00A-070E+45.pgm',\n",
       " 'CroppedYale/yaleB02/yaleB02_P00A+000E+45.pgm',\n",
       " 'CroppedYale/yaleB08/yaleB08_P00A-035E+40.pgm',\n",
       " 'CroppedYale/yaleB26/yaleB26_P00A+070E+00.pgm',\n",
       " 'CroppedYale/yaleB24/yaleB24_P00A+050E+00.pgm',\n",
       " 'CroppedYale/yaleB08/yaleB08_P00A+060E-20.pgm',\n",
       " 'CroppedYale/yaleB09/yaleB09_P00A-130E+20.pgm',\n",
       " 'CroppedYale/yaleB29/yaleB29_P00A-035E+40.pgm',\n",
       " 'CroppedYale/yaleB32/yaleB32_P00A-095E+00.pgm',\n",
       " 'CroppedYale/yaleB04/yaleB04_P00A-050E-40.pgm',\n",
       " 'CroppedYale/yaleB20/yaleB20_P00A+085E-20.pgm',\n",
       " 'CroppedYale/yaleB14/yaleB14_P00A-005E+10.pgm',\n",
       " 'CroppedYale/yaleB29/yaleB29_P00A-005E-10.pgm',\n",
       " 'CroppedYale/yaleB18/yaleB18_P00A+000E+90.pgm',\n",
       " 'CroppedYale/yaleB17/yaleB17_P00A-020E-10.pgm',\n",
       " 'CroppedYale/yaleB24/yaleB24_P00A-025E+00.pgm',\n",
       " 'CroppedYale/yaleB25/yaleB25_P00A+000E-35.pgm',\n",
       " 'CroppedYale/yaleB14/yaleB14_P00A+060E-20.pgm',\n",
       " 'CroppedYale/yaleB28/yaleB28_P00A-010E+00.pgm',\n",
       " 'CroppedYale/yaleB27/yaleB27_P00A-035E+40.pgm',\n",
       " 'CroppedYale/yaleB21/yaleB21_P00A-020E-10.pgm',\n",
       " 'CroppedYale/yaleB15/yaleB15_P00A-130E+20.pgm',\n",
       " 'CroppedYale/yaleB03/yaleB03_P00A+000E+45.pgm',\n",
       " 'CroppedYale/yaleB26/yaleB26_P00A-110E-20.pgm',\n",
       " 'CroppedYale/yaleB32/yaleB32_P00A-035E+15.pgm',\n",
       " 'CroppedYale/yaleB35/yaleB35_P00A+020E-40.pgm',\n",
       " 'CroppedYale/yaleB20/yaleB20_P00A-060E-20.pgm',\n",
       " 'CroppedYale/yaleB26/yaleB26_P00A+025E+00.pgm',\n",
       " 'CroppedYale/yaleB06/yaleB06_P00A-020E+10.pgm',\n",
       " 'CroppedYale/yaleB17/yaleB17_P00A-020E-40.pgm',\n",
       " 'CroppedYale/yaleB35/yaleB35_P00A-010E-20.pgm',\n",
       " 'CroppedYale/yaleB33/yaleB33_P00A-020E-40.pgm',\n",
       " 'CroppedYale/yaleB34/yaleB34_P00A+005E+10.pgm',\n",
       " 'CroppedYale/yaleB28/yaleB28_P00A+050E+00.pgm',\n",
       " 'CroppedYale/yaleB03/yaleB03_P00A+085E-20.pgm',\n",
       " 'CroppedYale/yaleB29/yaleB29_P00A+000E+20.pgm',\n",
       " 'CroppedYale/yaleB07/yaleB07_P00A-070E+45.pgm',\n",
       " 'CroppedYale/yaleB20/yaleB20_P00A+070E+45.pgm',\n",
       " 'CroppedYale/yaleB03/yaleB03_P00A+000E-20.pgm',\n",
       " 'CroppedYale/yaleB16/yaleB16_P00A-035E+15.pgm',\n",
       " 'CroppedYale/yaleB16/yaleB16_P00A-110E+15.pgm',\n",
       " 'CroppedYale/yaleB38/yaleB38_P00A+005E+10.pgm',\n",
       " 'CroppedYale/yaleB07/yaleB07_P00A-020E-10.pgm',\n",
       " 'CroppedYale/yaleB17/yaleB17_P00A+070E+45.pgm',\n",
       " 'CroppedYale/yaleB01/yaleB01_P00A+000E+20.pgm',\n",
       " 'CroppedYale/yaleB17/yaleB17_P00A-025E+00.pgm',\n",
       " 'CroppedYale/yaleB36/yaleB36_P00A+035E+40.pgm',\n",
       " 'CroppedYale/yaleB31/yaleB31_P00A-070E-35.pgm',\n",
       " 'CroppedYale/yaleB24/yaleB24_P00A+020E-10.pgm',\n",
       " 'CroppedYale/yaleB35/yaleB35_P00A+005E-10.pgm',\n",
       " 'CroppedYale/yaleB15/yaleB15_P00A-110E+65.pgm',\n",
       " 'CroppedYale/yaleB25/yaleB25_P00A+120E+00.pgm',\n",
       " 'CroppedYale/yaleB25/yaleB25_P00A-050E-40.pgm',\n",
       " 'CroppedYale/yaleB19/yaleB19_P00A+020E-40.pgm',\n",
       " 'CroppedYale/yaleB31/yaleB31_P00A-035E+15.pgm',\n",
       " 'CroppedYale/yaleB38/yaleB38_P00A+070E+00.pgm',\n",
       " 'CroppedYale/yaleB25/yaleB25_P00A+000E+45.pgm',\n",
       " 'CroppedYale/yaleB29/yaleB29_P00A-050E-40.pgm',\n",
       " 'CroppedYale/yaleB25/yaleB25_P00A+060E+20.pgm',\n",
       " 'CroppedYale/yaleB28/yaleB28_P00A+000E-20.pgm',\n",
       " 'CroppedYale/yaleB04/yaleB04_P00A+000E-20.pgm',\n",
       " 'CroppedYale/yaleB24/yaleB24_P00A+070E+00.pgm',\n",
       " 'CroppedYale/yaleB15/yaleB15_P00A-035E+65.pgm',\n",
       " 'CroppedYale/yaleB08/yaleB08_P00A+000E-35.pgm',\n",
       " 'CroppedYale/yaleB08/yaleB08_P00A+035E-20.pgm',\n",
       " 'CroppedYale/yaleB34/yaleB34_P00A-035E+40.pgm',\n",
       " 'CroppedYale/yaleB11/yaleB11_P00A+025E+00.pgm',\n",
       " 'CroppedYale/yaleB17/yaleB17_P00A+000E-20.pgm',\n",
       " 'CroppedYale/yaleB38/yaleB38_P00A+110E-20.pgm',\n",
       " 'CroppedYale/yaleB07/yaleB07_P00A+060E-20.pgm',\n",
       " 'CroppedYale/yaleB27/yaleB27_P00A+005E-10.pgm',\n",
       " 'CroppedYale/yaleB24/yaleB24_P00A-035E+40.pgm',\n",
       " 'CroppedYale/yaleB03/yaleB03_P00A+110E-20.pgm',\n",
       " 'CroppedYale/yaleB37/yaleB37_P00A-005E+10.pgm',\n",
       " 'CroppedYale/yaleB02/yaleB02_P00A-035E+65.pgm',\n",
       " 'CroppedYale/yaleB07/yaleB07_P00A+035E+15.pgm',\n",
       " 'CroppedYale/yaleB10/yaleB10_P00A+085E-20.pgm',\n",
       " 'CroppedYale/yaleB12/yaleB12_P00A+110E+15.pgm',\n",
       " 'CroppedYale/yaleB34/yaleB34_P00A+020E-40.pgm',\n",
       " 'CroppedYale/yaleB09/yaleB09_P00A+130E+20.pgm',\n",
       " 'CroppedYale/yaleB07/yaleB07_P00A-005E+10.pgm',\n",
       " 'CroppedYale/yaleB06/yaleB06_P00A+085E+20.pgm',\n",
       " 'CroppedYale/yaleB16/yaleB16_P00A+020E-40.pgm',\n",
       " 'CroppedYale/yaleB06/yaleB06_P00A+000E+90.pgm',\n",
       " 'CroppedYale/yaleB03/yaleB03_P00A+005E-10.pgm',\n",
       " 'CroppedYale/yaleB23/yaleB23_P00A+120E+00.pgm',\n",
       " 'CroppedYale/yaleB17/yaleB17_P00A-035E+65.pgm',\n",
       " 'CroppedYale/yaleB10/yaleB10_P00A-070E+45.pgm',\n",
       " 'CroppedYale/yaleB11/yaleB11_P00A-110E+65.pgm',\n",
       " 'CroppedYale/yaleB16/yaleB16_P00A+025E+00.pgm',\n",
       " 'CroppedYale/yaleB32/yaleB32_P00A+020E+10.pgm',\n",
       " 'CroppedYale/yaleB25/yaleB25_P00A-020E-10.pgm',\n",
       " 'CroppedYale/yaleB28/yaleB28_P00A-070E+45.pgm',\n",
       " 'CroppedYale/yaleB11/yaleB11_P00A-130E+20.pgm',\n",
       " 'CroppedYale/yaleB21/yaleB21_P00A+110E-20.pgm',\n",
       " 'CroppedYale/yaleB08/yaleB08_P00A-110E+40.pgm',\n",
       " 'CroppedYale/yaleB34/yaleB34_P00A-070E-35.pgm',\n",
       " 'CroppedYale/yaleB16/yaleB16_P00A+000E-20.pgm',\n",
       " 'CroppedYale/yaleB13/yaleB13_P00A-110E+65.pgm',\n",
       " 'CroppedYale/yaleB26/yaleB26_P00A-050E-40.pgm',\n",
       " 'CroppedYale/yaleB29/yaleB29_P00A+035E-20.pgm',\n",
       " 'CroppedYale/yaleB06/yaleB06_P00A-070E+00.pgm',\n",
       " 'CroppedYale/yaleB34/yaleB34_P00A-035E-20.pgm',\n",
       " 'CroppedYale/yaleB04/yaleB04_P00A-050E+00.pgm',\n",
       " 'CroppedYale/yaleB35/yaleB35_P00A+020E+10.pgm',\n",
       " 'CroppedYale/yaleB27/yaleB27_P00A+035E+65.pgm',\n",
       " 'CroppedYale/yaleB37/yaleB37_P00A-050E+00.pgm',\n",
       " 'CroppedYale/yaleB05/yaleB05_P00A+010E-20.pgm',\n",
       " 'CroppedYale/yaleB01/yaleB01_P00A-110E-20.pgm',\n",
       " 'CroppedYale/yaleB22/yaleB22_P00A-020E+10.pgm',\n",
       " 'CroppedYale/yaleB37/yaleB37_P00A-085E-20.pgm',\n",
       " 'CroppedYale/yaleB35/yaleB35_P00A-085E+20.pgm',\n",
       " 'CroppedYale/yaleB08/yaleB08_P00A+000E+20.pgm',\n",
       " 'CroppedYale/yaleB10/yaleB10_P00A-010E+00.pgm',\n",
       " 'CroppedYale/yaleB04/yaleB04_P00A+130E+20.pgm',\n",
       " 'CroppedYale/yaleB15/yaleB15_P00A+035E-20.pgm',\n",
       " 'CroppedYale/yaleB20/yaleB20_P00A-085E+20.pgm',\n",
       " 'CroppedYale/yaleB38/yaleB38_P00A+020E-40.pgm',\n",
       " 'CroppedYale/yaleB23/yaleB23_P00A-025E+00.pgm',\n",
       " 'CroppedYale/yaleB31/yaleB31_P00A+050E-40.pgm',\n",
       " 'CroppedYale/yaleB16/yaleB16_P00A-110E+40.pgm',\n",
       " 'CroppedYale/yaleB22/yaleB22_P00A+000E+20.pgm',\n",
       " 'CroppedYale/yaleB15/yaleB15_P00A-035E-20.pgm',\n",
       " 'CroppedYale/yaleB11/yaleB11_P00A-020E+10.pgm',\n",
       " 'CroppedYale/yaleB38/yaleB38_P00A+000E-20.pgm',\n",
       " 'CroppedYale/yaleB08/yaleB08_P00A+000E+00.pgm',\n",
       " 'CroppedYale/yaleB06/yaleB06_P00A-070E-35.pgm',\n",
       " 'CroppedYale/yaleB34/yaleB34_P00A+000E+20.pgm',\n",
       " 'CroppedYale/yaleB19/yaleB19_P00A+070E-35.pgm',\n",
       " 'CroppedYale/yaleB19/yaleB19_P00A+005E+10.pgm',\n",
       " 'CroppedYale/yaleB31/yaleB31_P00A-050E-40.pgm',\n",
       " 'CroppedYale/yaleB20/yaleB20_P00A-110E+15.pgm',\n",
       " 'CroppedYale/yaleB08/yaleB08_P00A+010E+00.pgm',\n",
       " 'CroppedYale/yaleB28/yaleB28_P00A-020E+10.pgm',\n",
       " 'CroppedYale/yaleB09/yaleB09_P00A-110E+40.pgm',\n",
       " 'CroppedYale/yaleB30/yaleB30_P00A+025E+00.pgm',\n",
       " 'CroppedYale/yaleB13/yaleB13_P00A-110E-20.pgm',\n",
       " 'CroppedYale/yaleB05/yaleB05_P00A-070E-35.pgm',\n",
       " 'CroppedYale/yaleB28/yaleB28_P00A+020E-40.pgm',\n",
       " 'CroppedYale/yaleB30/yaleB30_P00A+035E+15.pgm',\n",
       " 'CroppedYale/yaleB37/yaleB37_P00A+020E-40.pgm',\n",
       " 'CroppedYale/yaleB01/yaleB01_P00A+060E+20.pgm',\n",
       " 'CroppedYale/yaleB10/yaleB10_P00A+095E+00.pgm',\n",
       " 'CroppedYale/yaleB02/yaleB02_P00A+085E-20.pgm',\n",
       " 'CroppedYale/yaleB04/yaleB04_P00A+010E-20.pgm',\n",
       " 'CroppedYale/yaleB06/yaleB06_P00A+035E+15.pgm',\n",
       " 'CroppedYale/yaleB09/yaleB09_P00A-025E+00.pgm',\n",
       " 'CroppedYale/yaleB01/yaleB01_P00A-050E+00.pgm',\n",
       " 'CroppedYale/yaleB02/yaleB02_P00A+050E-40.pgm',\n",
       " 'CroppedYale/yaleB33/yaleB33_P00A+005E-10.pgm',\n",
       " 'CroppedYale/yaleB15/yaleB15_P00A+110E+15.pgm',\n",
       " 'CroppedYale/yaleB09/yaleB09_P00A-010E-20.pgm',\n",
       " 'CroppedYale/yaleB32/yaleB32_P00A+035E+15.pgm',\n",
       " 'CroppedYale/yaleB27/yaleB27_P00A+070E+00.pgm',\n",
       " 'CroppedYale/yaleB14/yaleB14_P00A+000E+45.pgm',\n",
       " 'CroppedYale/yaleB20/yaleB20_P00A-035E+40.pgm',\n",
       " 'CroppedYale/yaleB14/yaleB14_P00A-050E-40.pgm',\n",
       " 'CroppedYale/yaleB20/yaleB20_P00A+035E-20.pgm',\n",
       " 'CroppedYale/yaleB25/yaleB25_P00A-035E-20.pgm',\n",
       " 'CroppedYale/yaleB29/yaleB29_P00A-025E+00.pgm',\n",
       " 'CroppedYale/yaleB21/yaleB21_P00A+010E+00.pgm',\n",
       " 'CroppedYale/yaleB04/yaleB04_P00A+015E+20.pgm',\n",
       " 'CroppedYale/yaleB03/yaleB03_P00A-035E+65.pgm',\n",
       " 'CroppedYale/yaleB29/yaleB29_P00A+060E+20.pgm',\n",
       " 'CroppedYale/yaleB17/yaleB17_P00A+005E-10.pgm',\n",
       " 'CroppedYale/yaleB35/yaleB35_P00A-005E-10.pgm',\n",
       " 'CroppedYale/yaleB01/yaleB01_P00A-110E+15.pgm',\n",
       " 'CroppedYale/yaleB36/yaleB36_P00A-070E+45.pgm',\n",
       " 'CroppedYale/yaleB23/yaleB23_P00A-035E-20.pgm',\n",
       " 'CroppedYale/yaleB36/yaleB36_P00A+035E+15.pgm',\n",
       " 'CroppedYale/yaleB11/yaleB11_P00A+070E-35.pgm',\n",
       " 'CroppedYale/yaleB09/yaleB09_P00A+000E+20.pgm',\n",
       " 'CroppedYale/yaleB38/yaleB38_P00A+000E+90.pgm',\n",
       " 'CroppedYale/yaleB12/yaleB12_P00A+005E-10.pgm',\n",
       " 'CroppedYale/yaleB09/yaleB09_P00A+070E+45.pgm',\n",
       " 'CroppedYale/yaleB30/yaleB30_P00A-020E+10.pgm',\n",
       " 'CroppedYale/yaleB24/yaleB24_P00A+110E-20.pgm',\n",
       " 'CroppedYale/yaleB13/yaleB13_P00A+110E+40.pgm',\n",
       " 'CroppedYale/yaleB02/yaleB02_P00A+050E+00.pgm',\n",
       " 'CroppedYale/yaleB26/yaleB26_P00A+010E-20.pgm',\n",
       " 'CroppedYale/yaleB36/yaleB36_P00A+005E-10.pgm',\n",
       " 'CroppedYale/yaleB28/yaleB28_P00A-095E+00.pgm',\n",
       " 'CroppedYale/yaleB27/yaleB27_P00A+000E-35.pgm',\n",
       " 'CroppedYale/yaleB07/yaleB07_P00A-085E+20.pgm',\n",
       " 'CroppedYale/yaleB04/yaleB04_P00A+020E+10.pgm',\n",
       " 'CroppedYale/yaleB31/yaleB31_P00A+085E-20.pgm',\n",
       " 'CroppedYale/yaleB23/yaleB23_P00A+035E-20.pgm',\n",
       " 'CroppedYale/yaleB17/yaleB17_P00A-095E+00.pgm',\n",
       " 'CroppedYale/yaleB37/yaleB37_P00A+070E-35.pgm',\n",
       " 'CroppedYale/yaleB37/yaleB37_P00A+000E+00.pgm',\n",
       " 'CroppedYale/yaleB33/yaleB33_P00A+000E-20.pgm',\n",
       " 'CroppedYale/yaleB25/yaleB25_P00A-070E+00.pgm',\n",
       " 'CroppedYale/yaleB03/yaleB03_P00A+000E+00.pgm',\n",
       " 'CroppedYale/yaleB23/yaleB23_P00A+035E+65.pgm',\n",
       " 'CroppedYale/yaleB18/yaleB18_P00A-025E+00.pgm',\n",
       " 'CroppedYale/yaleB16/yaleB16_P00A-020E+10.pgm',\n",
       " 'CroppedYale/yaleB03/yaleB03_P00A+070E+00.pgm',\n",
       " 'CroppedYale/yaleB36/yaleB36_P00A+025E+00.pgm',\n",
       " 'CroppedYale/yaleB33/yaleB33_P00A-035E+40.pgm',\n",
       " 'CroppedYale/yaleB16/yaleB16_P00A-110E-20.pgm',\n",
       " 'CroppedYale/yaleB36/yaleB36_P00A+060E+20.pgm',\n",
       " 'CroppedYale/yaleB27/yaleB27_P00A+130E+20.pgm',\n",
       " 'CroppedYale/yaleB15/yaleB15_P00A+050E-40.pgm',\n",
       " 'CroppedYale/yaleB23/yaleB23_P00A+070E+45.pgm',\n",
       " 'CroppedYale/yaleB09/yaleB09_P00A+035E+15.pgm',\n",
       " 'CroppedYale/yaleB14/yaleB14_P00A+085E-20.pgm',\n",
       " 'CroppedYale/yaleB17/yaleB17_P00A-085E-20.pgm',\n",
       " 'CroppedYale/yaleB38/yaleB38_P00A-070E+00.pgm',\n",
       " 'CroppedYale/yaleB18/yaleB18_P00A+025E+00.pgm',\n",
       " 'CroppedYale/yaleB38/yaleB38_P00A-110E+40.pgm',\n",
       " 'CroppedYale/yaleB33/yaleB33_P00A+010E-20.pgm',\n",
       " 'CroppedYale/yaleB28/yaleB28_P00A+000E+00.pgm',\n",
       " 'CroppedYale/yaleB12/yaleB12_P00A-110E+40.pgm',\n",
       " 'CroppedYale/yaleB38/yaleB38_P00A+000E-35.pgm',\n",
       " 'CroppedYale/yaleB15/yaleB15_P00A+110E+40.pgm',\n",
       " 'CroppedYale/yaleB05/yaleB05_P00A+035E-20.pgm',\n",
       " 'CroppedYale/yaleB03/yaleB03_P00A+035E+40.pgm',\n",
       " 'CroppedYale/yaleB29/yaleB29_P00A+000E+00.pgm',\n",
       " 'CroppedYale/yaleB21/yaleB21_P00A+035E+65.pgm',\n",
       " 'CroppedYale/yaleB14/yaleB14_P00A-085E+20.pgm',\n",
       " 'CroppedYale/yaleB31/yaleB31_P00A+020E+10.pgm',\n",
       " 'CroppedYale/yaleB16/yaleB16_P00A+070E+00.pgm',\n",
       " 'CroppedYale/yaleB25/yaleB25_P00A-085E+20.pgm',\n",
       " 'CroppedYale/yaleB26/yaleB26_P00A-005E+10.pgm',\n",
       " 'CroppedYale/yaleB22/yaleB22_P00A+085E-20.pgm',\n",
       " 'CroppedYale/yaleB12/yaleB12_P00A-020E-10.pgm',\n",
       " 'CroppedYale/yaleB05/yaleB05_P00A-035E-20.pgm',\n",
       " 'CroppedYale/yaleB16/yaleB16_P00A+035E+65.pgm',\n",
       " 'CroppedYale/yaleB13/yaleB13_P00A+085E-20.pgm',\n",
       " 'CroppedYale/yaleB08/yaleB08_P00A+020E-40.pgm',\n",
       " 'CroppedYale/yaleB08/yaleB08_P00A+110E+40.pgm',\n",
       " 'CroppedYale/yaleB19/yaleB19_P00A-050E+00.pgm',\n",
       " 'CroppedYale/yaleB19/yaleB19_P00A+050E-40.pgm',\n",
       " 'CroppedYale/yaleB06/yaleB06_P00A+070E+00.pgm',\n",
       " 'CroppedYale/yaleB38/yaleB38_P00A+060E+20.pgm',\n",
       " 'CroppedYale/yaleB09/yaleB09_P00A-035E-20.pgm',\n",
       " 'CroppedYale/yaleB04/yaleB04_P00A-010E-20.pgm',\n",
       " 'CroppedYale/yaleB01/yaleB01_P00A-020E-40.pgm',\n",
       " 'CroppedYale/yaleB08/yaleB08_P00A+085E-20.pgm',\n",
       " 'CroppedYale/yaleB37/yaleB37_P00A-070E-35.pgm',\n",
       " 'CroppedYale/yaleB20/yaleB20_P00A-010E+00.pgm',\n",
       " 'CroppedYale/yaleB08/yaleB08_P00A+070E+45.pgm',\n",
       " 'CroppedYale/yaleB34/yaleB34_P00A+070E+45.pgm',\n",
       " 'CroppedYale/yaleB27/yaleB27_P00A-085E-20.pgm',\n",
       " 'CroppedYale/yaleB31/yaleB31_P00A-095E+00.pgm',\n",
       " 'CroppedYale/yaleB10/yaleB10_P00A+070E+45.pgm',\n",
       " 'CroppedYale/yaleB34/yaleB34_P00A+035E+40.pgm',\n",
       " 'CroppedYale/yaleB07/yaleB07_P00A+085E+20.pgm',\n",
       " 'CroppedYale/yaleB08/yaleB08_P00A+060E+20.pgm',\n",
       " 'CroppedYale/yaleB18/yaleB18_P00A+000E+20.pgm',\n",
       " 'CroppedYale/yaleB13/yaleB13_P00A-010E+00.pgm',\n",
       " 'CroppedYale/yaleB25/yaleB25_P00A+035E+65.pgm',\n",
       " 'CroppedYale/yaleB35/yaleB35_P00A+000E-20.pgm',\n",
       " 'CroppedYale/yaleB37/yaleB37_P00A+010E-20.pgm',\n",
       " 'CroppedYale/yaleB08/yaleB08_P00A-035E+15.pgm',\n",
       " 'CroppedYale/yaleB05/yaleB05_P00A-035E+15.pgm',\n",
       " 'CroppedYale/yaleB26/yaleB26_P00A+070E+45.pgm',\n",
       " 'CroppedYale/yaleB31/yaleB31_P00A-110E+65.pgm',\n",
       " 'CroppedYale/yaleB07/yaleB07_P00A-050E-40.pgm',\n",
       " 'CroppedYale/yaleB29/yaleB29_P00A+035E+15.pgm',\n",
       " 'CroppedYale/yaleB18/yaleB18_P00A-050E+00.pgm',\n",
       " 'CroppedYale/yaleB21/yaleB21_P00A+110E+15.pgm',\n",
       " 'CroppedYale/yaleB16/yaleB16_P00A+110E+40.pgm',\n",
       " 'CroppedYale/yaleB32/yaleB32_P00A-120E+00.pgm',\n",
       " 'CroppedYale/yaleB09/yaleB09_P00A+010E+00.pgm',\n",
       " 'CroppedYale/yaleB10/yaleB10_P00A+035E+40.pgm',\n",
       " 'CroppedYale/yaleB31/yaleB31_P00A-020E-40.pgm',\n",
       " 'CroppedYale/yaleB07/yaleB07_P00A+120E+00.pgm',\n",
       " 'CroppedYale/yaleB15/yaleB15_P00A-020E-10.pgm',\n",
       " 'CroppedYale/yaleB19/yaleB19_P00A-010E-20.pgm',\n",
       " 'CroppedYale/yaleB01/yaleB01_P00A+085E+20.pgm',\n",
       " 'CroppedYale/yaleB23/yaleB23_P00A-035E+40.pgm',\n",
       " 'CroppedYale/yaleB15/yaleB15_P00A+035E+65.pgm',\n",
       " 'CroppedYale/yaleB30/yaleB30_P00A+005E+10.pgm',\n",
       " 'CroppedYale/yaleB24/yaleB24_P00A-035E+15.pgm',\n",
       " 'CroppedYale/yaleB35/yaleB35_P00A+035E+40.pgm',\n",
       " 'CroppedYale/yaleB28/yaleB28_P00A-120E+00.pgm',\n",
       " 'CroppedYale/yaleB33/yaleB33_P00A+070E-35.pgm',\n",
       " 'CroppedYale/yaleB10/yaleB10_P00A+070E-35.pgm',\n",
       " 'CroppedYale/yaleB31/yaleB31_P00A+035E+65.pgm',\n",
       " 'CroppedYale/yaleB01/yaleB01_P00A-085E-20.pgm',\n",
       " 'CroppedYale/yaleB21/yaleB21_P00A+085E-20.pgm',\n",
       " 'CroppedYale/yaleB18/yaleB18_P00A+110E+65.pgm',\n",
       " 'CroppedYale/yaleB17/yaleB17_P00A+020E-10.pgm',\n",
       " 'CroppedYale/yaleB04/yaleB04_P00A+085E-20.pgm',\n",
       " 'CroppedYale/yaleB10/yaleB10_P00A+015E+20.pgm',\n",
       " 'CroppedYale/yaleB36/yaleB36_P00A-050E-40.pgm',\n",
       " 'CroppedYale/yaleB30/yaleB30_P00A+085E-20.pgm',\n",
       " 'CroppedYale/yaleB21/yaleB21_P00A+005E-10.pgm',\n",
       " 'CroppedYale/yaleB10/yaleB10_P00A-130E+20.pgm',\n",
       " 'CroppedYale/yaleB25/yaleB25_P00A+000E+20.pgm',\n",
       " 'CroppedYale/yaleB33/yaleB33_P00A+000E+20.pgm',\n",
       " 'CroppedYale/yaleB11/yaleB11_P00A-035E-20.pgm',\n",
       " 'CroppedYale/yaleB02/yaleB02_P00A+025E+00.pgm',\n",
       " 'CroppedYale/yaleB24/yaleB24_P00A+010E-20.pgm',\n",
       " 'CroppedYale/yaleB31/yaleB31_P00A-110E-20.pgm',\n",
       " 'CroppedYale/yaleB13/yaleB13_P00A+035E+15.pgm',\n",
       " 'CroppedYale/yaleB03/yaleB03_P00A-010E-20.pgm',\n",
       " 'CroppedYale/yaleB33/yaleB33_P00A+070E+45.pgm',\n",
       " 'CroppedYale/yaleB32/yaleB32_P00A+110E+15.pgm',\n",
       " 'CroppedYale/yaleB24/yaleB24_P00A-005E+10.pgm',\n",
       " 'CroppedYale/yaleB29/yaleB29_P00A-130E+20.pgm',\n",
       " 'CroppedYale/yaleB18/yaleB18_P00A-015E+20.pgm',\n",
       " 'CroppedYale/yaleB36/yaleB36_P00A-035E+65.pgm',\n",
       " 'CroppedYale/yaleB30/yaleB30_P00A+015E+20.pgm',\n",
       " 'CroppedYale/yaleB26/yaleB26_P00A+130E+20.pgm',\n",
       " 'CroppedYale/yaleB32/yaleB32_P00A-085E+20.pgm',\n",
       " 'CroppedYale/yaleB31/yaleB31_P00A-020E-10.pgm',\n",
       " 'CroppedYale/yaleB31/yaleB31_P00A-005E-10.pgm',\n",
       " 'CroppedYale/yaleB06/yaleB06_P00A+020E-10.pgm',\n",
       " 'CroppedYale/yaleB24/yaleB24_P00A-060E+20.pgm',\n",
       " 'CroppedYale/yaleB09/yaleB09_P00A-050E-40.pgm',\n",
       " 'CroppedYale/yaleB33/yaleB33_P00A-060E-20.pgm',\n",
       " 'CroppedYale/yaleB28/yaleB28_P00A-060E-20.pgm',\n",
       " 'CroppedYale/yaleB12/yaleB12_P00A+060E+20.pgm',\n",
       " 'CroppedYale/yaleB05/yaleB05_P00A-110E+65.pgm',\n",
       " 'CroppedYale/yaleB27/yaleB27_P00A-070E+45.pgm',\n",
       " 'CroppedYale/yaleB36/yaleB36_P00A+020E-40.pgm',\n",
       " 'CroppedYale/yaleB05/yaleB05_P00A+130E+20.pgm',\n",
       " 'CroppedYale/yaleB13/yaleB13_P00A-035E-20.pgm',\n",
       " 'CroppedYale/yaleB17/yaleB17_P00A+050E-40.pgm',\n",
       " 'CroppedYale/yaleB30/yaleB30_P00A-035E-20.pgm',\n",
       " 'CroppedYale/yaleB28/yaleB28_P00A-085E+20.pgm',\n",
       " 'CroppedYale/yaleB14/yaleB14_P00A-035E+40.pgm',\n",
       " 'CroppedYale/yaleB09/yaleB09_P00A-085E-20.pgm',\n",
       " 'CroppedYale/yaleB07/yaleB07_P00A+020E-40.pgm',\n",
       " 'CroppedYale/yaleB07/yaleB07_P00A-035E+40.pgm',\n",
       " 'CroppedYale/yaleB22/yaleB22_P00A-110E+40.pgm',\n",
       " 'CroppedYale/yaleB18/yaleB18_P00A-060E+20.pgm',\n",
       " 'CroppedYale/yaleB33/yaleB33_P00A+110E+65.pgm',\n",
       " 'CroppedYale/yaleB27/yaleB27_P00A-015E+20.pgm',\n",
       " 'CroppedYale/yaleB33/yaleB33_P00A+050E+00.pgm',\n",
       " 'CroppedYale/yaleB37/yaleB37_P00A-020E-40.pgm',\n",
       " 'CroppedYale/yaleB15/yaleB15_P00A+095E+00.pgm',\n",
       " 'CroppedYale/yaleB30/yaleB30_P00A-010E+00.pgm',\n",
       " 'CroppedYale/yaleB35/yaleB35_P00A+130E+20.pgm',\n",
       " 'CroppedYale/yaleB14/yaleB14_P00A+035E+15.pgm',\n",
       " 'CroppedYale/yaleB29/yaleB29_P00A+035E+65.pgm',\n",
       " 'CroppedYale/yaleB38/yaleB38_P00A-005E-10.pgm',\n",
       " 'CroppedYale/yaleB08/yaleB08_P00A+020E-10.pgm',\n",
       " 'CroppedYale/yaleB02/yaleB02_P00A+070E-35.pgm',\n",
       " 'CroppedYale/yaleB07/yaleB07_P00A-035E+15.pgm',\n",
       " 'CroppedYale/yaleB16/yaleB16_P00A+050E-40.pgm',\n",
       " 'CroppedYale/yaleB38/yaleB38_P00A-005E+10.pgm',\n",
       " 'CroppedYale/yaleB30/yaleB30_P00A+130E+20.pgm',\n",
       " 'CroppedYale/yaleB27/yaleB27_P00A+095E+00.pgm',\n",
       " 'CroppedYale/yaleB22/yaleB22_P00A-010E+00.pgm',\n",
       " 'CroppedYale/yaleB34/yaleB34_P00A+060E+20.pgm',\n",
       " 'CroppedYale/yaleB34/yaleB34_P00A-120E+00.pgm',\n",
       " 'CroppedYale/yaleB18/yaleB18_P00A-110E+15.pgm',\n",
       " 'CroppedYale/yaleB31/yaleB31_P00A-050E+00.pgm',\n",
       " 'CroppedYale/yaleB07/yaleB07_P00A-130E+20.pgm',\n",
       " 'CroppedYale/yaleB25/yaleB25_P00A-020E+10.pgm',\n",
       " 'CroppedYale/yaleB36/yaleB36_P00A+000E+90.pgm',\n",
       " 'CroppedYale/yaleB34/yaleB34_P00A+025E+00.pgm',\n",
       " 'CroppedYale/yaleB15/yaleB15_P00A-085E+20.pgm',\n",
       " 'CroppedYale/yaleB35/yaleB35_P00A+035E-20.pgm',\n",
       " 'CroppedYale/yaleB24/yaleB24_P00A+120E+00.pgm',\n",
       " 'CroppedYale/yaleB10/yaleB10_P00A+120E+00.pgm',\n",
       " 'CroppedYale/yaleB30/yaleB30_P00A-120E+00.pgm',\n",
       " 'CroppedYale/yaleB22/yaleB22_P00A+000E+90.pgm',\n",
       " 'CroppedYale/yaleB11/yaleB11_P00A+005E+10.pgm',\n",
       " 'CroppedYale/yaleB10/yaleB10_P00A+035E+65.pgm',\n",
       " 'CroppedYale/yaleB11/yaleB11_P00A+020E-40.pgm',\n",
       " 'CroppedYale/yaleB18/yaleB18_P00A-070E+45.pgm',\n",
       " 'CroppedYale/yaleB26/yaleB26_P00A-130E+20.pgm',\n",
       " 'CroppedYale/yaleB21/yaleB21_P00A-085E-20.pgm',\n",
       " 'CroppedYale/yaleB26/yaleB26_P00A+110E+65.pgm',\n",
       " 'CroppedYale/yaleB33/yaleB33_P00A-110E-20.pgm',\n",
       " 'CroppedYale/yaleB30/yaleB30_P00A+060E-20.pgm',\n",
       " 'CroppedYale/yaleB18/yaleB18_P00A-110E+40.pgm',\n",
       " 'CroppedYale/yaleB13/yaleB13_P00A-060E-20.pgm',\n",
       " 'CroppedYale/yaleB11/yaleB11_P00A-110E+40.pgm',\n",
       " 'CroppedYale/yaleB21/yaleB21_P00A+000E-20.pgm',\n",
       " 'CroppedYale/yaleB35/yaleB35_P00A+025E+00.pgm',\n",
       " 'CroppedYale/yaleB28/yaleB28_P00A+060E+20.pgm',\n",
       " 'CroppedYale/yaleB10/yaleB10_P00A+000E-20.pgm',\n",
       " 'CroppedYale/yaleB12/yaleB12_P00A-120E+00.pgm',\n",
       " 'CroppedYale/yaleB25/yaleB25_P00A+110E-20.pgm',\n",
       " 'CroppedYale/yaleB19/yaleB19_P00A-085E-20.pgm',\n",
       " 'CroppedYale/yaleB21/yaleB21_P00A-120E+00.pgm',\n",
       " 'CroppedYale/yaleB18/yaleB18_P00A+085E+20.pgm',\n",
       " 'CroppedYale/yaleB23/yaleB23_P00A+035E+40.pgm',\n",
       " 'CroppedYale/yaleB11/yaleB11_P00A-010E+00.pgm',\n",
       " 'CroppedYale/yaleB18/yaleB18_P00A+120E+00.pgm',\n",
       " 'CroppedYale/yaleB26/yaleB26_P00A+020E-10.pgm',\n",
       " 'CroppedYale/yaleB16/yaleB16_P00A+000E+45.pgm',\n",
       " 'CroppedYale/yaleB25/yaleB25_P00A+000E+00.pgm',\n",
       " 'CroppedYale/yaleB09/yaleB09_P00A+000E+45.pgm',\n",
       " 'CroppedYale/yaleB25/yaleB25_P00A+025E+00.pgm',\n",
       " 'CroppedYale/yaleB02/yaleB02_P00A-110E+65.pgm',\n",
       " 'CroppedYale/yaleB28/yaleB28_P00A-015E+20.pgm',\n",
       " 'CroppedYale/yaleB32/yaleB32_P00A+060E-20.pgm',\n",
       " 'CroppedYale/yaleB14/yaleB14_P00A+095E+00.pgm',\n",
       " 'CroppedYale/yaleB38/yaleB38_P00A+035E+65.pgm',\n",
       " 'CroppedYale/yaleB20/yaleB20_P00A-035E+15.pgm',\n",
       " 'CroppedYale/yaleB27/yaleB27_P00A-010E+00.pgm',\n",
       " 'CroppedYale/yaleB05/yaleB05_P00A+000E+00.pgm',\n",
       " 'CroppedYale/yaleB13/yaleB13_P00A-020E+10.pgm',\n",
       " 'CroppedYale/yaleB30/yaleB30_P00A-070E-35.pgm',\n",
       " 'CroppedYale/yaleB01/yaleB01_P00A-050E-40.pgm',\n",
       " 'CroppedYale/yaleB38/yaleB38_P00A+070E-35.pgm',\n",
       " 'CroppedYale/yaleB28/yaleB28_P00A-020E-40.pgm',\n",
       " 'CroppedYale/yaleB30/yaleB30_P00A-110E+40.pgm',\n",
       " 'CroppedYale/yaleB15/yaleB15_P00A-025E+00.pgm',\n",
       " 'CroppedYale/yaleB32/yaleB32_P00A+000E+20.pgm',\n",
       " 'CroppedYale/yaleB20/yaleB20_P00A-005E+10.pgm',\n",
       " 'CroppedYale/yaleB19/yaleB19_P00A+070E+45.pgm',\n",
       " 'CroppedYale/yaleB38/yaleB38_P00A-035E+40.pgm',\n",
       " 'CroppedYale/yaleB23/yaleB23_P00A+025E+00.pgm',\n",
       " 'CroppedYale/yaleB23/yaleB23_P00A+005E+10.pgm',\n",
       " 'CroppedYale/yaleB17/yaleB17_P00A+000E+90.pgm',\n",
       " 'CroppedYale/yaleB11/yaleB11_P00A-020E-10.pgm',\n",
       " 'CroppedYale/yaleB08/yaleB08_P00A+000E+45.pgm',\n",
       " 'CroppedYale/yaleB26/yaleB26_P00A+070E-35.pgm',\n",
       " 'CroppedYale/yaleB10/yaleB10_P00A+130E+20.pgm',\n",
       " 'CroppedYale/yaleB05/yaleB05_P00A-020E+10.pgm',\n",
       " 'CroppedYale/yaleB19/yaleB19_P00A+035E+40.pgm',\n",
       " 'CroppedYale/yaleB35/yaleB35_P00A+070E+00.pgm',\n",
       " 'CroppedYale/yaleB26/yaleB26_P00A+010E+00.pgm',\n",
       " 'CroppedYale/yaleB06/yaleB06_P00A+020E-40.pgm',\n",
       " 'CroppedYale/yaleB36/yaleB36_P00A-110E+15.pgm',\n",
       " 'CroppedYale/yaleB27/yaleB27_P00A-020E-40.pgm',\n",
       " 'CroppedYale/yaleB04/yaleB04_P00A+000E-35.pgm',\n",
       " 'CroppedYale/yaleB26/yaleB26_P00A-110E+65.pgm',\n",
       " 'CroppedYale/yaleB01/yaleB01_P00A+015E+20.pgm',\n",
       " 'CroppedYale/yaleB29/yaleB29_P00A-010E+00.pgm',\n",
       " 'CroppedYale/yaleB06/yaleB06_P00A+130E+20.pgm',\n",
       " 'CroppedYale/yaleB36/yaleB36_P00A-015E+20.pgm',\n",
       " 'CroppedYale/yaleB15/yaleB15_P00A+110E-20.pgm',\n",
       " 'CroppedYale/yaleB30/yaleB30_P00A-110E+15.pgm',\n",
       " 'CroppedYale/yaleB37/yaleB37_P00A-035E-20.pgm',\n",
       " 'CroppedYale/yaleB22/yaleB22_P00A+070E+45.pgm',\n",
       " 'CroppedYale/yaleB28/yaleB28_P00A+070E+00.pgm',\n",
       " 'CroppedYale/yaleB33/yaleB33_P00A+020E-40.pgm',\n",
       " 'CroppedYale/yaleB01/yaleB01_P00A+110E+15.pgm',\n",
       " 'CroppedYale/yaleB10/yaleB10_P00A-110E+65.pgm',\n",
       " 'CroppedYale/yaleB27/yaleB27_P00A+025E+00.pgm',\n",
       " 'CroppedYale/yaleB01/yaleB01_P00A-035E+65.pgm',\n",
       " 'CroppedYale/yaleB32/yaleB32_P00A+000E+00.pgm',\n",
       " 'CroppedYale/yaleB04/yaleB04_P00A-025E+00.pgm',\n",
       " 'CroppedYale/yaleB01/yaleB01_P00A+050E-40.pgm',\n",
       " 'CroppedYale/yaleB09/yaleB09_P00A+050E+00.pgm',\n",
       " 'CroppedYale/yaleB04/yaleB04_P00A+005E-10.pgm',\n",
       " 'CroppedYale/yaleB28/yaleB28_P00A-130E+20.pgm',\n",
       " 'CroppedYale/yaleB07/yaleB07_P00A-010E-20.pgm',\n",
       " 'CroppedYale/yaleB25/yaleB25_P00A-035E+65.pgm',\n",
       " 'CroppedYale/yaleB05/yaleB05_P00A-070E+45.pgm',\n",
       " 'CroppedYale/yaleB08/yaleB08_P00A-060E-20.pgm',\n",
       " 'CroppedYale/yaleB13/yaleB13_P00A-005E-10.pgm',\n",
       " 'CroppedYale/yaleB23/yaleB23_P00A-020E+10.pgm',\n",
       " 'CroppedYale/yaleB03/yaleB03_P00A-020E-40.pgm',\n",
       " 'CroppedYale/yaleB20/yaleB20_P00A+120E+00.pgm',\n",
       " 'CroppedYale/yaleB14/yaleB14_P00A-015E+20.pgm',\n",
       " 'CroppedYale/yaleB27/yaleB27_P00A-060E+20.pgm',\n",
       " 'CroppedYale/yaleB01/yaleB01_P00A+035E+40.pgm',\n",
       " 'CroppedYale/yaleB08/yaleB08_P00A-060E+20.pgm',\n",
       " 'CroppedYale/yaleB37/yaleB37_P00A+050E-40.pgm',\n",
       " 'CroppedYale/yaleB32/yaleB32_P00A+010E-20.pgm',\n",
       " 'CroppedYale/yaleB23/yaleB23_P00A+085E+20.pgm',\n",
       " 'CroppedYale/yaleB16/yaleB16_P00A+035E-20.pgm',\n",
       " 'CroppedYale/yaleB21/yaleB21_P00A+050E+00.pgm',\n",
       " 'CroppedYale/yaleB12/yaleB12_P00A+000E+45.pgm',\n",
       " 'CroppedYale/yaleB32/yaleB32_P00A+130E+20.pgm',\n",
       " 'CroppedYale/yaleB05/yaleB05_P00A+025E+00.pgm',\n",
       " 'CroppedYale/yaleB29/yaleB29_P00A+110E+65.pgm',\n",
       " 'CroppedYale/yaleB06/yaleB06_P00A-035E+40.pgm',\n",
       " 'CroppedYale/yaleB32/yaleB32_P00A+050E-40.pgm',\n",
       " 'CroppedYale/yaleB20/yaleB20_P00A+035E+65.pgm',\n",
       " 'CroppedYale/yaleB27/yaleB27_P00A-120E+00.pgm',\n",
       " 'CroppedYale/yaleB05/yaleB05_P00A+110E+65.pgm',\n",
       " 'CroppedYale/yaleB13/yaleB13_P00A+010E+00.pgm',\n",
       " 'CroppedYale/yaleB04/yaleB04_P00A+025E+00.pgm',\n",
       " 'CroppedYale/yaleB30/yaleB30_P00A+000E-20.pgm',\n",
       " 'CroppedYale/yaleB21/yaleB21_P00A+035E+40.pgm',\n",
       " 'CroppedYale/yaleB31/yaleB31_P00A-085E-20.pgm',\n",
       " 'CroppedYale/yaleB06/yaleB06_P00A-085E+20.pgm',\n",
       " 'CroppedYale/yaleB38/yaleB38_P00A-130E+20.pgm',\n",
       " 'CroppedYale/yaleB35/yaleB35_P00A-110E+65.pgm',\n",
       " 'CroppedYale/yaleB14/yaleB14_P00A+035E+65.pgm',\n",
       " 'CroppedYale/yaleB13/yaleB13_P00A+000E+00.pgm',\n",
       " 'CroppedYale/yaleB29/yaleB29_P00A-035E+65.pgm',\n",
       " 'CroppedYale/yaleB22/yaleB22_P00A-130E+20.pgm',\n",
       " 'CroppedYale/yaleB05/yaleB05_P00A+005E-10.pgm',\n",
       " 'CroppedYale/yaleB18/yaleB18_P00A+000E+45.pgm',\n",
       " 'CroppedYale/yaleB27/yaleB27_P00A+110E-20.pgm',\n",
       " 'CroppedYale/yaleB13/yaleB13_P00A+070E-35.pgm',\n",
       " 'CroppedYale/yaleB31/yaleB31_P00A+035E-20.pgm',\n",
       " 'CroppedYale/yaleB29/yaleB29_P00A+005E-10.pgm',\n",
       " 'CroppedYale/yaleB27/yaleB27_P00A+000E+90.pgm',\n",
       " 'CroppedYale/yaleB25/yaleB25_P00A-110E-20.pgm',\n",
       " 'CroppedYale/yaleB36/yaleB36_P00A-025E+00.pgm',\n",
       " 'CroppedYale/yaleB10/yaleB10_P00A-110E-20.pgm',\n",
       " 'CroppedYale/yaleB13/yaleB13_P00A+025E+00.pgm',\n",
       " 'CroppedYale/yaleB03/yaleB03_P00A+070E+45.pgm',\n",
       " 'CroppedYale/yaleB22/yaleB22_P00A+005E+10.pgm',\n",
       " 'CroppedYale/yaleB13/yaleB13_P00A+110E+15.pgm',\n",
       " 'CroppedYale/yaleB25/yaleB25_P00A-070E+45.pgm',\n",
       " 'CroppedYale/yaleB38/yaleB38_P00A+050E-40.pgm',\n",
       " 'CroppedYale/yaleB01/yaleB01_P00A+020E-10.pgm',\n",
       " 'CroppedYale/yaleB31/yaleB31_P00A+060E+20.pgm',\n",
       " 'CroppedYale/yaleB36/yaleB36_P00A+000E-20.pgm',\n",
       " 'CroppedYale/yaleB16/yaleB16_P00A-020E-40.pgm',\n",
       " 'CroppedYale/yaleB16/yaleB16_P00A+005E-10.pgm',\n",
       " 'CroppedYale/yaleB37/yaleB37_P00A-050E-40.pgm',\n",
       " 'CroppedYale/yaleB27/yaleB27_P00A-020E-10.pgm',\n",
       " 'CroppedYale/yaleB25/yaleB25_P00A+035E+40.pgm',\n",
       " 'CroppedYale/yaleB07/yaleB07_P00A+060E+20.pgm',\n",
       " 'CroppedYale/yaleB07/yaleB07_P00A-005E-10.pgm',\n",
       " 'CroppedYale/yaleB12/yaleB12_P00A+000E+00.pgm',\n",
       " 'CroppedYale/yaleB28/yaleB28_P00A+070E+45.pgm',\n",
       " 'CroppedYale/yaleB09/yaleB09_P00A+020E-40.pgm',\n",
       " 'CroppedYale/yaleB15/yaleB15_P00A+020E+10.pgm',\n",
       " 'CroppedYale/yaleB18/yaleB18_P00A+035E+65.pgm',\n",
       " 'CroppedYale/yaleB09/yaleB09_P00A+110E-20.pgm',\n",
       " 'CroppedYale/yaleB07/yaleB07_P00A-110E+40.pgm',\n",
       " 'CroppedYale/yaleB17/yaleB17_P00A+035E+15.pgm',\n",
       " 'CroppedYale/yaleB35/yaleB35_P00A-060E+20.pgm',\n",
       " 'CroppedYale/yaleB14/yaleB14_P00A+010E+00.pgm',\n",
       " 'CroppedYale/yaleB28/yaleB28_P00A+000E-35.pgm',\n",
       " 'CroppedYale/yaleB37/yaleB37_P00A+110E-20.pgm',\n",
       " 'CroppedYale/yaleB33/yaleB33_P00A+060E-20.pgm',\n",
       " 'CroppedYale/yaleB29/yaleB29_P00A+110E+40.pgm',\n",
       " 'CroppedYale/yaleB30/yaleB30_P00A-020E-10.pgm',\n",
       " 'CroppedYale/yaleB02/yaleB02_P00A-005E-10.pgm',\n",
       " 'CroppedYale/yaleB31/yaleB31_P00A+000E+00.pgm',\n",
       " 'CroppedYale/yaleB07/yaleB07_P00A-020E-40.pgm',\n",
       " 'CroppedYale/yaleB03/yaleB03_P00A+110E+40.pgm',\n",
       " 'CroppedYale/yaleB35/yaleB35_P00A+070E-35.pgm',\n",
       " 'CroppedYale/yaleB21/yaleB21_P00A+130E+20.pgm',\n",
       " 'CroppedYale/yaleB20/yaleB20_P00A+050E+00.pgm',\n",
       " 'CroppedYale/yaleB12/yaleB12_P00A-050E+00.pgm',\n",
       " 'CroppedYale/yaleB35/yaleB35_P00A-035E+65.pgm',\n",
       " 'CroppedYale/yaleB32/yaleB32_P00A+000E+90.pgm',\n",
       " 'CroppedYale/yaleB10/yaleB10_P00A+035E+15.pgm',\n",
       " 'CroppedYale/yaleB20/yaleB20_P00A+005E+10.pgm',\n",
       " 'CroppedYale/yaleB03/yaleB03_P00A-010E+00.pgm',\n",
       " 'CroppedYale/yaleB02/yaleB02_P00A-035E-20.pgm',\n",
       " 'CroppedYale/yaleB02/yaleB02_P00A+070E+00.pgm',\n",
       " 'CroppedYale/yaleB37/yaleB37_P00A-110E+40.pgm',\n",
       " 'CroppedYale/yaleB27/yaleB27_P00A+020E-10.pgm',\n",
       " 'CroppedYale/yaleB02/yaleB02_P00A-110E+40.pgm',\n",
       " 'CroppedYale/yaleB02/yaleB02_P00A-110E-20.pgm',\n",
       " 'CroppedYale/yaleB14/yaleB14_P00A-005E-10.pgm',\n",
       " 'CroppedYale/yaleB36/yaleB36_P00A+095E+00.pgm',\n",
       " 'CroppedYale/yaleB07/yaleB07_P00A-110E-20.pgm',\n",
       " 'CroppedYale/yaleB29/yaleB29_P00A-120E+00.pgm',\n",
       " 'CroppedYale/yaleB16/yaleB16_P00A+110E+65.pgm',\n",
       " 'CroppedYale/yaleB03/yaleB03_P00A-130E+20.pgm',\n",
       " 'CroppedYale/yaleB10/yaleB10_P00A-120E+00.pgm',\n",
       " 'CroppedYale/yaleB27/yaleB27_P00A-070E-35.pgm',\n",
       " 'CroppedYale/yaleB08/yaleB08_P00A-010E-20.pgm',\n",
       " 'CroppedYale/yaleB03/yaleB03_P00A-110E+40.pgm',\n",
       " 'CroppedYale/yaleB02/yaleB02_P00A+020E-10.pgm',\n",
       " 'CroppedYale/yaleB04/yaleB04_P00A-020E-10.pgm',\n",
       " 'CroppedYale/yaleB03/yaleB03_P00A+020E+10.pgm',\n",
       " 'CroppedYale/yaleB23/yaleB23_P00A+000E-20.pgm',\n",
       " 'CroppedYale/yaleB07/yaleB07_P00A+110E+40.pgm',\n",
       " 'CroppedYale/yaleB38/yaleB38_P00A-095E+00.pgm',\n",
       " 'CroppedYale/yaleB15/yaleB15_P00A-060E+20.pgm',\n",
       " 'CroppedYale/yaleB38/yaleB38_P00A-050E+00.pgm',\n",
       " 'CroppedYale/yaleB18/yaleB18_P00A+070E+00.pgm',\n",
       " 'CroppedYale/yaleB32/yaleB32_P00A-070E-35.pgm',\n",
       " 'CroppedYale/yaleB04/yaleB04_P00A-070E-35.pgm',\n",
       " 'CroppedYale/yaleB17/yaleB17_P00A+110E-20.pgm',\n",
       " 'CroppedYale/yaleB11/yaleB11_P00A+020E+10.pgm',\n",
       " 'CroppedYale/yaleB20/yaleB20_P00A+025E+00.pgm',\n",
       " 'CroppedYale/yaleB36/yaleB36_P00A+120E+00.pgm',\n",
       " 'CroppedYale/yaleB17/yaleB17_P00A-060E+20.pgm',\n",
       " 'CroppedYale/yaleB21/yaleB21_P00A-070E+45.pgm',\n",
       " 'CroppedYale/yaleB19/yaleB19_P00A-035E+40.pgm',\n",
       " 'CroppedYale/yaleB10/yaleB10_P00A+070E+00.pgm',\n",
       " 'CroppedYale/yaleB38/yaleB38_P00A+110E+15.pgm',\n",
       " 'CroppedYale/yaleB08/yaleB08_P00A+010E-20.pgm',\n",
       " 'CroppedYale/yaleB34/yaleB34_P00A-110E+65.pgm',\n",
       " 'CroppedYale/yaleB33/yaleB33_P00A-035E+15.pgm',\n",
       " 'CroppedYale/yaleB01/yaleB01_P00A-010E-20.pgm',\n",
       " 'CroppedYale/yaleB18/yaleB18_P00A+000E+00.pgm',\n",
       " 'CroppedYale/yaleB09/yaleB09_P00A+000E+00.pgm',\n",
       " 'CroppedYale/yaleB37/yaleB37_P00A-035E+15.pgm',\n",
       " 'CroppedYale/yaleB14/yaleB14_P00A-110E+40.pgm',\n",
       " 'CroppedYale/yaleB37/yaleB37_P00A+015E+20.pgm',\n",
       " 'CroppedYale/yaleB04/yaleB04_P00A+020E-40.pgm',\n",
       " 'CroppedYale/yaleB03/yaleB03_P00A+060E-20.pgm',\n",
       " 'CroppedYale/yaleB26/yaleB26_P00A+000E+45.pgm',\n",
       " 'CroppedYale/yaleB22/yaleB22_P00A+095E+00.pgm',\n",
       " 'CroppedYale/yaleB16/yaleB16_P00A-035E+65.pgm',\n",
       " 'CroppedYale/yaleB22/yaleB22_P00A+000E-20.pgm',\n",
       " 'CroppedYale/yaleB15/yaleB15_P00A-070E+00.pgm',\n",
       " 'CroppedYale/yaleB11/yaleB11_P00A-120E+00.pgm',\n",
       " 'CroppedYale/yaleB31/yaleB31_P00A+010E-20.pgm',\n",
       " 'CroppedYale/yaleB29/yaleB29_P00A+095E+00.pgm',\n",
       " 'CroppedYale/yaleB18/yaleB18_P00A+005E+10.pgm',\n",
       " 'CroppedYale/yaleB30/yaleB30_P00A+070E+00.pgm',\n",
       " 'CroppedYale/yaleB28/yaleB28_P00A-050E+00.pgm',\n",
       " 'CroppedYale/yaleB05/yaleB05_P00A+095E+00.pgm',\n",
       " 'CroppedYale/yaleB06/yaleB06_P00A-110E+65.pgm',\n",
       " 'CroppedYale/yaleB33/yaleB33_P00A+000E+45.pgm',\n",
       " 'CroppedYale/yaleB26/yaleB26_P00A+095E+00.pgm',\n",
       " 'CroppedYale/yaleB28/yaleB28_P00A-050E-40.pgm',\n",
       " 'CroppedYale/yaleB08/yaleB08_P00A+005E-10.pgm',\n",
       " 'CroppedYale/yaleB29/yaleB29_P00A+110E-20.pgm',\n",
       " 'CroppedYale/yaleB05/yaleB05_P00A+000E-20.pgm',\n",
       " 'CroppedYale/yaleB12/yaleB12_P00A+020E-40.pgm',\n",
       " 'CroppedYale/yaleB06/yaleB06_P00A-085E-20.pgm',\n",
       " 'CroppedYale/yaleB23/yaleB23_P00A-110E+65.pgm',\n",
       " 'CroppedYale/yaleB29/yaleB29_P00A+015E+20.pgm',\n",
       " 'CroppedYale/yaleB15/yaleB15_P00A-110E+15.pgm',\n",
       " 'CroppedYale/yaleB27/yaleB27_P00A-005E+10.pgm',\n",
       " 'CroppedYale/yaleB35/yaleB35_P00A-070E+45.pgm',\n",
       " 'CroppedYale/yaleB30/yaleB30_P00A+000E+20.pgm',\n",
       " 'CroppedYale/yaleB26/yaleB26_P00A+000E+90.pgm',\n",
       " 'CroppedYale/yaleB19/yaleB19_P00A+000E+00.pgm',\n",
       " 'CroppedYale/yaleB28/yaleB28_P00A-020E-10.pgm',\n",
       " 'CroppedYale/yaleB05/yaleB05_P00A-085E-20.pgm',\n",
       " 'CroppedYale/yaleB14/yaleB14_P00A-070E-35.pgm',\n",
       " 'CroppedYale/yaleB09/yaleB09_P00A-050E+00.pgm',\n",
       " 'CroppedYale/yaleB04/yaleB04_P00A+020E-10.pgm',\n",
       " 'CroppedYale/yaleB01/yaleB01_P00A+035E+15.pgm',\n",
       " 'CroppedYale/yaleB14/yaleB14_P00A+020E-40.pgm',\n",
       " 'CroppedYale/yaleB18/yaleB18_P00A-120E+00.pgm',\n",
       " 'CroppedYale/yaleB15/yaleB15_P00A-005E+10.pgm',\n",
       " 'CroppedYale/yaleB10/yaleB10_P00A-035E-20.pgm',\n",
       " 'CroppedYale/yaleB34/yaleB34_P00A-085E+20.pgm',\n",
       " 'CroppedYale/yaleB03/yaleB03_P00A+000E+90.pgm',\n",
       " 'CroppedYale/yaleB13/yaleB13_P00A-120E+00.pgm',\n",
       " 'CroppedYale/yaleB30/yaleB30_P00A+110E-20.pgm',\n",
       " 'CroppedYale/yaleB38/yaleB38_P00A+010E-20.pgm',\n",
       " 'CroppedYale/yaleB29/yaleB29_P00A+085E+20.pgm',\n",
       " 'CroppedYale/yaleB20/yaleB20_P00A+110E+40.pgm',\n",
       " 'CroppedYale/yaleB02/yaleB02_P00A+085E+20.pgm',\n",
       " 'CroppedYale/yaleB15/yaleB15_P00A+035E+15.pgm',\n",
       " 'CroppedYale/yaleB38/yaleB38_P00A+025E+00.pgm',\n",
       " 'CroppedYale/yaleB11/yaleB11_P00A-025E+00.pgm',\n",
       " 'CroppedYale/yaleB21/yaleB21_P00A-110E+40.pgm',\n",
       " 'CroppedYale/yaleB02/yaleB02_P00A+060E-20.pgm',\n",
       " 'CroppedYale/yaleB20/yaleB20_P00A-035E-20.pgm',\n",
       " 'CroppedYale/yaleB18/yaleB18_P00A+035E+15.pgm',\n",
       " 'CroppedYale/yaleB38/yaleB38_P00A-110E-20.pgm',\n",
       " 'CroppedYale/yaleB37/yaleB37_P00A-070E+45.pgm',\n",
       " 'CroppedYale/yaleB22/yaleB22_P00A+010E+00.pgm',\n",
       " 'CroppedYale/yaleB37/yaleB37_P00A+060E+20.pgm',\n",
       " 'CroppedYale/yaleB28/yaleB28_P00A+050E-40.pgm',\n",
       " 'CroppedYale/yaleB04/yaleB04_P00A+000E+45.pgm',\n",
       " 'CroppedYale/yaleB31/yaleB31_P00A-110E+40.pgm',\n",
       " 'CroppedYale/yaleB01/yaleB01_P00A-060E-20.pgm',\n",
       " 'CroppedYale/yaleB06/yaleB06_P00A+120E+00.pgm',\n",
       " 'CroppedYale/yaleB31/yaleB31_P00A-070E+00.pgm',\n",
       " 'CroppedYale/yaleB31/yaleB31_P00A+050E+00.pgm',\n",
       " 'CroppedYale/yaleB14/yaleB14_P00A+130E+20.pgm',\n",
       " 'CroppedYale/yaleB35/yaleB35_P00A+000E+45.pgm',\n",
       " 'CroppedYale/yaleB36/yaleB36_P00A-110E+40.pgm',\n",
       " 'CroppedYale/yaleB04/yaleB04_P00A-010E+00.pgm',\n",
       " 'CroppedYale/yaleB31/yaleB31_P00A+000E-20.pgm',\n",
       " 'CroppedYale/yaleB12/yaleB12_P00A-060E+20.pgm',\n",
       " 'CroppedYale/yaleB36/yaleB36_P00A+000E+20.pgm',\n",
       " 'CroppedYale/yaleB26/yaleB26_P00A+120E+00.pgm',\n",
       " 'CroppedYale/yaleB10/yaleB10_P00A+050E-40.pgm',\n",
       " 'CroppedYale/yaleB35/yaleB35_P00A-020E-40.pgm',\n",
       " 'CroppedYale/yaleB26/yaleB26_P00A+000E+20.pgm',\n",
       " 'CroppedYale/yaleB02/yaleB02_P00A-010E-20.pgm',\n",
       " 'CroppedYale/yaleB25/yaleB25_P00A+085E+20.pgm',\n",
       " 'CroppedYale/yaleB01/yaleB01_P00A+010E+00.pgm',\n",
       " 'CroppedYale/yaleB29/yaleB29_P00A-020E+10.pgm',\n",
       " 'CroppedYale/yaleB13/yaleB13_P00A+000E+90.pgm',\n",
       " 'CroppedYale/yaleB06/yaleB06_P00A+005E-10.pgm',\n",
       " 'CroppedYale/yaleB05/yaleB05_P00A-005E-10.pgm',\n",
       " 'CroppedYale/yaleB33/yaleB33_P00A+130E+20.pgm',\n",
       " 'CroppedYale/yaleB01/yaleB01_P00A+035E-20.pgm',\n",
       " 'CroppedYale/yaleB15/yaleB15_P00A+020E-10.pgm',\n",
       " 'CroppedYale/yaleB15/yaleB15_P00A+020E-40.pgm',\n",
       " 'CroppedYale/yaleB33/yaleB33_P00A+060E+20.pgm',\n",
       " 'CroppedYale/yaleB11/yaleB11_P00A+035E+40.pgm',\n",
       " 'CroppedYale/yaleB28/yaleB28_P00A+110E+40.pgm',\n",
       " 'CroppedYale/yaleB21/yaleB21_P00A+110E+40.pgm',\n",
       " 'CroppedYale/yaleB29/yaleB29_P00A+000E-35.pgm',\n",
       " 'CroppedYale/yaleB23/yaleB23_P00A+070E-35.pgm',\n",
       " 'CroppedYale/yaleB12/yaleB12_P00A+020E+10.pgm',\n",
       " 'CroppedYale/yaleB19/yaleB19_P00A+110E+65.pgm',\n",
       " 'CroppedYale/yaleB33/yaleB33_P00A+020E+10.pgm',\n",
       " 'CroppedYale/yaleB21/yaleB21_P00A+010E-20.pgm',\n",
       " 'CroppedYale/yaleB24/yaleB24_P00A-120E+00.pgm',\n",
       " 'CroppedYale/yaleB15/yaleB15_P00A-020E-40.pgm',\n",
       " 'CroppedYale/yaleB22/yaleB22_P00A+020E-10.pgm',\n",
       " 'CroppedYale/yaleB25/yaleB25_P00A-025E+00.pgm',\n",
       " 'CroppedYale/yaleB30/yaleB30_P00A-060E-20.pgm',\n",
       " 'CroppedYale/yaleB28/yaleB28_P00A-060E+20.pgm',\n",
       " 'CroppedYale/yaleB11/yaleB11_P00A+010E-20.pgm',\n",
       " 'CroppedYale/yaleB23/yaleB23_P00A+000E-35.pgm',\n",
       " 'CroppedYale/yaleB34/yaleB34_P00A-050E+00.pgm',\n",
       " 'CroppedYale/yaleB01/yaleB01_P00A+095E+00.pgm',\n",
       " 'CroppedYale/yaleB21/yaleB21_P00A+000E+45.pgm',\n",
       " 'CroppedYale/yaleB22/yaleB22_P00A+025E+00.pgm',\n",
       " 'CroppedYale/yaleB32/yaleB32_P00A-130E+20.pgm',\n",
       " 'CroppedYale/yaleB20/yaleB20_P00A+000E+20.pgm',\n",
       " 'CroppedYale/yaleB15/yaleB15_P00A+070E+45.pgm',\n",
       " 'CroppedYale/yaleB16/yaleB16_P00A+000E+20.pgm',\n",
       " 'CroppedYale/yaleB05/yaleB05_P00A-025E+00.pgm',\n",
       " 'CroppedYale/yaleB06/yaleB06_P00A+110E+65.pgm',\n",
       " 'CroppedYale/yaleB04/yaleB04_P00A+035E+65.pgm',\n",
       " 'CroppedYale/yaleB29/yaleB29_P00A-020E-40.pgm',\n",
       " 'CroppedYale/yaleB09/yaleB09_P00A+005E+10.pgm',\n",
       " 'CroppedYale/yaleB29/yaleB29_P00A+010E+00.pgm',\n",
       " 'CroppedYale/yaleB14/yaleB14_P00A+035E+40.pgm',\n",
       " 'CroppedYale/yaleB34/yaleB34_P00A+000E+90.pgm',\n",
       " 'CroppedYale/yaleB29/yaleB29_P00A+070E-35.pgm',\n",
       " 'CroppedYale/yaleB30/yaleB30_P00A-050E-40.pgm',\n",
       " 'CroppedYale/yaleB20/yaleB20_P00A-050E-40.pgm',\n",
       " 'CroppedYale/yaleB37/yaleB37_P00A+005E-10.pgm',\n",
       " 'CroppedYale/yaleB07/yaleB07_P00A+035E-20.pgm',\n",
       " 'CroppedYale/yaleB30/yaleB30_P00A-005E-10.pgm',\n",
       " 'CroppedYale/yaleB08/yaleB08_P00A-035E-20.pgm',\n",
       " 'CroppedYale/yaleB03/yaleB03_P00A-020E+10.pgm',\n",
       " 'CroppedYale/yaleB07/yaleB07_P00A+000E+00.pgm',\n",
       " 'CroppedYale/yaleB16/yaleB16_P00A+110E+15.pgm',\n",
       " 'CroppedYale/yaleB27/yaleB27_P00A+110E+15.pgm',\n",
       " 'CroppedYale/yaleB21/yaleB21_P00A-070E+00.pgm',\n",
       " 'CroppedYale/yaleB03/yaleB03_P00A-070E+00.pgm',\n",
       " 'CroppedYale/yaleB10/yaleB10_P00A-035E+15.pgm',\n",
       " 'CroppedYale/yaleB24/yaleB24_P00A+005E-10.pgm',\n",
       " 'CroppedYale/yaleB04/yaleB04_P00A-110E+15.pgm',\n",
       " 'CroppedYale/yaleB04/yaleB04_P00A-085E+20.pgm',\n",
       " 'CroppedYale/yaleB13/yaleB13_P00A-035E+15.pgm',\n",
       " 'CroppedYale/yaleB13/yaleB13_P00A-095E+00.pgm',\n",
       " 'CroppedYale/yaleB27/yaleB27_P00A+020E-40.pgm',\n",
       " 'CroppedYale/yaleB33/yaleB33_P00A-025E+00.pgm',\n",
       " 'CroppedYale/yaleB36/yaleB36_P00A+035E+65.pgm',\n",
       " 'CroppedYale/yaleB30/yaleB30_P00A-070E+00.pgm',\n",
       " 'CroppedYale/yaleB21/yaleB21_P00A-005E+10.pgm',\n",
       " 'CroppedYale/yaleB17/yaleB17_P00A-050E-40.pgm',\n",
       " 'CroppedYale/yaleB01/yaleB01_P00A+005E+10.pgm',\n",
       " 'CroppedYale/yaleB26/yaleB26_P00A-035E+65.pgm',\n",
       " 'CroppedYale/yaleB10/yaleB10_P00A+110E-20.pgm',\n",
       " 'CroppedYale/yaleB16/yaleB16_P00A+000E-35.pgm',\n",
       " 'CroppedYale/yaleB03/yaleB03_P00A-110E+65.pgm',\n",
       " 'CroppedYale/yaleB19/yaleB19_P00A+120E+00.pgm',\n",
       " 'CroppedYale/yaleB09/yaleB09_P00A+070E-35.pgm',\n",
       " 'CroppedYale/yaleB22/yaleB22_P00A-015E+20.pgm',\n",
       " 'CroppedYale/yaleB21/yaleB21_P00A-025E+00.pgm',\n",
       " 'CroppedYale/yaleB09/yaleB09_P00A+070E+00.pgm',\n",
       " 'CroppedYale/yaleB02/yaleB02_P00A-020E+10.pgm',\n",
       " 'CroppedYale/yaleB07/yaleB07_P00A+000E-20.pgm',\n",
       " 'CroppedYale/yaleB33/yaleB33_P00A-020E-10.pgm',\n",
       " 'CroppedYale/yaleB12/yaleB12_P00A+130E+20.pgm',\n",
       " 'CroppedYale/yaleB09/yaleB09_P00A+060E+20.pgm',\n",
       " 'CroppedYale/yaleB34/yaleB34_P00A+000E-35.pgm',\n",
       " 'CroppedYale/yaleB28/yaleB28_P00A+060E-20.pgm',\n",
       " 'CroppedYale/yaleB27/yaleB27_P00A-110E+65.pgm',\n",
       " 'CroppedYale/yaleB22/yaleB22_P00A+110E-20.pgm',\n",
       " 'CroppedYale/yaleB18/yaleB18_P00A+060E+20.pgm',\n",
       " 'CroppedYale/yaleB34/yaleB34_P00A+010E+00.pgm',\n",
       " 'CroppedYale/yaleB17/yaleB17_P00A-050E+00.pgm',\n",
       " 'CroppedYale/yaleB07/yaleB07_P00A+070E+00.pgm',\n",
       " 'CroppedYale/yaleB17/yaleB17_P00A+005E+10.pgm',\n",
       " 'CroppedYale/yaleB16/yaleB16_P00A+050E+00.pgm',\n",
       " 'CroppedYale/yaleB28/yaleB28_P00A+005E+10.pgm',\n",
       " 'CroppedYale/yaleB06/yaleB06_P00A+020E+10.pgm',\n",
       " 'CroppedYale/yaleB12/yaleB12_P00A+070E+45.pgm',\n",
       " 'CroppedYale/yaleB07/yaleB07_P00A-010E+00.pgm',\n",
       " 'CroppedYale/yaleB18/yaleB18_P00A-130E+20.pgm',\n",
       " 'CroppedYale/yaleB08/yaleB08_P00A-070E-35.pgm',\n",
       " 'CroppedYale/yaleB29/yaleB29_P00A-070E-35.pgm',\n",
       " 'CroppedYale/yaleB03/yaleB03_P00A-005E-10.pgm',\n",
       " 'CroppedYale/yaleB26/yaleB26_P00A+000E-35.pgm',\n",
       " 'CroppedYale/yaleB28/yaleB28_P00A+035E-20.pgm',\n",
       " 'CroppedYale/yaleB33/yaleB33_P00A+005E+10.pgm',\n",
       " 'CroppedYale/yaleB12/yaleB12_P00A-020E-40.pgm',\n",
       " 'CroppedYale/yaleB21/yaleB21_P00A-050E+00.pgm',\n",
       " 'CroppedYale/yaleB25/yaleB25_P00A+015E+20.pgm',\n",
       " 'CroppedYale/yaleB17/yaleB17_P00A+000E+45.pgm',\n",
       " 'CroppedYale/yaleB16/yaleB16_P00A-110E+65.pgm',\n",
       " 'CroppedYale/yaleB08/yaleB08_P00A+035E+65.pgm',\n",
       " 'CroppedYale/yaleB05/yaleB05_P00A-050E-40.pgm',\n",
       " 'CroppedYale/yaleB32/yaleB32_P00A-060E+20.pgm',\n",
       " 'CroppedYale/yaleB20/yaleB20_P00A-110E+65.pgm',\n",
       " 'CroppedYale/yaleB21/yaleB21_P00A+020E+10.pgm',\n",
       " 'CroppedYale/yaleB22/yaleB22_P00A-110E+15.pgm',\n",
       " 'CroppedYale/yaleB13/yaleB13_P00A+010E-20.pgm',\n",
       " 'CroppedYale/yaleB03/yaleB03_P00A-005E+10.pgm',\n",
       " 'CroppedYale/yaleB17/yaleB17_P00A-035E-20.pgm',\n",
       " 'CroppedYale/yaleB01/yaleB01_P00A-020E-10.pgm',\n",
       " 'CroppedYale/yaleB34/yaleB34_P00A+000E+00.pgm',\n",
       " 'CroppedYale/yaleB31/yaleB31_P00A-020E+10.pgm',\n",
       " 'CroppedYale/yaleB11/yaleB11_P00A+020E-10.pgm',\n",
       " 'CroppedYale/yaleB31/yaleB31_P00A+005E+10.pgm',\n",
       " 'CroppedYale/yaleB06/yaleB06_P00A+050E+00.pgm',\n",
       " 'CroppedYale/yaleB20/yaleB20_P00A+000E-20.pgm',\n",
       " 'CroppedYale/yaleB27/yaleB27_P00A-020E+10.pgm',\n",
       " 'CroppedYale/yaleB33/yaleB33_P00A-005E+10.pgm',\n",
       " 'CroppedYale/yaleB21/yaleB21_P00A-020E+10.pgm',\n",
       " 'CroppedYale/yaleB10/yaleB10_P00A-010E-20.pgm',\n",
       " 'CroppedYale/yaleB20/yaleB20_P00A+020E-40.pgm',\n",
       " 'CroppedYale/yaleB24/yaleB24_P00A-095E+00.pgm',\n",
       " 'CroppedYale/yaleB30/yaleB30_P00A-020E-40.pgm',\n",
       " 'CroppedYale/yaleB03/yaleB03_P00A-110E-20.pgm',\n",
       " 'CroppedYale/yaleB15/yaleB15_P00A-010E-20.pgm',\n",
       " 'CroppedYale/yaleB05/yaleB05_P00A-110E+40.pgm',\n",
       " 'CroppedYale/yaleB09/yaleB09_P00A+000E+90.pgm',\n",
       " 'CroppedYale/yaleB27/yaleB27_P00A+015E+20.pgm',\n",
       " 'CroppedYale/yaleB11/yaleB11_P00A+035E-20.pgm',\n",
       " 'CroppedYale/yaleB21/yaleB21_P00A-070E-35.pgm',\n",
       " 'CroppedYale/yaleB33/yaleB33_P00A-110E+65.pgm',\n",
       " 'CroppedYale/yaleB07/yaleB07_P00A+095E+00.pgm',\n",
       " 'CroppedYale/yaleB22/yaleB22_P00A+020E+10.pgm',\n",
       " 'CroppedYale/yaleB35/yaleB35_P00A+020E-10.pgm',\n",
       " 'CroppedYale/yaleB01/yaleB01_P00A-060E+20.pgm',\n",
       " 'CroppedYale/yaleB12/yaleB12_P00A+025E+00.pgm',\n",
       " 'CroppedYale/yaleB14/yaleB14_P00A-020E+10.pgm',\n",
       " 'CroppedYale/yaleB13/yaleB13_P00A+035E+65.pgm',\n",
       " 'CroppedYale/yaleB08/yaleB08_P00A+000E-20.pgm',\n",
       " 'CroppedYale/yaleB05/yaleB05_P00A-010E-20.pgm',\n",
       " 'CroppedYale/yaleB18/yaleB18_P00A-060E-20.pgm',\n",
       " 'CroppedYale/yaleB34/yaleB34_P00A+020E-10.pgm',\n",
       " 'CroppedYale/yaleB30/yaleB30_P00A-015E+20.pgm',\n",
       " 'CroppedYale/yaleB04/yaleB04_P00A-110E-20.pgm',\n",
       " 'CroppedYale/yaleB05/yaleB05_P00A-095E+00.pgm',\n",
       " 'CroppedYale/yaleB09/yaleB09_P00A-060E-20.pgm',\n",
       " 'CroppedYale/yaleB26/yaleB26_P00A+035E+40.pgm',\n",
       " 'CroppedYale/yaleB04/yaleB04_P00A+070E+45.pgm',\n",
       " 'CroppedYale/yaleB31/yaleB31_P00A+110E+65.pgm',\n",
       " 'CroppedYale/yaleB01/yaleB01_P00A-110E+65.pgm',\n",
       " 'CroppedYale/yaleB11/yaleB11_P00A+000E+90.pgm',\n",
       " 'CroppedYale/yaleB29/yaleB29_P00A+000E+90.pgm',\n",
       " 'CroppedYale/yaleB03/yaleB03_P00A-050E+00.pgm',\n",
       " 'CroppedYale/yaleB01/yaleB01_P00A+120E+00.pgm',\n",
       " 'CroppedYale/yaleB30/yaleB30_P00A+050E+00.pgm',\n",
       " 'CroppedYale/yaleB14/yaleB14_P00A+000E-20.pgm',\n",
       " 'CroppedYale/yaleB33/yaleB33_P00A+000E-35.pgm',\n",
       " 'CroppedYale/yaleB36/yaleB36_P00A-060E+20.pgm',\n",
       " 'CroppedYale/yaleB29/yaleB29_P00A-035E-20.pgm',\n",
       " 'CroppedYale/yaleB09/yaleB09_P00A+020E-10.pgm',\n",
       " 'CroppedYale/yaleB30/yaleB30_P00A-110E+65.pgm',\n",
       " 'CroppedYale/yaleB24/yaleB24_P00A+000E-20.pgm',\n",
       " 'CroppedYale/yaleB26/yaleB26_P00A-005E-10.pgm',\n",
       " 'CroppedYale/yaleB34/yaleB34_P00A+110E-20.pgm',\n",
       " 'CroppedYale/yaleB15/yaleB15_P00A-035E+15.pgm',\n",
       " 'CroppedYale/yaleB05/yaleB05_P00A+005E+10.pgm',\n",
       " 'CroppedYale/yaleB28/yaleB28_P00A-110E+65.pgm',\n",
       " 'CroppedYale/yaleB25/yaleB25_P00A-110E+40.pgm',\n",
       " 'CroppedYale/yaleB26/yaleB26_P00A-020E-10.pgm',\n",
       " 'CroppedYale/yaleB31/yaleB31_P00A+020E-10.pgm',\n",
       " 'CroppedYale/yaleB09/yaleB09_P00A-035E+15.pgm',\n",
       " 'CroppedYale/yaleB36/yaleB36_P00A+020E-10.pgm',\n",
       " 'CroppedYale/yaleB12/yaleB12_P00A+070E-35.pgm',\n",
       " 'CroppedYale/yaleB15/yaleB15_P00A-015E+20.pgm',\n",
       " 'CroppedYale/yaleB13/yaleB13_P00A+005E+10.pgm',\n",
       " 'CroppedYale/yaleB05/yaleB05_P00A-005E+10.pgm',\n",
       " 'CroppedYale/yaleB12/yaleB12_P00A+035E+40.pgm',\n",
       " 'CroppedYale/yaleB13/yaleB13_P00A+035E-20.pgm',\n",
       " 'CroppedYale/yaleB19/yaleB19_P00A+020E-10.pgm',\n",
       " 'CroppedYale/yaleB29/yaleB29_P00A+050E-40.pgm',\n",
       " 'CroppedYale/yaleB25/yaleB25_P00A+035E+15.pgm',\n",
       " 'CroppedYale/yaleB36/yaleB36_P00A+010E+00.pgm',\n",
       " 'CroppedYale/yaleB31/yaleB31_P00A+085E+20.pgm',\n",
       " 'CroppedYale/yaleB08/yaleB08_P00A+070E+00.pgm',\n",
       " 'CroppedYale/yaleB35/yaleB35_P00A-035E-20.pgm',\n",
       " 'CroppedYale/yaleB36/yaleB36_P00A+000E+00.pgm',\n",
       " 'CroppedYale/yaleB20/yaleB20_P00A+110E+65.pgm',\n",
       " 'CroppedYale/yaleB33/yaleB33_P00A+035E+15.pgm',\n",
       " 'CroppedYale/yaleB12/yaleB12_P00A+000E-20.pgm',\n",
       " 'CroppedYale/yaleB38/yaleB38_P00A-060E+20.pgm',\n",
       " 'CroppedYale/yaleB02/yaleB02_P00A-070E+45.pgm',\n",
       " 'CroppedYale/yaleB23/yaleB23_P00A-005E+10.pgm',\n",
       " 'CroppedYale/yaleB14/yaleB14_P00A-070E+00.pgm',\n",
       " 'CroppedYale/yaleB02/yaleB02_P00A-130E+20.pgm',\n",
       " 'CroppedYale/yaleB26/yaleB26_P00A+020E-40.pgm',\n",
       " 'CroppedYale/yaleB13/yaleB13_P00A+070E+45.pgm',\n",
       " 'CroppedYale/yaleB17/yaleB17_P00A-110E+65.pgm',\n",
       " 'CroppedYale/yaleB22/yaleB22_P00A-010E-20.pgm',\n",
       " 'CroppedYale/yaleB33/yaleB33_P00A-070E-35.pgm',\n",
       " 'CroppedYale/yaleB28/yaleB28_P00A+085E-20.pgm',\n",
       " 'CroppedYale/yaleB15/yaleB15_P00A-110E-20.pgm',\n",
       " 'CroppedYale/yaleB34/yaleB34_P00A-035E+15.pgm',\n",
       " 'CroppedYale/yaleB09/yaleB09_P00A+060E-20.pgm',\n",
       " 'CroppedYale/yaleB10/yaleB10_P00A-070E+00.pgm',\n",
       " 'CroppedYale/yaleB32/yaleB32_P00A+035E+40.pgm',\n",
       " 'CroppedYale/yaleB35/yaleB35_P00A+110E+40.pgm',\n",
       " 'CroppedYale/yaleB17/yaleB17_P00A+110E+15.pgm',\n",
       " 'CroppedYale/yaleB24/yaleB24_P00A-070E-35.pgm',\n",
       " 'CroppedYale/yaleB28/yaleB28_P00A+000E+90.pgm',\n",
       " 'CroppedYale/yaleB15/yaleB15_P00A+025E+00.pgm',\n",
       " 'CroppedYale/yaleB16/yaleB16_P00A+000E+90.pgm',\n",
       " 'CroppedYale/yaleB32/yaleB32_P00A+005E-10.pgm',\n",
       " 'CroppedYale/yaleB21/yaleB21_P00A-015E+20.pgm',\n",
       " 'CroppedYale/yaleB31/yaleB31_P00A+130E+20.pgm',\n",
       " 'CroppedYale/yaleB28/yaleB28_P00A+020E+10.pgm',\n",
       " 'CroppedYale/yaleB30/yaleB30_P00A+005E-10.pgm',\n",
       " 'CroppedYale/yaleB09/yaleB09_P00A+085E-20.pgm',\n",
       " 'CroppedYale/yaleB28/yaleB28_P00A-110E+15.pgm',\n",
       " 'CroppedYale/yaleB02/yaleB02_P00A+015E+20.pgm',\n",
       " 'CroppedYale/yaleB12/yaleB12_P00A+010E+00.pgm',\n",
       " 'CroppedYale/yaleB27/yaleB27_P00A+060E+20.pgm',\n",
       " 'CroppedYale/yaleB16/yaleB16_P00A+120E+00.pgm',\n",
       " 'CroppedYale/yaleB29/yaleB29_P00A+020E-10.pgm',\n",
       " 'CroppedYale/yaleB34/yaleB34_P00A-025E+00.pgm',\n",
       " 'CroppedYale/yaleB04/yaleB04_P00A-120E+00.pgm',\n",
       " 'CroppedYale/yaleB07/yaleB07_P00A+005E+10.pgm',\n",
       " 'CroppedYale/yaleB04/yaleB04_P00A-085E-20.pgm',\n",
       " 'CroppedYale/yaleB19/yaleB19_P00A+005E-10.pgm',\n",
       " 'CroppedYale/yaleB08/yaleB08_P00A+095E+00.pgm',\n",
       " 'CroppedYale/yaleB24/yaleB24_P00A+000E+45.pgm',\n",
       " 'CroppedYale/yaleB33/yaleB33_P00A+035E-20.pgm',\n",
       " 'CroppedYale/yaleB19/yaleB19_P00A-010E+00.pgm',\n",
       " 'CroppedYale/yaleB04/yaleB04_P00A+060E-20.pgm',\n",
       " 'CroppedYale/yaleB20/yaleB20_P00A+050E-40.pgm',\n",
       " 'CroppedYale/yaleB12/yaleB12_P00A+020E-10.pgm',\n",
       " 'CroppedYale/yaleB24/yaleB24_P00A+085E+20.pgm',\n",
       " 'CroppedYale/yaleB37/yaleB37_P00A-035E+65.pgm',\n",
       " 'CroppedYale/yaleB29/yaleB29_P00A-110E+65.pgm',\n",
       " 'CroppedYale/yaleB37/yaleB37_P00A+005E+10.pgm',\n",
       " 'CroppedYale/yaleB27/yaleB27_P00A+110E+40.pgm',\n",
       " 'CroppedYale/yaleB37/yaleB37_P00A+110E+15.pgm',\n",
       " 'CroppedYale/yaleB15/yaleB15_P00A+000E+90.pgm',\n",
       " 'CroppedYale/yaleB31/yaleB31_P00A+110E-20.pgm',\n",
       " 'CroppedYale/yaleB35/yaleB35_P00A+110E+65.pgm',\n",
       " 'CroppedYale/yaleB26/yaleB26_P00A-010E+00.pgm',\n",
       " 'CroppedYale/yaleB31/yaleB31_P00A-025E+00.pgm',\n",
       " 'CroppedYale/yaleB05/yaleB05_P00A+015E+20.pgm',\n",
       " 'CroppedYale/yaleB24/yaleB24_P00A-110E+40.pgm',\n",
       " 'CroppedYale/yaleB01/yaleB01_P00A+110E+40.pgm',\n",
       " 'CroppedYale/yaleB36/yaleB36_P00A-120E+00.pgm',\n",
       " 'CroppedYale/yaleB35/yaleB35_P00A-015E+20.pgm',\n",
       " 'CroppedYale/yaleB38/yaleB38_P00A-010E-20.pgm',\n",
       " 'CroppedYale/yaleB12/yaleB12_P00A+110E+65.pgm',\n",
       " 'CroppedYale/yaleB20/yaleB20_P00A-020E-10.pgm',\n",
       " 'CroppedYale/yaleB08/yaleB08_P00A+085E+20.pgm',\n",
       " 'CroppedYale/yaleB10/yaleB10_P00A-020E+10.pgm',\n",
       " 'CroppedYale/yaleB23/yaleB23_P00A-070E+45.pgm',\n",
       " 'CroppedYale/yaleB37/yaleB37_P00A+130E+20.pgm',\n",
       " 'CroppedYale/yaleB36/yaleB36_P00A+070E+45.pgm',\n",
       " 'CroppedYale/yaleB06/yaleB06_P00A-035E-20.pgm',\n",
       " 'CroppedYale/yaleB01/yaleB01_P00A+005E-10.pgm',\n",
       " 'CroppedYale/yaleB15/yaleB15_P00A-050E+00.pgm',\n",
       " 'CroppedYale/yaleB06/yaleB06_P00A+000E+20.pgm',\n",
       " 'CroppedYale/yaleB18/yaleB18_P00A-110E+65.pgm',\n",
       " 'CroppedYale/yaleB09/yaleB09_P00A-015E+20.pgm',\n",
       " 'CroppedYale/yaleB38/yaleB38_P00A+035E+40.pgm',\n",
       " 'CroppedYale/yaleB25/yaleB25_P00A+085E-20.pgm',\n",
       " ...]"
      ]
     },
     "execution_count": 5,
     "metadata": {},
     "output_type": "execute_result"
    }
   ],
   "source": [
    "names[0]"
   ]
  },
  {
   "cell_type": "code",
   "execution_count": 142,
   "metadata": {
    "ExecuteTime": {
     "end_time": "2020-12-17T07:13:51.293095Z",
     "start_time": "2020-12-17T07:13:51.281605Z"
    }
   },
   "outputs": [],
   "source": [
    "def down_samp(A, ds_factor=16):\n",
    "    im_size_down = np.ceil(im_size/ds_factor).astype(int)\n",
    "    A_down = np.zeros((np.prod(im_size_down), A.shape[-1]))\n",
    "#     print(A_down.shape)\n",
    "    for i in range(A.shape[-1]):\n",
    "        A_down[:,i] = A[:,i].reshape(im_size)[::ds_factor, ::ds_factor].flatten()\n",
    "    return A_down, im_size_down"
   ]
  },
  {
   "cell_type": "code",
   "execution_count": 94,
   "metadata": {
    "ExecuteTime": {
     "end_time": "2020-12-16T23:53:32.893622Z",
     "start_time": "2020-12-16T23:53:32.890035Z"
    }
   },
   "outputs": [],
   "source": [
    "def down_samp_pca(A, dim=132):\n",
    "    # sklearn PCA\n",
    "    pca = PCA(n_components=dim, svd_solver=\"auto\")\n",
    "    A_pca = pca.fit_transform(A.T).T\n",
    "    \n",
    "    # Manual PCA\n",
    "#     U, S, Vh = np.linalg.svd(A, full_matrices=True)\n",
    "#     print(U.shape, S.shape, Vh.shape)\n",
    "#     A_pca = U[:,:dim].T@A\n",
    "    return A_pca, pca"
   ]
  },
  {
   "cell_type": "code",
   "execution_count": null,
   "metadata": {},
   "outputs": [],
   "source": [
    "def down(A, x, down_samp_func):\n",
    "    return down_samp_func(A,x)"
   ]
  },
  {
   "cell_type": "code",
   "execution_count": 95,
   "metadata": {
    "ExecuteTime": {
     "end_time": "2020-12-17T07:28:08.702945Z",
     "start_time": "2020-12-17T07:28:08.196802Z"
    }
   },
   "outputs": [
    {
     "data": {
      "text/plain": [
       "(96, 84, 719)"
      ]
     },
     "execution_count": 95,
     "metadata": {},
     "output_type": "execute_result"
    }
   ],
   "source": [
    "pywt.wavedec2(A.reshape((*im_size,-1)), 'haar', axes=(0,1), level=1)[1][1].shape"
   ]
  },
  {
   "cell_type": "code",
   "execution_count": 143,
   "metadata": {
    "ExecuteTime": {
     "end_time": "2020-12-17T07:28:14.807759Z",
     "start_time": "2020-12-17T07:28:14.802626Z"
    }
   },
   "outputs": [],
   "source": [
    "def down_samp_wave(A, level=4):\n",
    "    im_vec = A.reshape((*im_size,-1))\n",
    "    wave_vec = pywt.wavedec2(im_vec, 'haar', axes=(0,1), level=level)\n",
    "#     low_dim_data = wave_vec[0]\n",
    "    low_dim_data = ((wave_vec[0] + sum(wave_vec[1]))/4)\n",
    "#     low_dim_data = wave_vec[0] + sum(wave_vec[1])\n",
    "    shape = low_dim_data.shape[:2]\n",
    "    low_dim_data = low_dim_data.reshape(-1, A.shape[-1])\n",
    "    quantized_data = (low_dim_data/np.max(low_dim_data, axis=0)*255).astype(np.uint8)\n",
    "    return quantized_data, shape"
   ]
  },
  {
   "cell_type": "code",
   "execution_count": 97,
   "metadata": {
    "ExecuteTime": {
     "end_time": "2020-12-16T23:53:35.820130Z",
     "start_time": "2020-12-16T23:53:35.816124Z"
    }
   },
   "outputs": [],
   "source": [
    "def down_samp_cv(A):\n",
    "    A_down = np.zeros((120, A.shape[-1]))\n",
    "    for i in range(A.shape[-1]):\n",
    "        A_down[:,i] = cv2.resize(A[:,i].reshape(im_size), (12,10)).flatten()\n",
    "    return A_down, (12,10)"
   ]
  },
  {
   "cell_type": "code",
   "execution_count": 13,
   "metadata": {
    "ExecuteTime": {
     "end_time": "2020-12-17T06:51:09.484155Z",
     "start_time": "2020-12-17T06:51:09.475774Z"
    }
   },
   "outputs": [],
   "source": [
    "A_ds, ds_shape = down_samp(A, ds_factor=16)"
   ]
  },
  {
   "cell_type": "code",
   "execution_count": 14,
   "metadata": {
    "ExecuteTime": {
     "end_time": "2020-12-17T06:56:59.176693Z",
     "start_time": "2020-12-17T06:56:57.454862Z"
    }
   },
   "outputs": [],
   "source": [
    "A_wave, wave_shape = down_samp_wave(A)"
   ]
  },
  {
   "cell_type": "code",
   "execution_count": 15,
   "metadata": {},
   "outputs": [],
   "source": [
    "A_ds_cv, ds_cv_shape = down_samp_cv(A)"
   ]
  },
  {
   "cell_type": "code",
   "execution_count": 16,
   "metadata": {
    "ExecuteTime": {
     "end_time": "2020-12-17T06:57:00.638567Z",
     "start_time": "2020-12-17T06:57:00.412350Z"
    }
   },
   "outputs": [
    {
     "data": {
      "text/plain": [
       "<matplotlib.image.AxesImage at 0x1a253e3390>"
      ]
     },
     "execution_count": 16,
     "metadata": {},
     "output_type": "execute_result"
    },
    {
     "data": {
      "image/png": "[encoded data removed]",
      "text/plain": [
       "<Figure size 432x288 with 1 Axes>"
      ]
     },
     "metadata": {
      "needs_background": "light"
     },
     "output_type": "display_data"
    }
   ],
   "source": [
    "plt.imshow(A[...,0].reshape(im_size))"
   ]
  },
  {
   "cell_type": "code",
   "execution_count": 17,
   "metadata": {},
   "outputs": [
    {
     "data": {
      "text/plain": [
       "<matplotlib.image.AxesImage at 0x1a54dbff10>"
      ]
     },
     "execution_count": 17,
     "metadata": {},
     "output_type": "execute_result"
    },
    {
     "data": {
      "image/png": "[encoded data removed]",
      "text/plain": [
       "<Figure size 432x288 with 1 Axes>"
      ]
     },
     "metadata": {
      "needs_background": "light"
     },
     "output_type": "display_data"
    }
   ],
   "source": [
    "plt.imshow(A_ds_cv[...,0].reshape(ds_cv_shape))"
   ]
  },
  {
   "cell_type": "code",
   "execution_count": 18,
   "metadata": {
    "ExecuteTime": {
     "end_time": "2020-12-17T06:57:02.511732Z",
     "start_time": "2020-12-17T06:57:02.370271Z"
    }
   },
   "outputs": [
    {
     "data": {
      "text/plain": [
       "<matplotlib.image.AxesImage at 0x1a4a8102d0>"
      ]
     },
     "execution_count": 18,
     "metadata": {},
     "output_type": "execute_result"
    },
    {
     "data": {
      "image/png": "[encoded data removed]",
      "text/plain": [
       "<Figure size 432x288 with 1 Axes>"
      ]
     },
     "metadata": {
      "needs_background": "light"
     },
     "output_type": "display_data"
    }
   ],
   "source": [
    "plt.imshow(A_ds[...,0].reshape(ds_shape))"
   ]
  },
  {
   "cell_type": "code",
   "execution_count": 19,
   "metadata": {
    "ExecuteTime": {
     "end_time": "2020-12-17T06:57:04.215792Z",
     "start_time": "2020-12-17T06:57:04.211448Z"
    }
   },
   "outputs": [
    {
     "data": {
      "text/plain": [
       "(8064, 1207)"
      ]
     },
     "execution_count": 19,
     "metadata": {},
     "output_type": "execute_result"
    }
   ],
   "source": [
    "A_wave.shape"
   ]
  },
  {
   "cell_type": "code",
   "execution_count": 20,
   "metadata": {
    "ExecuteTime": {
     "end_time": "2020-12-17T06:57:11.247763Z",
     "start_time": "2020-12-17T06:57:11.106919Z"
    }
   },
   "outputs": [
    {
     "data": {
      "text/plain": [
       "<matplotlib.image.AxesImage at 0x1a4a89dd90>"
      ]
     },
     "execution_count": 20,
     "metadata": {},
     "output_type": "execute_result"
    },
    {
     "data": {
      "image/png": "[encoded data removed]",
      "text/plain": [
       "<Figure size 432x288 with 1 Axes>"
      ]
     },
     "metadata": {
      "needs_background": "light"
     },
     "output_type": "display_data"
    }
   ],
   "source": [
    "plt.imshow(A_wave[...,1].reshape(wave_shape))"
   ]
  },
  {
   "cell_type": "code",
   "execution_count": 146,
   "metadata": {
    "ExecuteTime": {
     "end_time": "2020-12-16T06:54:27.771007Z",
     "start_time": "2020-12-16T06:54:27.262600Z"
    }
   },
   "outputs": [],
   "source": [
    "A_pca, _ = down_samp_pca(A)"
   ]
  },
  {
   "cell_type": "code",
   "execution_count": 147,
   "metadata": {
    "ExecuteTime": {
     "end_time": "2020-12-16T06:54:27.798697Z",
     "start_time": "2020-12-16T06:54:27.794533Z"
    }
   },
   "outputs": [
    {
     "data": {
      "text/plain": [
       "(132, 719)"
      ]
     },
     "execution_count": 147,
     "metadata": {},
     "output_type": "execute_result"
    }
   ],
   "source": [
    "A_pca.shape"
   ]
  },
  {
   "cell_type": "code",
   "execution_count": 148,
   "metadata": {
    "ExecuteTime": {
     "end_time": "2020-12-16T06:54:30.048353Z",
     "start_time": "2020-12-16T06:54:29.932692Z"
    }
   },
   "outputs": [
    {
     "data": {
      "text/plain": [
       "<matplotlib.image.AxesImage at 0x1a299df310>"
      ]
     },
     "execution_count": 148,
     "metadata": {},
     "output_type": "execute_result"
    },
    {
     "data": {
      "image/png": "[encoded data removed]",
      "text/plain": [
       "<Figure size 432x288 with 1 Axes>"
      ]
     },
     "metadata": {
      "needs_background": "light"
     },
     "output_type": "display_data"
    }
   ],
   "source": [
    "plt.imshow(A_pca)"
   ]
  },
  {
   "cell_type": "code",
   "execution_count": 24,
   "metadata": {
    "ExecuteTime": {
     "end_time": "2020-12-16T21:21:08.572648Z",
     "start_time": "2020-12-16T21:21:08.569013Z"
    }
   },
   "outputs": [],
   "source": [
    "# def delta(x, i):\n",
    "#     assert i < num_class\n",
    "#     out = np.zeros(len(x))\n",
    "#     idxs = slice(i*num_class, i*num_class+num_train)\n",
    "#     out[idxs] = x[idxs]\n",
    "#     return out"
   ]
  },
  {
   "cell_type": "code",
   "execution_count": 10,
   "metadata": {
    "ExecuteTime": {
     "end_time": "2020-12-16T23:53:43.108221Z",
     "start_time": "2020-12-16T23:53:43.105078Z"
    }
   },
   "outputs": [],
   "source": [
    "def delta_i(x, i, gt):\n",
    "    return np.where(gt==i, x, 0)"
   ]
  },
  {
   "cell_type": "code",
   "execution_count": 185,
   "metadata": {
    "ExecuteTime": {
     "end_time": "2020-12-16T23:53:44.087933Z",
     "start_time": "2020-12-16T23:53:44.081668Z"
    }
   },
   "outputs": [],
   "source": [
    "@ignore_warnings(category=ConvergenceWarning)\n",
    "def identity(A, y, class_idxs, lmbda=1e-12):\n",
    "    A_norm = np.linalg.norm(A, axis=0)\n",
    "    y_norm = np.linalg.norm(y)\n",
    "#     print(A, y)\n",
    "    prob = Lasso(fit_intercept=False, alpha=lmbda, max_iter=1e3)\n",
    "#     prob = LassoCV(fit_intercept=False, max_iter=1e4)\n",
    "    prob.fit(A/A_norm, y/y_norm)\n",
    "    x_hat = prob.coef_\n",
    "    r = np.zeros(38)\n",
    "    for i in range(38):\n",
    "        r[i] = np.linalg.norm(y-A@delta_i(x_hat, i, class_idxs))\n",
    "#     print(x_hat)\n",
    "    return np.argmin(r)"
   ]
  },
  {
   "cell_type": "code",
   "execution_count": 196,
   "metadata": {
    "ExecuteTime": {
     "end_time": "2020-12-17T06:45:43.735823Z",
     "start_time": "2020-12-17T06:45:43.725415Z"
    }
   },
   "outputs": [],
   "source": [
    "def evaluate(A, y, train_gt, test_gt, ld_func=down_samp, size_arg = None, lmbda=1e-12, train=True):\n",
    "    train_pred = np.ones_like(train_gt)*-1\n",
    "    test_pred = np.ones_like(test_gt)*-1\n",
    "    \n",
    "    if ld_func.__name__ == \"down_samp_pca\":\n",
    "        A_ld, pca = ld_func(A, size_arg)\n",
    "        y_ld = pca.transform(y.T).T\n",
    "    else:\n",
    "        A_ld, _ = ld_func(A, size_arg)\n",
    "        y_ld, _ = ld_func(y, size_arg)\n",
    "    \n",
    "#     print(A_ld.shape, y_ld.shape)\n",
    "    if train:\n",
    "        for i in tqdm(range(len(train_pred))):\n",
    "            train_pred[i] = identity(A_ld, A_ld[:,i], train_gt)\n",
    "#         print(train_pred[i], train_gt[i])\n",
    "    \n",
    "    for i in tqdm(range(len(test_pred)), position=0, leave=True):\n",
    "        test_pred[i] = identity(A_ld, y_ld[:,i], train_gt, lmbda)\n",
    "    \n",
    "#     print(train_pred)\n",
    "    train_acc = accuracy_score(train_gt, train_pred)*100\n",
    "    test_acc = accuracy_score(test_gt, test_pred)*100\n",
    "    \n",
    "    if train:\n",
    "        print(\"Accuracy for {}:\\n\\tTrain Accuracy: {:.2f}\\n\\tTest Accuracy: {:.2f}\".format(ld_func.__name__, train_acc, test_acc))\n",
    "    else:\n",
    "        print(\"Accuracy for {}:\\n\\tTest Accuracy: {:.2f}\".format(ld_func.__name__, test_acc))\n",
    "        \n",
    "    return test_acc"
   ]
  },
  {
   "cell_type": "code",
   "execution_count": null,
   "metadata": {
    "ExecuteTime": {
     "end_time": "2020-12-17T06:46:51.727304Z",
     "start_time": "2020-12-17T06:46:51.724524Z"
    }
   },
   "outputs": [],
   "source": [
    "down_samp_funcs = [down_samp, down_samp_wave,  down_samp_pca]"
   ]
  },
  {
   "cell_type": "code",
   "execution_count": null,
   "metadata": {
    "ExecuteTime": {
     "end_time": "2020-12-17T06:57:42.688822Z",
     "start_time": "2020-12-17T06:57:29.318635Z"
    },
    "scrolled": true
   },
   "outputs": [],
   "source": [
    "for func in down_samp_funcs:\n",
    "    evaluate(A, y, train_gt, test_gt, ld_func=func)"
   ]
  },
  {
   "cell_type": "code",
   "execution_count": 13,
   "metadata": {
    "ExecuteTime": {
     "end_time": "2020-12-17T05:46:51.124254Z",
     "start_time": "2020-12-17T05:46:51.087424Z"
    }
   },
   "outputs": [],
   "source": [
    "# Corrupt data for robust identity\n",
    "def corrupt(test_mat, percent=0.3):\n",
    "    im_size, num_ims = test_mat.shape\n",
    "    corrupt_mat = test_mat.copy()\n",
    "    corrupt_size = int(im_size*percent)\n",
    "    for i in range(num_ims):\n",
    "        corrupt_idxs = np.random.choice(im_size, size=corrupt_size, replace=False)\n",
    "        corrupt_data = np.random.randint(256, size=corrupt_size)\n",
    "        corrupt_mat[:,i][corrupt_idxs] = corrupt_data\n",
    "#     print(im_size, num_ims, corrupt_size)\n",
    "    return corrupt_mat"
   ]
  },
  {
   "cell_type": "code",
   "execution_count": 30,
   "metadata": {
    "ExecuteTime": {
     "end_time": "2020-12-17T07:28:22.832367Z",
     "start_time": "2020-12-17T07:28:22.426000Z"
    }
   },
   "outputs": [],
   "source": [
    "y_ds, y_ds_sh = down_samp(y)\n",
    "y_wave, y_wave_sh = down_samp_wave(y)"
   ]
  },
  {
   "cell_type": "code",
   "execution_count": 31,
   "metadata": {
    "ExecuteTime": {
     "end_time": "2020-12-17T07:28:23.696172Z",
     "start_time": "2020-12-17T07:28:23.069899Z"
    }
   },
   "outputs": [
    {
     "data": {
      "image/png": "[encoded data removed]",
      "text/plain": [
       "<Figure size 720x720 with 4 Axes>"
      ]
     },
     "metadata": {
      "needs_background": "light"
     },
     "output_type": "display_data"
    }
   ],
   "source": [
    "perc = 0.4\n",
    "k = 1\n",
    "\n",
    "plt.figure(figsize=(10,10))\n",
    "plt.subplot(221)\n",
    "plt.imshow(y_ds[:,k].reshape(y_ds_sh))\n",
    "plt.subplot(222)\n",
    "plt.imshow(corrupt(y_ds, perc)[:,k].reshape(y_ds_sh))\n",
    "plt.subplot(223)\n",
    "plt.imshow(y_wave[:,k].reshape(y_wave_sh))\n",
    "plt.subplot(224)\n",
    "plt.imshow(corrupt(y_wave, perc)[:,k].reshape(y_wave_sh))\n",
    "plt.show()"
   ]
  },
  {
   "cell_type": "code",
   "execution_count": 182,
   "metadata": {},
   "outputs": [
    {
     "ename": "SyntaxError",
     "evalue": "invalid syntax (<ipython-input-182-24963d0963f8>, line 2)",
     "output_type": "error",
     "traceback": [
      "\u001b[0;36m  File \u001b[0;32m\"<ipython-input-182-24963d0963f8>\"\u001b[0;36m, line \u001b[0;32m2\u001b[0m\n\u001b[0;31m    def robust_identity(A, B, y, class_idxs, lmbda=1e-12 verbose = False):\u001b[0m\n\u001b[0m                                                               ^\u001b[0m\n\u001b[0;31mSyntaxError\u001b[0m\u001b[0;31m:\u001b[0m invalid syntax\n"
     ]
    }
   ],
   "source": [
    "@ignore_warnings(category=ConvergenceWarning)\n",
    "def robust_identity(A, B, y, class_idxs, lmbda=1e-12 verbose = False):\n",
    "#     A_norm = np.linalg.norm(A, axis=0)\n",
    "#     y_norm = np.linalg.norm(y)\n",
    "    m,n = A.shape\n",
    "#     B = np.hstack((A, np.eye(m)))\n",
    "#     B_norm = np.linalg.norm(B, axis=0)\n",
    "#     print(B.shape)\n",
    "    prob = Lasso(fit_intercept=False, alpha=1e-12)\n",
    "    prob.fit(B, y)\n",
    "    w_hat = prob.coef_\n",
    "    x_hat = w_hat[:n]\n",
    "    e_hat = w_hat[n:]\n",
    "    r = np.zeros(38)\n",
    "    if verbose:\n",
    "        print(f\"Argwhere x_hat: {np.argwhere(x_hat>0.2)}\")\n",
    "    for i in range(38):\n",
    "        r[i] = np.linalg.norm(y-e_hat-A@delta_i(x_hat, i, class_idxs))\n",
    "    return np.argmin(r)"
   ]
  },
  {
   "cell_type": "code",
   "execution_count": 183,
   "metadata": {
    "ExecuteTime": {
     "end_time": "2020-12-17T07:36:05.204563Z",
     "start_time": "2020-12-17T07:36:05.196064Z"
    }
   },
   "outputs": [],
   "source": [
    "def evaluate_robust(A, y, train_gt, test_gt, ld_func=down_samp, size_arg = None, lmbda = 1e-12, verbose = False):\n",
    "    \n",
    "    test_pred = np.ones_like(test_gt)*-1\n",
    "    \n",
    "    if ld_func.__name__ == \"down_samp_pca\":\n",
    "        A_ld, pca = ld_func(A, size_arg)\n",
    "        y_ld = pca.transform(y.T).T\n",
    "    else:\n",
    "        A_ld, _ = ld_func(A)\n",
    "        y_ld, _ = ld_func(y)\n",
    "    if verbose:\n",
    "        print(f\"Low Dim Shapes\\n\\tA: {A_ld.shape}\\n\\ty:{y_ld.shape}\")\n",
    "\n",
    "#     corrupt_percs = np.arange(0,1,0.1)\n",
    "#     corrupt_percs = [0, 0.4, 0.6]\n",
    "    corrupt_percs = [0]\n",
    "    test_acc = []\n",
    "    \n",
    "    m,n = A_ld.shape\n",
    "    B = np.hstack((A_ld, np.eye(m)))\n",
    "    B = B/np.linalg.norm(B, axis=0)\n",
    "    A_ld = A_ld/np.linalg.norm(A_ld, axis=0)\n",
    "    for perc in corrupt_percs:\n",
    "        corrupt_y = corrupt(y_ld, perc)\n",
    "        corrupt_y = corrupt_y/np.linalg.norm(corrupt_y, axis=0)\n",
    "        for i in tqdm(range(len(test_pred)), position=0, leave=True):\n",
    "            test_pred[i] = robust_identity(A_ld, B, corrupt_y[:,i],train_gt,lmbda, verbose)\n",
    "\n",
    "    #     print(train_pred)\n",
    "        test_acc.append(accuracy_score(test_gt, test_pred)*100)\n",
    "        \n",
    "    \n",
    "    print(\"Robust Identity Accuracy for {}:\\n\\tTest Accuracy: {}\".format(ld_func.__name__, test_acc))\n",
    "    return test_acc"
   ]
  },
  {
   "cell_type": "code",
   "execution_count": 194,
   "metadata": {
    "ExecuteTime": {
     "end_time": "2020-12-17T07:36:52.103554Z",
     "start_time": "2020-12-17T07:36:06.441405Z"
    }
   },
   "outputs": [
    {
     "name": "stderr",
     "output_type": "stream",
     "text": [
      "100%|██████████| 100/100 [08:44<00:00,  5.24s/it]\n",
      "  0%|          | 0/100 [00:00<?, ?it/s]"
     ]
    },
    {
     "name": "stdout",
     "output_type": "stream",
     "text": [
      "Accuracy for down_samp:\n",
      "\tTest Accuracy: 72.00\n"
     ]
    },
    {
     "name": "stderr",
     "output_type": "stream",
     "text": [
      "100%|██████████| 100/100 [01:43<00:00,  1.03s/it]\n",
      "  1%|          | 1/100 [00:00<00:17,  5.59it/s]"
     ]
    },
    {
     "name": "stdout",
     "output_type": "stream",
     "text": [
      "Accuracy for down_samp:\n",
      "\tTest Accuracy: 72.00\n"
     ]
    },
    {
     "name": "stderr",
     "output_type": "stream",
     "text": [
      "100%|██████████| 100/100 [00:16<00:00,  5.93it/s]\n",
      "  8%|▊         | 8/100 [00:00<00:01, 75.72it/s]"
     ]
    },
    {
     "name": "stdout",
     "output_type": "stream",
     "text": [
      "Accuracy for down_samp:\n",
      "\tTest Accuracy: 61.00\n"
     ]
    },
    {
     "name": "stderr",
     "output_type": "stream",
     "text": [
      "100%|██████████| 100/100 [00:01<00:00, 71.34it/s]\n"
     ]
    },
    {
     "name": "stdout",
     "output_type": "stream",
     "text": [
      "Accuracy for down_samp:\n",
      "\tTest Accuracy: 35.00\n"
     ]
    },
    {
     "name": "stderr",
     "output_type": "stream",
     "text": [
      "100%|██████████| 100/100 [08:19<00:00,  5.00s/it]\n"
     ]
    },
    {
     "name": "stdout",
     "output_type": "stream",
     "text": [
      "Accuracy for down_samp_wave:\n",
      "\tTest Accuracy: 74.00\n"
     ]
    },
    {
     "name": "stderr",
     "output_type": "stream",
     "text": [
      "100%|██████████| 100/100 [01:58<00:00,  1.18s/it]\n"
     ]
    },
    {
     "name": "stdout",
     "output_type": "stream",
     "text": [
      "Accuracy for down_samp_wave:\n",
      "\tTest Accuracy: 75.00\n"
     ]
    },
    {
     "name": "stderr",
     "output_type": "stream",
     "text": [
      "100%|██████████| 100/100 [00:16<00:00,  5.96it/s]\n"
     ]
    },
    {
     "name": "stdout",
     "output_type": "stream",
     "text": [
      "Accuracy for down_samp_wave:\n",
      "\tTest Accuracy: 67.00\n"
     ]
    },
    {
     "name": "stderr",
     "output_type": "stream",
     "text": [
      "100%|██████████| 100/100 [00:01<00:00, 58.47it/s]\n"
     ]
    },
    {
     "name": "stdout",
     "output_type": "stream",
     "text": [
      "Accuracy for down_samp_wave:\n",
      "\tTest Accuracy: 30.00\n"
     ]
    },
    {
     "name": "stderr",
     "output_type": "stream",
     "text": [
      "100%|██████████| 100/100 [00:01<00:00, 84.12it/s]\n"
     ]
    },
    {
     "name": "stdout",
     "output_type": "stream",
     "text": [
      "Accuracy for down_samp_pca:\n",
      "\tTest Accuracy: 7.00\n"
     ]
    },
    {
     "name": "stderr",
     "output_type": "stream",
     "text": [
      "100%|██████████| 100/100 [00:21<00:00,  4.63it/s]"
     ]
    },
    {
     "name": "stdout",
     "output_type": "stream",
     "text": [
      "Accuracy for down_samp_pca:\n",
      "\tTest Accuracy: 43.00\n"
     ]
    },
    {
     "name": "stderr",
     "output_type": "stream",
     "text": [
      "\n"
     ]
    },
    {
     "ename": "ValueError",
     "evalue": "n_components=2016 must be between 0 and min(n_samples, n_features)=719 with svd_solver='full'",
     "output_type": "error",
     "traceback": [
      "\u001b[0;31m---------------------------------------------------------------------------\u001b[0m",
      "\u001b[0;31mValueError\u001b[0m                                Traceback (most recent call last)",
      "\u001b[0;32m<ipython-input-194-b6769ba8299c>\u001b[0m in \u001b[0;36m<module>\u001b[0;34m\u001b[0m\n\u001b[1;32m     17\u001b[0m                                                    \u001b[0mtrain_gt\u001b[0m\u001b[0;34m,\u001b[0m \u001b[0mtest_gt_cond_samp\u001b[0m\u001b[0;34m,\u001b[0m\u001b[0;34m\u001b[0m\u001b[0;34m\u001b[0m\u001b[0m\n\u001b[1;32m     18\u001b[0m                                                    \u001b[0mld_func\u001b[0m\u001b[0;34m=\u001b[0m\u001b[0mfunc\u001b[0m\u001b[0;34m,\u001b[0m \u001b[0msize_arg\u001b[0m \u001b[0;34m=\u001b[0m \u001b[0mlevel\u001b[0m\u001b[0;34m,\u001b[0m\u001b[0;34m\u001b[0m\u001b[0;34m\u001b[0m\u001b[0m\n\u001b[0;32m---> 19\u001b[0;31m                                                    lmbda=lmbdas[i], train=False))\n\u001b[0m\u001b[1;32m     20\u001b[0m \u001b[0;34m\u001b[0m\u001b[0m\n",
      "\u001b[0;32m<ipython-input-193-822328140bf8>\u001b[0m in \u001b[0;36mevaluate\u001b[0;34m(A, y, train_gt, test_gt, ld_func, size_arg, lmbda, train)\u001b[0m\n\u001b[1;32m      4\u001b[0m \u001b[0;34m\u001b[0m\u001b[0m\n\u001b[1;32m      5\u001b[0m     \u001b[0;32mif\u001b[0m \u001b[0mld_func\u001b[0m\u001b[0;34m.\u001b[0m\u001b[0m__name__\u001b[0m \u001b[0;34m==\u001b[0m \u001b[0;34m\"down_samp_pca\"\u001b[0m\u001b[0;34m:\u001b[0m\u001b[0;34m\u001b[0m\u001b[0;34m\u001b[0m\u001b[0m\n\u001b[0;32m----> 6\u001b[0;31m         \u001b[0mA_ld\u001b[0m\u001b[0;34m,\u001b[0m \u001b[0mpca\u001b[0m \u001b[0;34m=\u001b[0m \u001b[0mld_func\u001b[0m\u001b[0;34m(\u001b[0m\u001b[0mA\u001b[0m\u001b[0;34m,\u001b[0m \u001b[0msize_arg\u001b[0m\u001b[0;34m)\u001b[0m\u001b[0;34m\u001b[0m\u001b[0;34m\u001b[0m\u001b[0m\n\u001b[0m\u001b[1;32m      7\u001b[0m         \u001b[0my_ld\u001b[0m \u001b[0;34m=\u001b[0m \u001b[0mpca\u001b[0m\u001b[0;34m.\u001b[0m\u001b[0mtransform\u001b[0m\u001b[0;34m(\u001b[0m\u001b[0my\u001b[0m\u001b[0;34m.\u001b[0m\u001b[0mT\u001b[0m\u001b[0;34m)\u001b[0m\u001b[0;34m.\u001b[0m\u001b[0mT\u001b[0m\u001b[0;34m\u001b[0m\u001b[0;34m\u001b[0m\u001b[0m\n\u001b[1;32m      8\u001b[0m     \u001b[0;32melse\u001b[0m\u001b[0;34m:\u001b[0m\u001b[0;34m\u001b[0m\u001b[0;34m\u001b[0m\u001b[0m\n",
      "\u001b[0;32m<ipython-input-94-c814c83b9ac0>\u001b[0m in \u001b[0;36mdown_samp_pca\u001b[0;34m(A, dim)\u001b[0m\n\u001b[1;32m      2\u001b[0m     \u001b[0;31m# sklearn PCA\u001b[0m\u001b[0;34m\u001b[0m\u001b[0;34m\u001b[0m\u001b[0;34m\u001b[0m\u001b[0m\n\u001b[1;32m      3\u001b[0m     \u001b[0mpca\u001b[0m \u001b[0;34m=\u001b[0m \u001b[0mPCA\u001b[0m\u001b[0;34m(\u001b[0m\u001b[0mn_components\u001b[0m\u001b[0;34m=\u001b[0m\u001b[0mdim\u001b[0m\u001b[0;34m,\u001b[0m \u001b[0msvd_solver\u001b[0m\u001b[0;34m=\u001b[0m\u001b[0;34m\"auto\"\u001b[0m\u001b[0;34m)\u001b[0m\u001b[0;34m\u001b[0m\u001b[0;34m\u001b[0m\u001b[0m\n\u001b[0;32m----> 4\u001b[0;31m     \u001b[0mA_pca\u001b[0m \u001b[0;34m=\u001b[0m \u001b[0mpca\u001b[0m\u001b[0;34m.\u001b[0m\u001b[0mfit_transform\u001b[0m\u001b[0;34m(\u001b[0m\u001b[0mA\u001b[0m\u001b[0;34m.\u001b[0m\u001b[0mT\u001b[0m\u001b[0;34m)\u001b[0m\u001b[0;34m.\u001b[0m\u001b[0mT\u001b[0m\u001b[0;34m\u001b[0m\u001b[0;34m\u001b[0m\u001b[0m\n\u001b[0m\u001b[1;32m      5\u001b[0m \u001b[0;34m\u001b[0m\u001b[0m\n\u001b[1;32m      6\u001b[0m     \u001b[0;31m# Manual PCA\u001b[0m\u001b[0;34m\u001b[0m\u001b[0;34m\u001b[0m\u001b[0;34m\u001b[0m\u001b[0m\n",
      "\u001b[0;32m~/anaconda3/lib/python3.7/site-packages/sklearn/decomposition/_pca.py\u001b[0m in \u001b[0;36mfit_transform\u001b[0;34m(self, X, y)\u001b[0m\n\u001b[1;32m    367\u001b[0m         \u001b[0mC\u001b[0m\u001b[0;34m-\u001b[0m\u001b[0mordered\u001b[0m \u001b[0marray\u001b[0m\u001b[0;34m,\u001b[0m \u001b[0muse\u001b[0m \u001b[0;34m'np.ascontiguousarray'\u001b[0m\u001b[0;34m.\u001b[0m\u001b[0;34m\u001b[0m\u001b[0;34m\u001b[0m\u001b[0m\n\u001b[1;32m    368\u001b[0m         \"\"\"\n\u001b[0;32m--> 369\u001b[0;31m         \u001b[0mU\u001b[0m\u001b[0;34m,\u001b[0m \u001b[0mS\u001b[0m\u001b[0;34m,\u001b[0m \u001b[0mV\u001b[0m \u001b[0;34m=\u001b[0m \u001b[0mself\u001b[0m\u001b[0;34m.\u001b[0m\u001b[0m_fit\u001b[0m\u001b[0;34m(\u001b[0m\u001b[0mX\u001b[0m\u001b[0;34m)\u001b[0m\u001b[0;34m\u001b[0m\u001b[0;34m\u001b[0m\u001b[0m\n\u001b[0m\u001b[1;32m    370\u001b[0m         \u001b[0mU\u001b[0m \u001b[0;34m=\u001b[0m \u001b[0mU\u001b[0m\u001b[0;34m[\u001b[0m\u001b[0;34m:\u001b[0m\u001b[0;34m,\u001b[0m \u001b[0;34m:\u001b[0m\u001b[0mself\u001b[0m\u001b[0;34m.\u001b[0m\u001b[0mn_components_\u001b[0m\u001b[0;34m]\u001b[0m\u001b[0;34m\u001b[0m\u001b[0;34m\u001b[0m\u001b[0m\n\u001b[1;32m    371\u001b[0m \u001b[0;34m\u001b[0m\u001b[0m\n",
      "\u001b[0;32m~/anaconda3/lib/python3.7/site-packages/sklearn/decomposition/_pca.py\u001b[0m in \u001b[0;36m_fit\u001b[0;34m(self, X)\u001b[0m\n\u001b[1;32m    414\u001b[0m         \u001b[0;31m# Call different fits for either full or truncated SVD\u001b[0m\u001b[0;34m\u001b[0m\u001b[0;34m\u001b[0m\u001b[0;34m\u001b[0m\u001b[0m\n\u001b[1;32m    415\u001b[0m         \u001b[0;32mif\u001b[0m \u001b[0mself\u001b[0m\u001b[0;34m.\u001b[0m\u001b[0m_fit_svd_solver\u001b[0m \u001b[0;34m==\u001b[0m \u001b[0;34m'full'\u001b[0m\u001b[0;34m:\u001b[0m\u001b[0;34m\u001b[0m\u001b[0;34m\u001b[0m\u001b[0m\n\u001b[0;32m--> 416\u001b[0;31m             \u001b[0;32mreturn\u001b[0m \u001b[0mself\u001b[0m\u001b[0;34m.\u001b[0m\u001b[0m_fit_full\u001b[0m\u001b[0;34m(\u001b[0m\u001b[0mX\u001b[0m\u001b[0;34m,\u001b[0m \u001b[0mn_components\u001b[0m\u001b[0;34m)\u001b[0m\u001b[0;34m\u001b[0m\u001b[0;34m\u001b[0m\u001b[0m\n\u001b[0m\u001b[1;32m    417\u001b[0m         \u001b[0;32melif\u001b[0m \u001b[0mself\u001b[0m\u001b[0;34m.\u001b[0m\u001b[0m_fit_svd_solver\u001b[0m \u001b[0;32min\u001b[0m \u001b[0;34m[\u001b[0m\u001b[0;34m'arpack'\u001b[0m\u001b[0;34m,\u001b[0m \u001b[0;34m'randomized'\u001b[0m\u001b[0;34m]\u001b[0m\u001b[0;34m:\u001b[0m\u001b[0;34m\u001b[0m\u001b[0;34m\u001b[0m\u001b[0m\n\u001b[1;32m    418\u001b[0m             \u001b[0;32mreturn\u001b[0m \u001b[0mself\u001b[0m\u001b[0;34m.\u001b[0m\u001b[0m_fit_truncated\u001b[0m\u001b[0;34m(\u001b[0m\u001b[0mX\u001b[0m\u001b[0;34m,\u001b[0m \u001b[0mn_components\u001b[0m\u001b[0;34m,\u001b[0m \u001b[0mself\u001b[0m\u001b[0;34m.\u001b[0m\u001b[0m_fit_svd_solver\u001b[0m\u001b[0;34m)\u001b[0m\u001b[0;34m\u001b[0m\u001b[0;34m\u001b[0m\u001b[0m\n",
      "\u001b[0;32m~/anaconda3/lib/python3.7/site-packages/sklearn/decomposition/_pca.py\u001b[0m in \u001b[0;36m_fit_full\u001b[0;34m(self, X, n_components)\u001b[0m\n\u001b[1;32m    433\u001b[0m                              \u001b[0;34m\"min(n_samples, n_features)=%r with \"\u001b[0m\u001b[0;34m\u001b[0m\u001b[0;34m\u001b[0m\u001b[0m\n\u001b[1;32m    434\u001b[0m                              \u001b[0;34m\"svd_solver='full'\"\u001b[0m\u001b[0;34m\u001b[0m\u001b[0;34m\u001b[0m\u001b[0m\n\u001b[0;32m--> 435\u001b[0;31m                              % (n_components, min(n_samples, n_features)))\n\u001b[0m\u001b[1;32m    436\u001b[0m         \u001b[0;32melif\u001b[0m \u001b[0mn_components\u001b[0m \u001b[0;34m>=\u001b[0m \u001b[0;36m1\u001b[0m\u001b[0;34m:\u001b[0m\u001b[0;34m\u001b[0m\u001b[0;34m\u001b[0m\u001b[0m\n\u001b[1;32m    437\u001b[0m             \u001b[0;32mif\u001b[0m \u001b[0;32mnot\u001b[0m \u001b[0misinstance\u001b[0m\u001b[0;34m(\u001b[0m\u001b[0mn_components\u001b[0m\u001b[0;34m,\u001b[0m \u001b[0mnumbers\u001b[0m\u001b[0;34m.\u001b[0m\u001b[0mIntegral\u001b[0m\u001b[0;34m)\u001b[0m\u001b[0;34m:\u001b[0m\u001b[0;34m\u001b[0m\u001b[0;34m\u001b[0m\u001b[0m\n",
      "\u001b[0;31mValueError\u001b[0m: n_components=2016 must be between 0 and min(n_samples, n_features)=719 with svd_solver='full'"
     ]
    }
   ],
   "source": [
    "#TODO: Change train and test data for robust\n",
    "#TODO: Change ds factor for robust# Robust data read\n",
    "train_cond = lambda az, elev: abs(az) <= 25 and abs(elev) <= 25\n",
    "test_cond = lambda az, elev: 25 <= abs(az) <= 100 and 25 <= abs(elev) <= 65\n",
    "\n",
    "A_cond, y_cond, train_gt_cond, test_gt_cond, names_cond = random_sample_cond(train_cond, test_cond)\n",
    "samp_idxs = np.random.choice(len(test_gt_cond), size=100)\n",
    "y_cond_samp = y_cond[:,samp_idxs]\n",
    "test_gt_cond_samp = test_gt_cond[samp_idxs]\n",
    "\n",
    "down_samp_funcs = {down_samp: [2, 4, 8, 16], down_samp_wave: [1, 2, 3, 4], down_samp_pca: [132, 504, 2016, 8064]}\n",
    "lmbdas = [1e-12, 1e-9, 1e-6, 1e-3]\n",
    "test_accs_normal = {\"down_samp\": [], \"down_samp_wave\": [], \"down_samp_pca\": []}\n",
    "for func, levels in down_samp_funcs.items():\n",
    "    for i, level in enumerate(levels):\n",
    "        test_accs_normal[func.__name__].append(evaluate(A_cond, y_cond_samp, \n",
    "                                                   train_gt, test_gt_cond_samp,\n",
    "                                                   ld_func=func, size_arg = level,\n",
    "                                                   lmbda=lmbdas[i], train=False))\n",
    "        \n"
   ]
  },
  {
   "cell_type": "code",
   "execution_count": 207,
   "metadata": {},
   "outputs": [
    {
     "name": "stderr",
     "output_type": "stream",
     "text": [
      "100%|██████████| 100/100 [00:09<00:00, 10.60it/s]"
     ]
    },
    {
     "name": "stdout",
     "output_type": "stream",
     "text": [
      "Accuracy for down_samp_pca:\n",
      "\tTest Accuracy: 68.00\n"
     ]
    },
    {
     "name": "stderr",
     "output_type": "stream",
     "text": [
      "\n"
     ]
    },
    {
     "data": {
      "text/plain": [
       "68.0"
      ]
     },
     "execution_count": 207,
     "metadata": {},
     "output_type": "execute_result"
    }
   ],
   "source": [
    "evaluate(A_cond, y_cond_samp, \n",
    "           train_gt, test_gt_cond_samp,\n",
    "           ld_func=down_samp_pca, size_arg = 504,\n",
    "           lmbda=9e-6, train=False)"
   ]
  },
  {
   "cell_type": "code",
   "execution_count": 197,
   "metadata": {},
   "outputs": [],
   "source": [
    "test_accs_normal = {\"down_samp\": [72.0, 72.0, 61.0, 35.0], \n",
    "                    \"down_samp_wave\": [74.0, 75.0, 67, 30.0]}"
   ]
  },
  {
   "cell_type": "code",
   "execution_count": 218,
   "metadata": {},
   "outputs": [
    {
     "name": "stderr",
     "output_type": "stream",
     "text": [
      "100%|██████████| 100/100 [12:18<00:00,  7.38s/it]\n",
      "  0%|          | 0/100 [00:00<?, ?it/s]"
     ]
    },
    {
     "name": "stdout",
     "output_type": "stream",
     "text": [
      "Accuracy for down_samp:\n",
      "\tTest Accuracy: 97.00\n"
     ]
    },
    {
     "name": "stderr",
     "output_type": "stream",
     "text": [
      "100%|██████████| 100/100 [02:49<00:00,  1.69s/it]\n",
      "  0%|          | 0/100 [00:00<?, ?it/s]"
     ]
    },
    {
     "name": "stdout",
     "output_type": "stream",
     "text": [
      "Accuracy for down_samp:\n",
      "\tTest Accuracy: 95.00\n"
     ]
    },
    {
     "name": "stderr",
     "output_type": "stream",
     "text": [
      "100%|██████████| 100/100 [00:22<00:00,  4.41it/s]\n",
      "  6%|▌         | 6/100 [00:00<00:02, 46.03it/s]"
     ]
    },
    {
     "name": "stdout",
     "output_type": "stream",
     "text": [
      "Accuracy for down_samp:\n",
      "\tTest Accuracy: 96.00\n"
     ]
    },
    {
     "name": "stderr",
     "output_type": "stream",
     "text": [
      "100%|██████████| 100/100 [00:02<00:00, 42.30it/s]\n"
     ]
    },
    {
     "name": "stdout",
     "output_type": "stream",
     "text": [
      "Accuracy for down_samp:\n",
      "\tTest Accuracy: 86.00\n"
     ]
    },
    {
     "name": "stderr",
     "output_type": "stream",
     "text": [
      "100%|██████████| 100/100 [14:02<00:00,  8.42s/it]\n"
     ]
    },
    {
     "name": "stdout",
     "output_type": "stream",
     "text": [
      "Accuracy for down_samp_wave:\n",
      "\tTest Accuracy: 97.00\n"
     ]
    },
    {
     "name": "stderr",
     "output_type": "stream",
     "text": [
      "100%|██████████| 100/100 [03:05<00:00,  1.85s/it]\n"
     ]
    },
    {
     "name": "stdout",
     "output_type": "stream",
     "text": [
      "Accuracy for down_samp_wave:\n",
      "\tTest Accuracy: 96.00\n"
     ]
    },
    {
     "name": "stderr",
     "output_type": "stream",
     "text": [
      "100%|██████████| 100/100 [00:25<00:00,  3.97it/s]\n"
     ]
    },
    {
     "name": "stdout",
     "output_type": "stream",
     "text": [
      "Accuracy for down_samp_wave:\n",
      "\tTest Accuracy: 96.00\n"
     ]
    },
    {
     "name": "stderr",
     "output_type": "stream",
     "text": [
      "100%|██████████| 100/100 [00:02<00:00, 36.48it/s]"
     ]
    },
    {
     "name": "stdout",
     "output_type": "stream",
     "text": [
      "Accuracy for down_samp_wave:\n",
      "\tTest Accuracy: 89.00\n"
     ]
    },
    {
     "name": "stderr",
     "output_type": "stream",
     "text": [
      "\n"
     ]
    },
    {
     "ename": "KeyError",
     "evalue": "'down_samp_pca'",
     "output_type": "error",
     "traceback": [
      "\u001b[0;31m---------------------------------------------------------------------------\u001b[0m",
      "\u001b[0;31mKeyError\u001b[0m                                  Traceback (most recent call last)",
      "\u001b[0;32m<ipython-input-218-cabf9543a83c>\u001b[0m in \u001b[0;36m<module>\u001b[0;34m\u001b[0m\n\u001b[1;32m     10\u001b[0m \u001b[0;32mfor\u001b[0m \u001b[0mfunc\u001b[0m\u001b[0;34m,\u001b[0m \u001b[0mlevels\u001b[0m \u001b[0;32min\u001b[0m \u001b[0mdown_samp_funcs\u001b[0m\u001b[0;34m.\u001b[0m\u001b[0mitems\u001b[0m\u001b[0;34m(\u001b[0m\u001b[0;34m)\u001b[0m\u001b[0;34m:\u001b[0m\u001b[0;34m\u001b[0m\u001b[0;34m\u001b[0m\u001b[0m\n\u001b[1;32m     11\u001b[0m     \u001b[0;32mfor\u001b[0m \u001b[0mi\u001b[0m\u001b[0;34m,\u001b[0m \u001b[0mlevel\u001b[0m \u001b[0;32min\u001b[0m \u001b[0menumerate\u001b[0m\u001b[0;34m(\u001b[0m\u001b[0mlevels\u001b[0m\u001b[0;34m)\u001b[0m\u001b[0;34m:\u001b[0m\u001b[0;34m\u001b[0m\u001b[0;34m\u001b[0m\u001b[0m\n\u001b[0;32m---> 12\u001b[0;31m         test_accs[func.__name__].append(evaluate(A, y_samp, \n\u001b[0m\u001b[1;32m     13\u001b[0m                                                    \u001b[0mtrain_gt\u001b[0m\u001b[0;34m,\u001b[0m \u001b[0mtest_gt_samp\u001b[0m\u001b[0;34m,\u001b[0m\u001b[0;34m\u001b[0m\u001b[0;34m\u001b[0m\u001b[0m\n\u001b[1;32m     14\u001b[0m                                                    \u001b[0mld_func\u001b[0m\u001b[0;34m=\u001b[0m\u001b[0mfunc\u001b[0m\u001b[0;34m,\u001b[0m \u001b[0msize_arg\u001b[0m \u001b[0;34m=\u001b[0m \u001b[0mlevel\u001b[0m\u001b[0;34m,\u001b[0m\u001b[0;34m\u001b[0m\u001b[0;34m\u001b[0m\u001b[0m\n",
      "\u001b[0;31mKeyError\u001b[0m: 'down_samp_pca'"
     ]
    }
   ],
   "source": [
    "#TODO: Change train and test data for robust\n",
    "#TODO: Change ds factor for robust# Robust data read\n",
    "\n",
    "A, y, train_gt, test_gt, names = random_sample()\n",
    "samp_idxs = np.random.choice(len(test_gt), size=100)\n",
    "y_samp = y[:,samp_idxs]\n",
    "test_gt_samp = test_gt[samp_idxs]\n",
    "\n",
    "test_accs = {\"down_samp\": [], \"down_samp_wave\": []}\n",
    "for func, levels in down_samp_funcs.items():\n",
    "    for i, level in enumerate(levels):\n",
    "        test_accs[func.__name__].append(evaluate(A, y_samp, \n",
    "                                                   train_gt, test_gt_samp,\n",
    "                                                   ld_func=func, size_arg = level,\n",
    "                                                   lmbda=lmbdas[i], train=False))\n",
    "        \n"
   ]
  },
  {
   "cell_type": "code",
   "execution_count": 219,
   "metadata": {},
   "outputs": [
    {
     "data": {
      "text/plain": [
       "{'down_samp': [97.0, 95.0, 96.0, 86.0],\n",
       " 'down_samp_wave': [97.0, 96.0, 96.0, 89.0]}"
      ]
     },
     "execution_count": 219,
     "metadata": {},
     "output_type": "execute_result"
    }
   ],
   "source": [
    "test_accs"
   ]
  },
  {
   "cell_type": "code",
   "execution_count": 173,
   "metadata": {},
   "outputs": [],
   "source": [
    "a = {}\n",
    "a['hello'] = 2"
   ]
  },
  {
   "cell_type": "code",
   "execution_count": 174,
   "metadata": {},
   "outputs": [
    {
     "data": {
      "text/plain": [
       "{'hello': 2}"
      ]
     },
     "execution_count": 174,
     "metadata": {},
     "output_type": "execute_result"
    }
   ],
   "source": [
    "a"
   ]
  },
  {
   "cell_type": "code",
   "execution_count": 217,
   "metadata": {},
   "outputs": [
    {
     "data": {
      "text/plain": [
       "<matplotlib.image.AxesImage at 0x1a2e32b290>"
      ]
     },
     "execution_count": 217,
     "metadata": {},
     "output_type": "execute_result"
    },
    {
     "data": {
      "image/png": "[encoded data removed]",
      "text/plain": [
       "<Figure size 432x288 with 1 Axes>"
      ]
     },
     "metadata": {
      "needs_background": "light"
     },
     "output_type": "display_data"
    }
   ],
   "source": [
    "img = A_cond[:,0].reshape(im_size)\n",
    "img_d = cv2.resize(img, (11,12))\n",
    "img_u = cv2.resize(img, im_size[::-1])\n",
    "plt.imshow(img_u)"
   ]
  },
  {
   "cell_type": "code",
   "execution_count": 210,
   "metadata": {},
   "outputs": [],
   "source": [
    "cv2.resize?"
   ]
  },
  {
   "cell_type": "code",
   "execution_count": null,
   "metadata": {},
   "outputs": [],
   "source": []
  }
 ],
 "metadata": {
  "kernelspec": {
   "display_name": "Python 3",
   "language": "python",
   "name": "python3"
  },
  "language_info": {
   "codemirror_mode": {
    "name": "ipython",
    "version": 3
   },
   "file_extension": ".py",
   "mimetype": "text/x-python",
   "name": "python",
   "nbconvert_exporter": "python",
   "pygments_lexer": "ipython3",
   "version": "3.7.6"
  }
 },
 "nbformat": 4,
 "nbformat_minor": 4
}
