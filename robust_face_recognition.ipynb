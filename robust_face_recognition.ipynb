{
 "cells": [
  {
   "cell_type": "code",
   "execution_count": 1,
   "metadata": {
    "ExecuteTime": {
     "end_time": "2020-12-16T23:53:17.297771Z",
     "start_time": "2020-12-16T23:53:15.845790Z"
    }
   },
   "outputs": [
    {
     "name": "stderr",
     "output_type": "stream",
     "text": [
      "/Users/sukritarora/anaconda3/lib/python3.6/site-packages/sklearn/utils/deprecation.py:144: FutureWarning: The sklearn.utils.testing module is  deprecated in version 0.22 and will be removed in version 0.24. The corresponding classes / functions should instead be imported from sklearn.utils. Anything that cannot be imported from sklearn.utils is now part of the private API.\n",
      "  warnings.warn(message, FutureWarning)\n"
     ]
    }
   ],
   "source": [
    "import numpy as np\n",
    "import matplotlib.pyplot as plt\n",
    "from sklearn.linear_model import Lasso, LassoCV, LinearRegression\n",
    "from sklearn.pipeline import Pipeline\n",
    "from sklearn.preprocessing import Normalizer\n",
    "from sklearn.decomposition import PCA\n",
    "from sklearn.metrics import accuracy_score\n",
    "from glob import glob as glob\n",
    "import os\n",
    "import pywt\n",
    "import cv2\n",
    "from sklearn.utils.testing import ignore_warnings\n",
    "from sklearn.exceptions import ConvergenceWarning\n",
    "from tqdm import tqdm"
   ]
  },
  {
   "cell_type": "code",
   "execution_count": 2,
   "metadata": {
    "ExecuteTime": {
     "end_time": "2020-12-16T23:53:18.130093Z",
     "start_time": "2020-12-16T23:53:18.127449Z"
    }
   },
   "outputs": [],
   "source": [
    "# num_class = 15\n",
    "# num_train = 20\n",
    "# num_test = 5\n",
    "im_size = np.array((192, 168))"
   ]
  },
  {
   "cell_type": "code",
   "execution_count": 3,
   "metadata": {
    "ExecuteTime": {
     "end_time": "2020-12-16T23:53:20.069170Z",
     "start_time": "2020-12-16T23:53:20.057820Z"
    }
   },
   "outputs": [],
   "source": [
    "def filter_files(d, num_train, num_test, cond):\n",
    "    fnames = [os.path.basename(i)[:-4] for i in glob(d+\"/*_P00A*.pgm\")]\n",
    "    acc_files = []\n",
    "    for f in fnames:\n",
    "        az = int(f[12:16])\n",
    "        elev = int(f[17:20])\n",
    "        if cond(az, elev):\n",
    "            acc_files.append(f)\n",
    "    samps = np.random.choice(acc_files, num_train+num_test, replace=False)\n",
    "    return samps[:num_train], samps[num_train:]\n",
    "\n",
    "def fread(f):\n",
    "    return plt.imread(f).flatten().T\n",
    "\n",
    "# def_cond = lambda az, elev: abs(az) <= 45 and abs(elev) <= 45\n",
    "# def train_test_split(num_classes=5, num_train=5, num_test=3, cond = def_cond):\n",
    "    \n",
    "#     class_dirnames = np.random.choice(glob(\"CroppedYale/*\"), size=num_classes, replace=False)\n",
    "    \n",
    "#     train_fnames_all, test_fnames_all = np.array([]), np.array([])\n",
    "    \n",
    "#     A = np.zeros((np.prod(im_size), num_classes*num_train))\n",
    "#     y = np.zeros((np.prod(im_size), num_classes*num_test))\n",
    "    \n",
    "#     train_gt = np.zeros(num_classes*num_train).astype(int)\n",
    "#     test_gt = np.zeros(num_classes*num_test).astype(int)\n",
    "    \n",
    "#     for i, d in enumerate(class_dirnames):\n",
    "#         train_fnames, test_fnames = filter_files(d, num_train, num_test, cond)\n",
    "#         train_fnames_all = np.append(train_fnames_all, train_fnames)\n",
    "#         test_fnames_all = np.append(test_fnames_all, test_fnames)\n",
    "#         for j, f in enumerate(train_fnames):\n",
    "#             idx = (i*num_train+j)\n",
    "#             A[:,idx] = fread(d+\"/\"+f+\".pgm\")\n",
    "#             train_gt[idx] = i\n",
    "#         for j, f in enumerate(test_fnames):\n",
    "#             idx = (i*num_test+j) \n",
    "#             y[:,idx] = fread(d+\"/\"+f+\".pgm\")\n",
    "#             test_gt[idx] = i\n",
    "            \n",
    "#     return A, y, train_gt, test_gt, (train_fnames_all, test_fnames_all)\n",
    "\n",
    "def random_sample():\n",
    "    all_fnames = glob(\"*/*/*_P00A*.pgm\")\n",
    "    half = len(all_fnames)//2\n",
    "    np.random.shuffle(all_fnames)\n",
    "    \n",
    "    train_fnames = all_fnames[:half]\n",
    "    test_fnames = all_fnames[half:]\n",
    "    \n",
    "    A = np.zeros((np.prod(im_size), len(train_fnames)))\n",
    "    y = np.zeros((np.prod(im_size), len(test_fnames)))\n",
    "    \n",
    "    train_gt = np.zeros(len(train_fnames)).astype(int)\n",
    "    test_gt = np.zeros(len(test_fnames)).astype(int)\n",
    "    \n",
    "    for i, f in enumerate(train_fnames):\n",
    "        A[:,i] = fread(f)\n",
    "        train_gt[i] = int(os.path.basename(f)[5:7])-1\n",
    "        \n",
    "    for i, f in enumerate(test_fnames):\n",
    "        y[:,i] = fread(f)\n",
    "        test_gt[i] = int(os.path.basename(f)[5:7])-1\n",
    "        \n",
    "    return A, y, train_gt, test_gt, (train_fnames, test_fnames)"
   ]
  },
  {
   "cell_type": "code",
   "execution_count": 4,
   "metadata": {
    "ExecuteTime": {
     "end_time": "2020-12-16T23:53:26.140373Z",
     "start_time": "2020-12-16T23:53:21.384022Z"
    }
   },
   "outputs": [
    {
     "name": "stdout",
     "output_type": "stream",
     "text": [
      "(32256, 1207) (32256, 1207)\n",
      "[26  5  6 ... 23 18 35]\n",
      "[23  1  9 ... 16 14 34]\n"
     ]
    }
   ],
   "source": [
    "A, y, train_gt, test_gt, names = random_sample()\n",
    "print(A.shape, y.shape)\n",
    "print(train_gt)\n",
    "print(test_gt)"
   ]
  },
  {
   "cell_type": "code",
   "execution_count": 198,
   "metadata": {},
   "outputs": [
    {
     "data": {
      "text/plain": [
       "['CroppedYale/yaleB05/yaleB05_P00A-085E-20.pgm',\n",
       " 'CroppedYale/yaleB27/yaleB27_P00A+000E-35.pgm',\n",
       " 'CroppedYale/yaleB09/yaleB09_P00A+000E-35.pgm',\n",
       " 'CroppedYale/yaleB06/yaleB06_P00A+025E+00.pgm',\n",
       " 'CroppedYale/yaleB34/yaleB34_P00A-110E-20.pgm',\n",
       " 'CroppedYale/yaleB26/yaleB26_P00A+000E+90.pgm',\n",
       " 'CroppedYale/yaleB26/yaleB26_P00A-005E-10.pgm',\n",
       " 'CroppedYale/yaleB10/yaleB10_P00A-070E+00.pgm',\n",
       " 'CroppedYale/yaleB04/yaleB04_P00A-095E+00.pgm',\n",
       " 'CroppedYale/yaleB04/yaleB04_P00A+110E+40.pgm',\n",
       " 'CroppedYale/yaleB28/yaleB28_P00A-025E+00.pgm',\n",
       " 'CroppedYale/yaleB32/yaleB32_P00A+000E+90.pgm',\n",
       " 'CroppedYale/yaleB07/yaleB07_P00A+050E-40.pgm',\n",
       " 'CroppedYale/yaleB13/yaleB13_P00A+110E+40.pgm',\n",
       " 'CroppedYale/yaleB08/yaleB08_P00A+110E+40.pgm',\n",
       " 'CroppedYale/yaleB33/yaleB33_P00A+050E+00.pgm',\n",
       " 'CroppedYale/yaleB22/yaleB22_P00A+000E+20.pgm',\n",
       " 'CroppedYale/yaleB15/yaleB15_P00A-120E+00.pgm',\n",
       " 'CroppedYale/yaleB28/yaleB28_P00A-010E+00.pgm',\n",
       " 'CroppedYale/yaleB07/yaleB07_P00A-110E-20.pgm',\n",
       " 'CroppedYale/yaleB08/yaleB08_P00A+085E+20.pgm',\n",
       " 'CroppedYale/yaleB11/yaleB11_P00A-010E-20.pgm',\n",
       " 'CroppedYale/yaleB15/yaleB15_P00A-010E-20.pgm',\n",
       " 'CroppedYale/yaleB33/yaleB33_P00A-035E+65.pgm',\n",
       " 'CroppedYale/yaleB03/yaleB03_P00A+000E-20.pgm',\n",
       " 'CroppedYale/yaleB30/yaleB30_P00A+020E-40.pgm',\n",
       " 'CroppedYale/yaleB21/yaleB21_P00A+000E+00.pgm',\n",
       " 'CroppedYale/yaleB21/yaleB21_P00A+020E-10.pgm',\n",
       " 'CroppedYale/yaleB15/yaleB15_P00A+000E-20.pgm',\n",
       " 'CroppedYale/yaleB17/yaleB17_P00A-050E+00.pgm',\n",
       " 'CroppedYale/yaleB30/yaleB30_P00A+010E+00.pgm',\n",
       " 'CroppedYale/yaleB15/yaleB15_P00A+085E-20.pgm',\n",
       " 'CroppedYale/yaleB33/yaleB33_P00A+020E+10.pgm',\n",
       " 'CroppedYale/yaleB10/yaleB10_P00A+120E+00.pgm',\n",
       " 'CroppedYale/yaleB35/yaleB35_P00A-110E+15.pgm',\n",
       " 'CroppedYale/yaleB11/yaleB11_P00A+010E+00.pgm',\n",
       " 'CroppedYale/yaleB17/yaleB17_P00A+035E+40.pgm',\n",
       " 'CroppedYale/yaleB23/yaleB23_P00A+070E+00.pgm',\n",
       " 'CroppedYale/yaleB10/yaleB10_P00A-035E+40.pgm',\n",
       " 'CroppedYale/yaleB09/yaleB09_P00A+020E-40.pgm',\n",
       " 'CroppedYale/yaleB25/yaleB25_P00A+050E-40.pgm',\n",
       " 'CroppedYale/yaleB32/yaleB32_P00A+000E+45.pgm',\n",
       " 'CroppedYale/yaleB05/yaleB05_P00A-035E+40.pgm',\n",
       " 'CroppedYale/yaleB06/yaleB06_P00A+035E-20.pgm',\n",
       " 'CroppedYale/yaleB29/yaleB29_P00A+035E+65.pgm',\n",
       " 'CroppedYale/yaleB31/yaleB31_P00A+085E+20.pgm',\n",
       " 'CroppedYale/yaleB29/yaleB29_P00A+110E+40.pgm',\n",
       " 'CroppedYale/yaleB24/yaleB24_P00A+005E+10.pgm',\n",
       " 'CroppedYale/yaleB27/yaleB27_P00A-085E-20.pgm',\n",
       " 'CroppedYale/yaleB04/yaleB04_P00A+035E+15.pgm',\n",
       " 'CroppedYale/yaleB07/yaleB07_P00A+085E+20.pgm',\n",
       " 'CroppedYale/yaleB08/yaleB08_P00A-025E+00.pgm',\n",
       " 'CroppedYale/yaleB17/yaleB17_P00A+000E+20.pgm',\n",
       " 'CroppedYale/yaleB24/yaleB24_P00A+085E+20.pgm',\n",
       " 'CroppedYale/yaleB24/yaleB24_P00A+010E+00.pgm',\n",
       " 'CroppedYale/yaleB28/yaleB28_P00A+010E+00.pgm',\n",
       " 'CroppedYale/yaleB22/yaleB22_P00A-120E+00.pgm',\n",
       " 'CroppedYale/yaleB07/yaleB07_P00A-060E-20.pgm',\n",
       " 'CroppedYale/yaleB28/yaleB28_P00A-070E+00.pgm',\n",
       " 'CroppedYale/yaleB39/yaleB39_P00A-060E-20.pgm',\n",
       " 'CroppedYale/yaleB03/yaleB03_P00A+110E-20.pgm',\n",
       " 'CroppedYale/yaleB10/yaleB10_P00A+085E+20.pgm',\n",
       " 'CroppedYale/yaleB03/yaleB03_P00A+000E+00.pgm',\n",
       " 'CroppedYale/yaleB35/yaleB35_P00A-085E+20.pgm',\n",
       " 'CroppedYale/yaleB02/yaleB02_P00A+005E+10.pgm',\n",
       " 'CroppedYale/yaleB21/yaleB21_P00A-015E+20.pgm',\n",
       " 'CroppedYale/yaleB11/yaleB11_P00A+110E+15.pgm',\n",
       " 'CroppedYale/yaleB25/yaleB25_P00A-035E+15.pgm',\n",
       " 'CroppedYale/yaleB01/yaleB01_P00A-085E-20.pgm',\n",
       " 'CroppedYale/yaleB02/yaleB02_P00A-110E+40.pgm',\n",
       " 'CroppedYale/yaleB05/yaleB05_P00A-110E+40.pgm',\n",
       " 'CroppedYale/yaleB19/yaleB19_P00A+020E+10.pgm',\n",
       " 'CroppedYale/yaleB21/yaleB21_P00A+000E-35.pgm',\n",
       " 'CroppedYale/yaleB05/yaleB05_P00A+010E+00.pgm',\n",
       " 'CroppedYale/yaleB32/yaleB32_P00A-110E-20.pgm',\n",
       " 'CroppedYale/yaleB30/yaleB30_P00A+005E-10.pgm',\n",
       " 'CroppedYale/yaleB11/yaleB11_P00A+020E+10.pgm',\n",
       " 'CroppedYale/yaleB22/yaleB22_P00A+035E+65.pgm',\n",
       " 'CroppedYale/yaleB04/yaleB04_P00A+000E-35.pgm',\n",
       " 'CroppedYale/yaleB15/yaleB15_P00A-060E+20.pgm',\n",
       " 'CroppedYale/yaleB23/yaleB23_P00A-110E-20.pgm',\n",
       " 'CroppedYale/yaleB03/yaleB03_P00A-050E+00.pgm',\n",
       " 'CroppedYale/yaleB21/yaleB21_P00A-020E-40.pgm',\n",
       " 'CroppedYale/yaleB09/yaleB09_P00A-085E-20.pgm',\n",
       " 'CroppedYale/yaleB37/yaleB37_P00A+070E+45.pgm',\n",
       " 'CroppedYale/yaleB37/yaleB37_P00A-050E+00.pgm',\n",
       " 'CroppedYale/yaleB22/yaleB22_P00A-005E+10.pgm',\n",
       " 'CroppedYale/yaleB31/yaleB31_P00A+130E+20.pgm',\n",
       " 'CroppedYale/yaleB23/yaleB23_P00A-060E-20.pgm',\n",
       " 'CroppedYale/yaleB09/yaleB09_P00A-010E-20.pgm',\n",
       " 'CroppedYale/yaleB01/yaleB01_P00A+060E-20.pgm',\n",
       " 'CroppedYale/yaleB05/yaleB05_P00A+010E-20.pgm',\n",
       " 'CroppedYale/yaleB37/yaleB37_P00A-110E-20.pgm',\n",
       " 'CroppedYale/yaleB15/yaleB15_P00A+110E+40.pgm',\n",
       " 'CroppedYale/yaleB13/yaleB13_P00A-020E+10.pgm',\n",
       " 'CroppedYale/yaleB13/yaleB13_P00A-130E+20.pgm',\n",
       " 'CroppedYale/yaleB22/yaleB22_P00A-050E-40.pgm',\n",
       " 'CroppedYale/yaleB24/yaleB24_P00A-060E-20.pgm',\n",
       " 'CroppedYale/yaleB01/yaleB01_P00A+010E-20.pgm',\n",
       " 'CroppedYale/yaleB07/yaleB07_P00A-005E-10.pgm',\n",
       " 'CroppedYale/yaleB15/yaleB15_P00A+035E+65.pgm',\n",
       " 'CroppedYale/yaleB11/yaleB11_P00A+020E-10.pgm',\n",
       " 'CroppedYale/yaleB31/yaleB31_P00A-070E+45.pgm',\n",
       " 'CroppedYale/yaleB36/yaleB36_P00A+000E+20.pgm',\n",
       " 'CroppedYale/yaleB09/yaleB09_P00A+095E+00.pgm',\n",
       " 'CroppedYale/yaleB33/yaleB33_P00A+060E+20.pgm',\n",
       " 'CroppedYale/yaleB18/yaleB18_P00A-020E-40.pgm',\n",
       " 'CroppedYale/yaleB26/yaleB26_P00A+110E-20.pgm',\n",
       " 'CroppedYale/yaleB31/yaleB31_P00A+010E+00.pgm',\n",
       " 'CroppedYale/yaleB32/yaleB32_P00A+130E+20.pgm',\n",
       " 'CroppedYale/yaleB13/yaleB13_P00A+085E-20.pgm',\n",
       " 'CroppedYale/yaleB17/yaleB17_P00A+005E-10.pgm',\n",
       " 'CroppedYale/yaleB06/yaleB06_P00A+005E-10.pgm',\n",
       " 'CroppedYale/yaleB33/yaleB33_P00A-035E+15.pgm',\n",
       " 'CroppedYale/yaleB12/yaleB12_P00A+015E+20.pgm',\n",
       " 'CroppedYale/yaleB24/yaleB24_P00A+110E-20.pgm',\n",
       " 'CroppedYale/yaleB08/yaleB08_P00A+020E-10.pgm',\n",
       " 'CroppedYale/yaleB13/yaleB13_P00A+005E+10.pgm',\n",
       " 'CroppedYale/yaleB17/yaleB17_P00A-095E+00.pgm',\n",
       " 'CroppedYale/yaleB04/yaleB04_P00A-025E+00.pgm',\n",
       " 'CroppedYale/yaleB03/yaleB03_P00A-020E-10.pgm',\n",
       " 'CroppedYale/yaleB38/yaleB38_P00A-110E+40.pgm',\n",
       " 'CroppedYale/yaleB31/yaleB31_P00A-035E+15.pgm',\n",
       " 'CroppedYale/yaleB16/yaleB16_P00A+000E+00.pgm',\n",
       " 'CroppedYale/yaleB28/yaleB28_P00A-110E+15.pgm',\n",
       " 'CroppedYale/yaleB39/yaleB39_P00A+035E+15.pgm',\n",
       " 'CroppedYale/yaleB37/yaleB37_P00A-130E+20.pgm',\n",
       " 'CroppedYale/yaleB09/yaleB09_P00A+035E+40.pgm',\n",
       " 'CroppedYale/yaleB04/yaleB04_P00A+020E-10.pgm',\n",
       " 'CroppedYale/yaleB27/yaleB27_P00A+110E+15.pgm',\n",
       " 'CroppedYale/yaleB34/yaleB34_P00A+070E-35.pgm',\n",
       " 'CroppedYale/yaleB07/yaleB07_P00A+060E+20.pgm',\n",
       " 'CroppedYale/yaleB01/yaleB01_P00A-110E+15.pgm',\n",
       " 'CroppedYale/yaleB23/yaleB23_P00A+035E+15.pgm',\n",
       " 'CroppedYale/yaleB34/yaleB34_P00A-130E+20.pgm',\n",
       " 'CroppedYale/yaleB28/yaleB28_P00A+010E-20.pgm',\n",
       " 'CroppedYale/yaleB01/yaleB01_P00A+005E+10.pgm',\n",
       " 'CroppedYale/yaleB22/yaleB22_P00A+010E-20.pgm',\n",
       " 'CroppedYale/yaleB01/yaleB01_P00A-020E-40.pgm',\n",
       " 'CroppedYale/yaleB03/yaleB03_P00A-070E+45.pgm',\n",
       " 'CroppedYale/yaleB35/yaleB35_P00A-070E-35.pgm',\n",
       " 'CroppedYale/yaleB18/yaleB18_P00A-015E+20.pgm',\n",
       " 'CroppedYale/yaleB17/yaleB17_P00A+035E+65.pgm',\n",
       " 'CroppedYale/yaleB07/yaleB07_P00A+130E+20.pgm',\n",
       " 'CroppedYale/yaleB27/yaleB27_P00A+050E+00.pgm',\n",
       " 'CroppedYale/yaleB17/yaleB17_P00A+110E-20.pgm',\n",
       " 'CroppedYale/yaleB23/yaleB23_P00A+000E+00.pgm',\n",
       " 'CroppedYale/yaleB20/yaleB20_P00A-020E-10.pgm',\n",
       " 'CroppedYale/yaleB08/yaleB08_P00A+015E+20.pgm',\n",
       " 'CroppedYale/yaleB28/yaleB28_P00A-070E-35.pgm',\n",
       " 'CroppedYale/yaleB31/yaleB31_P00A-110E+15.pgm',\n",
       " 'CroppedYale/yaleB08/yaleB08_P00A+120E+00.pgm',\n",
       " 'CroppedYale/yaleB24/yaleB24_P00A-020E+10.pgm',\n",
       " 'CroppedYale/yaleB10/yaleB10_P00A+110E-20.pgm',\n",
       " 'CroppedYale/yaleB34/yaleB34_P00A-050E+00.pgm',\n",
       " 'CroppedYale/yaleB31/yaleB31_P00A+020E-10.pgm',\n",
       " 'CroppedYale/yaleB31/yaleB31_P00A+110E-20.pgm',\n",
       " 'CroppedYale/yaleB06/yaleB06_P00A-070E+45.pgm',\n",
       " 'CroppedYale/yaleB20/yaleB20_P00A+000E+20.pgm',\n",
       " 'CroppedYale/yaleB08/yaleB08_P00A+010E+00.pgm',\n",
       " 'CroppedYale/yaleB28/yaleB28_P00A+070E+00.pgm',\n",
       " 'CroppedYale/yaleB29/yaleB29_P00A-070E+45.pgm',\n",
       " 'CroppedYale/yaleB36/yaleB36_P00A+130E+20.pgm',\n",
       " 'CroppedYale/yaleB17/yaleB17_P00A-035E+65.pgm',\n",
       " 'CroppedYale/yaleB11/yaleB11_P00A+060E+20.pgm',\n",
       " 'CroppedYale/yaleB36/yaleB36_P00A+000E-20.pgm',\n",
       " 'CroppedYale/yaleB20/yaleB20_P00A+070E+45.pgm',\n",
       " 'CroppedYale/yaleB11/yaleB11_P00A+000E-35.pgm',\n",
       " 'CroppedYale/yaleB10/yaleB10_P00A+000E+20.pgm',\n",
       " 'CroppedYale/yaleB23/yaleB23_P00A+010E-20.pgm',\n",
       " 'CroppedYale/yaleB15/yaleB15_P00A+000E+00.pgm',\n",
       " 'CroppedYale/yaleB35/yaleB35_P00A+005E-10.pgm',\n",
       " 'CroppedYale/yaleB10/yaleB10_P00A-005E+10.pgm',\n",
       " 'CroppedYale/yaleB39/yaleB39_P00A+070E+00.pgm',\n",
       " 'CroppedYale/yaleB13/yaleB13_P00A+120E+00.pgm',\n",
       " 'CroppedYale/yaleB27/yaleB27_P00A+015E+20.pgm',\n",
       " 'CroppedYale/yaleB20/yaleB20_P00A+060E+20.pgm',\n",
       " 'CroppedYale/yaleB27/yaleB27_P00A+035E+65.pgm',\n",
       " 'CroppedYale/yaleB10/yaleB10_P00A-020E+10.pgm',\n",
       " 'CroppedYale/yaleB31/yaleB31_P00A+095E+00.pgm',\n",
       " 'CroppedYale/yaleB27/yaleB27_P00A-070E+00.pgm',\n",
       " 'CroppedYale/yaleB34/yaleB34_P00A+000E+90.pgm',\n",
       " 'CroppedYale/yaleB07/yaleB07_P00A-085E-20.pgm',\n",
       " 'CroppedYale/yaleB18/yaleB18_P00A+005E+10.pgm',\n",
       " 'CroppedYale/yaleB22/yaleB22_P00A-130E+20.pgm',\n",
       " 'CroppedYale/yaleB34/yaleB34_P00A-060E+20.pgm',\n",
       " 'CroppedYale/yaleB13/yaleB13_P00A+060E+20.pgm',\n",
       " 'CroppedYale/yaleB16/yaleB16_P00A-035E-20.pgm',\n",
       " 'CroppedYale/yaleB08/yaleB08_P00A+060E-20.pgm',\n",
       " 'CroppedYale/yaleB22/yaleB22_P00A+110E+15.pgm',\n",
       " 'CroppedYale/yaleB19/yaleB19_P00A-130E+20.pgm',\n",
       " 'CroppedYale/yaleB08/yaleB08_P00A+000E+45.pgm',\n",
       " 'CroppedYale/yaleB29/yaleB29_P00A-110E+65.pgm',\n",
       " 'CroppedYale/yaleB04/yaleB04_P00A+120E+00.pgm',\n",
       " 'CroppedYale/yaleB19/yaleB19_P00A-005E+10.pgm',\n",
       " 'CroppedYale/yaleB05/yaleB05_P00A-070E+00.pgm',\n",
       " 'CroppedYale/yaleB21/yaleB21_P00A+010E+00.pgm',\n",
       " 'CroppedYale/yaleB04/yaleB04_P00A+110E+15.pgm',\n",
       " 'CroppedYale/yaleB08/yaleB08_P00A-035E+40.pgm',\n",
       " 'CroppedYale/yaleB10/yaleB10_P00A+050E+00.pgm',\n",
       " 'CroppedYale/yaleB26/yaleB26_P00A+010E+00.pgm',\n",
       " 'CroppedYale/yaleB03/yaleB03_P00A+000E+45.pgm',\n",
       " 'CroppedYale/yaleB31/yaleB31_P00A+060E+20.pgm',\n",
       " 'CroppedYale/yaleB10/yaleB10_P00A-085E+20.pgm',\n",
       " 'CroppedYale/yaleB07/yaleB07_P00A+070E-35.pgm',\n",
       " 'CroppedYale/yaleB30/yaleB30_P00A+000E+45.pgm',\n",
       " 'CroppedYale/yaleB15/yaleB15_P00A+110E+15.pgm',\n",
       " 'CroppedYale/yaleB13/yaleB13_P00A+130E+20.pgm',\n",
       " 'CroppedYale/yaleB19/yaleB19_P00A+000E+20.pgm',\n",
       " 'CroppedYale/yaleB01/yaleB01_P00A+000E-35.pgm',\n",
       " 'CroppedYale/yaleB38/yaleB38_P00A-010E-20.pgm',\n",
       " 'CroppedYale/yaleB33/yaleB33_P00A-110E+40.pgm',\n",
       " 'CroppedYale/yaleB22/yaleB22_P00A-015E+20.pgm',\n",
       " 'CroppedYale/yaleB08/yaleB08_P00A-095E+00.pgm',\n",
       " 'CroppedYale/yaleB31/yaleB31_P00A-005E+10.pgm',\n",
       " 'CroppedYale/yaleB26/yaleB26_P00A-070E-35.pgm',\n",
       " 'CroppedYale/yaleB30/yaleB30_P00A-110E+15.pgm',\n",
       " 'CroppedYale/yaleB10/yaleB10_P00A+050E-40.pgm',\n",
       " 'CroppedYale/yaleB05/yaleB05_P00A-010E-20.pgm',\n",
       " 'CroppedYale/yaleB22/yaleB22_P00A+000E-35.pgm',\n",
       " 'CroppedYale/yaleB28/yaleB28_P00A+000E+90.pgm',\n",
       " 'CroppedYale/yaleB03/yaleB03_P00A-110E+40.pgm',\n",
       " 'CroppedYale/yaleB29/yaleB29_P00A+110E-20.pgm',\n",
       " 'CroppedYale/yaleB05/yaleB05_P00A-020E+10.pgm',\n",
       " 'CroppedYale/yaleB24/yaleB24_P00A+000E+00.pgm',\n",
       " 'CroppedYale/yaleB05/yaleB05_P00A+000E+20.pgm',\n",
       " 'CroppedYale/yaleB04/yaleB04_P00A+010E-20.pgm',\n",
       " 'CroppedYale/yaleB04/yaleB04_P00A-005E+10.pgm',\n",
       " 'CroppedYale/yaleB34/yaleB34_P00A+005E-10.pgm',\n",
       " 'CroppedYale/yaleB05/yaleB05_P00A-020E-10.pgm',\n",
       " 'CroppedYale/yaleB08/yaleB08_P00A-120E+00.pgm',\n",
       " 'CroppedYale/yaleB24/yaleB24_P00A+020E+10.pgm',\n",
       " 'CroppedYale/yaleB11/yaleB11_P00A+070E-35.pgm',\n",
       " 'CroppedYale/yaleB25/yaleB25_P00A-010E+00.pgm',\n",
       " 'CroppedYale/yaleB18/yaleB18_P00A+015E+20.pgm',\n",
       " 'CroppedYale/yaleB02/yaleB02_P00A+000E+45.pgm',\n",
       " 'CroppedYale/yaleB26/yaleB26_P00A+095E+00.pgm',\n",
       " 'CroppedYale/yaleB03/yaleB03_P00A+010E+00.pgm',\n",
       " 'CroppedYale/yaleB34/yaleB34_P00A+000E+45.pgm',\n",
       " 'CroppedYale/yaleB08/yaleB08_P00A-020E-10.pgm',\n",
       " 'CroppedYale/yaleB07/yaleB07_P00A-010E-20.pgm',\n",
       " 'CroppedYale/yaleB38/yaleB38_P00A+005E-10.pgm',\n",
       " 'CroppedYale/yaleB26/yaleB26_P00A+005E+10.pgm',\n",
       " 'CroppedYale/yaleB39/yaleB39_P00A-110E+65.pgm',\n",
       " 'CroppedYale/yaleB30/yaleB30_P00A-085E+20.pgm',\n",
       " 'CroppedYale/yaleB23/yaleB23_P00A+035E+65.pgm',\n",
       " 'CroppedYale/yaleB21/yaleB21_P00A-050E+00.pgm',\n",
       " 'CroppedYale/yaleB26/yaleB26_P00A+070E-35.pgm',\n",
       " 'CroppedYale/yaleB29/yaleB29_P00A-005E-10.pgm',\n",
       " 'CroppedYale/yaleB31/yaleB31_P00A+120E+00.pgm',\n",
       " 'CroppedYale/yaleB15/yaleB15_P00A+085E+20.pgm',\n",
       " 'CroppedYale/yaleB29/yaleB29_P00A+060E-20.pgm',\n",
       " 'CroppedYale/yaleB28/yaleB28_P00A+020E+10.pgm',\n",
       " 'CroppedYale/yaleB17/yaleB17_P00A+025E+00.pgm',\n",
       " 'CroppedYale/yaleB33/yaleB33_P00A+000E-20.pgm',\n",
       " 'CroppedYale/yaleB05/yaleB05_P00A+060E+20.pgm',\n",
       " 'CroppedYale/yaleB07/yaleB07_P00A+110E+15.pgm',\n",
       " 'CroppedYale/yaleB21/yaleB21_P00A-010E+00.pgm',\n",
       " 'CroppedYale/yaleB27/yaleB27_P00A+070E+45.pgm',\n",
       " 'CroppedYale/yaleB12/yaleB12_P00A-085E+20.pgm',\n",
       " 'CroppedYale/yaleB19/yaleB19_P00A+035E+65.pgm',\n",
       " 'CroppedYale/yaleB25/yaleB25_P00A-060E-20.pgm',\n",
       " 'CroppedYale/yaleB13/yaleB13_P00A-035E+65.pgm',\n",
       " 'CroppedYale/yaleB23/yaleB23_P00A-035E+65.pgm',\n",
       " 'CroppedYale/yaleB37/yaleB37_P00A+060E-20.pgm',\n",
       " 'CroppedYale/yaleB09/yaleB09_P00A-035E+40.pgm',\n",
       " 'CroppedYale/yaleB36/yaleB36_P00A-005E-10.pgm',\n",
       " 'CroppedYale/yaleB25/yaleB25_P00A+005E-10.pgm',\n",
       " 'CroppedYale/yaleB33/yaleB33_P00A-060E-20.pgm',\n",
       " 'CroppedYale/yaleB04/yaleB04_P00A+110E+65.pgm',\n",
       " 'CroppedYale/yaleB20/yaleB20_P00A-035E-20.pgm',\n",
       " 'CroppedYale/yaleB32/yaleB32_P00A-070E-35.pgm',\n",
       " 'CroppedYale/yaleB38/yaleB38_P00A-010E+00.pgm',\n",
       " 'CroppedYale/yaleB17/yaleB17_P00A+060E-20.pgm',\n",
       " 'CroppedYale/yaleB37/yaleB37_P00A-035E+15.pgm',\n",
       " 'CroppedYale/yaleB10/yaleB10_P00A-085E-20.pgm',\n",
       " 'CroppedYale/yaleB30/yaleB30_P00A-060E-20.pgm',\n",
       " 'CroppedYale/yaleB22/yaleB22_P00A-110E+65.pgm',\n",
       " 'CroppedYale/yaleB38/yaleB38_P00A+000E+00.pgm',\n",
       " 'CroppedYale/yaleB23/yaleB23_P00A-025E+00.pgm',\n",
       " 'CroppedYale/yaleB28/yaleB28_P00A+000E-20.pgm',\n",
       " 'CroppedYale/yaleB31/yaleB31_P00A+035E+40.pgm',\n",
       " 'CroppedYale/yaleB34/yaleB34_P00A-005E+10.pgm',\n",
       " 'CroppedYale/yaleB13/yaleB13_P00A+015E+20.pgm',\n",
       " 'CroppedYale/yaleB33/yaleB33_P00A+070E-35.pgm',\n",
       " 'CroppedYale/yaleB02/yaleB02_P00A+035E+65.pgm',\n",
       " 'CroppedYale/yaleB10/yaleB10_P00A+005E-10.pgm',\n",
       " 'CroppedYale/yaleB12/yaleB12_P00A+010E-20.pgm',\n",
       " 'CroppedYale/yaleB12/yaleB12_P00A-020E-10.pgm',\n",
       " 'CroppedYale/yaleB28/yaleB28_P00A-085E+20.pgm',\n",
       " 'CroppedYale/yaleB32/yaleB32_P00A+120E+00.pgm',\n",
       " 'CroppedYale/yaleB01/yaleB01_P00A-035E+40.pgm',\n",
       " 'CroppedYale/yaleB16/yaleB16_P00A-035E+65.pgm',\n",
       " 'CroppedYale/yaleB02/yaleB02_P00A-070E+00.pgm',\n",
       " 'CroppedYale/yaleB12/yaleB12_P00A-010E+00.pgm',\n",
       " 'CroppedYale/yaleB39/yaleB39_P00A-035E+15.pgm',\n",
       " 'CroppedYale/yaleB04/yaleB04_P00A+010E+00.pgm',\n",
       " 'CroppedYale/yaleB32/yaleB32_P00A+050E+00.pgm',\n",
       " 'CroppedYale/yaleB11/yaleB11_P00A+020E-40.pgm',\n",
       " 'CroppedYale/yaleB25/yaleB25_P00A+000E+45.pgm',\n",
       " 'CroppedYale/yaleB29/yaleB29_P00A-070E+00.pgm',\n",
       " 'CroppedYale/yaleB11/yaleB11_P00A-085E+20.pgm',\n",
       " 'CroppedYale/yaleB22/yaleB22_P00A+060E+20.pgm',\n",
       " 'CroppedYale/yaleB09/yaleB09_P00A+020E+10.pgm',\n",
       " 'CroppedYale/yaleB12/yaleB12_P00A+000E-20.pgm',\n",
       " 'CroppedYale/yaleB36/yaleB36_P00A-050E-40.pgm',\n",
       " 'CroppedYale/yaleB34/yaleB34_P00A+110E-20.pgm',\n",
       " 'CroppedYale/yaleB04/yaleB04_P00A+060E-20.pgm',\n",
       " 'CroppedYale/yaleB23/yaleB23_P00A-015E+20.pgm',\n",
       " 'CroppedYale/yaleB10/yaleB10_P00A+005E+10.pgm',\n",
       " 'CroppedYale/yaleB07/yaleB07_P00A+095E+00.pgm',\n",
       " 'CroppedYale/yaleB08/yaleB08_P00A+005E-10.pgm',\n",
       " 'CroppedYale/yaleB31/yaleB31_P00A+035E-20.pgm',\n",
       " 'CroppedYale/yaleB01/yaleB01_P00A+000E+90.pgm',\n",
       " 'CroppedYale/yaleB19/yaleB19_P00A-070E-35.pgm',\n",
       " 'CroppedYale/yaleB11/yaleB11_P00A-020E-40.pgm',\n",
       " 'CroppedYale/yaleB39/yaleB39_P00A-085E+20.pgm',\n",
       " 'CroppedYale/yaleB39/yaleB39_P00A+020E-40.pgm',\n",
       " 'CroppedYale/yaleB25/yaleB25_P00A+000E+00.pgm',\n",
       " 'CroppedYale/yaleB31/yaleB31_P00A-085E-20.pgm',\n",
       " 'CroppedYale/yaleB08/yaleB08_P00A-070E+00.pgm',\n",
       " 'CroppedYale/yaleB18/yaleB18_P00A-005E-10.pgm',\n",
       " 'CroppedYale/yaleB17/yaleB17_P00A+085E-20.pgm',\n",
       " 'CroppedYale/yaleB38/yaleB38_P00A-070E-35.pgm',\n",
       " 'CroppedYale/yaleB33/yaleB33_P00A+035E-20.pgm',\n",
       " 'CroppedYale/yaleB17/yaleB17_P00A-085E+20.pgm',\n",
       " 'CroppedYale/yaleB08/yaleB08_P00A+110E+15.pgm',\n",
       " 'CroppedYale/yaleB18/yaleB18_P00A+020E-10.pgm',\n",
       " 'CroppedYale/yaleB36/yaleB36_P00A-095E+00.pgm',\n",
       " 'CroppedYale/yaleB01/yaleB01_P00A-010E+00.pgm',\n",
       " 'CroppedYale/yaleB11/yaleB11_P00A+070E+00.pgm',\n",
       " 'CroppedYale/yaleB25/yaleB25_P00A-010E-20.pgm',\n",
       " 'CroppedYale/yaleB16/yaleB16_P00A-060E+20.pgm',\n",
       " 'CroppedYale/yaleB37/yaleB37_P00A+120E+00.pgm',\n",
       " 'CroppedYale/yaleB38/yaleB38_P00A+000E-35.pgm',\n",
       " 'CroppedYale/yaleB08/yaleB08_P00A+035E+15.pgm',\n",
       " 'CroppedYale/yaleB33/yaleB33_P00A+000E-35.pgm',\n",
       " 'CroppedYale/yaleB38/yaleB38_P00A+070E+00.pgm',\n",
       " 'CroppedYale/yaleB33/yaleB33_P00A+020E-40.pgm',\n",
       " 'CroppedYale/yaleB15/yaleB15_P00A-020E+10.pgm',\n",
       " 'CroppedYale/yaleB29/yaleB29_P00A+025E+00.pgm',\n",
       " 'CroppedYale/yaleB19/yaleB19_P00A-110E+15.pgm',\n",
       " 'CroppedYale/yaleB11/yaleB11_P00A-015E+20.pgm',\n",
       " 'CroppedYale/yaleB26/yaleB26_P00A+025E+00.pgm',\n",
       " 'CroppedYale/yaleB19/yaleB19_P00A+015E+20.pgm',\n",
       " 'CroppedYale/yaleB19/yaleB19_P00A+010E-20.pgm',\n",
       " 'CroppedYale/yaleB30/yaleB30_P00A+035E+65.pgm',\n",
       " 'CroppedYale/yaleB02/yaleB02_P00A-110E+65.pgm',\n",
       " 'CroppedYale/yaleB17/yaleB17_P00A-025E+00.pgm',\n",
       " 'CroppedYale/yaleB33/yaleB33_P00A-010E-20.pgm',\n",
       " 'CroppedYale/yaleB11/yaleB11_P00A-085E-20.pgm',\n",
       " 'CroppedYale/yaleB25/yaleB25_P00A+035E+40.pgm',\n",
       " 'CroppedYale/yaleB36/yaleB36_P00A-110E-20.pgm',\n",
       " 'CroppedYale/yaleB07/yaleB07_P00A-010E+00.pgm',\n",
       " 'CroppedYale/yaleB21/yaleB21_P00A+020E+10.pgm',\n",
       " 'CroppedYale/yaleB21/yaleB21_P00A-060E+20.pgm',\n",
       " 'CroppedYale/yaleB10/yaleB10_P00A-050E+00.pgm',\n",
       " 'CroppedYale/yaleB23/yaleB23_P00A-010E-20.pgm',\n",
       " 'CroppedYale/yaleB27/yaleB27_P00A+085E-20.pgm',\n",
       " 'CroppedYale/yaleB06/yaleB06_P00A-010E+00.pgm',\n",
       " 'CroppedYale/yaleB22/yaleB22_P00A+070E+45.pgm',\n",
       " 'CroppedYale/yaleB08/yaleB08_P00A+110E-20.pgm',\n",
       " 'CroppedYale/yaleB22/yaleB22_P00A-005E-10.pgm',\n",
       " 'CroppedYale/yaleB37/yaleB37_P00A-085E-20.pgm',\n",
       " 'CroppedYale/yaleB15/yaleB15_P00A+005E+10.pgm',\n",
       " 'CroppedYale/yaleB35/yaleB35_P00A-005E+10.pgm',\n",
       " 'CroppedYale/yaleB26/yaleB26_P00A+130E+20.pgm',\n",
       " 'CroppedYale/yaleB09/yaleB09_P00A-020E-40.pgm',\n",
       " 'CroppedYale/yaleB24/yaleB24_P00A+020E-40.pgm',\n",
       " 'CroppedYale/yaleB12/yaleB12_P00A-010E-20.pgm',\n",
       " 'CroppedYale/yaleB03/yaleB03_P00A+000E+90.pgm',\n",
       " 'CroppedYale/yaleB15/yaleB15_P00A+025E+00.pgm',\n",
       " 'CroppedYale/yaleB30/yaleB30_P00A-050E+00.pgm',\n",
       " 'CroppedYale/yaleB21/yaleB21_P00A+000E+90.pgm',\n",
       " 'CroppedYale/yaleB36/yaleB36_P00A+010E-20.pgm',\n",
       " 'CroppedYale/yaleB20/yaleB20_P00A+120E+00.pgm',\n",
       " 'CroppedYale/yaleB24/yaleB24_P00A-050E-40.pgm',\n",
       " 'CroppedYale/yaleB12/yaleB12_P00A+070E+00.pgm',\n",
       " 'CroppedYale/yaleB16/yaleB16_P00A+070E+00.pgm',\n",
       " 'CroppedYale/yaleB36/yaleB36_P00A+110E-20.pgm',\n",
       " 'CroppedYale/yaleB02/yaleB02_P00A-035E+65.pgm',\n",
       " 'CroppedYale/yaleB32/yaleB32_P00A+035E+15.pgm',\n",
       " 'CroppedYale/yaleB38/yaleB38_P00A+005E+10.pgm',\n",
       " 'CroppedYale/yaleB18/yaleB18_P00A-110E+65.pgm',\n",
       " 'CroppedYale/yaleB12/yaleB12_P00A-005E-10.pgm',\n",
       " 'CroppedYale/yaleB33/yaleB33_P00A-110E+65.pgm',\n",
       " 'CroppedYale/yaleB27/yaleB27_P00A+000E+20.pgm',\n",
       " 'CroppedYale/yaleB25/yaleB25_P00A-095E+00.pgm',\n",
       " 'CroppedYale/yaleB16/yaleB16_P00A+035E+65.pgm',\n",
       " 'CroppedYale/yaleB26/yaleB26_P00A-085E+20.pgm',\n",
       " 'CroppedYale/yaleB32/yaleB32_P00A-095E+00.pgm',\n",
       " 'CroppedYale/yaleB16/yaleB16_P00A+060E+20.pgm',\n",
       " 'CroppedYale/yaleB12/yaleB12_P00A-120E+00.pgm',\n",
       " 'CroppedYale/yaleB20/yaleB20_P00A-010E+00.pgm',\n",
       " 'CroppedYale/yaleB22/yaleB22_P00A+110E+40.pgm',\n",
       " 'CroppedYale/yaleB39/yaleB39_P00A+110E+40.pgm',\n",
       " 'CroppedYale/yaleB39/yaleB39_P00A-060E+20.pgm',\n",
       " 'CroppedYale/yaleB18/yaleB18_P00A+060E+20.pgm',\n",
       " 'CroppedYale/yaleB26/yaleB26_P00A+000E+00.pgm',\n",
       " 'CroppedYale/yaleB20/yaleB20_P00A+110E-20.pgm',\n",
       " 'CroppedYale/yaleB09/yaleB09_P00A+000E+45.pgm',\n",
       " 'CroppedYale/yaleB12/yaleB12_P00A+060E-20.pgm',\n",
       " 'CroppedYale/yaleB17/yaleB17_P00A+035E-20.pgm',\n",
       " 'CroppedYale/yaleB26/yaleB26_P00A+070E+45.pgm',\n",
       " 'CroppedYale/yaleB18/yaleB18_P00A-010E-20.pgm',\n",
       " 'CroppedYale/yaleB18/yaleB18_P00A+035E+65.pgm',\n",
       " 'CroppedYale/yaleB05/yaleB05_P00A-015E+20.pgm',\n",
       " 'CroppedYale/yaleB05/yaleB05_P00A+130E+20.pgm',\n",
       " 'CroppedYale/yaleB19/yaleB19_P00A+050E+00.pgm',\n",
       " 'CroppedYale/yaleB24/yaleB24_P00A-120E+00.pgm',\n",
       " 'CroppedYale/yaleB33/yaleB33_P00A-085E-20.pgm',\n",
       " 'CroppedYale/yaleB36/yaleB36_P00A+035E+65.pgm',\n",
       " 'CroppedYale/yaleB27/yaleB27_P00A+035E-20.pgm',\n",
       " 'CroppedYale/yaleB07/yaleB07_P00A-110E+15.pgm',\n",
       " 'CroppedYale/yaleB09/yaleB09_P00A-070E+45.pgm',\n",
       " 'CroppedYale/yaleB38/yaleB38_P00A-035E+40.pgm',\n",
       " 'CroppedYale/yaleB16/yaleB16_P00A+085E-20.pgm',\n",
       " 'CroppedYale/yaleB38/yaleB38_P00A+015E+20.pgm',\n",
       " 'CroppedYale/yaleB11/yaleB11_P00A-070E-35.pgm',\n",
       " 'CroppedYale/yaleB23/yaleB23_P00A+000E+90.pgm',\n",
       " 'CroppedYale/yaleB01/yaleB01_P00A-025E+00.pgm',\n",
       " 'CroppedYale/yaleB31/yaleB31_P00A-070E+00.pgm',\n",
       " 'CroppedYale/yaleB30/yaleB30_P00A-060E+20.pgm',\n",
       " 'CroppedYale/yaleB20/yaleB20_P00A+060E-20.pgm',\n",
       " 'CroppedYale/yaleB10/yaleB10_P00A-070E+45.pgm',\n",
       " 'CroppedYale/yaleB16/yaleB16_P00A+005E+10.pgm',\n",
       " 'CroppedYale/yaleB07/yaleB07_P00A+025E+00.pgm',\n",
       " 'CroppedYale/yaleB22/yaleB22_P00A-020E-10.pgm',\n",
       " 'CroppedYale/yaleB18/yaleB18_P00A+110E+65.pgm',\n",
       " 'CroppedYale/yaleB17/yaleB17_P00A+000E+00.pgm',\n",
       " 'CroppedYale/yaleB37/yaleB37_P00A-085E+20.pgm',\n",
       " 'CroppedYale/yaleB13/yaleB13_P00A-020E-40.pgm',\n",
       " 'CroppedYale/yaleB06/yaleB06_P00A-110E+65.pgm',\n",
       " 'CroppedYale/yaleB29/yaleB29_P00A+010E-20.pgm',\n",
       " 'CroppedYale/yaleB36/yaleB36_P00A+025E+00.pgm',\n",
       " 'CroppedYale/yaleB30/yaleB30_P00A-095E+00.pgm',\n",
       " 'CroppedYale/yaleB16/yaleB16_P00A+110E+65.pgm',\n",
       " 'CroppedYale/yaleB11/yaleB11_P00A-070E+00.pgm',\n",
       " 'CroppedYale/yaleB22/yaleB22_P00A+035E+15.pgm',\n",
       " 'CroppedYale/yaleB24/yaleB24_P00A+110E+65.pgm',\n",
       " 'CroppedYale/yaleB23/yaleB23_P00A-020E-40.pgm',\n",
       " 'CroppedYale/yaleB26/yaleB26_P00A+050E+00.pgm',\n",
       " 'CroppedYale/yaleB31/yaleB31_P00A-020E-40.pgm',\n",
       " 'CroppedYale/yaleB02/yaleB02_P00A+000E+00.pgm',\n",
       " 'CroppedYale/yaleB08/yaleB08_P00A-005E-10.pgm',\n",
       " 'CroppedYale/yaleB08/yaleB08_P00A-070E+45.pgm',\n",
       " 'CroppedYale/yaleB03/yaleB03_P00A-010E+00.pgm',\n",
       " 'CroppedYale/yaleB28/yaleB28_P00A-035E-20.pgm',\n",
       " 'CroppedYale/yaleB30/yaleB30_P00A-020E-40.pgm',\n",
       " 'CroppedYale/yaleB04/yaleB04_P00A-110E+40.pgm',\n",
       " 'CroppedYale/yaleB24/yaleB24_P00A+050E-40.pgm',\n",
       " 'CroppedYale/yaleB23/yaleB23_P00A-095E+00.pgm',\n",
       " 'CroppedYale/yaleB17/yaleB17_P00A+010E+00.pgm',\n",
       " 'CroppedYale/yaleB06/yaleB06_P00A+050E-40.pgm',\n",
       " 'CroppedYale/yaleB08/yaleB08_P00A-085E+20.pgm',\n",
       " 'CroppedYale/yaleB34/yaleB34_P00A-020E-10.pgm',\n",
       " 'CroppedYale/yaleB06/yaleB06_P00A-035E-20.pgm',\n",
       " 'CroppedYale/yaleB11/yaleB11_P00A+110E+65.pgm',\n",
       " 'CroppedYale/yaleB18/yaleB18_P00A+095E+00.pgm',\n",
       " 'CroppedYale/yaleB08/yaleB08_P00A+130E+20.pgm',\n",
       " 'CroppedYale/yaleB16/yaleB16_P00A-110E+40.pgm',\n",
       " 'CroppedYale/yaleB21/yaleB21_P00A-035E+65.pgm',\n",
       " 'CroppedYale/yaleB29/yaleB29_P00A-110E+40.pgm',\n",
       " 'CroppedYale/yaleB38/yaleB38_P00A+050E+00.pgm',\n",
       " 'CroppedYale/yaleB35/yaleB35_P00A+035E+65.pgm',\n",
       " 'CroppedYale/yaleB07/yaleB07_P00A+035E+65.pgm',\n",
       " 'CroppedYale/yaleB33/yaleB33_P00A+050E-40.pgm',\n",
       " 'CroppedYale/yaleB28/yaleB28_P00A+050E-40.pgm',\n",
       " 'CroppedYale/yaleB09/yaleB09_P00A+020E-10.pgm',\n",
       " 'CroppedYale/yaleB10/yaleB10_P00A+010E-20.pgm',\n",
       " 'CroppedYale/yaleB12/yaleB12_P00A-015E+20.pgm',\n",
       " 'CroppedYale/yaleB23/yaleB23_P00A-010E+00.pgm',\n",
       " 'CroppedYale/yaleB09/yaleB09_P00A-020E-10.pgm',\n",
       " 'CroppedYale/yaleB21/yaleB21_P00A+095E+00.pgm',\n",
       " 'CroppedYale/yaleB29/yaleB29_P00A+005E+10.pgm',\n",
       " 'CroppedYale/yaleB27/yaleB27_P00A+060E-20.pgm',\n",
       " 'CroppedYale/yaleB26/yaleB26_P00A-120E+00.pgm',\n",
       " 'CroppedYale/yaleB15/yaleB15_P00A-010E+00.pgm',\n",
       " 'CroppedYale/yaleB30/yaleB30_P00A-035E+40.pgm',\n",
       " 'CroppedYale/yaleB02/yaleB02_P00A-110E+15.pgm',\n",
       " 'CroppedYale/yaleB32/yaleB32_P00A-070E+00.pgm',\n",
       " 'CroppedYale/yaleB24/yaleB24_P00A-005E-10.pgm',\n",
       " 'CroppedYale/yaleB04/yaleB04_P00A+020E+10.pgm',\n",
       " 'CroppedYale/yaleB19/yaleB19_P00A-110E+40.pgm',\n",
       " 'CroppedYale/yaleB05/yaleB05_P00A+005E+10.pgm',\n",
       " 'CroppedYale/yaleB28/yaleB28_P00A+000E+00.pgm',\n",
       " 'CroppedYale/yaleB01/yaleB01_P00A+070E+00.pgm',\n",
       " 'CroppedYale/yaleB39/yaleB39_P00A-015E+20.pgm',\n",
       " 'CroppedYale/yaleB18/yaleB18_P00A+110E+40.pgm',\n",
       " 'CroppedYale/yaleB19/yaleB19_P00A-120E+00.pgm',\n",
       " 'CroppedYale/yaleB12/yaleB12_P00A-025E+00.pgm',\n",
       " 'CroppedYale/yaleB32/yaleB32_P00A+015E+20.pgm',\n",
       " 'CroppedYale/yaleB28/yaleB28_P00A-130E+20.pgm',\n",
       " 'CroppedYale/yaleB20/yaleB20_P00A-110E+40.pgm',\n",
       " 'CroppedYale/yaleB22/yaleB22_P00A-060E-20.pgm',\n",
       " 'CroppedYale/yaleB03/yaleB03_P00A-110E+15.pgm',\n",
       " 'CroppedYale/yaleB21/yaleB21_P00A-070E+00.pgm',\n",
       " 'CroppedYale/yaleB12/yaleB12_P00A-110E+65.pgm',\n",
       " 'CroppedYale/yaleB38/yaleB38_P00A+000E+45.pgm',\n",
       " 'CroppedYale/yaleB32/yaleB32_P00A-035E+40.pgm',\n",
       " 'CroppedYale/yaleB07/yaleB07_P00A+000E-20.pgm',\n",
       " 'CroppedYale/yaleB21/yaleB21_P00A+025E+00.pgm',\n",
       " 'CroppedYale/yaleB09/yaleB09_P00A+085E-20.pgm',\n",
       " 'CroppedYale/yaleB31/yaleB31_P00A-070E-35.pgm',\n",
       " 'CroppedYale/yaleB37/yaleB37_P00A+010E-20.pgm',\n",
       " 'CroppedYale/yaleB02/yaleB02_P00A+010E+00.pgm',\n",
       " 'CroppedYale/yaleB03/yaleB03_P00A+070E+45.pgm',\n",
       " 'CroppedYale/yaleB23/yaleB23_P00A+010E+00.pgm',\n",
       " 'CroppedYale/yaleB29/yaleB29_P00A+070E+00.pgm',\n",
       " 'CroppedYale/yaleB39/yaleB39_P00A+130E+20.pgm',\n",
       " 'CroppedYale/yaleB11/yaleB11_P00A+000E+20.pgm',\n",
       " 'CroppedYale/yaleB29/yaleB29_P00A-025E+00.pgm',\n",
       " 'CroppedYale/yaleB25/yaleB25_P00A-020E-40.pgm',\n",
       " 'CroppedYale/yaleB29/yaleB29_P00A-110E+15.pgm',\n",
       " 'CroppedYale/yaleB29/yaleB29_P00A+000E+00.pgm',\n",
       " 'CroppedYale/yaleB34/yaleB34_P00A-015E+20.pgm',\n",
       " 'CroppedYale/yaleB30/yaleB30_P00A+070E+45.pgm',\n",
       " 'CroppedYale/yaleB22/yaleB22_P00A+070E-35.pgm',\n",
       " 'CroppedYale/yaleB28/yaleB28_P00A-070E+45.pgm',\n",
       " 'CroppedYale/yaleB19/yaleB19_P00A+035E+40.pgm',\n",
       " 'CroppedYale/yaleB32/yaleB32_P00A+070E+45.pgm',\n",
       " 'CroppedYale/yaleB22/yaleB22_P00A+020E-40.pgm',\n",
       " 'CroppedYale/yaleB27/yaleB27_P00A+020E-10.pgm',\n",
       " 'CroppedYale/yaleB12/yaleB12_P00A+020E+10.pgm',\n",
       " 'CroppedYale/yaleB07/yaleB07_P00A-005E+10.pgm',\n",
       " 'CroppedYale/yaleB34/yaleB34_P00A-110E+65.pgm',\n",
       " 'CroppedYale/yaleB32/yaleB32_P00A-050E+00.pgm',\n",
       " 'CroppedYale/yaleB25/yaleB25_P00A+110E+15.pgm',\n",
       " 'CroppedYale/yaleB23/yaleB23_P00A+005E-10.pgm',\n",
       " 'CroppedYale/yaleB18/yaleB18_P00A+110E+15.pgm',\n",
       " 'CroppedYale/yaleB07/yaleB07_P00A+020E-10.pgm',\n",
       " 'CroppedYale/yaleB03/yaleB03_P00A+005E+10.pgm',\n",
       " 'CroppedYale/yaleB20/yaleB20_P00A+110E+65.pgm',\n",
       " 'CroppedYale/yaleB09/yaleB09_P00A-050E-40.pgm',\n",
       " 'CroppedYale/yaleB06/yaleB06_P00A+000E+45.pgm',\n",
       " 'CroppedYale/yaleB16/yaleB16_P00A-020E-40.pgm',\n",
       " 'CroppedYale/yaleB09/yaleB09_P00A-010E+00.pgm',\n",
       " 'CroppedYale/yaleB01/yaleB01_P00A-035E+15.pgm',\n",
       " 'CroppedYale/yaleB01/yaleB01_P00A-060E-20.pgm',\n",
       " 'CroppedYale/yaleB07/yaleB07_P00A+070E+45.pgm',\n",
       " 'CroppedYale/yaleB04/yaleB04_P00A-035E+40.pgm',\n",
       " 'CroppedYale/yaleB12/yaleB12_P00A+050E+00.pgm',\n",
       " 'CroppedYale/yaleB11/yaleB11_P00A-035E+15.pgm',\n",
       " 'CroppedYale/yaleB39/yaleB39_P00A-070E+00.pgm',\n",
       " 'CroppedYale/yaleB19/yaleB19_P00A-050E+00.pgm',\n",
       " 'CroppedYale/yaleB06/yaleB06_P00A-025E+00.pgm',\n",
       " 'CroppedYale/yaleB06/yaleB06_P00A-070E+00.pgm',\n",
       " 'CroppedYale/yaleB10/yaleB10_P00A+035E-20.pgm',\n",
       " 'CroppedYale/yaleB13/yaleB13_P00A-110E+65.pgm',\n",
       " 'CroppedYale/yaleB23/yaleB23_P00A-050E+00.pgm',\n",
       " 'CroppedYale/yaleB15/yaleB15_P00A+110E+65.pgm',\n",
       " 'CroppedYale/yaleB25/yaleB25_P00A+035E-20.pgm',\n",
       " 'CroppedYale/yaleB38/yaleB38_P00A-020E-40.pgm',\n",
       " 'CroppedYale/yaleB27/yaleB27_P00A+005E+10.pgm',\n",
       " 'CroppedYale/yaleB36/yaleB36_P00A-005E+10.pgm',\n",
       " 'CroppedYale/yaleB08/yaleB08_P00A-110E+65.pgm',\n",
       " 'CroppedYale/yaleB31/yaleB31_P00A+025E+00.pgm',\n",
       " 'CroppedYale/yaleB36/yaleB36_P00A-025E+00.pgm',\n",
       " 'CroppedYale/yaleB03/yaleB03_P00A+000E+20.pgm',\n",
       " 'CroppedYale/yaleB16/yaleB16_P00A+000E+20.pgm',\n",
       " 'CroppedYale/yaleB20/yaleB20_P00A+020E+10.pgm',\n",
       " 'CroppedYale/yaleB16/yaleB16_P00A+110E+40.pgm',\n",
       " 'CroppedYale/yaleB27/yaleB27_P00A-020E+10.pgm',\n",
       " 'CroppedYale/yaleB37/yaleB37_P00A+000E-20.pgm',\n",
       " 'CroppedYale/yaleB38/yaleB38_P00A+070E+45.pgm',\n",
       " 'CroppedYale/yaleB36/yaleB36_P00A+110E+40.pgm',\n",
       " 'CroppedYale/yaleB21/yaleB21_P00A+050E+00.pgm',\n",
       " 'CroppedYale/yaleB37/yaleB37_P00A+020E-10.pgm',\n",
       " 'CroppedYale/yaleB23/yaleB23_P00A-035E-20.pgm',\n",
       " 'CroppedYale/yaleB22/yaleB22_P00A+005E-10.pgm',\n",
       " 'CroppedYale/yaleB02/yaleB02_P00A+000E+20.pgm',\n",
       " 'CroppedYale/yaleB01/yaleB01_P00A+000E+45.pgm',\n",
       " 'CroppedYale/yaleB25/yaleB25_P00A-020E-10.pgm',\n",
       " 'CroppedYale/yaleB16/yaleB16_P00A-060E-20.pgm',\n",
       " 'CroppedYale/yaleB24/yaleB24_P00A-010E-20.pgm',\n",
       " 'CroppedYale/yaleB10/yaleB10_P00A-020E-40.pgm',\n",
       " 'CroppedYale/yaleB30/yaleB30_P00A+110E-20.pgm',\n",
       " 'CroppedYale/yaleB02/yaleB02_P00A+020E-40.pgm',\n",
       " 'CroppedYale/yaleB08/yaleB08_P00A+095E+00.pgm',\n",
       " 'CroppedYale/yaleB30/yaleB30_P00A+085E+20.pgm',\n",
       " 'CroppedYale/yaleB10/yaleB10_P00A-050E-40.pgm',\n",
       " 'CroppedYale/yaleB26/yaleB26_P00A+000E+45.pgm',\n",
       " 'CroppedYale/yaleB16/yaleB16_P00A+020E-10.pgm',\n",
       " 'CroppedYale/yaleB20/yaleB20_P00A+050E+00.pgm',\n",
       " 'CroppedYale/yaleB19/yaleB19_P00A-060E+20.pgm',\n",
       " 'CroppedYale/yaleB38/yaleB38_P00A+120E+00.pgm',\n",
       " 'CroppedYale/yaleB16/yaleB16_P00A+050E+00.pgm',\n",
       " 'CroppedYale/yaleB24/yaleB24_P00A+070E-35.pgm',\n",
       " 'CroppedYale/yaleB03/yaleB03_P00A+110E+15.pgm',\n",
       " 'CroppedYale/yaleB09/yaleB09_P00A+035E-20.pgm',\n",
       " 'CroppedYale/yaleB20/yaleB20_P00A+000E+00.pgm',\n",
       " 'CroppedYale/yaleB25/yaleB25_P00A-110E+40.pgm',\n",
       " 'CroppedYale/yaleB11/yaleB11_P00A-010E+00.pgm',\n",
       " 'CroppedYale/yaleB33/yaleB33_P00A+110E+15.pgm',\n",
       " 'CroppedYale/yaleB29/yaleB29_P00A+000E+45.pgm',\n",
       " 'CroppedYale/yaleB16/yaleB16_P00A+085E+20.pgm',\n",
       " 'CroppedYale/yaleB32/yaleB32_P00A-005E+10.pgm',\n",
       " 'CroppedYale/yaleB37/yaleB37_P00A-110E+15.pgm',\n",
       " 'CroppedYale/yaleB37/yaleB37_P00A-020E-40.pgm',\n",
       " 'CroppedYale/yaleB02/yaleB02_P00A+035E+15.pgm',\n",
       " 'CroppedYale/yaleB22/yaleB22_P00A-070E+45.pgm',\n",
       " 'CroppedYale/yaleB39/yaleB39_P00A-005E+10.pgm',\n",
       " 'CroppedYale/yaleB07/yaleB07_P00A-015E+20.pgm',\n",
       " 'CroppedYale/yaleB17/yaleB17_P00A+050E-40.pgm',\n",
       " 'CroppedYale/yaleB19/yaleB19_P00A-035E+40.pgm',\n",
       " 'CroppedYale/yaleB25/yaleB25_P00A-070E+45.pgm',\n",
       " 'CroppedYale/yaleB15/yaleB15_P00A-005E+10.pgm',\n",
       " 'CroppedYale/yaleB20/yaleB20_P00A+110E+15.pgm',\n",
       " 'CroppedYale/yaleB23/yaleB23_P00A-110E+40.pgm',\n",
       " 'CroppedYale/yaleB07/yaleB07_P00A-025E+00.pgm',\n",
       " 'CroppedYale/yaleB21/yaleB21_P00A-070E+45.pgm',\n",
       " 'CroppedYale/yaleB01/yaleB01_P00A-110E+40.pgm',\n",
       " 'CroppedYale/yaleB30/yaleB30_P00A+000E+20.pgm',\n",
       " 'CroppedYale/yaleB35/yaleB35_P00A+020E-10.pgm',\n",
       " 'CroppedYale/yaleB19/yaleB19_P00A+020E-10.pgm',\n",
       " 'CroppedYale/yaleB39/yaleB39_P00A+025E+00.pgm',\n",
       " 'CroppedYale/yaleB19/yaleB19_P00A+085E-20.pgm',\n",
       " 'CroppedYale/yaleB01/yaleB01_P00A-095E+00.pgm',\n",
       " 'CroppedYale/yaleB17/yaleB17_P00A+020E+10.pgm',\n",
       " 'CroppedYale/yaleB13/yaleB13_P00A+005E-10.pgm',\n",
       " 'CroppedYale/yaleB09/yaleB09_P00A+005E+10.pgm',\n",
       " 'CroppedYale/yaleB12/yaleB12_P00A-060E-20.pgm',\n",
       " 'CroppedYale/yaleB25/yaleB25_P00A+020E+10.pgm',\n",
       " 'CroppedYale/yaleB12/yaleB12_P00A-035E+40.pgm',\n",
       " 'CroppedYale/yaleB34/yaleB34_P00A-035E+65.pgm',\n",
       " 'CroppedYale/yaleB12/yaleB12_P00A+025E+00.pgm',\n",
       " 'CroppedYale/yaleB20/yaleB20_P00A-015E+20.pgm',\n",
       " 'CroppedYale/yaleB35/yaleB35_P00A+110E+65.pgm',\n",
       " 'CroppedYale/yaleB30/yaleB30_P00A-010E-20.pgm',\n",
       " 'CroppedYale/yaleB33/yaleB33_P00A-095E+00.pgm',\n",
       " 'CroppedYale/yaleB21/yaleB21_P00A-110E+15.pgm',\n",
       " 'CroppedYale/yaleB15/yaleB15_P00A-015E+20.pgm',\n",
       " 'CroppedYale/yaleB09/yaleB09_P00A-015E+20.pgm',\n",
       " 'CroppedYale/yaleB39/yaleB39_P00A+050E+00.pgm',\n",
       " 'CroppedYale/yaleB10/yaleB10_P00A+020E-10.pgm',\n",
       " 'CroppedYale/yaleB29/yaleB29_P00A+095E+00.pgm',\n",
       " 'CroppedYale/yaleB08/yaleB08_P00A+085E-20.pgm',\n",
       " 'CroppedYale/yaleB05/yaleB05_P00A+070E-35.pgm',\n",
       " 'CroppedYale/yaleB33/yaleB33_P00A-130E+20.pgm',\n",
       " 'CroppedYale/yaleB21/yaleB21_P00A-130E+20.pgm',\n",
       " 'CroppedYale/yaleB10/yaleB10_P00A-005E-10.pgm',\n",
       " 'CroppedYale/yaleB15/yaleB15_P00A-020E-40.pgm',\n",
       " 'CroppedYale/yaleB25/yaleB25_P00A-110E+65.pgm',\n",
       " 'CroppedYale/yaleB34/yaleB34_P00A-110E+15.pgm',\n",
       " 'CroppedYale/yaleB38/yaleB38_P00A-035E-20.pgm',\n",
       " 'CroppedYale/yaleB24/yaleB24_P00A-130E+20.pgm',\n",
       " 'CroppedYale/yaleB12/yaleB12_P00A+000E+45.pgm',\n",
       " 'CroppedYale/yaleB24/yaleB24_P00A+095E+00.pgm',\n",
       " 'CroppedYale/yaleB23/yaleB23_P00A-005E-10.pgm',\n",
       " 'CroppedYale/yaleB30/yaleB30_P00A+015E+20.pgm',\n",
       " 'CroppedYale/yaleB15/yaleB15_P00A-035E-20.pgm',\n",
       " 'CroppedYale/yaleB19/yaleB19_P00A+020E-40.pgm',\n",
       " 'CroppedYale/yaleB37/yaleB37_P00A+025E+00.pgm',\n",
       " 'CroppedYale/yaleB22/yaleB22_P00A+110E-20.pgm',\n",
       " 'CroppedYale/yaleB18/yaleB18_P00A-035E-20.pgm',\n",
       " 'CroppedYale/yaleB24/yaleB24_P00A+000E+45.pgm',\n",
       " 'CroppedYale/yaleB06/yaleB06_P00A-035E+40.pgm',\n",
       " 'CroppedYale/yaleB20/yaleB20_P00A+025E+00.pgm',\n",
       " 'CroppedYale/yaleB10/yaleB10_P00A-060E-20.pgm',\n",
       " 'CroppedYale/yaleB17/yaleB17_P00A-110E+65.pgm',\n",
       " 'CroppedYale/yaleB16/yaleB16_P00A-005E-10.pgm',\n",
       " 'CroppedYale/yaleB35/yaleB35_P00A+095E+00.pgm',\n",
       " 'CroppedYale/yaleB22/yaleB22_P00A+005E+10.pgm',\n",
       " 'CroppedYale/yaleB22/yaleB22_P00A+085E+20.pgm',\n",
       " 'CroppedYale/yaleB24/yaleB24_P00A-060E+20.pgm',\n",
       " 'CroppedYale/yaleB17/yaleB17_P00A+050E+00.pgm',\n",
       " 'CroppedYale/yaleB02/yaleB02_P00A-010E-20.pgm',\n",
       " 'CroppedYale/yaleB35/yaleB35_P00A+060E-20.pgm',\n",
       " 'CroppedYale/yaleB24/yaleB24_P00A-035E-20.pgm',\n",
       " 'CroppedYale/yaleB08/yaleB08_P00A-035E-20.pgm',\n",
       " 'CroppedYale/yaleB34/yaleB34_P00A+110E+65.pgm',\n",
       " 'CroppedYale/yaleB13/yaleB13_P00A+000E+45.pgm',\n",
       " 'CroppedYale/yaleB17/yaleB17_P00A+085E+20.pgm',\n",
       " 'CroppedYale/yaleB03/yaleB03_P00A-060E+20.pgm',\n",
       " 'CroppedYale/yaleB17/yaleB17_P00A-035E+15.pgm',\n",
       " 'CroppedYale/yaleB37/yaleB37_P00A+005E-10.pgm',\n",
       " 'CroppedYale/yaleB34/yaleB34_P00A+010E+00.pgm',\n",
       " 'CroppedYale/yaleB16/yaleB16_P00A-020E+10.pgm',\n",
       " 'CroppedYale/yaleB05/yaleB05_P00A+035E+40.pgm',\n",
       " 'CroppedYale/yaleB09/yaleB09_P00A-060E-20.pgm',\n",
       " 'CroppedYale/yaleB13/yaleB13_P00A-035E+40.pgm',\n",
       " 'CroppedYale/yaleB15/yaleB15_P00A+070E+45.pgm',\n",
       " 'CroppedYale/yaleB20/yaleB20_P00A-060E+20.pgm',\n",
       " 'CroppedYale/yaleB31/yaleB31_P00A+020E+10.pgm',\n",
       " 'CroppedYale/yaleB31/yaleB31_P00A+000E+00.pgm',\n",
       " 'CroppedYale/yaleB09/yaleB09_P00A+035E+65.pgm',\n",
       " 'CroppedYale/yaleB04/yaleB04_P00A+005E+10.pgm',\n",
       " 'CroppedYale/yaleB37/yaleB37_P00A-070E+00.pgm',\n",
       " 'CroppedYale/yaleB39/yaleB39_P00A+085E-20.pgm',\n",
       " 'CroppedYale/yaleB16/yaleB16_P00A+060E-20.pgm',\n",
       " 'CroppedYale/yaleB26/yaleB26_P00A-005E+10.pgm',\n",
       " 'CroppedYale/yaleB27/yaleB27_P00A-010E-20.pgm',\n",
       " 'CroppedYale/yaleB07/yaleB07_P00A-070E-35.pgm',\n",
       " 'CroppedYale/yaleB21/yaleB21_P00A+035E+15.pgm',\n",
       " 'CroppedYale/yaleB15/yaleB15_P00A-085E+20.pgm',\n",
       " 'CroppedYale/yaleB30/yaleB30_P00A+070E+00.pgm',\n",
       " 'CroppedYale/yaleB07/yaleB07_P00A+085E-20.pgm',\n",
       " 'CroppedYale/yaleB24/yaleB24_P00A+035E+65.pgm',\n",
       " 'CroppedYale/yaleB12/yaleB12_P00A+000E+00.pgm',\n",
       " 'CroppedYale/yaleB15/yaleB15_P00A-050E+00.pgm',\n",
       " 'CroppedYale/yaleB04/yaleB04_P00A-120E+00.pgm',\n",
       " 'CroppedYale/yaleB04/yaleB04_P00A+110E-20.pgm',\n",
       " 'CroppedYale/yaleB06/yaleB06_P00A-015E+20.pgm',\n",
       " 'CroppedYale/yaleB23/yaleB23_P00A+110E+40.pgm',\n",
       " 'CroppedYale/yaleB13/yaleB13_P00A+035E-20.pgm',\n",
       " 'CroppedYale/yaleB33/yaleB33_P00A+010E-20.pgm',\n",
       " 'CroppedYale/yaleB28/yaleB28_P00A+035E+15.pgm',\n",
       " 'CroppedYale/yaleB08/yaleB08_P00A+020E-40.pgm',\n",
       " 'CroppedYale/yaleB23/yaleB23_P00A+050E-40.pgm',\n",
       " 'CroppedYale/yaleB22/yaleB22_P00A-010E-20.pgm',\n",
       " 'CroppedYale/yaleB07/yaleB07_P00A+000E-35.pgm',\n",
       " 'CroppedYale/yaleB07/yaleB07_P00A+060E-20.pgm',\n",
       " 'CroppedYale/yaleB28/yaleB28_P00A-035E+40.pgm',\n",
       " 'CroppedYale/yaleB37/yaleB37_P00A+110E+40.pgm',\n",
       " 'CroppedYale/yaleB25/yaleB25_P00A-050E+00.pgm',\n",
       " 'CroppedYale/yaleB28/yaleB28_P00A-110E+40.pgm',\n",
       " 'CroppedYale/yaleB19/yaleB19_P00A-020E-10.pgm',\n",
       " 'CroppedYale/yaleB30/yaleB30_P00A-120E+00.pgm',\n",
       " 'CroppedYale/yaleB20/yaleB20_P00A+035E+65.pgm',\n",
       " 'CroppedYale/yaleB39/yaleB39_P00A-050E-40.pgm',\n",
       " 'CroppedYale/yaleB23/yaleB23_P00A+000E-35.pgm',\n",
       " 'CroppedYale/yaleB06/yaleB06_P00A-070E-35.pgm',\n",
       " 'CroppedYale/yaleB38/yaleB38_P00A+000E+90.pgm',\n",
       " 'CroppedYale/yaleB18/yaleB18_P00A-020E+10.pgm',\n",
       " 'CroppedYale/yaleB04/yaleB04_P00A-020E-10.pgm',\n",
       " 'CroppedYale/yaleB12/yaleB12_P00A-035E+15.pgm',\n",
       " 'CroppedYale/yaleB17/yaleB17_P00A-010E-20.pgm',\n",
       " 'CroppedYale/yaleB39/yaleB39_P00A+020E-10.pgm',\n",
       " 'CroppedYale/yaleB26/yaleB26_P00A-050E-40.pgm',\n",
       " 'CroppedYale/yaleB09/yaleB09_P00A+050E+00.pgm',\n",
       " 'CroppedYale/yaleB29/yaleB29_P00A+000E+20.pgm',\n",
       " 'CroppedYale/yaleB06/yaleB06_P00A+070E+00.pgm',\n",
       " 'CroppedYale/yaleB11/yaleB11_P00A-110E+65.pgm',\n",
       " 'CroppedYale/yaleB29/yaleB29_P00A-085E+20.pgm',\n",
       " 'CroppedYale/yaleB25/yaleB25_P00A+010E+00.pgm',\n",
       " 'CroppedYale/yaleB01/yaleB01_P00A+020E-10.pgm',\n",
       " 'CroppedYale/yaleB27/yaleB27_P00A-070E-35.pgm',\n",
       " 'CroppedYale/yaleB36/yaleB36_P00A+070E+45.pgm',\n",
       " 'CroppedYale/yaleB01/yaleB01_P00A+060E+20.pgm',\n",
       " 'CroppedYale/yaleB36/yaleB36_P00A+020E+10.pgm',\n",
       " 'CroppedYale/yaleB04/yaleB04_P00A+095E+00.pgm',\n",
       " 'CroppedYale/yaleB21/yaleB21_P00A+085E+20.pgm',\n",
       " 'CroppedYale/yaleB10/yaleB10_P00A-110E+40.pgm',\n",
       " 'CroppedYale/yaleB37/yaleB37_P00A+110E+65.pgm',\n",
       " 'CroppedYale/yaleB06/yaleB06_P00A+035E+65.pgm',\n",
       " 'CroppedYale/yaleB13/yaleB13_P00A-110E+40.pgm',\n",
       " 'CroppedYale/yaleB35/yaleB35_P00A-130E+20.pgm',\n",
       " 'CroppedYale/yaleB39/yaleB39_P00A-005E-10.pgm',\n",
       " 'CroppedYale/yaleB05/yaleB05_P00A+000E+00.pgm',\n",
       " 'CroppedYale/yaleB06/yaleB06_P00A+010E-20.pgm',\n",
       " 'CroppedYale/yaleB30/yaleB30_P00A+110E+15.pgm',\n",
       " 'CroppedYale/yaleB34/yaleB34_P00A+110E+15.pgm',\n",
       " 'CroppedYale/yaleB19/yaleB19_P00A-010E-20.pgm',\n",
       " 'CroppedYale/yaleB30/yaleB30_P00A-110E-20.pgm',\n",
       " 'CroppedYale/yaleB06/yaleB06_P00A+005E+10.pgm',\n",
       " 'CroppedYale/yaleB27/yaleB27_P00A-005E+10.pgm',\n",
       " 'CroppedYale/yaleB30/yaleB30_P00A-035E+15.pgm',\n",
       " 'CroppedYale/yaleB35/yaleB35_P00A-020E+10.pgm',\n",
       " 'CroppedYale/yaleB17/yaleB17_P00A+110E+65.pgm',\n",
       " 'CroppedYale/yaleB15/yaleB15_P00A+035E-20.pgm',\n",
       " 'CroppedYale/yaleB18/yaleB18_P00A-020E-10.pgm',\n",
       " 'CroppedYale/yaleB32/yaleB32_P00A+010E+00.pgm',\n",
       " 'CroppedYale/yaleB32/yaleB32_P00A+020E-40.pgm',\n",
       " 'CroppedYale/yaleB11/yaleB11_P00A-120E+00.pgm',\n",
       " 'CroppedYale/yaleB30/yaleB30_P00A+095E+00.pgm',\n",
       " 'CroppedYale/yaleB35/yaleB35_P00A+010E+00.pgm',\n",
       " 'CroppedYale/yaleB06/yaleB06_P00A-110E-20.pgm',\n",
       " 'CroppedYale/yaleB21/yaleB21_P00A-085E-20.pgm',\n",
       " 'CroppedYale/yaleB01/yaleB01_P00A+130E+20.pgm',\n",
       " 'CroppedYale/yaleB37/yaleB37_P00A+000E+90.pgm',\n",
       " 'CroppedYale/yaleB38/yaleB38_P00A-020E-10.pgm',\n",
       " 'CroppedYale/yaleB24/yaleB24_P00A+000E-35.pgm',\n",
       " 'CroppedYale/yaleB05/yaleB05_P00A+025E+00.pgm',\n",
       " 'CroppedYale/yaleB22/yaleB22_P00A+025E+00.pgm',\n",
       " 'CroppedYale/yaleB18/yaleB18_P00A-035E+40.pgm',\n",
       " 'CroppedYale/yaleB27/yaleB27_P00A-005E-10.pgm',\n",
       " 'CroppedYale/yaleB32/yaleB32_P00A+110E+15.pgm',\n",
       " 'CroppedYale/yaleB05/yaleB05_P00A-110E+65.pgm',\n",
       " 'CroppedYale/yaleB09/yaleB09_P00A+130E+20.pgm',\n",
       " 'CroppedYale/yaleB09/yaleB09_P00A-005E-10.pgm',\n",
       " 'CroppedYale/yaleB29/yaleB29_P00A+050E-40.pgm',\n",
       " 'CroppedYale/yaleB25/yaleB25_P00A+015E+20.pgm',\n",
       " 'CroppedYale/yaleB36/yaleB36_P00A+000E+00.pgm',\n",
       " 'CroppedYale/yaleB23/yaleB23_P00A+020E-10.pgm',\n",
       " 'CroppedYale/yaleB12/yaleB12_P00A-130E+20.pgm',\n",
       " 'CroppedYale/yaleB16/yaleB16_P00A+110E+15.pgm',\n",
       " 'CroppedYale/yaleB30/yaleB30_P00A+130E+20.pgm',\n",
       " 'CroppedYale/yaleB36/yaleB36_P00A-060E+20.pgm',\n",
       " 'CroppedYale/yaleB18/yaleB18_P00A+000E-20.pgm',\n",
       " 'CroppedYale/yaleB04/yaleB04_P00A-070E+45.pgm',\n",
       " 'CroppedYale/yaleB21/yaleB21_P00A-010E-20.pgm',\n",
       " 'CroppedYale/yaleB25/yaleB25_P00A+000E-35.pgm',\n",
       " 'CroppedYale/yaleB36/yaleB36_P00A+000E+45.pgm',\n",
       " 'CroppedYale/yaleB18/yaleB18_P00A-005E+10.pgm',\n",
       " 'CroppedYale/yaleB18/yaleB18_P00A+035E+15.pgm',\n",
       " 'CroppedYale/yaleB28/yaleB28_P00A+005E+10.pgm',\n",
       " 'CroppedYale/yaleB33/yaleB33_P00A+085E-20.pgm',\n",
       " 'CroppedYale/yaleB10/yaleB10_P00A-035E+65.pgm',\n",
       " 'CroppedYale/yaleB16/yaleB16_P00A+020E-40.pgm',\n",
       " 'CroppedYale/yaleB31/yaleB31_P00A+035E+15.pgm',\n",
       " 'CroppedYale/yaleB34/yaleB34_P00A-060E-20.pgm',\n",
       " 'CroppedYale/yaleB22/yaleB22_P00A-035E-20.pgm',\n",
       " 'CroppedYale/yaleB34/yaleB34_P00A+095E+00.pgm',\n",
       " 'CroppedYale/yaleB22/yaleB22_P00A-070E-35.pgm',\n",
       " 'CroppedYale/yaleB24/yaleB24_P00A-070E+00.pgm',\n",
       " 'CroppedYale/yaleB38/yaleB38_P00A-020E+10.pgm',\n",
       " 'CroppedYale/yaleB33/yaleB33_P00A+110E+40.pgm',\n",
       " 'CroppedYale/yaleB20/yaleB20_P00A+010E+00.pgm',\n",
       " 'CroppedYale/yaleB32/yaleB32_P00A+085E+20.pgm',\n",
       " 'CroppedYale/yaleB16/yaleB16_P00A-085E+20.pgm',\n",
       " 'CroppedYale/yaleB26/yaleB26_P00A-035E+40.pgm',\n",
       " 'CroppedYale/yaleB25/yaleB25_P00A-085E-20.pgm',\n",
       " 'CroppedYale/yaleB29/yaleB29_P00A+035E+40.pgm',\n",
       " 'CroppedYale/yaleB29/yaleB29_P00A+010E+00.pgm',\n",
       " 'CroppedYale/yaleB16/yaleB16_P00A+005E-10.pgm',\n",
       " 'CroppedYale/yaleB02/yaleB02_P00A-035E+15.pgm',\n",
       " 'CroppedYale/yaleB20/yaleB20_P00A-085E-20.pgm',\n",
       " 'CroppedYale/yaleB39/yaleB39_P00A+005E-10.pgm',\n",
       " 'CroppedYale/yaleB08/yaleB08_P00A+000E+90.pgm',\n",
       " 'CroppedYale/yaleB35/yaleB35_P00A+000E+00.pgm',\n",
       " 'CroppedYale/yaleB38/yaleB38_P00A+110E+40.pgm',\n",
       " 'CroppedYale/yaleB37/yaleB37_P00A-095E+00.pgm',\n",
       " 'CroppedYale/yaleB37/yaleB37_P00A+035E+15.pgm',\n",
       " 'CroppedYale/yaleB20/yaleB20_P00A+095E+00.pgm',\n",
       " 'CroppedYale/yaleB13/yaleB13_P00A+020E-10.pgm',\n",
       " 'CroppedYale/yaleB19/yaleB19_P00A+085E+20.pgm',\n",
       " 'CroppedYale/yaleB25/yaleB25_P00A+050E+00.pgm',\n",
       " 'CroppedYale/yaleB10/yaleB10_P00A+000E+45.pgm',\n",
       " 'CroppedYale/yaleB18/yaleB18_P00A-070E-35.pgm',\n",
       " 'CroppedYale/yaleB24/yaleB24_P00A-110E+40.pgm',\n",
       " 'CroppedYale/yaleB25/yaleB25_P00A-025E+00.pgm',\n",
       " 'CroppedYale/yaleB03/yaleB03_P00A+035E+65.pgm',\n",
       " 'CroppedYale/yaleB37/yaleB37_P00A+050E+00.pgm',\n",
       " 'CroppedYale/yaleB03/yaleB03_P00A-095E+00.pgm',\n",
       " 'CroppedYale/yaleB25/yaleB25_P00A-070E-35.pgm',\n",
       " 'CroppedYale/yaleB04/yaleB04_P00A-130E+20.pgm',\n",
       " 'CroppedYale/yaleB12/yaleB12_P00A+110E+65.pgm',\n",
       " 'CroppedYale/yaleB24/yaleB24_P00A-010E+00.pgm',\n",
       " 'CroppedYale/yaleB26/yaleB26_P00A-070E+45.pgm',\n",
       " 'CroppedYale/yaleB06/yaleB06_P00A+070E-35.pgm',\n",
       " 'CroppedYale/yaleB16/yaleB16_P00A-070E+45.pgm',\n",
       " 'CroppedYale/yaleB06/yaleB06_P00A+000E-35.pgm',\n",
       " 'CroppedYale/yaleB20/yaleB20_P00A+035E+15.pgm',\n",
       " 'CroppedYale/yaleB07/yaleB07_P00A+010E+00.pgm',\n",
       " 'CroppedYale/yaleB11/yaleB11_P00A-095E+00.pgm',\n",
       " 'CroppedYale/yaleB10/yaleB10_P00A+130E+20.pgm',\n",
       " 'CroppedYale/yaleB20/yaleB20_P00A-070E+00.pgm',\n",
       " 'CroppedYale/yaleB12/yaleB12_P00A+005E-10.pgm',\n",
       " 'CroppedYale/yaleB33/yaleB33_P00A+025E+00.pgm',\n",
       " 'CroppedYale/yaleB27/yaleB27_P00A-060E+20.pgm',\n",
       " 'CroppedYale/yaleB11/yaleB11_P00A+110E+40.pgm',\n",
       " 'CroppedYale/yaleB39/yaleB39_P00A-020E-10.pgm',\n",
       " 'CroppedYale/yaleB03/yaleB03_P00A-015E+20.pgm',\n",
       " 'CroppedYale/yaleB37/yaleB37_P00A+050E-40.pgm',\n",
       " 'CroppedYale/yaleB29/yaleB29_P00A-015E+20.pgm',\n",
       " 'CroppedYale/yaleB07/yaleB07_P00A+005E+10.pgm',\n",
       " 'CroppedYale/yaleB23/yaleB23_P00A+110E+15.pgm',\n",
       " 'CroppedYale/yaleB29/yaleB29_P00A-020E-10.pgm',\n",
       " 'CroppedYale/yaleB26/yaleB26_P00A+010E-20.pgm',\n",
       " 'CroppedYale/yaleB11/yaleB11_P00A-060E+20.pgm',\n",
       " 'CroppedYale/yaleB05/yaleB05_P00A-070E+45.pgm',\n",
       " 'CroppedYale/yaleB16/yaleB16_P00A+000E-20.pgm',\n",
       " 'CroppedYale/yaleB39/yaleB39_P00A+000E+45.pgm',\n",
       " 'CroppedYale/yaleB38/yaleB38_P00A-025E+00.pgm',\n",
       " 'CroppedYale/yaleB01/yaleB01_P00A+035E+15.pgm',\n",
       " 'CroppedYale/yaleB07/yaleB07_P00A-110E+65.pgm',\n",
       " 'CroppedYale/yaleB01/yaleB01_P00A+085E-20.pgm',\n",
       " 'CroppedYale/yaleB13/yaleB13_P00A+110E+65.pgm',\n",
       " 'CroppedYale/yaleB37/yaleB37_P00A+020E+10.pgm',\n",
       " 'CroppedYale/yaleB27/yaleB27_P00A+050E-40.pgm',\n",
       " 'CroppedYale/yaleB08/yaleB08_P00A-110E-20.pgm',\n",
       " 'CroppedYale/yaleB28/yaleB28_P00A+085E-20.pgm',\n",
       " 'CroppedYale/yaleB25/yaleB25_P00A+110E+40.pgm',\n",
       " 'CroppedYale/yaleB23/yaleB23_P00A+000E-20.pgm',\n",
       " 'CroppedYale/yaleB35/yaleB35_P00A-050E+00.pgm',\n",
       " 'CroppedYale/yaleB06/yaleB06_P00A+035E+15.pgm',\n",
       " 'CroppedYale/yaleB17/yaleB17_P00A-070E-35.pgm',\n",
       " 'CroppedYale/yaleB15/yaleB15_P00A+110E-20.pgm',\n",
       " 'CroppedYale/yaleB26/yaleB26_P00A+000E+20.pgm',\n",
       " 'CroppedYale/yaleB13/yaleB13_P00A+035E+15.pgm',\n",
       " 'CroppedYale/yaleB36/yaleB36_P00A+095E+00.pgm',\n",
       " 'CroppedYale/yaleB08/yaleB08_P00A+070E-35.pgm',\n",
       " 'CroppedYale/yaleB28/yaleB28_P00A+035E-20.pgm',\n",
       " 'CroppedYale/yaleB02/yaleB02_P00A+025E+00.pgm',\n",
       " 'CroppedYale/yaleB02/yaleB02_P00A+010E-20.pgm',\n",
       " 'CroppedYale/yaleB16/yaleB16_P00A-010E-20.pgm',\n",
       " 'CroppedYale/yaleB30/yaleB30_P00A-110E+40.pgm',\n",
       " 'CroppedYale/yaleB07/yaleB07_P00A-130E+20.pgm',\n",
       " 'CroppedYale/yaleB11/yaleB11_P00A-025E+00.pgm',\n",
       " 'CroppedYale/yaleB10/yaleB10_P00A-015E+20.pgm',\n",
       " 'CroppedYale/yaleB03/yaleB03_P00A+015E+20.pgm',\n",
       " 'CroppedYale/yaleB39/yaleB39_P00A-010E-20.pgm',\n",
       " 'CroppedYale/yaleB17/yaleB17_P00A-070E+45.pgm',\n",
       " 'CroppedYale/yaleB30/yaleB30_P00A-020E-10.pgm',\n",
       " 'CroppedYale/yaleB05/yaleB05_P00A+035E-20.pgm',\n",
       " 'CroppedYale/yaleB21/yaleB21_P00A+020E-40.pgm',\n",
       " 'CroppedYale/yaleB09/yaleB09_P00A-035E+15.pgm',\n",
       " 'CroppedYale/yaleB26/yaleB26_P00A+020E-10.pgm',\n",
       " 'CroppedYale/yaleB02/yaleB02_P00A+050E-40.pgm',\n",
       " 'CroppedYale/yaleB34/yaleB34_P00A+110E+40.pgm',\n",
       " 'CroppedYale/yaleB23/yaleB23_P00A+120E+00.pgm',\n",
       " 'CroppedYale/yaleB20/yaleB20_P00A-050E+00.pgm',\n",
       " 'CroppedYale/yaleB10/yaleB10_P00A+025E+00.pgm',\n",
       " 'CroppedYale/yaleB38/yaleB38_P00A+110E+15.pgm',\n",
       " 'CroppedYale/yaleB22/yaleB22_P00A+035E+40.pgm',\n",
       " 'CroppedYale/yaleB37/yaleB37_P00A+015E+20.pgm',\n",
       " 'CroppedYale/yaleB37/yaleB37_P00A+085E+20.pgm',\n",
       " 'CroppedYale/yaleB19/yaleB19_P00A+110E+15.pgm',\n",
       " 'CroppedYale/yaleB19/yaleB19_P00A+120E+00.pgm',\n",
       " 'CroppedYale/yaleB36/yaleB36_P00A+070E-35.pgm',\n",
       " 'CroppedYale/yaleB04/yaleB04_P00A-060E+20.pgm',\n",
       " 'CroppedYale/yaleB19/yaleB19_P00A-110E-20.pgm',\n",
       " 'CroppedYale/yaleB25/yaleB25_P00A+000E-20.pgm',\n",
       " 'CroppedYale/yaleB24/yaleB24_P00A-110E+65.pgm',\n",
       " 'CroppedYale/yaleB39/yaleB39_P00A+000E+00.pgm',\n",
       " 'CroppedYale/yaleB27/yaleB27_P00A-130E+20.pgm',\n",
       " 'CroppedYale/yaleB05/yaleB05_P00A+060E-20.pgm',\n",
       " 'CroppedYale/yaleB27/yaleB27_P00A+000E+90.pgm',\n",
       " 'CroppedYale/yaleB38/yaleB38_P00A+085E-20.pgm',\n",
       " 'CroppedYale/yaleB35/yaleB35_P00A+070E+45.pgm',\n",
       " 'CroppedYale/yaleB37/yaleB37_P00A-120E+00.pgm',\n",
       " 'CroppedYale/yaleB17/yaleB17_P00A-035E+40.pgm',\n",
       " 'CroppedYale/yaleB20/yaleB20_P00A+035E+40.pgm',\n",
       " 'CroppedYale/yaleB35/yaleB35_P00A+035E+40.pgm',\n",
       " 'CroppedYale/yaleB10/yaleB10_P00A+095E+00.pgm',\n",
       " 'CroppedYale/yaleB36/yaleB36_P00A-035E+40.pgm',\n",
       " 'CroppedYale/yaleB27/yaleB27_P00A+110E+65.pgm',\n",
       " 'CroppedYale/yaleB28/yaleB28_P00A+020E-10.pgm',\n",
       " 'CroppedYale/yaleB06/yaleB06_P00A+070E+45.pgm',\n",
       " 'CroppedYale/yaleB25/yaleB25_P00A-060E+20.pgm',\n",
       " 'CroppedYale/yaleB26/yaleB26_P00A-095E+00.pgm',\n",
       " 'CroppedYale/yaleB10/yaleB10_P00A-035E+15.pgm',\n",
       " 'CroppedYale/yaleB09/yaleB09_P00A-110E+65.pgm',\n",
       " 'CroppedYale/yaleB01/yaleB01_P00A-010E-20.pgm',\n",
       " 'CroppedYale/yaleB30/yaleB30_P00A-130E+20.pgm',\n",
       " 'CroppedYale/yaleB12/yaleB12_P00A+000E+90.pgm',\n",
       " 'CroppedYale/yaleB35/yaleB35_P00A-005E-10.pgm',\n",
       " 'CroppedYale/yaleB35/yaleB35_P00A-070E+00.pgm',\n",
       " 'CroppedYale/yaleB23/yaleB23_P00A-005E+10.pgm',\n",
       " 'CroppedYale/yaleB19/yaleB19_P00A-035E-20.pgm',\n",
       " 'CroppedYale/yaleB16/yaleB16_P00A-110E+65.pgm',\n",
       " 'CroppedYale/yaleB36/yaleB36_P00A-070E+00.pgm',\n",
       " 'CroppedYale/yaleB37/yaleB37_P00A+035E+65.pgm',\n",
       " 'CroppedYale/yaleB16/yaleB16_P00A-050E+00.pgm',\n",
       " 'CroppedYale/yaleB26/yaleB26_P00A+020E+10.pgm',\n",
       " 'CroppedYale/yaleB30/yaleB30_P00A+020E-10.pgm',\n",
       " 'CroppedYale/yaleB26/yaleB26_P00A+085E-20.pgm',\n",
       " 'CroppedYale/yaleB07/yaleB07_P00A+070E+00.pgm',\n",
       " 'CroppedYale/yaleB04/yaleB04_P00A+035E+40.pgm',\n",
       " 'CroppedYale/yaleB37/yaleB37_P00A-060E+20.pgm',\n",
       " 'CroppedYale/yaleB10/yaleB10_P00A-130E+20.pgm',\n",
       " 'CroppedYale/yaleB39/yaleB39_P00A+000E+90.pgm',\n",
       " 'CroppedYale/yaleB09/yaleB09_P00A-060E+20.pgm',\n",
       " 'CroppedYale/yaleB05/yaleB05_P00A-050E+00.pgm',\n",
       " 'CroppedYale/yaleB12/yaleB12_P00A+130E+20.pgm',\n",
       " 'CroppedYale/yaleB33/yaleB33_P00A+000E+20.pgm',\n",
       " 'CroppedYale/yaleB37/yaleB37_P00A+000E+00.pgm',\n",
       " 'CroppedYale/yaleB39/yaleB39_P00A-020E-40.pgm',\n",
       " 'CroppedYale/yaleB31/yaleB31_P00A+005E-10.pgm',\n",
       " 'CroppedYale/yaleB11/yaleB11_P00A-070E+45.pgm',\n",
       " 'CroppedYale/yaleB01/yaleB01_P00A+085E+20.pgm',\n",
       " 'CroppedYale/yaleB02/yaleB02_P00A+110E+40.pgm',\n",
       " 'CroppedYale/yaleB08/yaleB08_P00A-020E+10.pgm',\n",
       " 'CroppedYale/yaleB29/yaleB29_P00A+110E+15.pgm',\n",
       " 'CroppedYale/yaleB37/yaleB37_P00A+095E+00.pgm',\n",
       " 'CroppedYale/yaleB23/yaleB23_P00A-120E+00.pgm',\n",
       " 'CroppedYale/yaleB37/yaleB37_P00A+000E-35.pgm',\n",
       " 'CroppedYale/yaleB33/yaleB33_P00A-010E+00.pgm',\n",
       " 'CroppedYale/yaleB15/yaleB15_P00A+020E-40.pgm',\n",
       " 'CroppedYale/yaleB25/yaleB25_P00A+000E+90.pgm',\n",
       " 'CroppedYale/yaleB26/yaleB26_P00A-015E+20.pgm',\n",
       " 'CroppedYale/yaleB08/yaleB08_P00A+020E+10.pgm',\n",
       " 'CroppedYale/yaleB34/yaleB34_P00A-050E-40.pgm',\n",
       " 'CroppedYale/yaleB17/yaleB17_P00A+070E-35.pgm',\n",
       " 'CroppedYale/yaleB36/yaleB36_P00A-085E+20.pgm',\n",
       " 'CroppedYale/yaleB31/yaleB31_P00A+005E+10.pgm',\n",
       " 'CroppedYale/yaleB08/yaleB08_P00A+050E-40.pgm',\n",
       " 'CroppedYale/yaleB16/yaleB16_P00A-020E-10.pgm',\n",
       " 'CroppedYale/yaleB27/yaleB27_P00A-110E+65.pgm',\n",
       " 'CroppedYale/yaleB20/yaleB20_P00A-035E+15.pgm',\n",
       " 'CroppedYale/yaleB15/yaleB15_P00A-060E-20.pgm',\n",
       " 'CroppedYale/yaleB15/yaleB15_P00A+070E+00.pgm',\n",
       " 'CroppedYale/yaleB01/yaleB01_P00A-110E+65.pgm',\n",
       " 'CroppedYale/yaleB01/yaleB01_P00A+015E+20.pgm',\n",
       " 'CroppedYale/yaleB23/yaleB23_P00A-035E+15.pgm',\n",
       " 'CroppedYale/yaleB06/yaleB06_P00A+035E+40.pgm',\n",
       " 'CroppedYale/yaleB06/yaleB06_P00A-060E+20.pgm',\n",
       " 'CroppedYale/yaleB20/yaleB20_P00A-005E-10.pgm',\n",
       " 'CroppedYale/yaleB29/yaleB29_P00A+015E+20.pgm',\n",
       " 'CroppedYale/yaleB27/yaleB27_P00A-035E-20.pgm',\n",
       " 'CroppedYale/yaleB01/yaleB01_P00A+000E+20.pgm',\n",
       " 'CroppedYale/yaleB12/yaleB12_P00A-020E+10.pgm',\n",
       " 'CroppedYale/yaleB19/yaleB19_P00A+000E-35.pgm',\n",
       " 'CroppedYale/yaleB18/yaleB18_P00A-060E+20.pgm',\n",
       " 'CroppedYale/yaleB26/yaleB26_P00A-035E-20.pgm',\n",
       " 'CroppedYale/yaleB36/yaleB36_P00A+085E+20.pgm',\n",
       " 'CroppedYale/yaleB22/yaleB22_P00A-110E-20.pgm',\n",
       " 'CroppedYale/yaleB20/yaleB20_P00A+035E-20.pgm',\n",
       " 'CroppedYale/yaleB34/yaleB34_P00A-010E+00.pgm',\n",
       " 'CroppedYale/yaleB18/yaleB18_P00A-085E-20.pgm',\n",
       " ...]"
      ]
     },
     "execution_count": 198,
     "metadata": {},
     "output_type": "execute_result"
    }
   ],
   "source": [
    "names[1]"
   ]
  },
  {
   "cell_type": "code",
   "execution_count": 71,
   "metadata": {
    "ExecuteTime": {
     "end_time": "2020-12-16T06:54:14.877237Z",
     "start_time": "2020-12-16T06:54:14.110985Z"
    }
   },
   "outputs": [
    {
     "name": "stdout",
     "output_type": "stream",
     "text": [
      "(32256, 300) (32256, 75)\n",
      "[ 0  0  0  0  0  0  0  0  0  0  0  0  0  0  0  0  0  0  0  0  1  1  1  1\n",
      "  1  1  1  1  1  1  1  1  1  1  1  1  1  1  1  1  2  2  2  2  2  2  2  2\n",
      "  2  2  2  2  2  2  2  2  2  2  2  2  3  3  3  3  3  3  3  3  3  3  3  3\n",
      "  3  3  3  3  3  3  3  3  4  4  4  4  4  4  4  4  4  4  4  4  4  4  4  4\n",
      "  4  4  4  4  5  5  5  5  5  5  5  5  5  5  5  5  5  5  5  5  5  5  5  5\n",
      "  6  6  6  6  6  6  6  6  6  6  6  6  6  6  6  6  6  6  6  6  7  7  7  7\n",
      "  7  7  7  7  7  7  7  7  7  7  7  7  7  7  7  7  8  8  8  8  8  8  8  8\n",
      "  8  8  8  8  8  8  8  8  8  8  8  8  9  9  9  9  9  9  9  9  9  9  9  9\n",
      "  9  9  9  9  9  9  9  9 10 10 10 10 10 10 10 10 10 10 10 10 10 10 10 10\n",
      " 10 10 10 10 11 11 11 11 11 11 11 11 11 11 11 11 11 11 11 11 11 11 11 11\n",
      " 12 12 12 12 12 12 12 12 12 12 12 12 12 12 12 12 12 12 12 12 13 13 13 13\n",
      " 13 13 13 13 13 13 13 13 13 13 13 13 13 13 13 13 14 14 14 14 14 14 14 14\n",
      " 14 14 14 14 14 14 14 14 14 14 14 14]\n",
      "[ 0  0  0  0  0  1  1  1  1  1  2  2  2  2  2  3  3  3  3  3  4  4  4  4\n",
      "  4  5  5  5  5  5  6  6  6  6  6  7  7  7  7  7  8  8  8  8  8  9  9  9\n",
      "  9  9 10 10 10 10 10 11 11 11 11 11 12 12 12 12 12 13 13 13 13 13 14 14\n",
      " 14 14 14]\n"
     ]
    }
   ],
   "source": [
    "# A, y, train_gt, test_gt, names = train_test_split(num_classes = num_class, num_train = num_train, num_test = num_test)\n",
    "# print(A.shape, y.shape)\n",
    "# print(train_gt)\n",
    "# print(test_gt)"
   ]
  },
  {
   "cell_type": "code",
   "execution_count": 5,
   "metadata": {
    "ExecuteTime": {
     "end_time": "2020-12-16T23:53:32.281090Z",
     "start_time": "2020-12-16T23:53:32.276320Z"
    }
   },
   "outputs": [],
   "source": [
    "def down_samp(A, ds_factor=16):\n",
    "    im_size_down = np.ceil(im_size/ds_factor).astype(int)\n",
    "    A_down = np.zeros((np.prod(im_size_down), A.shape[-1]))\n",
    "#     print(A_down.shape)\n",
    "    for i in range(A.shape[-1]):\n",
    "        A_down[:,i] = A[:,i].reshape(im_size)[::ds_factor, ::ds_factor].flatten()\n",
    "    return A_down, im_size_down"
   ]
  },
  {
   "cell_type": "code",
   "execution_count": 6,
   "metadata": {
    "ExecuteTime": {
     "end_time": "2020-12-16T23:53:32.893622Z",
     "start_time": "2020-12-16T23:53:32.890035Z"
    }
   },
   "outputs": [],
   "source": [
    "def down_samp_pca(A, dim=132):\n",
    "    # sklearn PCA\n",
    "    pca = PCA(n_components=dim, svd_solver=\"auto\")\n",
    "    A_pca = pca.fit_transform(A.T).T\n",
    "    \n",
    "    # Manual PCA\n",
    "#     U, S, Vh = np.linalg.svd(A, full_matrices=True)\n",
    "#     print(U.shape, S.shape, Vh.shape)\n",
    "#     A_pca = U[:,:dim].T@A\n",
    "    return A_pca, pca"
   ]
  },
  {
   "cell_type": "code",
   "execution_count": 7,
   "metadata": {
    "ExecuteTime": {
     "end_time": "2020-12-16T23:53:34.501768Z",
     "start_time": "2020-12-16T23:53:34.497203Z"
    }
   },
   "outputs": [],
   "source": [
    "def down_samp_wave(A):\n",
    "    im_vec = A.reshape((*im_size,-1))\n",
    "    wave_vec = pywt.wavedec2(im_vec, 'haar', axes=(0,1), level=4)\n",
    "#     low_dim_data = wave_vec[0]\n",
    "    low_dim_data = wave_vec[0] + sum(wave_vec[1])\n",
    "    return low_dim_data.reshape(-1, A.shape[-1]), low_dim_data.shape[:2]"
   ]
  },
  {
   "cell_type": "code",
   "execution_count": 8,
   "metadata": {
    "ExecuteTime": {
     "end_time": "2020-12-16T23:53:35.820130Z",
     "start_time": "2020-12-16T23:53:35.816124Z"
    }
   },
   "outputs": [],
   "source": [
    "def down_samp_cv(A):\n",
    "    A_down = np.zeros((120, A.shape[-1]))\n",
    "    for i in range(A.shape[-1]):\n",
    "        A_down[:,i] = cv2.resize(A[:,i].reshape(im_size), (12,10)).flatten()\n",
    "    return A_down, (12,10)"
   ]
  },
  {
   "cell_type": "code",
   "execution_count": 165,
   "metadata": {
    "ExecuteTime": {
     "end_time": "2020-12-16T06:54:25.485928Z",
     "start_time": "2020-12-16T06:54:25.481549Z"
    }
   },
   "outputs": [],
   "source": [
    "A_ds, ds_shape = down_samp(A, ds_factor=16)"
   ]
  },
  {
   "cell_type": "code",
   "execution_count": 76,
   "metadata": {
    "ExecuteTime": {
     "end_time": "2020-12-16T06:54:26.259989Z",
     "start_time": "2020-12-16T06:54:25.920069Z"
    }
   },
   "outputs": [],
   "source": [
    "A_wave, wave_shape = down_samp_wave(A)"
   ]
  },
  {
   "cell_type": "code",
   "execution_count": 158,
   "metadata": {},
   "outputs": [],
   "source": [
    "A_ds_cv, ds_cv_shape = down_samp_cv(A)"
   ]
  },
  {
   "cell_type": "code",
   "execution_count": 163,
   "metadata": {},
   "outputs": [
    {
     "data": {
      "text/plain": [
       "<matplotlib.image.AxesImage at 0x1a28c2a310>"
      ]
     },
     "execution_count": 163,
     "metadata": {},
     "output_type": "execute_result"
    },
    {
     "data": {
      "image/png": "[encoded data removed]",
      "text/plain": [
       "<Figure size 432x288 with 1 Axes>"
      ]
     },
     "metadata": {
      "needs_background": "light"
     },
     "output_type": "display_data"
    }
   ],
   "source": [
    "plt.imshow(A[...,0].reshape(im_size))"
   ]
  },
  {
   "cell_type": "code",
   "execution_count": 164,
   "metadata": {},
   "outputs": [
    {
     "data": {
      "text/plain": [
       "<matplotlib.image.AxesImage at 0x1a29448d10>"
      ]
     },
     "execution_count": 164,
     "metadata": {},
     "output_type": "execute_result"
    },
    {
     "data": {
      "image/png": "[encoded data removed]",
      "text/plain": [
       "<Figure size 432x288 with 1 Axes>"
      ]
     },
     "metadata": {
      "needs_background": "light"
     },
     "output_type": "display_data"
    }
   ],
   "source": [
    "plt.imshow(A_ds_cv[...,0].reshape(ds_cv_shape))"
   ]
  },
  {
   "cell_type": "code",
   "execution_count": 167,
   "metadata": {
    "ExecuteTime": {
     "end_time": "2020-12-16T06:54:26.473941Z",
     "start_time": "2020-12-16T06:54:26.332188Z"
    }
   },
   "outputs": [
    {
     "data": {
      "text/plain": [
       "<matplotlib.image.AxesImage at 0x1a294f8550>"
      ]
     },
     "execution_count": 167,
     "metadata": {},
     "output_type": "execute_result"
    },
    {
     "data": {
      "image/png": "[encoded data removed]",
      "text/plain": [
       "<Figure size 432x288 with 1 Axes>"
      ]
     },
     "metadata": {
      "needs_background": "light"
     },
     "output_type": "display_data"
    }
   ],
   "source": [
    "plt.imshow(A_ds[...,0].reshape(ds_shape))"
   ]
  },
  {
   "cell_type": "code",
   "execution_count": 78,
   "metadata": {
    "ExecuteTime": {
     "end_time": "2020-12-16T06:54:26.828190Z",
     "start_time": "2020-12-16T06:54:26.690959Z"
    }
   },
   "outputs": [
    {
     "data": {
      "text/plain": [
       "<matplotlib.image.AxesImage at 0x1a22efac50>"
      ]
     },
     "execution_count": 78,
     "metadata": {},
     "output_type": "execute_result"
    },
    {
     "data": {
      "image/png": "[encoded data removed]",
      "text/plain": [
       "<Figure size 432x288 with 1 Axes>"
      ]
     },
     "metadata": {
      "needs_background": "light"
     },
     "output_type": "display_data"
    }
   ],
   "source": [
    "plt.imshow(A_wave[...,3].reshape(wave_shape))"
   ]
  },
  {
   "cell_type": "code",
   "execution_count": 79,
   "metadata": {
    "ExecuteTime": {
     "end_time": "2020-12-16T06:54:27.771007Z",
     "start_time": "2020-12-16T06:54:27.262600Z"
    }
   },
   "outputs": [],
   "source": [
    "A_pca, _ = down_samp_pca(A)"
   ]
  },
  {
   "cell_type": "code",
   "execution_count": 80,
   "metadata": {
    "ExecuteTime": {
     "end_time": "2020-12-16T06:54:27.798697Z",
     "start_time": "2020-12-16T06:54:27.794533Z"
    }
   },
   "outputs": [
    {
     "data": {
      "text/plain": [
       "(25, 300)"
      ]
     },
     "execution_count": 80,
     "metadata": {},
     "output_type": "execute_result"
    }
   ],
   "source": [
    "A_pca.shape"
   ]
  },
  {
   "cell_type": "code",
   "execution_count": 82,
   "metadata": {
    "ExecuteTime": {
     "end_time": "2020-12-16T06:54:30.048353Z",
     "start_time": "2020-12-16T06:54:29.932692Z"
    }
   },
   "outputs": [
    {
     "data": {
      "text/plain": [
       "<matplotlib.image.AxesImage at 0x1a22f79350>"
      ]
     },
     "execution_count": 82,
     "metadata": {},
     "output_type": "execute_result"
    },
    {
     "data": {
      "image/png": "[encoded data removed]",
      "text/plain": [
       "<Figure size 432x288 with 1 Axes>"
      ]
     },
     "metadata": {
      "needs_background": "light"
     },
     "output_type": "display_data"
    }
   ],
   "source": [
    "plt.imshow(A_pca)"
   ]
  },
  {
   "cell_type": "code",
   "execution_count": 8,
   "metadata": {
    "ExecuteTime": {
     "end_time": "2020-12-16T21:21:08.572648Z",
     "start_time": "2020-12-16T21:21:08.569013Z"
    }
   },
   "outputs": [],
   "source": [
    "# def delta(x, i):\n",
    "#     assert i < num_class\n",
    "#     out = np.zeros(len(x))\n",
    "#     idxs = slice(i*num_class, i*num_class+num_train)\n",
    "#     out[idxs] = x[idxs]\n",
    "#     return out"
   ]
  },
  {
   "cell_type": "code",
   "execution_count": 9,
   "metadata": {
    "ExecuteTime": {
     "end_time": "2020-12-16T23:53:43.108221Z",
     "start_time": "2020-12-16T23:53:43.105078Z"
    }
   },
   "outputs": [],
   "source": [
    "def delta_i(x, i, gt):\n",
    "    return np.where(gt==i, x, 0)"
   ]
  },
  {
   "cell_type": "code",
   "execution_count": 10,
   "metadata": {
    "ExecuteTime": {
     "end_time": "2020-12-16T23:53:43.579502Z",
     "start_time": "2020-12-16T23:53:43.573799Z"
    }
   },
   "outputs": [
    {
     "data": {
      "text/plain": [
       "0"
      ]
     },
     "execution_count": 10,
     "metadata": {},
     "output_type": "execute_result"
    }
   ],
   "source": [
    "min(test_gt)"
   ]
  },
  {
   "cell_type": "code",
   "execution_count": 11,
   "metadata": {
    "ExecuteTime": {
     "end_time": "2020-12-16T23:53:44.087933Z",
     "start_time": "2020-12-16T23:53:44.081668Z"
    }
   },
   "outputs": [],
   "source": [
    "@ignore_warnings(category=ConvergenceWarning)\n",
    "def identity(A, y, class_idxs):\n",
    "    A_norm = np.linalg.norm(A, axis=0)\n",
    "    y_norm = np.linalg.norm(y)\n",
    "#     print(A, y)\n",
    "    prob = Lasso(fit_intercept=False, alpha=1e-4, max_iter=1e3)\n",
    "#     prob = LassoCV(fit_intercept=False, max_iter=1e4)\n",
    "    prob.fit(A/A_norm, y/y_norm)\n",
    "    x_hat = prob.coef_\n",
    "    r = np.zeros(39)\n",
    "    for i in range(39):\n",
    "        r[i] = np.linalg.norm(y-A@delta_i(x_hat, i, class_idxs))\n",
    "#     print(x_hat)\n",
    "    return np.argmin(r)"
   ]
  },
  {
   "cell_type": "code",
   "execution_count": 12,
   "metadata": {
    "ExecuteTime": {
     "end_time": "2020-12-16T23:53:44.998054Z",
     "start_time": "2020-12-16T23:53:44.785855Z"
    }
   },
   "outputs": [
    {
     "data": {
      "text/plain": [
       "(1207,)"
      ]
     },
     "execution_count": 12,
     "metadata": {},
     "output_type": "execute_result"
    }
   ],
   "source": [
    "np.linalg.norm(A, axis=0).shape"
   ]
  },
  {
   "cell_type": "code",
   "execution_count": 13,
   "metadata": {
    "ExecuteTime": {
     "end_time": "2020-12-16T23:53:46.560101Z",
     "start_time": "2020-12-16T23:53:46.552747Z"
    }
   },
   "outputs": [],
   "source": [
    "@ignore_warnings(category=ConvergenceWarning)\n",
    "def robust_identity(A, y, class_idxs):\n",
    "#     A_norm = np.linalg.norm(A, axis=0)\n",
    "    y_norm = np.linalg.norm(y)\n",
    "    m,n = A.shape\n",
    "    B = np.hstack((A, np.eye(m)))\n",
    "    B_norm = np.linalg.norm(B, axis=0)\n",
    "#     print(B.shape)\n",
    "    prob = Lasso(fit_intercept=False, alpha=1e-4)\n",
    "    prob.fit(B/B_norm, y/y_norm)\n",
    "    w_hat = prob.coef_\n",
    "    x_hat = w_hat[:n]\n",
    "    e_hat = w_hat[n:]\n",
    "    r = np.zeros(39)\n",
    "    for i in range(39):\n",
    "        r[i] = np.linalg.norm(y-e_hat-A@delta_i(x_hat, i, class_idxs))\n",
    "#     print(r-np.min(r))\n",
    "    return np.argmin(r)"
   ]
  },
  {
   "cell_type": "code",
   "execution_count": 14,
   "metadata": {
    "ExecuteTime": {
     "end_time": "2020-12-16T23:53:47.389218Z",
     "start_time": "2020-12-16T23:53:47.380433Z"
    }
   },
   "outputs": [],
   "source": [
    "def evaluate(A, y, train_gt, test_gt, ld_func=down_samp, robust=False):\n",
    "    train_pred = np.ones_like(train_gt)*-1\n",
    "    test_pred = np.ones_like(test_gt)*-1\n",
    "    \n",
    "    if ld_func.__name__ == \"down_samp_pca\":\n",
    "        A_ld, pca = ld_func(A)\n",
    "        y_ld = pca.transform(y.T).T\n",
    "    else:\n",
    "        A_ld, _ = ld_func(A)\n",
    "        y_ld, _ = ld_func(y)\n",
    "    \n",
    "#     print(A_ld.shape, y_ld.shape)\n",
    "    for i in tqdm(range(len(train_pred))):\n",
    "        if robust:\n",
    "            train_pred[i] = robust_identity(A_ld, A_ld[:,i], train_gt)\n",
    "        else:\n",
    "            train_pred[i] = identity(A_ld, A_ld[:,i], train_gt)\n",
    "#         print(train_pred[i], train_gt[i])\n",
    "    \n",
    "    for i in tqdm(range(len(test_pred))):\n",
    "        if robust:\n",
    "            test_pred[i] = robust_identity(A_ld, y_ld[:,i], train_gt)\n",
    "        else:\n",
    "            test_pred[i] = identity(A_ld, y_ld[:,i], train_gt)\n",
    "    \n",
    "#     print(train_pred)\n",
    "    train_acc = accuracy_score(train_gt, train_pred)*100\n",
    "    test_acc = accuracy_score(test_gt, test_pred)*100\n",
    "    \n",
    "    print(\"Accuracy for {}:\\n\\tTrain Accuracy: {:.2f}\\n\\tTest Accuracy: {:.2f}\".format(ld_func.__name__, train_acc, test_acc))"
   ]
  },
  {
   "cell_type": "code",
   "execution_count": 15,
   "metadata": {
    "ExecuteTime": {
     "end_time": "2020-12-16T23:53:48.103139Z",
     "start_time": "2020-12-16T23:53:48.100462Z"
    }
   },
   "outputs": [],
   "source": [
    "down_samp_funcs = [down_samp, down_samp_wave,  down_samp_pca]"
   ]
  },
  {
   "cell_type": "code",
   "execution_count": 24,
   "metadata": {
    "ExecuteTime": {
     "end_time": "2020-12-16T21:31:14.003308Z",
     "start_time": "2020-12-16T21:27:50.030059Z"
    },
    "scrolled": true
   },
   "outputs": [
    {
     "name": "stderr",
     "output_type": "stream",
     "text": [
      "  1%|          | 10/1207 [00:00<00:12, 93.70it/s]"
     ]
    },
    {
     "name": "stdout",
     "output_type": "stream",
     "text": [
      "(132, 1207) (132, 1207)\n"
     ]
    },
    {
     "name": "stderr",
     "output_type": "stream",
     "text": [
      "100%|██████████| 1207/1207 [00:22<00:00, 54.76it/s]\n",
      "100%|██████████| 1207/1207 [00:47<00:00, 25.57it/s]\n"
     ]
    },
    {
     "name": "stdout",
     "output_type": "stream",
     "text": [
      "Accuracy for down_samp:\n",
      "\tTrain Accuracy: 100.00\n",
      "\tTest Accuracy: 90.47\n"
     ]
    },
    {
     "name": "stderr",
     "output_type": "stream",
     "text": [
      "  1%|          | 7/1207 [00:00<00:19, 63.13it/s]"
     ]
    },
    {
     "name": "stdout",
     "output_type": "stream",
     "text": [
      "(132, 1207) (132, 1207)\n"
     ]
    },
    {
     "name": "stderr",
     "output_type": "stream",
     "text": [
      "100%|██████████| 1207/1207 [00:27<00:00, 43.65it/s]\n",
      "100%|██████████| 1207/1207 [00:50<00:00, 23.89it/s]\n"
     ]
    },
    {
     "name": "stdout",
     "output_type": "stream",
     "text": [
      "Accuracy for down_samp_wave:\n",
      "\tTrain Accuracy: 100.00\n",
      "\tTest Accuracy: 91.47\n"
     ]
    },
    {
     "name": "stderr",
     "output_type": "stream",
     "text": [
      "  1%|          | 15/1207 [00:00<00:08, 142.38it/s]"
     ]
    },
    {
     "name": "stdout",
     "output_type": "stream",
     "text": [
      "(132, 1207) (132, 1207)\n"
     ]
    },
    {
     "name": "stderr",
     "output_type": "stream",
     "text": [
      "100%|██████████| 1207/1207 [00:15<00:00, 79.52it/s]\n",
      "100%|██████████| 1207/1207 [00:36<00:00, 32.97it/s]"
     ]
    },
    {
     "name": "stdout",
     "output_type": "stream",
     "text": [
      "Accuracy for down_samp_pca:\n",
      "\tTrain Accuracy: 99.75\n",
      "\tTest Accuracy: 90.80\n"
     ]
    },
    {
     "name": "stderr",
     "output_type": "stream",
     "text": [
      "\n"
     ]
    }
   ],
   "source": [
    "for func in down_samp_funcs:\n",
    "    evaluate(A, y, train_gt, test_gt, ld_func=func)"
   ]
  },
  {
   "cell_type": "code",
   "execution_count": 35,
   "metadata": {
    "ExecuteTime": {
     "end_time": "2020-12-17T00:05:23.606335Z",
     "start_time": "2020-12-17T00:05:23.600973Z"
    }
   },
   "outputs": [],
   "source": [
    "# Corrupt data for robust identity\n",
    "def corrupt(test_mat, percent=0.3):\n",
    "    im_size, num_ims = test_mat.shape\n",
    "    corrupt_mat = test_mat.copy()\n",
    "    corrupt_size = int(im_size*percent)\n",
    "    for i in range(num_ims):\n",
    "        corrupt_idxs = np.random.choice(im_size, size=corrupt_size, replace=False)\n",
    "        corrupt_data = np.random.randint(256, size=corrupt_size)\n",
    "        corrupt_mat[:,i][corrupt_idxs] = corrupt_data\n",
    "#     print(im_size, num_ims, corrupt_size)\n",
    "    return corrupt_mat"
   ]
  },
  {
   "cell_type": "code",
   "execution_count": 37,
   "metadata": {
    "ExecuteTime": {
     "end_time": "2020-12-17T00:05:28.953580Z",
     "start_time": "2020-12-17T00:05:28.752260Z"
    }
   },
   "outputs": [],
   "source": [
    "y_ds, y_ds_sh = down_samp(y, 2)"
   ]
  },
  {
   "cell_type": "code",
   "execution_count": 40,
   "metadata": {
    "ExecuteTime": {
     "end_time": "2020-12-17T00:05:45.525828Z",
     "start_time": "2020-12-17T00:05:44.953505Z"
    }
   },
   "outputs": [
    {
     "data": {
      "image/png": "[encoded data removed]",
      "text/plain": [
       "<Figure size 720x720 with 2 Axes>"
      ]
     },
     "metadata": {
      "needs_background": "light"
     },
     "output_type": "display_data"
    }
   ],
   "source": [
    "corrupt_y = corrupt(y_ds, 0.6)\n",
    "k = 1\n",
    "plt.figure(figsize=(10,10))\n",
    "plt.subplot(121)\n",
    "plt.imshow(y_ds[:,k].reshape(y_ds_sh))\n",
    "plt.subplot(122)\n",
    "plt.imshow(corrupt_y[:,k].reshape(y_ds_sh))\n",
    "plt.show()"
   ]
  },
  {
   "cell_type": "code",
   "execution_count": 41,
   "metadata": {
    "ExecuteTime": {
     "end_time": "2020-12-17T00:10:27.629954Z",
     "start_time": "2020-12-17T00:10:27.625683Z"
    }
   },
   "outputs": [
    {
     "data": {
      "text/plain": [
       "array([0. , 0.1, 0.2, 0.3, 0.4, 0.5, 0.6, 0.7, 0.8, 0.9])"
      ]
     },
     "execution_count": 41,
     "metadata": {},
     "output_type": "execute_result"
    }
   ],
   "source": []
  },
  {
   "cell_type": "code",
   "execution_count": null,
   "metadata": {},
   "outputs": [],
   "source": [
    "def evaluate_robust(A, y, train_gt, test_gt, ld_func=down_samp):\n",
    "    \n",
    "    test_pred = np.ones_like(test_gt)*-1\n",
    "    \n",
    "    if ld_func.__name__ == \"down_samp_pca\":\n",
    "        A_ld, pca = ld_func(A)\n",
    "        y_ld = pca.transform(y.T).T\n",
    "    else:\n",
    "        A_ld, _ = ld_func(A)\n",
    "        y_ld, _ = ld_func(y)\n",
    "    \n",
    "#     print(A_ld.shape, y_ld.shape)\n",
    "#     for i in tqdm(range(len(train_pred))):\n",
    "#         train_pred[i] = robust_identity(A_ld, A_ld[:,i], train_gt)\n",
    "#         print(train_pred[i], train_gt[i])\n",
    "    corrupt_percs = np.arange(0,1,0.1)\n",
    "    test_acc = []\n",
    "    for perc in corrupt_pers:\n",
    "        corrupt_y = corrupt(y_ld, perc)\n",
    "        for i in tqdm(range(len(test_pred))):\n",
    "            test_pred[i] = robust_identity(A_ld, corrupt_y[:,i], train_gt)\n",
    "\n",
    "    #     print(train_pred)\n",
    "        test_acc.append(accuracy_score(test_gt, test_pred)*100)\n",
    "    \n",
    "    print(\"Robust Identity Accuracy for {}:\\n\\tTest Accuracy: {}\".format(ld_func.__name__, test_acc))\n",
    "    return test_acc"
   ]
  },
  {
   "cell_type": "code",
   "execution_count": 34,
   "metadata": {
    "ExecuteTime": {
     "end_time": "2020-12-16T23:26:55.440169Z",
     "start_time": "2020-12-16T23:22:52.163195Z"
    }
   },
   "outputs": [
    {
     "name": "stderr",
     "output_type": "stream",
     "text": [
      "100%|██████████| 1207/1207 [00:25<00:00, 46.64it/s]\n",
      "100%|██████████| 1207/1207 [00:50<00:00, 23.67it/s]\n"
     ]
    },
    {
     "name": "stdout",
     "output_type": "stream",
     "text": [
      "Accuracy for down_samp:\n",
      "\tTrain Accuracy: 100.00\n",
      "\tTest Accuracy: 88.32\n"
     ]
    },
    {
     "name": "stderr",
     "output_type": "stream",
     "text": [
      "100%|██████████| 1207/1207 [00:36<00:00, 33.51it/s]\n",
      "100%|██████████| 1207/1207 [00:59<00:00, 20.46it/s]\n"
     ]
    },
    {
     "name": "stdout",
     "output_type": "stream",
     "text": [
      "Accuracy for down_samp_wave:\n",
      "\tTrain Accuracy: 100.00\n",
      "\tTest Accuracy: 88.15\n"
     ]
    },
    {
     "name": "stderr",
     "output_type": "stream",
     "text": [
      "100%|██████████| 1207/1207 [00:18<00:00, 64.72it/s]\n",
      "100%|██████████| 1207/1207 [00:46<00:00, 25.88it/s]"
     ]
    },
    {
     "name": "stdout",
     "output_type": "stream",
     "text": [
      "Accuracy for down_samp_pca:\n",
      "\tTrain Accuracy: 99.75\n",
      "\tTest Accuracy: 90.22\n"
     ]
    },
    {
     "name": "stderr",
     "output_type": "stream",
     "text": [
      "\n"
     ]
    }
   ],
   "source": [
    "#TODO: Change train and test data for robust\n",
    "#TODO: Change ds factor for robust\n",
    "\n",
    "test_accs = []\n",
    "for func in down_samp_funcs:\n",
    "    test_accs.append(evaluate_robust(A, y, train_gt, test_gt, ld_func=func))"
   ]
  },
  {
   "cell_type": "code",
   "execution_count": null,
   "metadata": {},
   "outputs": [],
   "source": []
  }
 ],
 "metadata": {
  "kernelspec": {
   "display_name": "Python 3",
   "language": "python",
   "name": "python3"
  },
  "language_info": {
   "codemirror_mode": {
    "name": "ipython",
    "version": 3
   },
   "file_extension": ".py",
   "mimetype": "text/x-python",
   "name": "python",
   "nbconvert_exporter": "python",
   "pygments_lexer": "ipython3",
   "version": "3.6.8"
  }
 },
 "nbformat": 4,
 "nbformat_minor": 4
}
