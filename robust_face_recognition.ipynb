{
 "cells": [
  {
   "cell_type": "code",
   "execution_count": null,
   "metadata": {
    "ExecuteTime": {
     "end_time": "2021-01-19T00:04:31.253019Z",
     "start_time": "2021-01-19T00:04:31.205956Z"
    }
   },
   "outputs": [],
   "source": [
    "%load_ext autoreload\n",
    "%autoreload 2"
   ]
  },
  {
   "cell_type": "code",
   "execution_count": null,
   "metadata": {
    "ExecuteTime": {
     "end_time": "2021-01-19T00:04:39.098172Z",
     "start_time": "2021-01-19T00:04:39.045849Z"
    }
   },
   "outputs": [],
   "source": [
    "import numpy as np\n",
    "import matplotlib.pyplot as plt\n",
    "from sklearn.linear_model import Lasso, LassoCV, LinearRegression\n",
    "from sklearn.pipeline import Pipeline\n",
    "from sklearn.preprocessing import Normalizer\n",
    "from sklearn.decomposition import PCA\n",
    "from sklearn.metrics import accuracy_score\n",
    "# from glob import glob as glob\n",
    "# import os\n",
    "import pywt\n",
    "import cv2\n",
    "from sklearn.utils.testing import ignore_warnings\n",
    "from sklearn.exceptions import ConvergenceWarning\n",
    "from tqdm import tqdm\n",
    "from utils import *"
   ]
  },
  {
   "cell_type": "code",
   "execution_count": null,
   "metadata": {
    "ExecuteTime": {
     "end_time": "2021-01-19T00:05:04.517801Z",
     "start_time": "2021-01-19T00:05:00.173216Z"
    }
   },
   "outputs": [],
   "source": [
    "A, y, train_gt, test_gt, names = random_sample()\n",
    "print(A.shape, y.shape)\n",
    "print(train_gt)\n",
    "print(test_gt)"
   ]
  },
  {
   "cell_type": "code",
   "execution_count": null,
   "metadata": {
    "ExecuteTime": {
     "end_time": "2021-01-19T00:13:36.554242Z",
     "start_time": "2021-01-19T00:13:36.514478Z"
    }
   },
   "outputs": [],
   "source": []
  },
  {
   "cell_type": "code",
   "execution_count": null,
   "metadata": {
    "ExecuteTime": {
     "end_time": "2021-01-19T00:15:24.431324Z",
     "start_time": "2021-01-19T00:15:24.380196Z"
    }
   },
   "outputs": [],
   "source": [
    "def down_samp(A, ds_factor=16):\n",
    "    im_size_down = np.ceil(im_size/ds_factor).astype(int)\n",
    "    A_down = np.zeros((np.prod(im_size_down), A.shape[-1]))\n",
    "    for i in range(A.shape[-1]):\n",
    "        A_down[:,i] = A[:,i].reshape(im_size)[::ds_factor, ::ds_factor].flatten()\n",
    "    return A_down, im_size_down\n",
    "\n",
    "def down_samp_cv(A):\n",
    "    A_down = np.zeros((120, A.shape[-1]))\n",
    "    for i in range(A.shape[-1]):\n",
    "        A_down[:,i] = cv2.resize(A[:,i].reshape(im_size), (10,12)).flatten()\n",
    "    return A_down, (12,10)\n",
    "\n",
    "def down_samp_wave(A, level=4):\n",
    "    im_vec = A.reshape((*im_size,-1))\n",
    "    wave_vec = pywt.wavedec2(im_vec, 'haar', axes=(0,1), level=level)\n",
    "    low_dim_data = ((wave_vec[0] + sum(wave_vec[1]))/4)\n",
    "    shape = low_dim_data.shape[:2]\n",
    "    low_dim_data = low_dim_data.reshape(-1, A.shape[-1])\n",
    "    quantized_data = (low_dim_data/np.max(low_dim_data, axis=0)*255).astype(np.uint8)\n",
    "    return quantized_data, shape\n",
    "\n",
    "def down_samp_pca(A, dim=132):\n",
    "    # sklearn PCA\n",
    "    pca = PCA(n_components=dim, svd_solver=\"auto\")\n",
    "    A_pca = pca.fit_transform(A.T).T\n",
    "    \n",
    "    # Manual PCA\n",
    "#     U, S, Vh = np.linalg.svd(A, full_matrices=True)\n",
    "#     print(U.shape, S.shape, Vh.shape)\n",
    "#     A_pca = U[:,:dim].T@A\n",
    "    return A_pca, pca\n",
    "\n",
    "def down(A, x, down_samp_func):\n",
    "    return down_samp_func(A,x)"
   ]
  },
  {
   "cell_type": "code",
   "execution_count": null,
   "metadata": {
    "ExecuteTime": {
     "end_time": "2021-01-19T00:15:02.278433Z",
     "start_time": "2021-01-19T00:15:02.229932Z"
    }
   },
   "outputs": [],
   "source": [
    "A_ds, ds_shape = down_samp(A, ds_factor=16)"
   ]
  },
  {
   "cell_type": "code",
   "execution_count": null,
   "metadata": {
    "ExecuteTime": {
     "end_time": "2021-01-19T00:15:04.408172Z",
     "start_time": "2021-01-19T00:15:03.038915Z"
    }
   },
   "outputs": [],
   "source": [
    "A_wave, wave_shape = down_samp_wave(A)"
   ]
  },
  {
   "cell_type": "code",
   "execution_count": null,
   "metadata": {
    "ExecuteTime": {
     "end_time": "2021-01-19T00:15:27.924873Z",
     "start_time": "2021-01-19T00:15:27.485202Z"
    }
   },
   "outputs": [],
   "source": [
    "A_ds_cv, ds_cv_shape = down_samp_cv(A)"
   ]
  },
  {
   "cell_type": "code",
   "execution_count": null,
   "metadata": {
    "ExecuteTime": {
     "end_time": "2021-01-19T00:15:06.914873Z",
     "start_time": "2021-01-19T00:15:06.682836Z"
    }
   },
   "outputs": [],
   "source": [
    "plt.imshow(A[...,0].reshape(im_size))"
   ]
  },
  {
   "cell_type": "code",
   "execution_count": null,
   "metadata": {
    "ExecuteTime": {
     "end_time": "2021-01-19T00:15:30.221471Z",
     "start_time": "2021-01-19T00:15:30.049861Z"
    }
   },
   "outputs": [],
   "source": [
    "plt.imshow(A_ds_cv[...,0].reshape(ds_cv_shape))"
   ]
  },
  {
   "cell_type": "code",
   "execution_count": null,
   "metadata": {
    "ExecuteTime": {
     "end_time": "2021-01-19T00:15:39.185371Z",
     "start_time": "2021-01-19T00:15:38.949058Z"
    }
   },
   "outputs": [],
   "source": [
    "plt.imshow(A_ds[...,0].reshape(ds_shape))"
   ]
  },
  {
   "cell_type": "code",
   "execution_count": null,
   "metadata": {
    "ExecuteTime": {
     "end_time": "2021-01-19T00:17:22.782449Z",
     "start_time": "2021-01-19T00:17:22.526867Z"
    }
   },
   "outputs": [],
   "source": [
    "plt.imshow(A_wave[...,0].reshape(wave_shape))"
   ]
  },
  {
   "cell_type": "code",
   "execution_count": null,
   "metadata": {
    "ExecuteTime": {
     "end_time": "2021-01-19T00:17:32.235723Z",
     "start_time": "2021-01-19T00:17:30.177176Z"
    }
   },
   "outputs": [],
   "source": [
    "A_pca, _ = down_samp_pca(A)"
   ]
  },
  {
   "cell_type": "code",
   "execution_count": null,
   "metadata": {
    "ExecuteTime": {
     "end_time": "2021-01-19T00:17:32.669437Z",
     "start_time": "2021-01-19T00:17:32.619867Z"
    }
   },
   "outputs": [],
   "source": [
    "A_pca.shape"
   ]
  },
  {
   "cell_type": "code",
   "execution_count": null,
   "metadata": {
    "ExecuteTime": {
     "end_time": "2021-01-19T00:17:58.901823Z",
     "start_time": "2021-01-19T00:17:58.719356Z"
    }
   },
   "outputs": [],
   "source": [
    "plt.imshow(A_pca[...,0].reshape(wave_shape))"
   ]
  },
  {
   "cell_type": "code",
   "execution_count": null,
   "metadata": {
    "ExecuteTime": {
     "end_time": "2020-12-16T23:53:44.087933Z",
     "start_time": "2020-12-16T23:53:44.081668Z"
    }
   },
   "outputs": [],
   "source": [
    "@ignore_warnings(category=ConvergenceWarning)\n",
    "def identity(A, y, class_idxs, lmbda=1e-12):\n",
    "    A_norm = np.linalg.norm(A, axis=0)\n",
    "    y_norm = np.linalg.norm(y)\n",
    "    \n",
    "    prob = Lasso(fit_intercept=False, alpha=lmbda, max_iter=1e3)\n",
    "    prob.fit(A/A_norm, y/y_norm)\n",
    "    \n",
    "    x_hat = prob.coef_\n",
    "    r = np.zeros(38)\n",
    "    \n",
    "    for i in range(38):\n",
    "        r[i] = np.linalg.norm(y-A@delta_i(x_hat, i, class_idxs))\n",
    "    \n",
    "    return np.argmin(r)"
   ]
  },
  {
   "cell_type": "code",
   "execution_count": null,
   "metadata": {
    "ExecuteTime": {
     "end_time": "2020-12-17T06:45:43.735823Z",
     "start_time": "2020-12-17T06:45:43.725415Z"
    }
   },
   "outputs": [],
   "source": [
    "def evaluate(A, y, train_gt, test_gt, ld_func=down_samp, size_arg = None, lmbda=1e-12, train=True):\n",
    "    train_pred = np.ones_like(train_gt)*-1\n",
    "    test_pred = np.ones_like(test_gt)*-1\n",
    "    \n",
    "    if ld_func.__name__ == \"down_samp_pca\":\n",
    "        A_ld, pca = ld_func(A, size_arg)\n",
    "        y_ld = pca.transform(y.T).T\n",
    "    else:\n",
    "        A_ld, _ = ld_func(A, size_arg)\n",
    "        y_ld, _ = ld_func(y, size_arg)\n",
    "    \n",
    "    if train:\n",
    "        for i in tqdm(range(len(train_pred))):\n",
    "            train_pred[i] = identity(A_ld, A_ld[:,i], train_gt)\n",
    "    \n",
    "    for i in tqdm(range(len(test_pred)), position=0, leave=True):\n",
    "        test_pred[i] = identity(A_ld, y_ld[:,i], train_gt, lmbda)\n",
    "    \n",
    "    train_acc = accuracy_score(train_gt, train_pred)*100\n",
    "    test_acc = accuracy_score(test_gt, test_pred)*100\n",
    "    \n",
    "    if train:\n",
    "        print(\"Accuracy for {}:\\n\\tTrain Accuracy: {:.2f}\\n\\tTest Accuracy: {:.2f}\".format(ld_func.__name__, train_acc, test_acc))\n",
    "    else:\n",
    "        print(\"Accuracy for {}:\\n\\tTest Accuracy: {:.2f}\".format(ld_func.__name__, test_acc))\n",
    "        \n",
    "    return test_acc"
   ]
  },
  {
   "cell_type": "code",
   "execution_count": null,
   "metadata": {
    "ExecuteTime": {
     "end_time": "2020-12-17T06:46:51.727304Z",
     "start_time": "2020-12-17T06:46:51.724524Z"
    }
   },
   "outputs": [],
   "source": [
    "down_samp_funcs = [down_samp, down_samp_wave,  down_samp_pca]"
   ]
  },
  {
   "cell_type": "code",
   "execution_count": null,
   "metadata": {
    "ExecuteTime": {
     "end_time": "2020-12-17T06:57:42.688822Z",
     "start_time": "2020-12-17T06:57:29.318635Z"
    },
    "scrolled": true
   },
   "outputs": [],
   "source": [
    "for func in down_samp_funcs:\n",
    "    evaluate(A, y, train_gt, test_gt, ld_func=func)"
   ]
  },
  {
   "cell_type": "code",
   "execution_count": null,
   "metadata": {
    "ExecuteTime": {
     "end_time": "2020-12-17T05:46:51.124254Z",
     "start_time": "2020-12-17T05:46:51.087424Z"
    }
   },
   "outputs": [],
   "source": [
    "# Corrupt data for robust identity\n",
    "def corrupt(test_mat, percent=0.3):\n",
    "    im_size, num_ims = test_mat.shape\n",
    "    corrupt_mat = test_mat.copy()\n",
    "    corrupt_size = int(im_size*percent)\n",
    "    for i in range(num_ims):\n",
    "        corrupt_idxs = np.random.choice(im_size, size=corrupt_size, replace=False)\n",
    "        corrupt_data = np.random.randint(256, size=corrupt_size)\n",
    "        corrupt_mat[:,i][corrupt_idxs] = corrupt_data\n",
    "    return corrupt_mat"
   ]
  },
  {
   "cell_type": "code",
   "execution_count": null,
   "metadata": {
    "ExecuteTime": {
     "end_time": "2020-12-17T07:28:22.832367Z",
     "start_time": "2020-12-17T07:28:22.426000Z"
    }
   },
   "outputs": [],
   "source": [
    "y_ds, y_ds_sh = down_samp(y)\n",
    "y_wave, y_wave_sh = down_samp_wave(y)"
   ]
  },
  {
   "cell_type": "code",
   "execution_count": null,
   "metadata": {
    "ExecuteTime": {
     "end_time": "2020-12-17T07:28:23.696172Z",
     "start_time": "2020-12-17T07:28:23.069899Z"
    }
   },
   "outputs": [],
   "source": [
    "perc = 0.4\n",
    "k = 1\n",
    "\n",
    "plt.figure(figsize=(10,10))\n",
    "plt.subplot(221)\n",
    "plt.imshow(y_ds[:,k].reshape(y_ds_sh))\n",
    "plt.subplot(222)\n",
    "plt.imshow(corrupt(y_ds, perc)[:,k].reshape(y_ds_sh))\n",
    "plt.subplot(223)\n",
    "plt.imshow(y_wave[:,k].reshape(y_wave_sh))\n",
    "plt.subplot(224)\n",
    "plt.imshow(corrupt(y_wave, perc)[:,k].reshape(y_wave_sh))\n",
    "plt.show()"
   ]
  },
  {
   "cell_type": "code",
   "execution_count": null,
   "metadata": {},
   "outputs": [],
   "source": [
    "@ignore_warnings(category=ConvergenceWarning)\n",
    "def robust_identity(A, B, y, class_idxs, lmbda=1e-12, verbose = False):\n",
    "    m,n = A.shape\n",
    "    \n",
    "    prob = Lasso(fit_intercept=False, alpha=1e-12)\n",
    "    prob.fit(B, y)\n",
    "    \n",
    "    w_hat = prob.coef_\n",
    "    x_hat = w_hat[:n]\n",
    "    e_hat = w_hat[n:]\n",
    "    r = np.zeros(38)\n",
    "    \n",
    "    if verbose:\n",
    "        print(f\"Argwhere x_hat: {np.argwhere(x_hat>0.2)}\")\n",
    "    \n",
    "    for i in range(38):\n",
    "        r[i] = np.linalg.norm(y-e_hat-A@delta_i(x_hat, i, class_idxs))\n",
    "    \n",
    "    return np.argmin(r)"
   ]
  },
  {
   "cell_type": "code",
   "execution_count": null,
   "metadata": {
    "ExecuteTime": {
     "end_time": "2020-12-17T07:36:05.204563Z",
     "start_time": "2020-12-17T07:36:05.196064Z"
    }
   },
   "outputs": [],
   "source": [
    "def evaluate_robust(A, y, train_gt, test_gt, ld_func=down_samp, size_arg = None, lmbda = 1e-12, verbose = False):\n",
    "    \n",
    "    test_pred = np.ones_like(test_gt)*-1\n",
    "    \n",
    "    if ld_func.__name__ == \"down_samp_pca\":\n",
    "        A_ld, pca = ld_func(A, size_arg)\n",
    "        y_ld = pca.transform(y.T).T\n",
    "    else:\n",
    "        A_ld, _ = ld_func(A)\n",
    "        y_ld, _ = ld_func(y)\n",
    "    if verbose:\n",
    "        print(f\"Low Dim Shapes\\n\\tA: {A_ld.shape}\\n\\ty:{y_ld.shape}\")\n",
    "\n",
    "#     corrupt_percs = np.arange(0,1,0.1)\n",
    "#     corrupt_percs = [0, 0.4, 0.6]\n",
    "    corrupt_percs = [0]\n",
    "    test_acc = []\n",
    "    \n",
    "    m,n = A_ld.shape\n",
    "    B = np.hstack((A_ld, np.eye(m)))\n",
    "    B = B/np.linalg.norm(B, axis=0)\n",
    "    A_ld = A_ld/np.linalg.norm(A_ld, axis=0)\n",
    "    for perc in corrupt_percs:\n",
    "        corrupt_y = corrupt(y_ld, perc)\n",
    "        corrupt_y = corrupt_y/np.linalg.norm(corrupt_y, axis=0)\n",
    "        for i in tqdm(range(len(test_pred)), position=0, leave=True):\n",
    "            test_pred[i] = robust_identity(A_ld, B, corrupt_y[:,i],train_gt,lmbda, verbose)\n",
    "\n",
    "        test_acc.append(accuracy_score(test_gt, test_pred)*100)\n",
    "        \n",
    "    \n",
    "    print(\"Robust Identity Accuracy for {}:\\n\\tTest Accuracy: {}\".format(ld_func.__name__, test_acc))\n",
    "    return test_acc"
   ]
  },
  {
   "cell_type": "code",
   "execution_count": null,
   "metadata": {
    "ExecuteTime": {
     "end_time": "2020-12-17T07:36:52.103554Z",
     "start_time": "2020-12-17T07:36:06.441405Z"
    }
   },
   "outputs": [],
   "source": [
    "#TODO: Change train and test data for robust\n",
    "#TODO: Change ds factor for robust# Robust data read\n",
    "train_cond = lambda az, elev: abs(az) <= 25 and abs(elev) <= 25\n",
    "test_cond = lambda az, elev: 25 <= abs(az) <= 100 and 25 <= abs(elev) <= 65\n",
    "\n",
    "A_cond, y_cond, train_gt_cond, test_gt_cond, names_cond = random_sample_cond(train_cond, test_cond)\n",
    "samp_idxs = np.random.choice(len(test_gt_cond), size=100)\n",
    "y_cond_samp = y_cond[:,samp_idxs]\n",
    "test_gt_cond_samp = test_gt_cond[samp_idxs]\n",
    "\n",
    "down_samp_funcs = {down_samp: [2, 4, 8, 16], down_samp_wave: [1, 2, 3, 4], down_samp_pca: [132, 504, 2016, 8064]}\n",
    "lmbdas = [1e-12, 1e-9, 1e-6, 1e-3]\n",
    "test_accs_normal = {\"down_samp\": [], \"down_samp_wave\": [], \"down_samp_pca\": []}\n",
    "for func, levels in down_samp_funcs.items():\n",
    "    for i, level in enumerate(levels):\n",
    "        test_accs_normal[func.__name__].append(evaluate(A_cond, y_cond_samp, \n",
    "                                                   train_gt, test_gt_cond_samp,\n",
    "                                                   ld_func=func, size_arg = level,\n",
    "                                                   lmbda=lmbdas[i], train=False))\n",
    "        \n"
   ]
  },
  {
   "cell_type": "code",
   "execution_count": null,
   "metadata": {
    "ExecuteTime": {
     "end_time": "2020-12-17T07:28:23.696172Z",
     "start_time": "2020-12-17T07:28:23.069899Z"
    }
   },
   "outputs": [],
   "source": [
    "evaluate(A_cond, y_cond_samp, \n",
    "           train_gt, test_gt_cond_samp,\n",
    "           ld_func=down_samp_pca, size_arg = 504,\n",
    "           lmbda=9e-6, train=False)"
   ]
  },
  {
   "cell_type": "code",
   "execution_count": null,
   "metadata": {},
   "outputs": [],
   "source": [
    "test_accs_normal = {\"down_samp\": [72.0, 72.0, 61.0, 35.0], \n",
    "                    \"down_samp_wave\": [74.0, 75.0, 67, 30.0]}"
   ]
  },
  {
   "cell_type": "code",
   "execution_count": null,
   "metadata": {},
   "outputs": [],
   "source": [
    "#TODO: Change train and test data for robust\n",
    "#TODO: Change ds factor for robust# Robust data read\n",
    "\n",
    "A, y, train_gt, test_gt, names = random_sample()\n",
    "samp_idxs = np.random.choice(len(test_gt), size=100)\n",
    "y_samp = y[:,samp_idxs]\n",
    "test_gt_samp = test_gt[samp_idxs]\n",
    "\n",
    "test_accs = {\"down_samp\": [], \"down_samp_wave\": []}\n",
    "for func, levels in down_samp_funcs.items():\n",
    "    for i, level in enumerate(levels):\n",
    "        test_accs[func.__name__].append(evaluate(A, y_samp, \n",
    "                                                   train_gt, test_gt_samp,\n",
    "                                                   ld_func=func, size_arg = level,\n",
    "                                                   lmbda=lmbdas[i], train=False))\n",
    "        \n"
   ]
  },
  {
   "cell_type": "code",
   "execution_count": null,
   "metadata": {},
   "outputs": [],
   "source": [
    "test_accs"
   ]
  },
  {
   "cell_type": "code",
   "execution_count": null,
   "metadata": {},
   "outputs": [],
   "source": [
    "img = A_cond[:,0].reshape(im_size)\n",
    "img_d = cv2.resize(img, (11,12))\n",
    "img_u = cv2.resize(img, im_size[::-1])\n",
    "plt.imshow(img_u)"
   ]
  },
  {
   "cell_type": "code",
   "execution_count": null,
   "metadata": {},
   "outputs": [],
   "source": [
    "cv2.resize?"
   ]
  },
  {
   "cell_type": "markdown",
   "metadata": {},
   "source": [
    "## Pytorch"
   ]
  },
  {
   "cell_type": "code",
   "execution_count": null,
   "metadata": {
    "ExecuteTime": {
     "end_time": "2021-01-19T00:11:23.647512Z",
     "start_time": "2021-01-19T00:11:23.607060Z"
    }
   },
   "outputs": [],
   "source": [
    "if torch.cuda.is_available():\n",
    "    device = torch.device(\"cuda:0\")\n",
    "else:\n",
    "    device = \"cpu\"\n",
    "print(\"Using device: {}\".format(device))"
   ]
  },
  {
   "cell_type": "code",
   "execution_count": null,
   "metadata": {
    "ExecuteTime": {
     "end_time": "2021-01-19T00:11:24.683452Z",
     "start_time": "2021-01-19T00:11:24.645166Z"
    }
   },
   "outputs": [],
   "source": [
    "N = [32, 32, 64, 64, 64, 32, 16, 1]\n",
    "fname = \"models/CAE_100\""
   ]
  },
  {
   "cell_type": "code",
   "execution_count": null,
   "metadata": {
    "ExecuteTime": {
     "end_time": "2021-01-19T00:11:25.416060Z",
     "start_time": "2021-01-19T00:11:25.361101Z"
    }
   },
   "outputs": [],
   "source": [
    "net = CAE(N)\n",
    "net = torch.load(fname, map_location=device)"
   ]
  },
  {
   "cell_type": "code",
   "execution_count": null,
   "metadata": {
    "ExecuteTime": {
     "end_time": "2021-01-19T00:11:26.031242Z",
     "start_time": "2021-01-19T00:11:25.985202Z"
    }
   },
   "outputs": [],
   "source": [
    "net"
   ]
  },
  {
   "cell_type": "code",
   "execution_count": null,
   "metadata": {
    "ExecuteTime": {
     "end_time": "2021-01-19T00:12:02.013262Z",
     "start_time": "2021-01-19T00:11:59.976643Z"
    }
   },
   "outputs": [],
   "source": [
    "test_tensor = np_to_torch(y)\n",
    "test_tensor.shape"
   ]
  },
  {
   "cell_type": "code",
   "execution_count": null,
   "metadata": {
    "ExecuteTime": {
     "end_time": "2021-01-19T00:12:21.222852Z",
     "start_time": "2021-01-19T00:12:21.138830Z"
    }
   },
   "outputs": [],
   "source": [
    "with torch.no_grad():\n",
    "    low_dim, out = net(test_tensor[10:11].to(device))\n",
    "    res = out.cpu().numpy()"
   ]
  },
  {
   "cell_type": "code",
   "execution_count": null,
   "metadata": {
    "ExecuteTime": {
     "end_time": "2021-01-19T00:12:21.787115Z",
     "start_time": "2021-01-19T00:12:21.577702Z"
    }
   },
   "outputs": [],
   "source": [
    "plt.imshow(res.squeeze())"
   ]
  },
  {
   "cell_type": "code",
   "execution_count": null,
   "metadata": {},
   "outputs": [],
   "source": []
  }
 ],
 "metadata": {
  "kernelspec": {
   "display_name": "Python 3",
   "language": "python",
   "name": "python3"
  },
  "language_info": {
   "codemirror_mode": {
    "name": "ipython",
    "version": 3
   },
   "file_extension": ".py",
   "mimetype": "text/x-python",
   "name": "python",
   "nbconvert_exporter": "python",
   "pygments_lexer": "ipython3",
   "version": "3.6.8"
  }
 },
 "nbformat": 4,
 "nbformat_minor": 4
}
